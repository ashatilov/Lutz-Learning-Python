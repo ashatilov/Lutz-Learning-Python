{
 "cells": [
  {
   "cell_type": "markdown",
   "metadata": {},
   "source": [
    "# Глава 20. Итераторы и генераторы"
   ]
  },
  {
   "cell_type": "markdown",
   "metadata": {},
   "source": [
    "## Еще раз о генераторах списков: функциональные инструменты"
   ]
  },
  {
   "cell_type": "markdown",
   "metadata": {},
   "source": [
    "**Генераторы списков** применяют к элементам итерируемых объектов произвольные **выражения** (вместо применения функций у `map` и `filter`)"
   ]
  },
  {
   "cell_type": "markdown",
   "metadata": {},
   "source": [
    "### Генераторы списков и функция `map`"
   ]
  },
  {
   "cell_type": "code",
   "execution_count": 1,
   "metadata": {},
   "outputs": [
    {
     "data": {
      "text/plain": [
       "[115, 112, 97, 109]"
      ]
     },
     "execution_count": 1,
     "metadata": {},
     "output_type": "execute_result"
    }
   ],
   "source": [
    "res = map(ord, 'spam')  # применить функцию к последовательности\n",
    "list(res)"
   ]
  },
  {
   "cell_type": "code",
   "execution_count": 2,
   "metadata": {},
   "outputs": [
    {
     "data": {
      "text/plain": [
       "[115, 112, 97, 109]"
      ]
     },
     "execution_count": 2,
     "metadata": {},
     "output_type": "execute_result"
    }
   ],
   "source": [
    "res = [ord(x) for x in 'spam']  # применить выражение к послед-ти\n",
    "res"
   ]
  },
  {
   "cell_type": "markdown",
   "metadata": {},
   "source": [
    "Генераторы списков собирают результаты применения произвольного выражения к  элементам последовательности и  возвращают их в  виде нового списка."
   ]
  },
  {
   "cell_type": "code",
   "execution_count": 3,
   "metadata": {},
   "outputs": [
    {
     "data": {
      "text/plain": [
       "[0, 1, 4, 9, 16, 25, 36, 49, 64, 81]"
      ]
     },
     "execution_count": 3,
     "metadata": {},
     "output_type": "execute_result"
    }
   ],
   "source": [
    "[x ** 2 for x in range(10)]"
   ]
  },
  {
   "cell_type": "code",
   "execution_count": 4,
   "metadata": {},
   "outputs": [
    {
     "data": {
      "text/plain": [
       "[0, 1, 4, 9, 16, 25, 36, 49, 64, 81]"
      ]
     },
     "execution_count": 4,
     "metadata": {},
     "output_type": "execute_result"
    }
   ],
   "source": [
    "list(map(lambda x: x**2, range(10)))"
   ]
  },
  {
   "cell_type": "markdown",
   "metadata": {},
   "source": [
    "### Добавление проверок и вложенных циклов: функция `filter`"
   ]
  },
  {
   "cell_type": "markdown",
   "metadata": {},
   "source": [
    "Ниже приводятся две версии реализации выбора четных чисел в диапазоне от 0 до 4  – с  помощью генератора списка и  с помощью функции `filter`, которая использует небольшое `lambda`-выражение для выполнения проверки. Для сравнения здесь также показана реализация на основе цикла `for`:"
   ]
  },
  {
   "cell_type": "code",
   "execution_count": 5,
   "metadata": {},
   "outputs": [
    {
     "data": {
      "text/plain": [
       "[0, 2, 4]"
      ]
     },
     "execution_count": 5,
     "metadata": {},
     "output_type": "execute_result"
    }
   ],
   "source": [
    "[x for x in range(5) if x % 2 == 0]"
   ]
  },
  {
   "cell_type": "code",
   "execution_count": 6,
   "metadata": {},
   "outputs": [
    {
     "data": {
      "text/plain": [
       "[0, 2, 4]"
      ]
     },
     "execution_count": 6,
     "metadata": {},
     "output_type": "execute_result"
    }
   ],
   "source": [
    "list(filter(lambda x: x % 2 == 0, range(5)))"
   ]
  },
  {
   "cell_type": "code",
   "execution_count": 7,
   "metadata": {},
   "outputs": [
    {
     "data": {
      "text/plain": [
       "[0, 2, 4]"
      ]
     },
     "execution_count": 7,
     "metadata": {},
     "output_type": "execute_result"
    }
   ],
   "source": [
    "res = []\n",
    "for x in range(5):\n",
    "    if x % 2 == 0:\n",
    "        res.append(x)\n",
    "res"
   ]
  },
  {
   "cell_type": "markdown",
   "metadata": {},
   "source": [
    "Генераторы списков дают возможность объединять оператор `if` и произвольные выражения, позволяя добиться эффекта действия функций `filter` и `map` в единственном выражении:"
   ]
  },
  {
   "cell_type": "code",
   "execution_count": 8,
   "metadata": {},
   "outputs": [
    {
     "data": {
      "text/plain": [
       "[0, 4, 16, 36, 64]"
      ]
     },
     "execution_count": 8,
     "metadata": {},
     "output_type": "execute_result"
    }
   ],
   "source": [
    "[x ** 2 for x in range(10) if x % 2 == 0]"
   ]
  },
  {
   "cell_type": "code",
   "execution_count": 9,
   "metadata": {},
   "outputs": [
    {
     "data": {
      "text/plain": [
       "[0, 4, 16, 36, 64]"
      ]
     },
     "execution_count": 9,
     "metadata": {},
     "output_type": "execute_result"
    }
   ],
   "source": [
    "list(map(lambda x: x ** 2, filter(lambda x: x % 2 == 0, range(10))))"
   ]
  },
  {
   "cell_type": "markdown",
   "metadata": {},
   "source": [
    "В действительности, генераторы списков обладают еще большей гибкостью.\n",
    "Они дают возможность запрограммировать любое число вложенных циклов\n",
    "`for`, каждый из которых может сопровождаться собственным оператором `if` с условным выражением.\n",
    "\n",
    "В общем виде генераторы списков выглядят следующим образом:\n",
    "```\n",
    "[ expression for target1 in sequence1 [if condition]\n",
    "             for target2 in sequence2 [if condition] ...\n",
    "             for targetN in sequenceN [if condition] ]\n",
    "```"
   ]
  },
  {
   "cell_type": "code",
   "execution_count": 10,
   "metadata": {},
   "outputs": [
    {
     "data": {
      "text/plain": [
       "[100, 200, 300, 101, 201, 301, 102, 202, 302]"
      ]
     },
     "execution_count": 10,
     "metadata": {},
     "output_type": "execute_result"
    }
   ],
   "source": [
    "[x + y for x in [0, 1, 2] for y in [100, 200, 300]]"
   ]
  },
  {
   "cell_type": "code",
   "execution_count": 11,
   "metadata": {},
   "outputs": [
    {
     "data": {
      "text/plain": [
       "['sB',\n",
       " 'sA',\n",
       " 'sC',\n",
       " 'sO',\n",
       " 'sN',\n",
       " 'pB',\n",
       " 'pA',\n",
       " 'pC',\n",
       " 'pO',\n",
       " 'pN',\n",
       " 'aB',\n",
       " 'aA',\n",
       " 'aC',\n",
       " 'aO',\n",
       " 'aN',\n",
       " 'mB',\n",
       " 'mA',\n",
       " 'mC',\n",
       " 'mO',\n",
       " 'mN']"
      ]
     },
     "execution_count": 11,
     "metadata": {},
     "output_type": "execute_result"
    }
   ],
   "source": [
    "[x + y for x in 'spam' for y in 'BACON']"
   ]
  },
  {
   "cell_type": "code",
   "execution_count": 12,
   "metadata": {},
   "outputs": [
    {
     "data": {
      "text/plain": [
       "[(0, 0), (0, 2), (0, 4), (2, 0), (2, 2), (2, 4), (4, 0), (4, 2), (4, 4)]"
      ]
     },
     "execution_count": 12,
     "metadata": {},
     "output_type": "execute_result"
    }
   ],
   "source": [
    "[(x, y) for x in range(5) if x % 2 == 0 for y in range(5) if y % 2 == 0]"
   ]
  },
  {
   "cell_type": "markdown",
   "metadata": {},
   "source": [
    "### Генераторы списков и матрицы"
   ]
  },
  {
   "cell_type": "markdown",
   "metadata": {},
   "source": [
    "Генераторы списков являются мощным средством обработки таких структур данных, как матрицы из вложенных списков, потому что они позволяют автоматически сканировать строки и столбцы матриц."
   ]
  },
  {
   "cell_type": "code",
   "execution_count": 13,
   "metadata": {},
   "outputs": [],
   "source": [
    "M = [[1, 2, 3],\n",
    "     [4, 5, 6],\n",
    "     [7, 8, 9]]\n",
    "\n",
    "N = [[2, 2, 2],\n",
    "     [3, 3, 3],\n",
    "     [4, 4, 4]]"
   ]
  },
  {
   "cell_type": "code",
   "execution_count": 14,
   "metadata": {},
   "outputs": [
    {
     "data": {
      "text/plain": [
       "[2, 5, 8]"
      ]
     },
     "execution_count": 14,
     "metadata": {},
     "output_type": "execute_result"
    }
   ],
   "source": [
    "[row[1] for row in M]  # 2ой столбец матрицы M"
   ]
  },
  {
   "cell_type": "code",
   "execution_count": 15,
   "metadata": {},
   "outputs": [
    {
     "data": {
      "text/plain": [
       "[1, 5, 9]"
      ]
     },
     "execution_count": 15,
     "metadata": {},
     "output_type": "execute_result"
    }
   ],
   "source": [
    "[M[i][i] for i in range(len(M))]  # диагональ матрицы M"
   ]
  },
  {
   "cell_type": "code",
   "execution_count": 16,
   "metadata": {},
   "outputs": [
    {
     "data": {
      "text/plain": [
       "[2, 4, 6, 12, 15, 18, 28, 32, 36]"
      ]
     },
     "execution_count": 16,
     "metadata": {},
     "output_type": "execute_result"
    }
   ],
   "source": [
    "# простой список, содержащий результаты умножения соответствующих\n",
    "# элементов двух матриц\n",
    "[M[row][col] * N[row][col] for row in range(3) for col in range(3)]"
   ]
  },
  {
   "cell_type": "code",
   "execution_count": 17,
   "metadata": {},
   "outputs": [
    {
     "data": {
      "text/plain": [
       "[[2, 4, 6], [12, 15, 18], [28, 32, 36]]"
      ]
     },
     "execution_count": 17,
     "metadata": {},
     "output_type": "execute_result"
    }
   ],
   "source": [
    "# структура вложенных списков, с теми же самыми значениями, что и выше\n",
    "[[M[row][col] * N[row][col] for col in range(3)] for row in range(3)]"
   ]
  },
  {
   "cell_type": "markdown",
   "metadata": {},
   "source": [
    "### Понимание генераторов списков"
   ]
  },
  {
   "cell_type": "markdown",
   "metadata": {},
   "source": [
    "В настоящее время усложнение программного кода обеспечивает более высокую его производительность: проведенные тесты свидетельствуют, что функция `map` работает практически в два раза быстрее, чем эквивалентные циклы `for`, а  генераторы списков обычно немного быстрее, чем функция `map`.\n",
    "\n",
    "Это различие в  скорости выполнения обусловлено тем фактом, что функция `map` и  генераторы списков реализованы на языке C, что обеспечивает более высокую скорость, чем выполнение циклов `for` внутри виртуальной машины Python (PVM).\n",
    "\n",
    "Кроме того, функция `map` и  генераторы списков являются выражениями и  синтаксически могут находиться там, где недопустимо использовать инструкцию `for`, например в  теле `lambda`-выражений, в литералах списков и словарей и во многих других случаях."
   ]
  },
  {
   "cell_type": "markdown",
   "metadata": {},
   "source": [
    "## Еще раз об итераторах: генераторы"
   ]
  },
  {
   "cell_type": "markdown",
   "metadata": {},
   "source": [
    "Существуют две языковые конструкции, откладывающие создание результатов, когда это возможно:\n",
    "\n",
    "* **Функции-генераторы** – выглядят как обычные инструкции `def`, но для возврата результатов по одному значению за раз используют инструкцию `yield`, которая приостанавливает выполнение функции.\n",
    "\n",
    "\n",
    "* **Выражения-генераторы** – напоминают генераторы списков, о которых рассказывалось в  предыдущем разделе, но они не конструируют список с  результатами, а возвращают объект, который будет воспроизводить результаты по требованию.\n",
    "\n",
    "Поскольку ни одна из этих конструкций не создает сразу весь список с результатами, они позволяют экономить память и производить дополнительные вычисления между операциями получения результатов. Как мы увидим далее, обе конструкции поддерживают такую возможность возврата результатов по требованию **за счет реализации протокола итераций**."
   ]
  },
  {
   "cell_type": "markdown",
   "metadata": {},
   "source": [
    "### Функции-генераторы: инструкция `yield` вместо `return`"
   ]
  },
  {
   "cell_type": "markdown",
   "metadata": {},
   "source": [
    "Возможно написать функцию, которая может возвращать значение, а позднее продолжить свою работу с того места, где она была приостановлена.\n",
    "\n",
    "Такие функции известны как **функции-генераторы**, потому что они генерируют последовательность значений с течением времени.\n",
    "\n",
    "Функции-генераторы во многом похожи на обычные функции и в действительности создаются с  помощью инструкции `def`. Единственное отличие состоит в  том, что они **автоматически поддерживают протокол итераций** и  могут использоваться в  контексте итераций."
   ]
  },
  {
   "cell_type": "markdown",
   "metadata": {},
   "source": [
    "#### Замораживание состояния"
   ]
  },
  {
   "cell_type": "markdown",
   "metadata": {},
   "source": [
    "Функции-генераторы при приостановке автоматически сохраняют информацию о своем состоянии, под которым понимается **вся локальная область видимости**, со всеми локальными переменными, которая становится доступной сразу же, как только функция возобновляет работу.\n",
    "\n",
    "Главное отличие функций-генераторов от обычных функций состоит в том, что **функция-генератор поставляет значение, а не возвращает его** – инструкция `yield` приостанавливает работу функции и  передает значение вызывающей программе, при этом сохраняется информация о  состоянии, необходимая, чтобы возобновить работу с  того места, где она была приостановлена.\n",
    "\n",
    "Когда функция-генератор возобновляет работу, ее **выполнение продолжается с  первой инструкции, следующей за инструкцией `yield`**."
   ]
  },
  {
   "cell_type": "markdown",
   "metadata": {},
   "source": [
    "#### Интеграция с протоколом итераций"
   ]
  },
  {
   "cell_type": "markdown",
   "metadata": {},
   "source": [
    "> **Протокол итераций**:\n",
    "* Итерируемые объекты определяют метод `__next__`, который\n",
    "  * либо возвращает следующий элемент в итерации,\n",
    "  * либо возбуждает особое исключение `StopIteration` по окончании итераций.\n",
    ">\n",
    ">\n",
    ">* Доступ к  итератору объекта можно получить с помощью встроенной функции `iter`"
   ]
  },
  {
   "cell_type": "markdown",
   "metadata": {},
   "source": [
    "Чтобы обеспечить поддержку этого протокола, **функции, содержащие инструкцию `yield`, компилируются именно как генераторы**. \n",
    "\n",
    "При вызове такой функции она возвращает объект генератора, поддерживающий интерфейс итераций с  помощью автоматически созданного метода `__next__`, позволяющего продолжить выполнение.\n",
    "\n",
    "Функции-генераторы точно так же могут включать инструкцию `return`, которая не только служит окончанием блока `def`, но и  завершает генерацию значений, возбуждая исключение `StopIteration` после выполнения обычного выхода из функции.\n",
    "\n",
    "С точки зрения вызывающей программы, метод `__next__` генератора возобновляет выполнение функции, работа которой продолжается, пока она не встретит следующую инструкцию `yield` или пока не возбудит исключение `StopIteration`."
   ]
  },
  {
   "cell_type": "markdown",
   "metadata": {},
   "source": [
    "### Пример функции-генератора"
   ]
  },
  {
   "cell_type": "code",
   "execution_count": 18,
   "metadata": {},
   "outputs": [],
   "source": [
    "def gensquares(N):\n",
    "    for i in range(N):\n",
    "        yield i ** 2  # позднее продолжит работу с этого места"
   ]
  },
  {
   "cell_type": "code",
   "execution_count": 19,
   "metadata": {},
   "outputs": [
    {
     "name": "stdout",
     "output_type": "stream",
     "text": [
      "0 : 1 : 4 : 9 : 16 : "
     ]
    }
   ],
   "source": [
    "for i in gensquares(5):\n",
    "    print(i, end=' : ')"
   ]
  },
  {
   "cell_type": "markdown",
   "metadata": {},
   "source": [
    "> Чтобы завершить генерацию значений, функция может либо воспользоваться инструкцией `return` без значения, либо просто позволить потоку управления достичь конца функции."
   ]
  },
  {
   "cell_type": "code",
   "execution_count": 20,
   "metadata": {},
   "outputs": [],
   "source": [
    "def gensquares_limited(N):\n",
    "    for i in range(N):\n",
    "        if i > 10: return  # только для чисел <= 10\n",
    "        yield i ** 2  # позднее продолжит работу с этого места"
   ]
  },
  {
   "cell_type": "code",
   "execution_count": 21,
   "metadata": {},
   "outputs": [
    {
     "data": {
      "text/plain": [
       "[0, 1, 4, 9, 16, 25, 36, 49, 64, 81, 100]"
      ]
     },
     "execution_count": 21,
     "metadata": {},
     "output_type": "execute_result"
    }
   ],
   "source": [
    "list(gensquares_limited(100))"
   ]
  },
  {
   "cell_type": "code",
   "execution_count": 22,
   "metadata": {},
   "outputs": [
    {
     "data": {
      "text/plain": [
       "<generator object gensquares at 0x7fbcb0907360>"
      ]
     },
     "execution_count": 22,
     "metadata": {},
     "output_type": "execute_result"
    }
   ],
   "source": [
    "x = gensquares(3)\n",
    "x"
   ]
  },
  {
   "cell_type": "code",
   "execution_count": 23,
   "metadata": {},
   "outputs": [
    {
     "data": {
      "text/plain": [
       "0"
      ]
     },
     "execution_count": 23,
     "metadata": {},
     "output_type": "execute_result"
    }
   ],
   "source": [
    "next(x)"
   ]
  },
  {
   "cell_type": "code",
   "execution_count": 24,
   "metadata": {},
   "outputs": [
    {
     "data": {
      "text/plain": [
       "1"
      ]
     },
     "execution_count": 24,
     "metadata": {},
     "output_type": "execute_result"
    }
   ],
   "source": [
    "next(x)"
   ]
  },
  {
   "cell_type": "code",
   "execution_count": 25,
   "metadata": {},
   "outputs": [
    {
     "data": {
      "text/plain": [
       "4"
      ]
     },
     "execution_count": 25,
     "metadata": {},
     "output_type": "execute_result"
    }
   ],
   "source": [
    "next(x)"
   ]
  },
  {
   "cell_type": "code",
   "execution_count": 26,
   "metadata": {},
   "outputs": [
    {
     "ename": "StopIteration",
     "evalue": "",
     "output_type": "error",
     "traceback": [
      "\u001b[0;31m---------------------------------------------------------------------------\u001b[0m",
      "\u001b[0;31mStopIteration\u001b[0m                             Traceback (most recent call last)",
      "\u001b[0;32m<ipython-input-26-3ccad8ebc27b>\u001b[0m in \u001b[0;36m<module>\u001b[0;34m()\u001b[0m\n\u001b[0;32m----> 1\u001b[0;31m \u001b[0mnext\u001b[0m\u001b[0;34m(\u001b[0m\u001b[0mx\u001b[0m\u001b[0;34m)\u001b[0m  \u001b[0;31m# получено исключение\u001b[0m\u001b[0;34m\u001b[0m\u001b[0m\n\u001b[0m",
      "\u001b[0;31mStopIteration\u001b[0m: "
     ]
    }
   ],
   "source": [
    "next(x)  # получено исключение"
   ]
  },
  {
   "cell_type": "markdown",
   "metadata": {},
   "source": [
    "Генераторы предлагают лучшее решение (по сравнению с циклом `for`, функцией `map` или генератором списков) **с точки зрения использования памяти и производительности**.\n",
    "\n",
    "Они дают возможность избежать необходимости выполнять всю работу сразу, что особенно удобно, когда список результатов имеет значительный объем или когда вычисление каждого значения занимает продолжительное время. Генераторы распределяют время, необходимое на создание всей последовательности значений, по отдельным итерациям цикла.\n",
    "\n",
    "Кроме того, в  более сложных случаях использования они обеспечивают простую альтернативу сохранению состояния вручную между вызовами в  объектах классов – в  случае с  генераторами переменные функций сохраняются и восстанавливаются автоматически."
   ]
  },
  {
   "cell_type": "markdown",
   "metadata": {},
   "source": [
    "### Расширенный протокол функций-генераторов: `send` и `next`"
   ]
  },
  {
   "cell_type": "markdown",
   "metadata": {},
   "source": [
    "**Метод `send`** не только выполняет переход к следующему элементу в последовательности результатов, как это делает метод `next`, но еще и  **обеспечивает для вызывающей программы способ взаимодействия с  генератором, влияя на его работу**."
   ]
  },
  {
   "cell_type": "markdown",
   "metadata": {},
   "source": [
    "С технической точки зрения `yield` в настоящее время является не инструкцией, а выражением, которое возвращает элемент, передаваемый методу `send` (несмотря на то, что его можно использовать любым из двух способов – как `yield X` или как `A = (yield X)`). Когда выражение `yield` помещается справа от оператора присваивания, оно должно заключаться в  круглые скобки, за исключением случая, когда оно не является составной частью более крупного выражения. Например, правильно будет написать `X = yield Y`, а также `X = (yield Y) + 42`."
   ]
  },
  {
   "cell_type": "markdown",
   "metadata": {},
   "source": [
    "При использовании расширенного протокола значения передаются генератору `G` вызовом метода `G.send(value)`. После этого программный код генератора возобновляет работу, и выражение `yield` возвращает значение, полученное от метода\n",
    "`send`. Когда вызывается обычный метод `G.__next__()` (или выполняется эквивалентный вызов `next(G)`), выражение `yield` возвращает `None`"
   ]
  },
  {
   "cell_type": "code",
   "execution_count": 27,
   "metadata": {},
   "outputs": [
    {
     "data": {
      "text/plain": [
       "0"
      ]
     },
     "execution_count": 27,
     "metadata": {},
     "output_type": "execute_result"
    }
   ],
   "source": [
    "def gen():\n",
    "    for i in range(10):\n",
    "        X = yield i\n",
    "        print(X)\n",
    "        \n",
    "G = gen()\n",
    "next(G)  # чтобы запустить генератор, необходимо сначала вызвать next()"
   ]
  },
  {
   "cell_type": "code",
   "execution_count": 28,
   "metadata": {},
   "outputs": [
    {
     "name": "stdout",
     "output_type": "stream",
     "text": [
      "77\n"
     ]
    },
    {
     "data": {
      "text/plain": [
       "1"
      ]
     },
     "execution_count": 28,
     "metadata": {},
     "output_type": "execute_result"
    }
   ],
   "source": [
    "G.send(77)  # переход к следующему значению и передача значения\n",
    "            # выражению yield"
   ]
  },
  {
   "cell_type": "code",
   "execution_count": 29,
   "metadata": {},
   "outputs": [
    {
     "name": "stdout",
     "output_type": "stream",
     "text": [
      "88\n"
     ]
    },
    {
     "data": {
      "text/plain": [
       "2"
      ]
     },
     "execution_count": 29,
     "metadata": {},
     "output_type": "execute_result"
    }
   ],
   "source": [
    "G.send(88)"
   ]
  },
  {
   "cell_type": "code",
   "execution_count": 30,
   "metadata": {},
   "outputs": [
    {
     "name": "stdout",
     "output_type": "stream",
     "text": [
      "None\n"
     ]
    },
    {
     "data": {
      "text/plain": [
       "3"
      ]
     },
     "execution_count": 30,
     "metadata": {},
     "output_type": "execute_result"
    }
   ],
   "source": [
    "next(G)  # next() и X.__next__() передают значение None"
   ]
  },
  {
   "cell_type": "markdown",
   "metadata": {},
   "source": [
    ">Метод `send` может использоваться, например, чтобы реализовать генератор, который можно будет завершать из вызывающей программы или переустанавливать в  нем текущую позицию в  последовательности результатов. Кроме того,\n",
    "генераторы в версии 2.5 поддерживают метод `throw(type)` для возбуждения исключения внутри генератора в последнем выражении `yield` и метод `close`, который возбуждает специальное исключение `GeneratorExit` внутри генератора,\n",
    "чтобы вынудить его завершить итерации."
   ]
  },
  {
   "cell_type": "markdown",
   "metadata": {},
   "source": [
    "### Выражения-генераторы: итераторы и генераторы списков"
   ]
  },
  {
   "cell_type": "markdown",
   "metadata": {},
   "source": [
    "Во всех последних версиях Python понятия итератора и генератора списков были объединены в новую языковую конструкцию – **выражения-генераторы**.\n",
    "\n",
    "Синтаксически выражения напоминают обычные генераторы списков, но они\n",
    "заключаются не в квадратные, а в круглые скобки"
   ]
  },
  {
   "cell_type": "code",
   "execution_count": 31,
   "metadata": {},
   "outputs": [
    {
     "data": {
      "text/plain": [
       "[0, 1, 4, 9]"
      ]
     },
     "execution_count": 31,
     "metadata": {},
     "output_type": "execute_result"
    }
   ],
   "source": [
    "[x ** 2 for x in range(4)]  # генератор списков: создает список"
   ]
  },
  {
   "cell_type": "code",
   "execution_count": 32,
   "metadata": {},
   "outputs": [
    {
     "data": {
      "text/plain": [
       "<generator object <genexpr> at 0x7fbcb0059678>"
      ]
     },
     "execution_count": 32,
     "metadata": {},
     "output_type": "execute_result"
    }
   ],
   "source": [
    "# выражение-генератор: создает итерируемый объект\n",
    "(x ** 2 for x in range(4))"
   ]
  },
  {
   "cell_type": "markdown",
   "metadata": {},
   "source": [
    "Фактически, по крайней мере с функциональной точки зрения, генератор списков является эквивалентом генератора-выражения, обернутого в вызов встроенной функции `list` для принудительного получения сразу всего списка с результатами:"
   ]
  },
  {
   "cell_type": "code",
   "execution_count": 33,
   "metadata": {},
   "outputs": [
    {
     "data": {
      "text/plain": [
       "[0, 1, 4, 9]"
      ]
     },
     "execution_count": 33,
     "metadata": {},
     "output_type": "execute_result"
    }
   ],
   "source": [
    "list(x ** 2 for x in range(4))  # эквивалент генератора списков"
   ]
  },
  {
   "cell_type": "markdown",
   "metadata": {},
   "source": [
    "Однако с другой стороны, выражения-генераторы кардинально отличаются от генераторов списков – вместо того, чтобы создавать в памяти список с результатами, они возвращают объект-генератор, который в свою очередь поддерживает протокол итераций, поставляя по одному элементу списка за раз в любом итерационном контексте:"
   ]
  },
  {
   "cell_type": "code",
   "execution_count": 34,
   "metadata": {},
   "outputs": [],
   "source": [
    "G = (x ** 2 for x in range(3, 5))"
   ]
  },
  {
   "cell_type": "code",
   "execution_count": 35,
   "metadata": {},
   "outputs": [
    {
     "data": {
      "text/plain": [
       "9"
      ]
     },
     "execution_count": 35,
     "metadata": {},
     "output_type": "execute_result"
    }
   ],
   "source": [
    "next(G)"
   ]
  },
  {
   "cell_type": "code",
   "execution_count": 36,
   "metadata": {},
   "outputs": [
    {
     "data": {
      "text/plain": [
       "16"
      ]
     },
     "execution_count": 36,
     "metadata": {},
     "output_type": "execute_result"
    }
   ],
   "source": [
    "next(G)"
   ]
  },
  {
   "cell_type": "code",
   "execution_count": 37,
   "metadata": {},
   "outputs": [
    {
     "ename": "StopIteration",
     "evalue": "",
     "output_type": "error",
     "traceback": [
      "\u001b[0;31m---------------------------------------------------------------------------\u001b[0m",
      "\u001b[0;31mStopIteration\u001b[0m                             Traceback (most recent call last)",
      "\u001b[0;32m<ipython-input-37-b4d1fcb0baf1>\u001b[0m in \u001b[0;36m<module>\u001b[0;34m()\u001b[0m\n\u001b[0;32m----> 1\u001b[0;31m \u001b[0mnext\u001b[0m\u001b[0;34m(\u001b[0m\u001b[0mG\u001b[0m\u001b[0;34m)\u001b[0m\u001b[0;34m\u001b[0m\u001b[0m\n\u001b[0m",
      "\u001b[0;31mStopIteration\u001b[0m: "
     ]
    }
   ],
   "source": [
    "next(G)"
   ]
  },
  {
   "cell_type": "markdown",
   "metadata": {},
   "source": [
    ">Обратите внимание, что **круглые скобки вокруг выражения-генератора можно опустить, если оно является единственным элементом, заключенным в другие круглые скобки, например в вызове функции**.\n",
    "\n",
    "Однако круглые скобки необходимы во втором вызове функции `sorted` ниже:"
   ]
  },
  {
   "cell_type": "code",
   "execution_count": 38,
   "metadata": {},
   "outputs": [
    {
     "data": {
      "text/plain": [
       "14"
      ]
     },
     "execution_count": 38,
     "metadata": {},
     "output_type": "execute_result"
    }
   ],
   "source": [
    "sum(x ** 2 for x in range(4))"
   ]
  },
  {
   "cell_type": "code",
   "execution_count": 39,
   "metadata": {},
   "outputs": [
    {
     "data": {
      "text/plain": [
       "[0, 1, 4, 9]"
      ]
     },
     "execution_count": 39,
     "metadata": {},
     "output_type": "execute_result"
    }
   ],
   "source": [
    "sorted(x ** 2 for x in range(4))"
   ]
  },
  {
   "cell_type": "code",
   "execution_count": 40,
   "metadata": {},
   "outputs": [
    {
     "data": {
      "text/plain": [
       "[9, 4, 1, 0]"
      ]
     },
     "execution_count": 40,
     "metadata": {},
     "output_type": "execute_result"
    }
   ],
   "source": [
    "sorted((x ** 2 for x in range(4)), reverse=True)"
   ]
  },
  {
   "cell_type": "code",
   "execution_count": 41,
   "metadata": {},
   "outputs": [
    {
     "ename": "SyntaxError",
     "evalue": "Generator expression must be parenthesized if not sole argument (<ipython-input-41-d158a9f8be75>, line 1)",
     "output_type": "error",
     "traceback": [
      "\u001b[0;36m  File \u001b[0;32m\"<ipython-input-41-d158a9f8be75>\"\u001b[0;36m, line \u001b[0;32m1\u001b[0m\n\u001b[0;31m    sorted(x ** 2 for x in range(4), reverse=True)\u001b[0m\n\u001b[0m          ^\u001b[0m\n\u001b[0;31mSyntaxError\u001b[0m\u001b[0;31m:\u001b[0m Generator expression must be parenthesized if not sole argument\n"
     ]
    }
   ],
   "source": [
    "sorted(x ** 2 for x in range(4), reverse=True)"
   ]
  },
  {
   "cell_type": "markdown",
   "metadata": {},
   "source": [
    "### Функции-генераторы и выражения-генераторы"
   ]
  },
  {
   "cell_type": "markdown",
   "metadata": {},
   "source": [
    "Одни и те же итерации часто можно реализовать как в  виде функции-генератора, так и  в виде выражения-генератора.\n",
    "\n",
    "Следующее выражение-генератор, например, четырежды повторяет каждый символ в исходной строке:"
   ]
  },
  {
   "cell_type": "code",
   "execution_count": 42,
   "metadata": {},
   "outputs": [
    {
     "data": {
      "text/plain": [
       "['SSSS', 'PPPP', 'AAAA', 'MMMM']"
      ]
     },
     "execution_count": 42,
     "metadata": {},
     "output_type": "execute_result"
    }
   ],
   "source": [
    "G = (c * 4 for c in 'SPAM')  # выражение-генератор\n",
    "list(G)  # принудительно получить сразу все результаты"
   ]
  },
  {
   "cell_type": "markdown",
   "metadata": {},
   "source": [
    "Эквивалентная функция-генератор содержит чуть больше программного кода,\n",
    "но, будучи функцией, при необходимости способна вместить в  себя больший объем логики и использовать больший объем информации:"
   ]
  },
  {
   "cell_type": "code",
   "execution_count": 43,
   "metadata": {},
   "outputs": [
    {
     "data": {
      "text/plain": [
       "['ssss', 'pppp', 'aaaa', 'mmmm']"
      ]
     },
     "execution_count": 43,
     "metadata": {},
     "output_type": "execute_result"
    }
   ],
   "source": [
    "def timesfour(S):  # функция-генератор\n",
    "    for c in S:\n",
    "        yield c * 4\n",
    "        \n",
    "G = timesfour('spam')\n",
    "list(G)  # выполнит итерации автоматически"
   ]
  },
  {
   "cell_type": "markdown",
   "metadata": {},
   "source": [
    ">**Для повторного получения результатов нужно создавать новый генератор**"
   ]
  },
  {
   "cell_type": "code",
   "execution_count": 45,
   "metadata": {},
   "outputs": [
    {
     "data": {
      "text/plain": [
       "[]"
      ]
     },
     "execution_count": 45,
     "metadata": {},
     "output_type": "execute_result"
    }
   ],
   "source": [
    "list(G)"
   ]
  },
  {
   "cell_type": "markdown",
   "metadata": {},
   "source": [
    "### Генераторы – это объекты итераторов однократного применения"
   ]
  },
  {
   "cell_type": "markdown",
   "metadata": {},
   "source": [
    "И **функции-генераторы, и  выражения-генераторы имеют свои собственные итераторы и потому поддерживают возможность лишь однократного выполнения итераций** – в отличие от некоторых встроенных типов, нет никакой возможности получить несколько итераторов или выполнять позиционирование итератора в множестве результатов.\n",
    "\n",
    "Например, для выражения-генератора из предыдущего раздела итератором является сам генератор (фактически вызов метода `iter` генератора не выполняет никаких действий):"
   ]
  },
  {
   "cell_type": "code",
   "execution_count": 46,
   "metadata": {},
   "outputs": [
    {
     "data": {
      "text/plain": [
       "True"
      ]
     },
     "execution_count": 46,
     "metadata": {},
     "output_type": "execute_result"
    }
   ],
   "source": [
    "G = (c * 4 for c in 'SPAM')\n",
    "iter(G) is G  # итератором генератора является сам генератор"
   ]
  },
  {
   "cell_type": "markdown",
   "metadata": {},
   "source": [
    "Если попробовать выполнить обход результатов вручную, с помощью нескольких итераторов, окажется, что все они ссылаются на одну и  ту же позицию в последовательности результатов:"
   ]
  },
  {
   "cell_type": "code",
   "execution_count": 47,
   "metadata": {},
   "outputs": [
    {
     "data": {
      "text/plain": [
       "'SSSS'"
      ]
     },
     "execution_count": 47,
     "metadata": {},
     "output_type": "execute_result"
    }
   ],
   "source": [
    "G = (c * 4 for c in 'SPAM')\n",
    "I1 = iter(G)\n",
    "next(I1)"
   ]
  },
  {
   "cell_type": "code",
   "execution_count": 48,
   "metadata": {},
   "outputs": [
    {
     "data": {
      "text/plain": [
       "'PPPP'"
      ]
     },
     "execution_count": 48,
     "metadata": {},
     "output_type": "execute_result"
    }
   ],
   "source": [
    "next(I1)"
   ]
  },
  {
   "cell_type": "code",
   "execution_count": 49,
   "metadata": {},
   "outputs": [
    {
     "data": {
      "text/plain": [
       "'AAAA'"
      ]
     },
     "execution_count": 49,
     "metadata": {},
     "output_type": "execute_result"
    }
   ],
   "source": [
    "I2 = iter(G)\n",
    "next(I2)"
   ]
  },
  {
   "cell_type": "markdown",
   "metadata": {},
   "source": [
    "Кроме того, как только итерации достигнут конца, все результаты окажутся исчерпаны  – чтобы выполнить повторный обход результатов, нам придется создать новый генератор"
   ]
  },
  {
   "cell_type": "code",
   "execution_count": 50,
   "metadata": {},
   "outputs": [
    {
     "data": {
      "text/plain": [
       "['MMMM']"
      ]
     },
     "execution_count": 50,
     "metadata": {},
     "output_type": "execute_result"
    }
   ],
   "source": [
    "list(I1)  # выберет остатки результатов в I1"
   ]
  },
  {
   "cell_type": "code",
   "execution_count": 51,
   "metadata": {},
   "outputs": [
    {
     "ename": "StopIteration",
     "evalue": "",
     "output_type": "error",
     "traceback": [
      "\u001b[0;31m---------------------------------------------------------------------------\u001b[0m",
      "\u001b[0;31mStopIteration\u001b[0m                             Traceback (most recent call last)",
      "\u001b[0;32m<ipython-input-51-646285b556dd>\u001b[0m in \u001b[0;36m<module>\u001b[0;34m()\u001b[0m\n\u001b[0;32m----> 1\u001b[0;31m \u001b[0mnext\u001b[0m\u001b[0;34m(\u001b[0m\u001b[0mI2\u001b[0m\u001b[0;34m)\u001b[0m  \u001b[0;31m# другие итераторы также окажутся исчерпанными\u001b[0m\u001b[0;34m\u001b[0m\u001b[0m\n\u001b[0m",
      "\u001b[0;31mStopIteration\u001b[0m: "
     ]
    }
   ],
   "source": [
    "next(I2)  # другие итераторы также окажутся исчерпанными"
   ]
  },
  {
   "cell_type": "code",
   "execution_count": 52,
   "metadata": {},
   "outputs": [
    {
     "ename": "StopIteration",
     "evalue": "",
     "output_type": "error",
     "traceback": [
      "\u001b[0;31m---------------------------------------------------------------------------\u001b[0m",
      "\u001b[0;31mStopIteration\u001b[0m                             Traceback (most recent call last)",
      "\u001b[0;32m<ipython-input-52-ed83483bb2d5>\u001b[0m in \u001b[0;36m<module>\u001b[0;34m()\u001b[0m\n\u001b[1;32m      1\u001b[0m \u001b[0mI3\u001b[0m \u001b[0;34m=\u001b[0m \u001b[0miter\u001b[0m\u001b[0;34m(\u001b[0m\u001b[0mG\u001b[0m\u001b[0;34m)\u001b[0m  \u001b[0;31m# то же относится и к вновь созданным итераторам\u001b[0m\u001b[0;34m\u001b[0m\u001b[0m\n\u001b[0;32m----> 2\u001b[0;31m \u001b[0mnext\u001b[0m\u001b[0;34m(\u001b[0m\u001b[0mI3\u001b[0m\u001b[0;34m)\u001b[0m\u001b[0;34m\u001b[0m\u001b[0m\n\u001b[0m",
      "\u001b[0;31mStopIteration\u001b[0m: "
     ]
    }
   ],
   "source": [
    "I3 = iter(G)  # то же относится и к вновь созданным итераторам\n",
    "next(I3)"
   ]
  },
  {
   "cell_type": "markdown",
   "metadata": {},
   "source": [
    "То же относится и к функциям-генераторам – эквивалентный генератор, реализованный в виде функции, также обеспечивает возможность однократного выполнения итераций.\n",
    "\n",
    "**Некоторые встроенные типы имеют отличное поведение**, поддерживают возможность создания множества независимых итераторов и способны отражать изменения объекта во всех активных итераторах:"
   ]
  },
  {
   "cell_type": "code",
   "execution_count": 53,
   "metadata": {},
   "outputs": [
    {
     "data": {
      "text/plain": [
       "1"
      ]
     },
     "execution_count": 53,
     "metadata": {},
     "output_type": "execute_result"
    }
   ],
   "source": [
    "L = [1, 2, 3, 4]\n",
    "I1, I2 = iter(L), iter(L)\n",
    "next(I1)"
   ]
  },
  {
   "cell_type": "code",
   "execution_count": 54,
   "metadata": {},
   "outputs": [
    {
     "data": {
      "text/plain": [
       "2"
      ]
     },
     "execution_count": 54,
     "metadata": {},
     "output_type": "execute_result"
    }
   ],
   "source": [
    "next(I1)"
   ]
  },
  {
   "cell_type": "code",
   "execution_count": 55,
   "metadata": {},
   "outputs": [
    {
     "data": {
      "text/plain": [
       "1"
      ]
     },
     "execution_count": 55,
     "metadata": {},
     "output_type": "execute_result"
    }
   ],
   "source": [
    "next(I2)  # списки поддерживают множество независимых итераторов"
   ]
  },
  {
   "cell_type": "code",
   "execution_count": 56,
   "metadata": {},
   "outputs": [
    {
     "ename": "StopIteration",
     "evalue": "",
     "output_type": "error",
     "traceback": [
      "\u001b[0;31m---------------------------------------------------------------------------\u001b[0m",
      "\u001b[0;31mStopIteration\u001b[0m                             Traceback (most recent call last)",
      "\u001b[0;32m<ipython-input-56-6445cfab6d04>\u001b[0m in \u001b[0;36m<module>\u001b[0;34m()\u001b[0m\n\u001b[1;32m      1\u001b[0m \u001b[0;32mdel\u001b[0m \u001b[0mL\u001b[0m\u001b[0;34m[\u001b[0m\u001b[0;36m2\u001b[0m\u001b[0;34m:\u001b[0m\u001b[0;34m]\u001b[0m\u001b[0;34m\u001b[0m\u001b[0m\n\u001b[0;32m----> 2\u001b[0;31m \u001b[0mnext\u001b[0m\u001b[0;34m(\u001b[0m\u001b[0mI1\u001b[0m\u001b[0;34m)\u001b[0m  \u001b[0;31m# изменения отражаются на всех итераторах\u001b[0m\u001b[0;34m\u001b[0m\u001b[0m\n\u001b[0m",
      "\u001b[0;31mStopIteration\u001b[0m: "
     ]
    }
   ],
   "source": [
    "del L[2:]\n",
    "next(I1)  # изменения отражаются на всех итераторах"
   ]
  },
  {
   "cell_type": "markdown",
   "metadata": {},
   "source": [
    "### Имитация функций `zip` и `map` с помощью инструментов итераций"
   ]
  },
  {
   "cell_type": "markdown",
   "metadata": {},
   "source": [
    "При вызове с  несколькими аргументами функция `map` отображает заданную функцию на элементы, взятые из каждой последовательности, практически тем же способом, каким функция `zip` объединяет их:"
   ]
  },
  {
   "cell_type": "code",
   "execution_count": 57,
   "metadata": {},
   "outputs": [
    {
     "data": {
      "text/plain": [
       "[('a', 'x'), ('b', 'y'), ('c', 'z')]"
      ]
     },
     "execution_count": 57,
     "metadata": {},
     "output_type": "execute_result"
    }
   ],
   "source": [
    "S1 = 'abc'\n",
    "S2 = 'xyz123'\n",
    "list(zip(S1, S2))"
   ]
  },
  {
   "cell_type": "code",
   "execution_count": 58,
   "metadata": {},
   "outputs": [
    {
     "data": {
      "text/plain": [
       "[(-2,), (-1,), (0,), (1,), (2,)]"
      ]
     },
     "execution_count": 58,
     "metadata": {},
     "output_type": "execute_result"
    }
   ],
   "source": [
    "# единственная последовательность: одномерные кортежи\n",
    "list(zip([-2, -1, 0, 1, 2]))"
   ]
  },
  {
   "cell_type": "code",
   "execution_count": 59,
   "metadata": {},
   "outputs": [
    {
     "data": {
      "text/plain": [
       "[(1, 2), (2, 3), (3, 4)]"
      ]
     },
     "execution_count": 59,
     "metadata": {},
     "output_type": "execute_result"
    }
   ],
   "source": [
    "# N последовательностей: N-мерные кортежи\n",
    "list(zip([1, 2, 3], [2, 3, 4, 5])) "
   ]
  },
  {
   "cell_type": "markdown",
   "metadata": {},
   "source": [
    ">`map` передает объединенные элементы последовательностей указанной функции, усекая результирующую последовательность по длине кратчайшей исходной последовательности"
   ]
  },
  {
   "cell_type": "code",
   "execution_count": 60,
   "metadata": {},
   "outputs": [
    {
     "data": {
      "text/plain": [
       "[2, 1, 0, 1, 2]"
      ]
     },
     "execution_count": 60,
     "metadata": {},
     "output_type": "execute_result"
    }
   ],
   "source": [
    "# единственная последовательность: одномерная функция\n",
    "list(map(abs, [-2, -1, 0, 1, 2]))"
   ]
  },
  {
   "cell_type": "code",
   "execution_count": 61,
   "metadata": {},
   "outputs": [
    {
     "data": {
      "text/plain": [
       "[1, 8, 81]"
      ]
     },
     "execution_count": 61,
     "metadata": {},
     "output_type": "execute_result"
    }
   ],
   "source": [
    "# N последовательностей: N-мерная функция\n",
    "list(map(pow, [1, 2, 3], [2, 3, 4, 5]))"
   ]
  },
  {
   "cell_type": "markdown",
   "metadata": {},
   "source": [
    "#### Создание собственной версии функции `map(func, ...)`"
   ]
  },
  {
   "cell_type": "markdown",
   "metadata": {},
   "source": [
    "Встроенные функции `map` и `zip` показывают высокую производительность и  удобны в  использовании, тем не менее мы всегда можем добиться той же функциональности, написав несколько строк самостоятельно.\n",
    "\n",
    "В предыдущей главе, например, мы видели реализацию функции, имитирующей поведение встроенной функции `map` для случая, когда ей передается единственная последовательность. Нам не составит большого труда распространить эту версию на случай множества последовательностей:"
   ]
  },
  {
   "cell_type": "code",
   "execution_count": 62,
   "metadata": {},
   "outputs": [
    {
     "name": "stdout",
     "output_type": "stream",
     "text": [
      "[2, 1, 0, 1, 2]\n"
     ]
    }
   ],
   "source": [
    "# map(func, seqs...) на основе использования zip\n",
    "def mymap(func, *seqs):\n",
    "    res = []\n",
    "    for args in zip(*seqs):\n",
    "        res.append(func(*args))\n",
    "    return res\n",
    "\n",
    "print(mymap(abs, [-2, -1, 0, 1, 2]))"
   ]
  },
  {
   "cell_type": "code",
   "execution_count": 63,
   "metadata": {},
   "outputs": [
    {
     "name": "stdout",
     "output_type": "stream",
     "text": [
      "[1, 8, 81]\n"
     ]
    }
   ],
   "source": [
    "print(mymap(pow, [1, 2, 3], [2, 3, 4, 5]))"
   ]
  },
  {
   "cell_type": "markdown",
   "metadata": {},
   "source": [
    "Эта версия в значительной степени опирается на конструкцию `*args` передачи аргументов – она получает множество аргументов-последовательностей (в действительности – итерируемых объектов), распаковывает их в аргументы функции `zip`, для последующего объединения, и затем распаковывает результаты вызова функции `zip` в аргументы указанной функции `func`. То есть мы используем тот факт, что объединение элементов последовательностей, по сути, является промежуточной операцией при отображении."
   ]
  },
  {
   "cell_type": "markdown",
   "metadata": {},
   "source": [
    "Однако в действительности предыдущая версия функции представляет собой классический шаблон генератора списков, конструируя список с результатами с помощью цикла `for`. Учитывая это обстоятельство, мы можем сделать нашу\n",
    "версию функции `map` более компактной, реализовав все необходимое в виде однострочного генератора списков:"
   ]
  },
  {
   "cell_type": "code",
   "execution_count": 64,
   "metadata": {},
   "outputs": [
    {
     "name": "stdout",
     "output_type": "stream",
     "text": [
      "[2, 1, 0, 1, 2]\n"
     ]
    }
   ],
   "source": [
    "# С использованием генератора списков\n",
    "def mymap(func, *seqs):\n",
    "    return [func(*args) for args in zip(*seqs)]\n",
    "\n",
    "print(mymap(abs, [-2, -1, 0, 1, 2]))"
   ]
  },
  {
   "cell_type": "code",
   "execution_count": 65,
   "metadata": {},
   "outputs": [
    {
     "name": "stdout",
     "output_type": "stream",
     "text": [
      "[1, 8, 81]\n"
     ]
    }
   ],
   "source": [
    "print(mymap(pow, [1, 2, 3], [2, 3, 4, 5]))"
   ]
  },
  {
   "cell_type": "markdown",
   "metadata": {},
   "source": [
    "Обе предыдущие версии функции `mymap` конструируют сразу весь список с  результатами, что для крупных списков может привести к  существенному увеличению потребления памяти. Теперь, когда мы познакомились с функциями-генераторами и выражениями-генераторами, мы легко можем создать две альтернативные версии, возвращающие результаты по требованию:"
   ]
  },
  {
   "cell_type": "code",
   "execution_count": 66,
   "metadata": {},
   "outputs": [],
   "source": [
    "# С использованием генераторов: yield и (...)\n",
    "def mymap(func, *seqs):\n",
    "    res = []\n",
    "    for args in zip(*seqs):\n",
    "        yield func(*args)\n",
    "\n",
    "\n",
    "def mymap(func, *seqs):\n",
    "    return (func(*args) for args in zip(*seqs))"
   ]
  },
  {
   "cell_type": "markdown",
   "metadata": {},
   "source": [
    "Эти версии воспроизводят те же самые результаты, но возвращают генераторы, поддерживающие протокол итераций, – первая версия поставляет по одному результату за раз, а вторая возвращает результат выражения-генератора, который имеет тот же эффект. Если обернуть вызовы этих функций в вызов функции `list`, мы сможем получить сразу все результаты:"
   ]
  },
  {
   "cell_type": "code",
   "execution_count": 67,
   "metadata": {},
   "outputs": [
    {
     "name": "stdout",
     "output_type": "stream",
     "text": [
      "[1, 8, 81]\n"
     ]
    }
   ],
   "source": [
    "print(list(mymap(pow, [1, 2, 3], [2, 3, 4, 5])))"
   ]
  },
  {
   "cell_type": "markdown",
   "metadata": {},
   "source": [
    "#### Создание собственных версий функций `zip(...)` и `map(None, ...)`"
   ]
  },
  {
   "cell_type": "markdown",
   "metadata": {},
   "source": [
    "Используя инструменты итераций, мы можем создать версии, имитирующие\n",
    "усечение, как это делает функция `zip`, и дополнение, как это делает функция `map` в версии 2.6."
   ]
  },
  {
   "cell_type": "code",
   "execution_count": 68,
   "metadata": {},
   "outputs": [],
   "source": [
    "# Версии zip(seqs...) и map(None, seqs...) в Python 2.6\n",
    "def myzip(*seqs):\n",
    "    seqs = [list(S) for S in seqs]\n",
    "    res = []\n",
    "    while all(seqs):\n",
    "        res.append(tuple(S.pop(0) for S in seqs))\n",
    "    return res\n",
    "\n",
    "def mymapPad(*seqs, pad=None):\n",
    "    seqs = [list(S) for S in seqs]\n",
    "    res = []\n",
    "    while any(seqs):\n",
    "        res.append(tuple((S.pop(0) if S else pad) for S in seqs))\n",
    "    return res"
   ]
  },
  {
   "cell_type": "code",
   "execution_count": 69,
   "metadata": {},
   "outputs": [
    {
     "name": "stdout",
     "output_type": "stream",
     "text": [
      "[('a', 'x'), ('b', 'y'), ('c', 'z')]\n"
     ]
    }
   ],
   "source": [
    "S1, S2 = 'abc', 'xyz123'\n",
    "print(myzip(S1, S2))"
   ]
  },
  {
   "cell_type": "code",
   "execution_count": 70,
   "metadata": {},
   "outputs": [
    {
     "name": "stdout",
     "output_type": "stream",
     "text": [
      "[('a', 'x'), ('b', 'y'), ('c', 'z'), (None, '1'), (None, '2'), (None, '3')]\n"
     ]
    }
   ],
   "source": [
    "print(mymapPad(S1, S2))"
   ]
  },
  {
   "cell_type": "code",
   "execution_count": 71,
   "metadata": {},
   "outputs": [
    {
     "name": "stdout",
     "output_type": "stream",
     "text": [
      "[('a', 'x'), ('b', 'y'), ('c', 'z'), (99, '1'), (99, '2'), (99, '3')]\n"
     ]
    }
   ],
   "source": [
    "print(mymapPad(S1, S2, pad=99))"
   ]
  },
  {
   "cell_type": "markdown",
   "metadata": {},
   "source": [
    "Обе функции, представленные здесь, способны работать с  любыми итерируемыми объектами, потому что они применяют к своим аргументам встроенную функцию `list`, вынуждая их сгенерировать все результаты (что, к примеру, позволяет передавать в качестве аргументов не только простые последовательности, такие как строки, но и файлы). Обратите внимание, что здесь используются встроенные функции `all` и `any`, – они возвращают `True`, если все или хотя бы\n",
    "один элемент итерируемого объекта соответственно имеет истинное значение (то есть непустой). Эти встроенные функции позволяют остановить итерации, когда один или все аргументы, пропущенные через функцию `list`, превращаются в пустые списки после удаления очередного элемента."
   ]
  },
  {
   "cell_type": "markdown",
   "metadata": {},
   "source": [
    "Эти функции не могут быть преобразованы в генераторы списков из-за того, что в них используются слишком специфичные циклы. Однако, как и прежде, текущие версии функций `zip` и `map` конструируют и возвращают сразу весь список с результатами и их точно так же легко можно превратить в генераторы, поставляющие результаты по одному элементу за раз. Результаты получаются теми же самыми, что и прежде, но нам снова придется использовать функцию `list`, чтобы получить сразу все значения для отображения:"
   ]
  },
  {
   "cell_type": "code",
   "execution_count": 72,
   "metadata": {},
   "outputs": [],
   "source": [
    "def myzip(*seqs):\n",
    "    seqs = [list(S) for S in seqs]\n",
    "    while all(seqs):\n",
    "        yield tuple(S.pop(0) for S in seqs)\n",
    "        \n",
    "def mymapPad(*seqs, pad=None):\n",
    "    seqs = [list(S) for S in seqs]\n",
    "    while any(seqs):\n",
    "        yield tuple((S.pop(0) if S else pad) for S in seqs)"
   ]
  },
  {
   "cell_type": "code",
   "execution_count": 73,
   "metadata": {},
   "outputs": [
    {
     "name": "stdout",
     "output_type": "stream",
     "text": [
      "[('a', 'x'), ('b', 'y'), ('c', 'z')]\n"
     ]
    }
   ],
   "source": [
    "S1, S2 = 'abc', 'xyz123'\n",
    "print(list(myzip(S1, S2)))"
   ]
  },
  {
   "cell_type": "code",
   "execution_count": 74,
   "metadata": {},
   "outputs": [
    {
     "name": "stdout",
     "output_type": "stream",
     "text": [
      "[('a', 'x'), ('b', 'y'), ('c', 'z'), (99, '1'), (99, '2'), (99, '3')]\n"
     ]
    }
   ],
   "source": [
    "print(list(mymapPad(S1, S2, pad=99)))"
   ]
  },
  {
   "cell_type": "markdown",
   "metadata": {},
   "source": [
    "Наконец, ниже приводятся альтернативные реализации наших версий функций `zip` и `map`  – вместо того, чтобы удалять элементы из списков с  помощью метода `pop`, они выполняют свою работу за счет нахождения аргументов с минимальной и максимальной длиной. Вооружившись этими значениями, легко можно реализовать вложенные генераторы списков для обхода диапазонов индексов в аргументах:"
   ]
  },
  {
   "cell_type": "code",
   "execution_count": 75,
   "metadata": {},
   "outputs": [],
   "source": [
    "# Альтернативные реализации с вычислением длин\n",
    "# исходных последовательностей\n",
    "def myzip(*seqs):\n",
    "    minlen = min(len(S) for S in seqs)\n",
    "    return [tuple(S[i] for S in seqs) for i in range(minlen)]\n",
    "\n",
    "def mymapPad(*seqs, pad=None):\n",
    "    maxlen = max(len(S) for S in seqs)\n",
    "    index = range(maxlen)\n",
    "    return [tuple((S[i] if len(S) > i else pad) for S in seqs) for i in index]"
   ]
  },
  {
   "cell_type": "code",
   "execution_count": 76,
   "metadata": {},
   "outputs": [
    {
     "name": "stdout",
     "output_type": "stream",
     "text": [
      "[('a', 'x'), ('b', 'y'), ('c', 'z')]\n"
     ]
    }
   ],
   "source": [
    "S1, S2 = 'abc', 'xyz123'\n",
    "print(myzip(S1, S2))"
   ]
  },
  {
   "cell_type": "code",
   "execution_count": 77,
   "metadata": {},
   "outputs": [
    {
     "name": "stdout",
     "output_type": "stream",
     "text": [
      "[('a', 'x'), ('b', 'y'), ('c', 'z'), (None, '1'), (None, '2'), (None, '3')]\n"
     ]
    }
   ],
   "source": [
    "print(mymapPad(S1, S2))"
   ]
  },
  {
   "cell_type": "code",
   "execution_count": 78,
   "metadata": {},
   "outputs": [
    {
     "name": "stdout",
     "output_type": "stream",
     "text": [
      "[('a', 'x'), ('b', 'y'), ('c', 'z'), (99, '1'), (99, '2'), (99, '3')]\n"
     ]
    }
   ],
   "source": [
    "print(mymapPad(S1, S2, pad=99))"
   ]
  },
  {
   "cell_type": "markdown",
   "metadata": {},
   "source": [
    "Поскольку в этих версиях используются функция `len` и операция извлечения элементов по индексам, они уже не предполагают, что их аргументы могут быть произвольными итерируемыми объектами. Внешний генератор списков здесь выполняет обход диапазона индексов в  аргументе, а  внутренний (передается функции `tuple`) выполняет обход полученных функцией последовательностей, одновременно извлекая из каждой по одному элементу.\n",
    "\n",
    "Если запустить этот пример, вы получите те же результаты, что и прежде. Больше всего в  этом примере поражает широкое использование генераторов и  итераторов. Аргументы, которые передаются функциям `min` и  `max`, являются выражениями-генераторами, которые заканчивают свои итерации еще до того, как вложенный генератор списков приступит к выполнению итераций.\n",
    "\n",
    "Кроме того, вложенные генераторы списков содержат два уровня отложенных операций – итератор, возвращаемый встроенной функцией `range` в Python 3.0, и выражение-генератор, которое передается, как аргумент функции `tuple`."
   ]
  },
  {
   "cell_type": "markdown",
   "metadata": {},
   "source": [
    "В действительности, пока поток управления не достигнет квадратных скобок генератора списков, здесь не воспроизводится никаких результатов – именно в этом месте происходит запуск генераторов списков и выражений-генераторов. Чтобы эти версии функций возвращали не списки с результатами, а генераторы, вместо квадратных скобок следует использовать круглые скобки. Ниже приводится преобразованная версия нашей функции `zip`:"
   ]
  },
  {
   "cell_type": "code",
   "execution_count": 79,
   "metadata": {},
   "outputs": [
    {
     "name": "stdout",
     "output_type": "stream",
     "text": [
      "[('a', 'x'), ('b', 'y'), ('c', 'z')]\n"
     ]
    }
   ],
   "source": [
    "# С использованием генераторов: (...)\n",
    "def myzip(*seqs):\n",
    "    minlen = min(len(S) for S in seqs)\n",
    "    return (tuple(S[i] for S in seqs) for i in range(minlen))\n",
    "print(list(myzip(S1, S2)))"
   ]
  },
  {
   "cell_type": "markdown",
   "metadata": {},
   "source": [
    "#### Придется держать в уме: однократные итерации"
   ]
  },
  {
   "cell_type": "markdown",
   "metadata": {},
   "source": [
    "Рассмотрим следующую альтернативную реализацию нашей функции `zip`, которая является адаптированной версией функции, взятой из руководства по языку Python:"
   ]
  },
  {
   "cell_type": "code",
   "execution_count": 80,
   "metadata": {},
   "outputs": [],
   "source": [
    "def myzip(*args):\n",
    "    iters = map(iter, args)\n",
    "    while iters:\n",
    "        res = [next(i) for i in iters]\n",
    "        yield tuple(res)"
   ]
  },
  {
   "cell_type": "markdown",
   "metadata": {},
   "source": [
    "Так как в этой версии используются функции `iter` и `next`, она способна принимать любые итерируемые объекты. Обратите внимание, что нет никаких причин перехватывать исключение `StopIteration`, возбуждаемое вызовом функции `next(i)` внутри генератора списков по исчерпании любого из аргументов-итераторов,  – внутри функции-генератора это\n",
    "исключение дает тот же эффект, что и инструкция `return`.\n",
    "\n",
    "Инструкции `while iters`: вполне достаточно, чтобы организовать обход, когда функции был передан хотя бы один аргумент, и  избежать зацикливания в противном случае (генератор списков в этом случае всегда будет возвращать пустой список). Эта функция прекрасно действует в Python 2.6"
   ]
  },
  {
   "cell_type": "markdown",
   "metadata": {},
   "source": [
    "Но она попадает в бесконечный цикл в Python 3.0, потому что функция `map` в версии 3.0 возвращает объект-итератор однократного пользования, а  не список, как в  версии  2.6. В  версии  3.0, как только внутри цикла будет выполнен генератор списков, переменная `iters` навсегда останется пустой (и переменная `res` будет ссылаться на пустой список `[]`). Чтобы обеспечить работоспособность функции в  версии  3.0, нам необходимо с  помощью встроенной функции `list` создать объект, который поддерживает многократные итерации:"
   ]
  },
  {
   "cell_type": "code",
   "execution_count": 81,
   "metadata": {},
   "outputs": [
    {
     "ename": "KeyboardInterrupt",
     "evalue": "",
     "output_type": "error",
     "traceback": [
      "\u001b[0;31m---------------------------------------------------------------------------\u001b[0m",
      "\u001b[0;31mKeyboardInterrupt\u001b[0m                         Traceback (most recent call last)",
      "\u001b[0;32m<ipython-input-81-fe0332f953a2>\u001b[0m in \u001b[0;36m<module>\u001b[0;34m()\u001b[0m\n\u001b[0;32m----> 1\u001b[0;31m \u001b[0mlist\u001b[0m\u001b[0;34m(\u001b[0m\u001b[0mmyzip\u001b[0m\u001b[0;34m(\u001b[0m\u001b[0;34m'abc'\u001b[0m\u001b[0;34m,\u001b[0m \u001b[0;34m'lmnop'\u001b[0m\u001b[0;34m)\u001b[0m\u001b[0;34m)\u001b[0m  \u001b[0;31m# если запустить, то бесконечный цикл\u001b[0m\u001b[0;34m\u001b[0m\u001b[0m\n\u001b[0m",
      "\u001b[0;32m<ipython-input-80-af901a22c67f>\u001b[0m in \u001b[0;36mmyzip\u001b[0;34m(*args)\u001b[0m\n\u001b[1;32m      2\u001b[0m     \u001b[0miters\u001b[0m \u001b[0;34m=\u001b[0m \u001b[0mmap\u001b[0m\u001b[0;34m(\u001b[0m\u001b[0miter\u001b[0m\u001b[0;34m,\u001b[0m \u001b[0margs\u001b[0m\u001b[0;34m)\u001b[0m\u001b[0;34m\u001b[0m\u001b[0m\n\u001b[1;32m      3\u001b[0m     \u001b[0;32mwhile\u001b[0m \u001b[0miters\u001b[0m\u001b[0;34m:\u001b[0m\u001b[0;34m\u001b[0m\u001b[0m\n\u001b[0;32m----> 4\u001b[0;31m         \u001b[0mres\u001b[0m \u001b[0;34m=\u001b[0m \u001b[0;34m[\u001b[0m\u001b[0mnext\u001b[0m\u001b[0;34m(\u001b[0m\u001b[0mi\u001b[0m\u001b[0;34m)\u001b[0m \u001b[0;32mfor\u001b[0m \u001b[0mi\u001b[0m \u001b[0;32min\u001b[0m \u001b[0miters\u001b[0m\u001b[0;34m]\u001b[0m\u001b[0;34m\u001b[0m\u001b[0m\n\u001b[0m\u001b[1;32m      5\u001b[0m         \u001b[0;32myield\u001b[0m \u001b[0mtuple\u001b[0m\u001b[0;34m(\u001b[0m\u001b[0mres\u001b[0m\u001b[0;34m)\u001b[0m\u001b[0;34m\u001b[0m\u001b[0m\n",
      "\u001b[0;31mKeyboardInterrupt\u001b[0m: "
     ]
    }
   ],
   "source": [
    "list(myzip('abc', 'lmnop'))  # если запустить, то бесконечный цикл"
   ]
  },
  {
   "cell_type": "code",
   "execution_count": 83,
   "metadata": {},
   "outputs": [],
   "source": [
    "def myzip(*args):\n",
    "    iters = list(map(iter, args))  # map обернут в list\n",
    "    while iters:\n",
    "        res = [next(i) for i in iters]\n",
    "        yield tuple(res)"
   ]
  },
  {
   "cell_type": "code",
   "execution_count": 84,
   "metadata": {},
   "outputs": [
    {
     "name": "stderr",
     "output_type": "stream",
     "text": [
      "/home/shurik/anaconda3/lib/python3.6/site-packages/ipykernel_launcher.py:1: DeprecationWarning: generator 'myzip' raised StopIteration\n",
      "  \"\"\"Entry point for launching an IPython kernel.\n"
     ]
    },
    {
     "data": {
      "text/plain": [
       "[('a', 'l'), ('b', 'm'), ('c', 'n')]"
      ]
     },
     "execution_count": 84,
     "metadata": {},
     "output_type": "execute_result"
    }
   ],
   "source": [
    "list(myzip('abc', 'lmnop'))"
   ]
  },
  {
   "cell_type": "markdown",
   "metadata": {},
   "source": [
    "### Генерирование значений во встроенных типах и классах"
   ]
  },
  {
   "cell_type": "markdown",
   "metadata": {},
   "source": [
    "Словари, например, имеют собственные итераторы, которые во время итераций воспроизводят ключи:"
   ]
  },
  {
   "cell_type": "code",
   "execution_count": 85,
   "metadata": {},
   "outputs": [
    {
     "data": {
      "text/plain": [
       "'a'"
      ]
     },
     "execution_count": 85,
     "metadata": {},
     "output_type": "execute_result"
    }
   ],
   "source": [
    "D = {'a': 1, 'b': 2, 'c': 3}\n",
    "x = iter(D)\n",
    "next(x)"
   ]
  },
  {
   "cell_type": "markdown",
   "metadata": {},
   "source": [
    "Подобно значениям, которые воспроизводятся нашими собственными генераторами, ключи словарей можно обойти вручную или с помощью автоматизированных инструментов итераций, включая циклы `for`, функцию `map`, генераторы списков и других"
   ]
  },
  {
   "cell_type": "code",
   "execution_count": 86,
   "metadata": {},
   "outputs": [
    {
     "name": "stdout",
     "output_type": "stream",
     "text": [
      "a 1\n",
      "b 2\n",
      "c 3\n"
     ]
    }
   ],
   "source": [
    "for key in D: print(key, D[key])"
   ]
  },
  {
   "cell_type": "markdown",
   "metadata": {},
   "source": [
    "Мы также видели, что при использовании итераторов файлов интерпретатор Python просто загружает строки из файла по мере необходимости"
   ]
  },
  {
   "cell_type": "markdown",
   "metadata": {},
   "source": [
    "Хотя итераторы встроенных типов воспроизводят значения определенного типа, тем не менее в  них используются те же концепции, что и  в наших выражениях-генераторах и  функциях-генераторах. Инструменты итераций, такие как циклы `for`, принимают любые итерируемые объекты, как определяемые пользователем, так и встроенные.\n",
    "\n",
    "Хотя это и выходит за рамки данной главы, тем не менее замечу, что существует возможность реализовать произвольные объекты-генераторы с  помощью классов, которые поддерживают протокол итераций, и поэтому могут использоваться в  циклах `for` и  в других итерационных контекстах. Такие классы определяют специальный метод `__iter__`, вызываемый функцией `iter` и  возвращающий объект-итератор, обладающий методом `__next__`, который вызывается встроенной функцией `next` (при этом метод `__getitem__` также остается доступным, как крайнее средство обеспечения итераций через доступ к  элементам по индексу).\n",
    "\n",
    "Экземпляры таких классов считаются итерируемыми объектами и  могут использоваться в  циклах `for` и  во всех остальных итерационных контекстах. Однако при использовании классов мы получаем доступ к более богатым возможностям реализации логики выполнения и структурирования данных, чем могут предложить другие конструкции генераторов."
   ]
  },
  {
   "cell_type": "markdown",
   "metadata": {},
   "source": [
    "## Краткая сводка по синтаксису генераторов в 3.0"
   ]
  },
  {
   "cell_type": "markdown",
   "metadata": {},
   "source": [
    "* В случае с множествами литеральная форма `{1, 3, 2}` эквивалентна вызову `set([1, 3, 2])`, а новый синтаксис генераторов множеств `{f(x) for x in S if P(x)}` напоминает синтаксис выражений-генераторов `set(f(x) for x in S if P(x))`, где `f(x)` - произвольное выражение\n",
    "\n",
    "\n",
    "* В случае со словарями новая конструкция генераторов словарей `{key: val for (key, val) in zip(keys, vals)}` действует точно так же, как `dict(zip(keys, vals))`, и `{x: f(x) for x in items}`, и напоминает выражение-генератор `dict((x, f(x)) for x in items)`"
   ]
  },
  {
   "cell_type": "code",
   "execution_count": 87,
   "metadata": {},
   "outputs": [
    {
     "data": {
      "text/plain": [
       "[0, 1, 4, 9, 16, 25, 36, 49, 64, 81]"
      ]
     },
     "execution_count": 87,
     "metadata": {},
     "output_type": "execute_result"
    }
   ],
   "source": [
    "# Генератор списков:\n",
    "# конструирует список подобно вызову list(generator expr)\n",
    "[x * x for x in range(10)]"
   ]
  },
  {
   "cell_type": "code",
   "execution_count": 88,
   "metadata": {},
   "outputs": [
    {
     "data": {
      "text/plain": [
       "<generator object <genexpr> at 0x7fbcb003b2b0>"
      ]
     },
     "execution_count": 88,
     "metadata": {},
     "output_type": "execute_result"
    }
   ],
   "source": [
    "# Выражение-генератор:\n",
    "# воспроизводит элементы. Скобки часто необязательны\n",
    "(x * x for x in range(10))"
   ]
  },
  {
   "cell_type": "code",
   "execution_count": 89,
   "metadata": {},
   "outputs": [
    {
     "data": {
      "text/plain": [
       "{0, 1, 4, 9, 16, 25, 36, 49, 64, 81}"
      ]
     },
     "execution_count": 89,
     "metadata": {},
     "output_type": "execute_result"
    }
   ],
   "source": [
    "# Генератор множеств (начиная с 3.0)\n",
    "# {x, y} - литерал множества\n",
    "{x * x for x in range(10)}"
   ]
  },
  {
   "cell_type": "code",
   "execution_count": 90,
   "metadata": {},
   "outputs": [
    {
     "data": {
      "text/plain": [
       "{0: 0, 1: 1, 2: 4, 3: 9, 4: 16, 5: 25, 6: 36, 7: 49, 8: 64, 9: 81}"
      ]
     },
     "execution_count": 90,
     "metadata": {},
     "output_type": "execute_result"
    }
   ],
   "source": [
    "# Генератор словарей (начиная с 3.0)\n",
    "{x: x * x for x in range(10)}"
   ]
  },
  {
   "cell_type": "markdown",
   "metadata": {},
   "source": [
    "### Понимание генераторов множеств и словарей"
   ]
  },
  {
   "cell_type": "markdown",
   "metadata": {},
   "source": [
    "В некотором смысле, конструкции генераторов множеств и словарей являются всего лишь синтаксическим подсластителем для выражений-генераторов, которые передаются конструкторам этих типов данных."
   ]
  },
  {
   "cell_type": "code",
   "execution_count": 91,
   "metadata": {},
   "outputs": [
    {
     "data": {
      "text/plain": [
       "{0, 1, 4, 9, 16, 25, 36, 49, 64, 81}"
      ]
     },
     "execution_count": 91,
     "metadata": {},
     "output_type": "execute_result"
    }
   ],
   "source": [
    "{x * x for x in range(10)}  # Генератор"
   ]
  },
  {
   "cell_type": "code",
   "execution_count": 92,
   "metadata": {},
   "outputs": [
    {
     "data": {
      "text/plain": [
       "{0, 1, 4, 9, 16, 25, 36, 49, 64, 81}"
      ]
     },
     "execution_count": 92,
     "metadata": {},
     "output_type": "execute_result"
    }
   ],
   "source": [
    "set(x * x for x in range(10)) # Генератор и конструктор типа"
   ]
  },
  {
   "cell_type": "code",
   "execution_count": 93,
   "metadata": {},
   "outputs": [
    {
     "data": {
      "text/plain": [
       "{0: 0, 1: 1, 2: 4, 3: 9, 4: 16, 5: 25, 6: 36, 7: 49, 8: 64, 9: 81}"
      ]
     },
     "execution_count": 93,
     "metadata": {},
     "output_type": "execute_result"
    }
   ],
   "source": [
    "{x: x * x for x in range(10)}"
   ]
  },
  {
   "cell_type": "code",
   "execution_count": 94,
   "metadata": {},
   "outputs": [
    {
     "data": {
      "text/plain": [
       "{0: 0, 1: 1, 2: 4, 3: 9, 4: 16, 5: 25, 6: 36, 7: 49, 8: 64, 9: 81}"
      ]
     },
     "execution_count": 94,
     "metadata": {},
     "output_type": "execute_result"
    }
   ],
   "source": [
    "dict((x, x * x) for x in range(10))"
   ]
  },
  {
   "cell_type": "markdown",
   "metadata": {},
   "source": [
    "Хотя обе формы принимают итераторы, но они не воспроизводят результаты по требованию  – обе формы конструируют результат целиком.\n",
    "\n",
    "Если вам потребуется воспроизводить ключи и значения по запросу,\n",
    "используйте выражение-генератор:"
   ]
  },
  {
   "cell_type": "code",
   "execution_count": 95,
   "metadata": {},
   "outputs": [
    {
     "data": {
      "text/plain": [
       "(0, 0)"
      ]
     },
     "execution_count": 95,
     "metadata": {},
     "output_type": "execute_result"
    }
   ],
   "source": [
    "G = ((x, x * x) for x in range(10))\n",
    "next(G)"
   ]
  },
  {
   "cell_type": "markdown",
   "metadata": {},
   "source": [
    "### Расширенный синтаксис генераторов множеств и словарей"
   ]
  },
  {
   "cell_type": "markdown",
   "metadata": {},
   "source": [
    "Как и  генераторы списков, генераторы множеств и  словарей поддерживают:\n",
    "\n",
    "* вложенные условные инструкции `if`, позволяющие отфильтровывать элементы из результата"
   ]
  },
  {
   "cell_type": "code",
   "execution_count": 96,
   "metadata": {},
   "outputs": [
    {
     "data": {
      "text/plain": [
       "{0, 4, 16, 36, 64}"
      ]
     },
     "execution_count": 96,
     "metadata": {},
     "output_type": "execute_result"
    }
   ],
   "source": [
    "{x * x for x in range(10) if x % 2 == 0}  # но множество неупорядочено"
   ]
  },
  {
   "cell_type": "markdown",
   "metadata": {},
   "source": [
    "* вложенные циклы `for` также допустимы, хотя неупорядоченная природа обоих типов, не допускающая появления дубликатов, может несколько осложнять интерпретацию результатов"
   ]
  },
  {
   "cell_type": "code",
   "execution_count": 97,
   "metadata": {},
   "outputs": [
    {
     "data": {
      "text/plain": [
       "[5, 6, 7, 6, 7, 8, 7, 8, 9]"
      ]
     },
     "execution_count": 97,
     "metadata": {},
     "output_type": "execute_result"
    }
   ],
   "source": [
    "# Списки сохраняют дубликаты\n",
    "[x + y for x in [1, 2, 3] for y in [4, 5, 6]]"
   ]
  },
  {
   "cell_type": "code",
   "execution_count": 98,
   "metadata": {},
   "outputs": [
    {
     "data": {
      "text/plain": [
       "{5, 6, 7, 8, 9}"
      ]
     },
     "execution_count": 98,
     "metadata": {},
     "output_type": "execute_result"
    }
   ],
   "source": [
    "# А множества - нет\n",
    "{x + y for x in [1, 2, 3] for y in [4, 5, 6]}"
   ]
  },
  {
   "cell_type": "code",
   "execution_count": 99,
   "metadata": {},
   "outputs": [
    {
     "data": {
      "text/plain": [
       "{1: 6, 2: 6, 3: 6}"
      ]
     },
     "execution_count": 99,
     "metadata": {},
     "output_type": "execute_result"
    }
   ],
   "source": [
    "# Как и ключи словарей\n",
    "{x: y for x in [1, 2, 3] for y in [4, 5, 6]}"
   ]
  },
  {
   "cell_type": "markdown",
   "metadata": {},
   "source": [
    "## Хронометраж итерационных альтернатив"
   ]
  },
  {
   "cell_type": "markdown",
   "metadata": {},
   "source": [
    "### Модуль `time`"
   ]
  },
  {
   "cell_type": "code",
   "execution_count": 101,
   "metadata": {},
   "outputs": [],
   "source": [
    "# Файл mytimer.py\n",
    "import time\n",
    "reps = 10000\n",
    "reps_timer = 1000\n",
    "repslist_timer = range(reps)\n",
    "\n",
    "def timer(func, *pargs, **kargs):\n",
    "    start = time.time()\n",
    "    for i in repslist_timer:\n",
    "        ret = func(*pargs, **kargs)\n",
    "    elapsed = time.time() - start\n",
    "    return (elapsed, ret)"
   ]
  },
  {
   "cell_type": "markdown",
   "metadata": {},
   "source": [
    "Функционально эта утилита способна вызывать любую функцию с любым количеством позиционных и  именованных аргументов. Она фиксирует начальное время, вызывает функцию фиксированное число раз и вычитает время начала из времени конца. Важно отметить следующие обстоятельства:\n",
    "\n",
    "* Модуль `time` из стандартной библиотеки языка Python позволяет получить текущее время с  точностью, зависящей от платформы\n",
    "\n",
    "\n",
    "* Вызов функции `range` был вынесен за пределы цикла измерения времени, благодаря чему время конструирования диапазона не накладывается на получаемые результаты в Python 2.6. В Python 3.0 функция `range` возвращает итератор, поэтому в версии 3.0 данный шаг можно считать излишним (хотя он и не мешает)\n",
    "\n",
    "\n",
    "* Счетчик `reps` оформлен как глобальная переменная, благодаря чему она может изменяться импортирующим модулем при необходимости: `mytimer.reps = N`"
   ]
  },
  {
   "cell_type": "markdown",
   "metadata": {},
   "source": [
    "### Сценарий хронометража"
   ]
  },
  {
   "cell_type": "code",
   "execution_count": 102,
   "metadata": {},
   "outputs": [],
   "source": [
    "import sys\n",
    "\n",
    "reps = 10000\n",
    "repslist = range(reps) # Вызов функции range вынесен за пределы цикла в 2.6\n",
    "\n",
    "def forLoop():\n",
    "    res = []\n",
    "    for x in repslist:\n",
    "        res.append(abs(x))\n",
    "    return res\n",
    "\n",
    "def listComp():\n",
    "    return [abs(x) for x in repslist]\n",
    "\n",
    "def mapCall():\n",
    "    return list(map(abs, repslist)) # Вызов list необходим только в 3.0\n",
    "\n",
    "def genExpr():\n",
    "    return list(abs(x) for x in repslist) # Функция list вынуждает\n",
    "                                          # вернуть сразу все результаты\n",
    "\n",
    "def genFunc():\n",
    "    def gen():\n",
    "        for x in repslist:\n",
    "            yield abs(x)\n",
    "    return list(gen())"
   ]
  },
  {
   "cell_type": "code",
   "execution_count": 103,
   "metadata": {},
   "outputs": [
    {
     "name": "stdout",
     "output_type": "stream",
     "text": [
      "3.6.6 |Anaconda custom (64-bit)| (default, Jun 28 2018, 17:14:51) \n",
      "[GCC 7.2.0]\n"
     ]
    }
   ],
   "source": [
    "print(sys.version)"
   ]
  },
  {
   "cell_type": "markdown",
   "metadata": {},
   "source": [
    "Этот сценарий тестирует все пять альтернативных способов создания списков и, как видно из листинга, выполняет по 10 миллионов итераций каждым из способов, то есть каждый из тестов создает список из 10 000 элементов 1 000 раз."
   ]
  },
  {
   "cell_type": "code",
   "execution_count": 104,
   "metadata": {},
   "outputs": [
    {
     "name": "stdout",
     "output_type": "stream",
     "text": [
      "---------------------------------\n",
      "forLoop  : 6.29314 => [0...9999]\n",
      "---------------------------------\n",
      "listComp : 3.59266 => [0...9999]\n",
      "---------------------------------\n",
      "mapCall  : 2.06058 => [0...9999]\n",
      "---------------------------------\n",
      "genExpr  : 5.24833 => [0...9999]\n",
      "---------------------------------\n",
      "genFunc  : 5.18083 => [0...9999]\n"
     ]
    }
   ],
   "source": [
    "for test in (forLoop, listComp, mapCall, genExpr, genFunc):\n",
    "    elapsed, result = timer(test)\n",
    "    print ('-' * 33)\n",
    "    print ('%-9s: %.5f => [%s...%s]' %\n",
    "           (test.__name__, elapsed, result[0], result[-1]))"
   ]
  },
  {
   "cell_type": "markdown",
   "metadata": {},
   "source": [
    "Если внимательно изучить программный код и  полученные результаты, можно заметить, что выражения-генераторы выполняются медленнее, чем генераторы списков. Несмотря на то что обертывание выражения-генератора в вызов функции `list` превращает его в функциональный эквивалент генератора списка в квадратных скобках, тем не менее результаты показывают, что внутренние реализации этих двух видов выражений отличаются (даже если учесть время, затрачиваемое на вызов функции `list` в тесте производительности выражения-генератора):"
   ]
  },
  {
   "cell_type": "code",
   "execution_count": 105,
   "metadata": {},
   "outputs": [
    {
     "name": "stdout",
     "output_type": "stream",
     "text": [
      "35.7 µs ± 20 ns per loop (mean ± std. dev. of 7 runs, 10000 loops each)\n"
     ]
    }
   ],
   "source": [
    "%timeit [abs(x) for x in range(1000)]"
   ]
  },
  {
   "cell_type": "code",
   "execution_count": 106,
   "metadata": {},
   "outputs": [
    {
     "name": "stdout",
     "output_type": "stream",
     "text": [
      "52.6 µs ± 74.3 ns per loop (mean ± std. dev. of 7 runs, 10000 loops each)\n"
     ]
    }
   ],
   "source": [
    "%timeit list(abs(x) for x in range(1000))"
   ]
  },
  {
   "cell_type": "markdown",
   "metadata": {},
   "source": [
    "Но вот как изменилось положение дел, когда сценарий был изменен так, чтобы он выполнял настоящую операцию, такую как сложение, вместо вызова тривиальной встроенной функции `abs` (опущенные части сценария остались без изменений):"
   ]
  },
  {
   "cell_type": "code",
   "execution_count": 107,
   "metadata": {},
   "outputs": [],
   "source": [
    "def forLoop():\n",
    "    res = []\n",
    "    for x in repslist:\n",
    "        res.append(x + 10)\n",
    "    return res\n",
    "\n",
    "def listComp():\n",
    "    return [x + 10 for x in repslist]\n",
    "\n",
    "def mapCall():\n",
    "    return list(map((lambda x: x + 10), repslist))\n",
    "\n",
    "def genExpr():\n",
    "    return list(x + 10 for x in repslist) # Вызов list необходим в 2.6 + 3.0\n",
    "\n",
    "def genFunc():\n",
    "    def gen():\n",
    "        for x in repslist:\n",
    "            yield x + 10\n",
    "    return list(gen())"
   ]
  },
  {
   "cell_type": "code",
   "execution_count": 108,
   "metadata": {},
   "outputs": [
    {
     "name": "stdout",
     "output_type": "stream",
     "text": [
      "---------------------------------\n",
      "forLoop  : 5.69083 => [10...10009]\n",
      "---------------------------------\n",
      "listComp : 3.03664 => [10...10009]\n",
      "---------------------------------\n",
      "mapCall  : 6.50267 => [10...10009]\n",
      "---------------------------------\n",
      "genExpr  : 4.53549 => [10...10009]\n",
      "---------------------------------\n",
      "genFunc  : 4.51283 => [10...10009]\n"
     ]
    }
   ],
   "source": [
    "for test in (forLoop, listComp, mapCall, genExpr, genFunc):\n",
    "    elapsed, result = timer(test)\n",
    "    print ('-' * 33)\n",
    "    print ('%-9s: %.5f => [%s...%s]' %\n",
    "           (test.__name__, elapsed, result[0], result[-1]))"
   ]
  },
  {
   "cell_type": "markdown",
   "metadata": {},
   "source": [
    "Так как внутренние механизмы интерпретатора сильно оптимизированы, анализ производительности, как в  данном случае, становится очень непростым делом. В действительности невозможно заранее утверждать, какой метод лучше, – лучшее, что можно сделать, это провести хронометраж своего программного кода, на своем компьютере, со своей версией Python. В  этом случае все, что можно сказать наверняка, – это то, что в данной версии Python использование пользовательской функции в вызове `map` может привести к снижению производительности по крайней мере в 2 раза, и что в этом испытании генератор списков оказался самым быстрым."
   ]
  },
  {
   "cell_type": "markdown",
   "metadata": {},
   "source": [
    "### Альтернативные реализации модуля хронометража"
   ]
  },
  {
   "cell_type": "markdown",
   "metadata": {},
   "source": [
    "Модуль хронометража из предыдущего раздела вполне работоспособен, но в некоторых отношениях он слишком примитивен:\n",
    "* В нем всегда используется функция `time.clock`. В  операционной системе Windows она является лучшим выбором, однако на некоторых платформах в системе UNIX более высокую точность можно получить с помощью функции `time.time`.\n",
    "\n",
    "* Для изменения количества повторений требуется изменять глобальную переменную модуля – не самое идеальное решение, если функция `timer` импортируется и одновременно используется в нескольких модулях.\n",
    "\n",
    "* Функция `timer` выполняет тестовую функцию большое число раз. Чтобы учесть случайные флуктуации, вызванные различными уровнями нагрузки на систему, можно было бы отбирать наилучшие результаты из серии тестов вместо того, чтобы рассчитывать общее время выполнения."
   ]
  },
  {
   "cell_type": "markdown",
   "metadata": {},
   "source": [
    "##############\n",
    "\n",
    "**ПРОПУЩЕНО**\n",
    "\n",
    "##############"
   ]
  },
  {
   "cell_type": "markdown",
   "metadata": {},
   "source": [
    "### Другие предложения"
   ]
  },
  {
   "cell_type": "markdown",
   "metadata": {},
   "source": [
    "**Модуль `timeit`** автоматизирует хронометраж кода и позволяет избежать проблем, связанных с используемой платформой\n",
    "\n",
    "\n",
    "**Модуль `profile`** содержит полные исходные тексты инструментов профилирования программного кода.\n",
    "\n",
    "Профилирование программного кода с целью выявления узких мест должно проводиться перед проведением хронометража, который рассматривался ранее"
   ]
  },
  {
   "cell_type": "markdown",
   "metadata": {},
   "source": [
    "## Типичные ошибки при работе с функциями"
   ]
  },
  {
   "cell_type": "markdown",
   "metadata": {},
   "source": [
    "### Локальные имена определяются статически"
   ]
  },
  {
   "cell_type": "markdown",
   "metadata": {},
   "source": [
    "Обычно, если внутри функции имени не присваивается какое-либо значение,\n",
    "поиск его будет производиться в области видимости объемлющего модуля:"
   ]
  },
  {
   "cell_type": "code",
   "execution_count": 109,
   "metadata": {},
   "outputs": [
    {
     "name": "stdout",
     "output_type": "stream",
     "text": [
      "99\n"
     ]
    }
   ],
   "source": [
    "X = 99\n",
    "def selector(): # Переменная X исп-ся, но ей ничего не присваивается\n",
    "    print(X) # Переменная X будет найдена в глобальной области вид-ти\n",
    "    \n",
    "selector()"
   ]
  },
  {
   "cell_type": "markdown",
   "metadata": {},
   "source": [
    "В этом фрагменте переменная `X` внутри функции определяется как переменная `X` модуля.\n",
    "\n",
    "Но посмотрите, что произойдет, если добавить инструкцию присваивания переменной `X` после ее использования:"
   ]
  },
  {
   "cell_type": "code",
   "execution_count": 110,
   "metadata": {},
   "outputs": [],
   "source": [
    "del X  # для ipython ноутбука\n",
    "\n",
    "def selector(): \n",
    "    print(X) # Переменная еще не существует!\n",
    "    X = 88   # X классифицируется как локальная переменная\n",
    "             # То же самое происходит при “import X”, “def X”..."
   ]
  },
  {
   "cell_type": "code",
   "execution_count": 111,
   "metadata": {},
   "outputs": [
    {
     "ename": "UnboundLocalError",
     "evalue": "local variable 'X' referenced before assignment",
     "output_type": "error",
     "traceback": [
      "\u001b[0;31m---------------------------------------------------------------------------\u001b[0m",
      "\u001b[0;31mUnboundLocalError\u001b[0m                         Traceback (most recent call last)",
      "\u001b[0;32m<ipython-input-111-dc80ad45f826>\u001b[0m in \u001b[0;36m<module>\u001b[0;34m()\u001b[0m\n\u001b[0;32m----> 1\u001b[0;31m \u001b[0mselector\u001b[0m\u001b[0;34m(\u001b[0m\u001b[0;34m)\u001b[0m\u001b[0;34m\u001b[0m\u001b[0m\n\u001b[0m",
      "\u001b[0;32m<ipython-input-110-ce7a373671aa>\u001b[0m in \u001b[0;36mselector\u001b[0;34m()\u001b[0m\n\u001b[1;32m      2\u001b[0m \u001b[0;34m\u001b[0m\u001b[0m\n\u001b[1;32m      3\u001b[0m \u001b[0;32mdef\u001b[0m \u001b[0mselector\u001b[0m\u001b[0;34m(\u001b[0m\u001b[0;34m)\u001b[0m\u001b[0;34m:\u001b[0m\u001b[0;34m\u001b[0m\u001b[0m\n\u001b[0;32m----> 4\u001b[0;31m     \u001b[0mprint\u001b[0m\u001b[0;34m(\u001b[0m\u001b[0mX\u001b[0m\u001b[0;34m)\u001b[0m \u001b[0;31m# Переменная еще не существует!\u001b[0m\u001b[0;34m\u001b[0m\u001b[0m\n\u001b[0m\u001b[1;32m      5\u001b[0m     \u001b[0mX\u001b[0m \u001b[0;34m=\u001b[0m \u001b[0;36m88\u001b[0m   \u001b[0;31m# X классифицируется как локальная переменная\u001b[0m\u001b[0;34m\u001b[0m\u001b[0m\n\u001b[1;32m      6\u001b[0m              \u001b[0;31m# То же самое происходит при “import X”, “def X”...\u001b[0m\u001b[0;34m\u001b[0m\u001b[0;34m\u001b[0m\u001b[0m\n",
      "\u001b[0;31mUnboundLocalError\u001b[0m: local variable 'X' referenced before assignment"
     ]
    }
   ],
   "source": [
    "selector()"
   ]
  },
  {
   "cell_type": "markdown",
   "metadata": {},
   "source": [
    "Этот программный код компилируется интерпретатором во время ввода в интерактивной оболочке или во время импорта модуля. Во время компиляции Python обнаруживает операцию присваивания переменной `X` и  делает вывод, что `X` – это локальное имя везде в теле функции. Но во время выполнения функции, из-за того, что к моменту вызова инструкции `print` операция присваивания еще не производилась, интерпретатор сообщает о том, что имя не определено."
   ]
  },
  {
   "cell_type": "markdown",
   "metadata": {},
   "source": [
    "### Значения по умолчанию и изменяемые объекты"
   ]
  },
  {
   "cell_type": "markdown",
   "metadata": {},
   "source": [
    ">Значения по умолчанию для аргументов функции вычисляются и запоминаются в момент выполнения инструкции `def`, а не при вызове функции. \n",
    ">\n",
    ">Внутренняя реализация Python сохраняет по одному объекту для каждого аргумента со значением по умолчанию, присоединенного к функции."
   ]
  },
  {
   "cell_type": "markdown",
   "metadata": {},
   "source": [
    "Вычисление значений по умолчанию в  момент определения функции  – это чаще именно то, что вам требуется; это позволяет, в случае необходимости, сохранять значения из объемлющей области видимости. Но так как значения по умолчанию сохраняются между вызовами функции, следует быть внимательным при воздействии на изменяемые значения по умолчанию.\n",
    "\n",
    "Например, следующая функция использует пустой список в качестве значения по умолчанию своего аргумента, а затем изменяет его при каждом вызове:"
   ]
  },
  {
   "cell_type": "code",
   "execution_count": 112,
   "metadata": {},
   "outputs": [],
   "source": [
    "def saver(x=[]): # Объект списка сохраняется\n",
    "    x.append(1)  # При каждом вызове изменяется один и тот же объект!\n",
    "    print(x)"
   ]
  },
  {
   "cell_type": "code",
   "execution_count": 113,
   "metadata": {},
   "outputs": [
    {
     "name": "stdout",
     "output_type": "stream",
     "text": [
      "[2, 1]\n"
     ]
    }
   ],
   "source": [
    "saver([2])  # # Значение по умолчанию не используется"
   ]
  },
  {
   "cell_type": "code",
   "execution_count": 114,
   "metadata": {},
   "outputs": [
    {
     "name": "stdout",
     "output_type": "stream",
     "text": [
      "[1]\n"
     ]
    }
   ],
   "source": [
    "saver()  # Используется значение по умолчанию"
   ]
  },
  {
   "cell_type": "code",
   "execution_count": 115,
   "metadata": {},
   "outputs": [
    {
     "name": "stdout",
     "output_type": "stream",
     "text": [
      "[1, 1]\n"
     ]
    }
   ],
   "source": [
    "saver()  # Список растет при каждом вызове!"
   ]
  },
  {
   "cell_type": "markdown",
   "metadata": {},
   "source": [
    "Некоторые воспринимают такое поведение как достоинство – **изменяемые аргументы по умолчанию сохраняют свое состояние между вызовами функции**, поэтому они могут играть роль, подобную роли **статических локальных переменных** в языке C.\n",
    "\n",
    "В некотором смысле они ведут себя как глобальные переменные за исключением того, что их имена являются локальными по отношению к функциям, вследствие чего исключается конфликт имен с переменными, определенными в другом месте."
   ]
  },
  {
   "cell_type": "markdown",
   "metadata": {},
   "source": [
    "В  предыдущем примере для значения по умолчанию существует единственный объект списка – тот, что был создан в момент выполнения инструкции `def`. При каждом обращении к  функции не будет создаваться новый список, поэтому он будет расти с каждым новым вызовом – он не опустошается при каждом вызове.\n",
    "\n",
    "Если такое поведение является неприемлемым, можно просто создавать копию аргумента по умолчанию в начале тела функции или переместить выражение, возвращающее значение по умолчанию, в  тело функции. Поскольку в  этом случае значение по умолчанию будет находиться в  программном коде, который выполняется при каждом вызове функции, вы всякий раз будете получать новый объект:"
   ]
  },
  {
   "cell_type": "code",
   "execution_count": 116,
   "metadata": {},
   "outputs": [],
   "source": [
    "def saver(x=None):\n",
    "    if x is None:  # аргумент отсутствует?\n",
    "        x = []\n",
    "    x.append(1)\n",
    "    print(x)"
   ]
  },
  {
   "cell_type": "code",
   "execution_count": 117,
   "metadata": {},
   "outputs": [
    {
     "name": "stdout",
     "output_type": "stream",
     "text": [
      "[2, 1]\n"
     ]
    }
   ],
   "source": [
    "saver([2])"
   ]
  },
  {
   "cell_type": "code",
   "execution_count": 118,
   "metadata": {},
   "outputs": [
    {
     "name": "stdout",
     "output_type": "stream",
     "text": [
      "[1]\n"
     ]
    }
   ],
   "source": [
    "saver()"
   ]
  },
  {
   "cell_type": "code",
   "execution_count": 119,
   "metadata": {},
   "outputs": [
    {
     "name": "stdout",
     "output_type": "stream",
     "text": [
      "[1]\n"
     ]
    }
   ],
   "source": [
    "saver()  # список больше не растет"
   ]
  },
  {
   "cell_type": "markdown",
   "metadata": {},
   "source": [
    "На сегодняшний день имеется еще один, менее запутанный, способ получения изменяемых значений по умолчанию, который заключается в **использовании атрибутов функций**"
   ]
  },
  {
   "cell_type": "code",
   "execution_count": 120,
   "metadata": {},
   "outputs": [],
   "source": [
    "def saver():\n",
    "    saver.x.append(1)\n",
    "    print(saver.x)"
   ]
  },
  {
   "cell_type": "code",
   "execution_count": 121,
   "metadata": {},
   "outputs": [
    {
     "name": "stdout",
     "output_type": "stream",
     "text": [
      "[1]\n"
     ]
    }
   ],
   "source": [
    "saver.x = []\n",
    "saver()"
   ]
  },
  {
   "cell_type": "code",
   "execution_count": 122,
   "metadata": {},
   "outputs": [
    {
     "name": "stdout",
     "output_type": "stream",
     "text": [
      "[1, 1]\n"
     ]
    }
   ],
   "source": [
    "saver()"
   ]
  },
  {
   "cell_type": "markdown",
   "metadata": {},
   "source": [
    "Имя функции является глобальным для самой функции, но объявлять его глобальным внутри функции не требуется, так как мы фактически не изменяем его внутри функции.\n",
    "\n",
    "Такой прием использования атрибутов, присоединенных к объекту функции, оказывается более явным (и, вероятно, менее таинственным)."
   ]
  },
  {
   "cell_type": "markdown",
   "metadata": {},
   "source": [
    "### Функции, не возвращающие результат"
   ]
  },
  {
   "cell_type": "markdown",
   "metadata": {},
   "source": [
    "С  технической точки зрения все функции возвращают некоторое значение – в отсутствие инструкции `return` функция автоматически возвращает объект `None`"
   ]
  },
  {
   "cell_type": "code",
   "execution_count": 123,
   "metadata": {},
   "outputs": [
    {
     "name": "stdout",
     "output_type": "stream",
     "text": [
      "None\n"
     ]
    }
   ],
   "source": [
    "lst = [1, 2, 3]\n",
    "lst = lst.append(4)\n",
    "print(lst)"
   ]
  }
 ],
 "metadata": {
  "kernelspec": {
   "display_name": "Python 3",
   "language": "python",
   "name": "python3"
  },
  "language_info": {
   "codemirror_mode": {
    "name": "ipython",
    "version": 3
   },
   "file_extension": ".py",
   "mimetype": "text/x-python",
   "name": "python",
   "nbconvert_exporter": "python",
   "pygments_lexer": "ipython3",
   "version": "3.6.6"
  }
 },
 "nbformat": 4,
 "nbformat_minor": 2
}
