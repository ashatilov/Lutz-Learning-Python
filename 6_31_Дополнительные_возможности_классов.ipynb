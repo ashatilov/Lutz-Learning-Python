{
 "cells": [
  {
   "cell_type": "markdown",
   "metadata": {},
   "source": [
    "# Глава 31. Дополнительные возможности классов"
   ]
  },
  {
   "cell_type": "markdown",
   "metadata": {},
   "source": [
    "## Расширение встроенных типов"
   ]
  },
  {
   "cell_type": "markdown",
   "metadata": {},
   "source": [
    "### Расширение типов встраиванием"
   ]
  },
  {
   "cell_type": "markdown",
   "metadata": {},
   "source": [
    "Пример на основе самостоятельного класса, который управляет встроенным в него объектом списка"
   ]
  },
  {
   "cell_type": "code",
   "execution_count": 1,
   "metadata": {},
   "outputs": [],
   "source": [
    "# setwrapper.py\n",
    "\n",
    "class Set:\n",
    "    def __init__(self, value=[]):   # Конструктор\n",
    "        self.data = []              # Управляет списком\n",
    "        self.concat(value)\n",
    "        \n",
    "    def intersect(self, other): # other – любая последовательность\n",
    "        res = []                # self – подразумеваемый объект\n",
    "        for x in self.data:     \n",
    "            if x in other:\n",
    "                res.append(x)   # Выбрать общие элементы\n",
    "        return Set(res)         # Вернуть новый экземпляр Set\n",
    "    \n",
    "    def union(self, other):     # other – любая последовательность\n",
    "        res = self.data[:]      # Копировать список\n",
    "        for x in other:         # Добавить элементы из other\n",
    "            if not x in res:\n",
    "                res.append(x)\n",
    "        return Set(res) \n",
    "    \n",
    "    def concat(self, value):    # Аргумент value: список, Set...\n",
    "        for x in value:         # Удалить дубликаты\n",
    "            if not x in self.data:\n",
    "                self.data.append(x)\n",
    "                \n",
    "    def __len__(self):\n",
    "        return len(self.data)            # len(self)\n",
    "    \n",
    "    def __getitem__(self, key):\n",
    "        return self.data[key]            # self[i]\n",
    "    \n",
    "    def __and__(self, other):\n",
    "        return self.intersect(other)     # self & other\n",
    "    \n",
    "    def __or__(self, other):\n",
    "        return self.union(other)         # self | other\n",
    "    \n",
    "    def __repr__(self):\n",
    "        return 'Set:' + repr(self.data)  # Вывод "
   ]
  },
  {
   "cell_type": "code",
   "execution_count": 2,
   "metadata": {},
   "outputs": [
    {
     "name": "stdout",
     "output_type": "stream",
     "text": [
      "Set:[1, 3, 5, 7, 4]\n"
     ]
    }
   ],
   "source": [
    "x = Set([1, 3, 5, 7])\n",
    "print(x.union(Set([1, 4, 7])))"
   ]
  },
  {
   "cell_type": "code",
   "execution_count": 3,
   "metadata": {},
   "outputs": [
    {
     "name": "stdout",
     "output_type": "stream",
     "text": [
      "Set:[1, 3, 5, 7, 4, 6]\n"
     ]
    }
   ],
   "source": [
    "print(x | Set([1, 4, 6]))"
   ]
  },
  {
   "cell_type": "markdown",
   "metadata": {},
   "source": [
    "### Расширение типов наследованием"
   ]
  },
  {
   "cell_type": "markdown",
   "metadata": {},
   "source": [
    ">Все встроенные типы данных можно наследовать"
   ]
  },
  {
   "cell_type": "markdown",
   "metadata": {},
   "source": [
    "Пример списка с индексированием с 1"
   ]
  },
  {
   "cell_type": "code",
   "execution_count": 4,
   "metadata": {},
   "outputs": [
    {
     "name": "stdout",
     "output_type": "stream",
     "text": [
      "['a', 'b', 'c']\n",
      "['a', 'b', 'c']\n",
      "indexing ['a', 'b', 'c'] at 1\n",
      "a\n",
      "indexing ['a', 'b', 'c'] at 3\n",
      "c\n",
      "['a', 'b', 'c', 'spam']\n",
      "['spam', 'c', 'b', 'a']\n"
     ]
    }
   ],
   "source": [
    "class Mylist(list):\n",
    "    def __getitem__(self, offset):\n",
    "        print(f'indexing {self} at {offset}')\n",
    "        return list.__getitem__(self, offset - 1)\n",
    "    \n",
    "if __name__ == '__main__':\n",
    "    print(list('abc'))\n",
    "    x = Mylist('abc')   # __init__ наследуется из списка\n",
    "    print(x)            # __repr__ наследуется из списка (но str же?)\n",
    "    print(x[1])         # Mylist.__getitem__\n",
    "    print(x[3])         # изменяет поведение суперкласса\n",
    "    \n",
    "    x.append('spam')    # методы, унаследованные от list\n",
    "    print(x)\n",
    "    x.reverse()\n",
    "    print(x)"
   ]
  },
  {
   "cell_type": "markdown",
   "metadata": {},
   "source": [
    "Пример адаптирования списка добавлением методов и операторов, используемых для работы с множествами"
   ]
  },
  {
   "cell_type": "code",
   "execution_count": 5,
   "metadata": {},
   "outputs": [
    {
     "name": "stdout",
     "output_type": "stream",
     "text": [
      "Set:[1, 3, 5, 7] Set:[2, 1, 4, 5, 6] 4\n",
      "Set:[1, 5] Set:[2, 1, 4, 5, 6, 3, 7]\n",
      "Set:[1, 5] Set:[1, 3, 5, 7, 2, 4, 6]\n"
     ]
    }
   ],
   "source": [
    "# setsubclass.py\n",
    "class Set(list):\n",
    "    def __init__(self, value = []): # Конструктор\n",
    "        list.__init__([])           # Адаптирует список\n",
    "        self.concat(value) # Копировать изменяемый аргумент по умолчанию\n",
    "\n",
    "    def intersect(self, other):  # other – любая последовательность\n",
    "        res = []                 # self – подразумеваемый объект\n",
    "        for x in self:\n",
    "            if x in other:       # Выбрать общие элементы\n",
    "                res.append(x)\n",
    "        return Set(res)          # Вернуть новый экземпляр Set\n",
    "    \n",
    "    def union(self, other):      # other – любая последовательность\n",
    "        res = Set(self)          # Копировать меня и мой список\n",
    "        res.concat(other)\n",
    "        return res \n",
    "    \n",
    "    def concat(self, value):     # аргумент value: list, Set...\n",
    "        for x in value:          # Удалить дубликаты\n",
    "            if not x in self:\n",
    "                self.append(x)\n",
    "                \n",
    "    def __and__(self, other): return self.intersect(other)\n",
    "    \n",
    "    def __or__(self, other): return self.union(other)\n",
    "    \n",
    "    def __repr__(self): return 'Set:' + list.__repr__(self)\n",
    "    \n",
    "    if __name__ == '__main__':\n",
    "        x = Set([1,3,5,7])\n",
    "        y = Set([2,1,4,5,6])\n",
    "        print(x, y, len(x))\n",
    "        print(x.intersect(y), y.union(x))\n",
    "        print(x & y, x | y)"
   ]
  },
  {
   "cell_type": "markdown",
   "metadata": {},
   "source": [
    "## Классы \"нового стиля\""
   ]
  },
  {
   "cell_type": "markdown",
   "metadata": {},
   "source": [
    "Разделение на \"классические\" и классы \"нового стиля\" осталась только в Python 2:\n",
    "* В Python 3.0 все классы автоматически относятся к категории классов «нового стиля», независимо от того, наследуют ли они явно класс `object ` или нет. **Все классы наследуют `object`, явно или неявно, и все объекты являются экземплярами класса `object`**.\n",
    "\n",
    "\n",
    "* В Python  2.6 и  в более ранних версиях классы должны явно наследовать класс `object` (или другой встроенный тип), чтобы считаться классами «нового стиля» и получить в свое распоряжение все особенности классов нового стиля."
   ]
  },
  {
   "cell_type": "markdown",
   "metadata": {},
   "source": [
    "### Отличия классов \"нового стиля\" (для Python 2)"
   ]
  },
  {
   "cell_type": "markdown",
   "metadata": {},
   "source": [
    "* **Классы и типы были объединены** Классы теперь являются типами, а типы – классами. Фактически эти два термина стали синонимами. Вызов встроенной функции `type(I)` теперь возвращает класс, из которого был получен экземпляр; обычно тот, что указан в  атрибуте `I.__class__`, а  не обобщенный тип «instance». Кроме того, сами классы являются экземплярами класса `type`, который можно наследовать в подклассах для изменения процедуры создания классов, и все классы (а, следовательно, и типы) наследуют класс `object`.\n",
    "\n",
    "\n",
    "* **Порядок поиска в дереве наследования** Принятая ромбоидальная схема множественного наследования немного изменила порядок поиска – грубо говоря, в этой схеме поиск сначала производится в ширину и только потом в высоту.\n",
    "\n",
    "\n",
    "* **Извлечение атрибутов встроенными операциями** Встроенные операции больше не используют методы `__getattr__` и `__getattribute__` для неявного извлечения атрибутов. Это означает, что данные методы не вызываются для получения ссылок на методы перегрузки операторов с именами вида `__X__` – поиск таких имен начинается с класса, а не с экземпляра.\n",
    "\n",
    "\n",
    "* **Новые особенности** Классы нового стиля приобрели ряд новых особенностей, включая слоты, свойства, дескрипторы и новый метод `__getattribute__`. В большинстве своем они предназначены для использования разработчиками, создающими инструментальные средства."
   ]
  },
  {
   "cell_type": "markdown",
   "metadata": {},
   "source": [
    "### Изменения в модели типов"
   ]
  },
  {
   "cell_type": "markdown",
   "metadata": {},
   "source": [
    "С принятием модели классов нового стиля различия между типами и классами полностью исчезли. Теперь классы также являются типами: сами классы являются экземплярами класса `type`, а типами экземпляров классов являются их классы.\n",
    "\n",
    "Фактически между встроенными типами, такими как списки и строки, и пользовательскими типами, определенными в виде классов, нет никаких\n",
    "отличий. Именно поэтому имеется возможность наследовать встроенные типы\n",
    "в своих классах."
   ]
  },
  {
   "cell_type": "markdown",
   "metadata": {},
   "source": [
    "С появлением классов нового стиля типом экземпляра класса является сам\n",
    "класс, из которого он был создан, то есть классы являются обычными пользовательскими типами данных, – типом экземпляра является его класс, а пользовательские классы имеют тот же тип, что и встроенные объекты типов. Теперь классы тоже имеют атрибут `__class__`, потому что они являются экземплярами класса `type`:"
   ]
  },
  {
   "cell_type": "code",
   "execution_count": 6,
   "metadata": {},
   "outputs": [
    {
     "data": {
      "text/plain": [
       "__main__.C"
      ]
     },
     "execution_count": 6,
     "metadata": {},
     "output_type": "execute_result"
    }
   ],
   "source": [
    "class C: pass\n",
    "\n",
    "I = C()\n",
    "type(I)  # типом экземпляра является его класс"
   ]
  },
  {
   "cell_type": "code",
   "execution_count": 7,
   "metadata": {},
   "outputs": [
    {
     "data": {
      "text/plain": [
       "type"
      ]
     },
     "execution_count": 7,
     "metadata": {},
     "output_type": "execute_result"
    }
   ],
   "source": [
    "type(C)  # классы - это типы, а типы - это классы"
   ]
  },
  {
   "cell_type": "code",
   "execution_count": 8,
   "metadata": {},
   "outputs": [
    {
     "data": {
      "text/plain": [
       "type"
      ]
     },
     "execution_count": 8,
     "metadata": {},
     "output_type": "execute_result"
    }
   ],
   "source": [
    "C.__class__"
   ]
  },
  {
   "cell_type": "code",
   "execution_count": 9,
   "metadata": {},
   "outputs": [
    {
     "data": {
      "text/plain": [
       "list"
      ]
     },
     "execution_count": 9,
     "metadata": {},
     "output_type": "execute_result"
    }
   ],
   "source": [
    "type([1, 2, 3])  # классы и встроенные типы ничем не отличаются"
   ]
  },
  {
   "cell_type": "code",
   "execution_count": 10,
   "metadata": {},
   "outputs": [
    {
     "data": {
      "text/plain": [
       "type"
      ]
     },
     "execution_count": 10,
     "metadata": {},
     "output_type": "execute_result"
    }
   ],
   "source": [
    "type(list)"
   ]
  },
  {
   "cell_type": "code",
   "execution_count": 11,
   "metadata": {},
   "outputs": [
    {
     "data": {
      "text/plain": [
       "type"
      ]
     },
     "execution_count": 11,
     "metadata": {},
     "output_type": "execute_result"
    }
   ],
   "source": [
    "list.__class__"
   ]
  },
  {
   "cell_type": "markdown",
   "metadata": {},
   "source": [
    "С технической точки зрения каждый класс создается из *метакласса* - класса с именет `type` или его подкласса, адаптирующего или управляющего процедурой создания классов."
   ]
  },
  {
   "cell_type": "markdown",
   "metadata": {},
   "source": [
    "### Значимость для операций проверки типа"
   ]
  },
  {
   "cell_type": "markdown",
   "metadata": {},
   "source": [
    "В Python 3 типы экземпляров классов можно сравнивать непосредственно, точно так же, как сравниваются встроенные объекты типов."
   ]
  },
  {
   "cell_type": "code",
   "execution_count": 12,
   "metadata": {},
   "outputs": [
    {
     "data": {
      "text/plain": [
       "False"
      ]
     },
     "execution_count": 12,
     "metadata": {},
     "output_type": "execute_result"
    }
   ],
   "source": [
    "class C: pass\n",
    "class D: pass\n",
    "\n",
    "c = C()\n",
    "d = D()\n",
    "\n",
    "type(c) == type(D)  # сравниваются классы экземпляров"
   ]
  },
  {
   "cell_type": "code",
   "execution_count": 13,
   "metadata": {},
   "outputs": [
    {
     "data": {
      "text/plain": [
       "(__main__.C, __main__.D)"
      ]
     },
     "execution_count": 13,
     "metadata": {},
     "output_type": "execute_result"
    }
   ],
   "source": [
    "type(c), type(d)"
   ]
  },
  {
   "cell_type": "code",
   "execution_count": 14,
   "metadata": {},
   "outputs": [
    {
     "data": {
      "text/plain": [
       "(__main__.C, __main__.D)"
      ]
     },
     "execution_count": 14,
     "metadata": {},
     "output_type": "execute_result"
    }
   ],
   "source": [
    "c.__class__, d.__class__"
   ]
  },
  {
   "cell_type": "code",
   "execution_count": 15,
   "metadata": {},
   "outputs": [
    {
     "data": {
      "text/plain": [
       "True"
      ]
     },
     "execution_count": 15,
     "metadata": {},
     "output_type": "execute_result"
    }
   ],
   "source": [
    "c1, c2 = C(), C()\n",
    "type(c1) == type(c2)"
   ]
  },
  {
   "cell_type": "markdown",
   "metadata": {},
   "source": [
    "В Python 2 так нельзя, т.к. все экземпляры в этой модели имеют один и тот же тип \"instance\"."
   ]
  },
  {
   "cell_type": "markdown",
   "metadata": {},
   "source": [
    "### Все объекты наследуют класс `object`"
   ]
  },
  {
   "cell_type": "markdown",
   "metadata": {},
   "source": [
    "Все классы наследуют класс `object`, явно или неявно. Т.е. каждый объект наследует встроенный класс `object`."
   ]
  },
  {
   "cell_type": "code",
   "execution_count": 16,
   "metadata": {},
   "outputs": [
    {
     "data": {
      "text/plain": [
       "__main__.C"
      ]
     },
     "execution_count": 16,
     "metadata": {},
     "output_type": "execute_result"
    }
   ],
   "source": [
    "class C: pass\n",
    "\n",
    "X = C()\n",
    "type(X)  # теперь типом является класс экземпляра"
   ]
  },
  {
   "cell_type": "code",
   "execution_count": 17,
   "metadata": {},
   "outputs": [
    {
     "data": {
      "text/plain": [
       "type"
      ]
     },
     "execution_count": 17,
     "metadata": {},
     "output_type": "execute_result"
    }
   ],
   "source": [
    "type(C)  # типом класса является класс type"
   ]
  },
  {
   "cell_type": "markdown",
   "metadata": {},
   "source": [
    "Однако также верно, что экземпляры и классы наследуют встроенный класс `object`, поскольку он явно или неявно является суперклассом любого класса"
   ]
  },
  {
   "cell_type": "code",
   "execution_count": 18,
   "metadata": {},
   "outputs": [
    {
     "data": {
      "text/plain": [
       "True"
      ]
     },
     "execution_count": 18,
     "metadata": {},
     "output_type": "execute_result"
    }
   ],
   "source": [
    "isinstance(X, object)"
   ]
  },
  {
   "cell_type": "code",
   "execution_count": 19,
   "metadata": {},
   "outputs": [
    {
     "data": {
      "text/plain": [
       "True"
      ]
     },
     "execution_count": 19,
     "metadata": {},
     "output_type": "execute_result"
    }
   ],
   "source": [
    "isinstance(C, object)"
   ]
  },
  {
   "cell_type": "markdown",
   "metadata": {},
   "source": [
    "То же самое и для встроенных типов"
   ]
  },
  {
   "cell_type": "code",
   "execution_count": 20,
   "metadata": {},
   "outputs": [
    {
     "data": {
      "text/plain": [
       "str"
      ]
     },
     "execution_count": 20,
     "metadata": {},
     "output_type": "execute_result"
    }
   ],
   "source": [
    "type('spam')"
   ]
  },
  {
   "cell_type": "code",
   "execution_count": 21,
   "metadata": {},
   "outputs": [
    {
     "data": {
      "text/plain": [
       "type"
      ]
     },
     "execution_count": 21,
     "metadata": {},
     "output_type": "execute_result"
    }
   ],
   "source": [
    "type(str)"
   ]
  },
  {
   "cell_type": "code",
   "execution_count": 22,
   "metadata": {},
   "outputs": [
    {
     "data": {
      "text/plain": [
       "True"
      ]
     },
     "execution_count": 22,
     "metadata": {},
     "output_type": "execute_result"
    }
   ],
   "source": [
    "isinstance('spam', object)"
   ]
  },
  {
   "cell_type": "code",
   "execution_count": 23,
   "metadata": {},
   "outputs": [
    {
     "data": {
      "text/plain": [
       "True"
      ]
     },
     "execution_count": 23,
     "metadata": {},
     "output_type": "execute_result"
    }
   ],
   "source": [
    "isinstance(str, object)"
   ]
  },
  {
   "cell_type": "markdown",
   "metadata": {},
   "source": [
    ">Фактически сам класс `type` наследует класс `object`, а класс `object` наследует класс `type`, даже при том, что оба они являются совершенно различными объектами, - циклическая связь, венчающая объектную модель и вытекающая из того факта, что типы являются классами, которые генерируют другие классы:"
   ]
  },
  {
   "cell_type": "code",
   "execution_count": 24,
   "metadata": {},
   "outputs": [
    {
     "data": {
      "text/plain": [
       "type"
      ]
     },
     "execution_count": 24,
     "metadata": {},
     "output_type": "execute_result"
    }
   ],
   "source": [
    "type(type)  # Все классы – это типы, и наоборот"
   ]
  },
  {
   "cell_type": "code",
   "execution_count": 25,
   "metadata": {},
   "outputs": [
    {
     "data": {
      "text/plain": [
       "type"
      ]
     },
     "execution_count": 25,
     "metadata": {},
     "output_type": "execute_result"
    }
   ],
   "source": [
    "type(object)"
   ]
  },
  {
   "cell_type": "code",
   "execution_count": 26,
   "metadata": {},
   "outputs": [
    {
     "data": {
      "text/plain": [
       "True"
      ]
     },
     "execution_count": 26,
     "metadata": {},
     "output_type": "execute_result"
    }
   ],
   "source": [
    "isinstance(type, object) # Все классы наследуют object, даже класс type"
   ]
  },
  {
   "cell_type": "code",
   "execution_count": 27,
   "metadata": {},
   "outputs": [
    {
     "data": {
      "text/plain": [
       "True"
      ]
     },
     "execution_count": 27,
     "metadata": {},
     "output_type": "execute_result"
    }
   ],
   "source": [
    "isinstance(object, type) # Типы создают классы, и type является классом"
   ]
  },
  {
   "cell_type": "code",
   "execution_count": 28,
   "metadata": {},
   "outputs": [
    {
     "data": {
      "text/plain": [
       "False"
      ]
     },
     "execution_count": 28,
     "metadata": {},
     "output_type": "execute_result"
    }
   ],
   "source": [
    "type is object"
   ]
  },
  {
   "cell_type": "markdown",
   "metadata": {},
   "source": [
    "### Ромбоидальное наследование"
   ]
  },
  {
   "cell_type": "markdown",
   "metadata": {},
   "source": [
    "В новой модели поиск в дереве наследования сначала производится в ширину – интерпретатор сначала просматривает все суперклассы, стоящие правее того, где поиск уже произведен, и только потом начинает подъем всеми возможными путями к общему суперклассу. Другими словами, поиск выполняется по уровням дерева наследования. В действительности интерпретатор использует немного более сложный алгоритм поиска, чем описано здесь, но этого упрощенного представления вполне достаточно для большинства программистов."
   ]
  },
  {
   "cell_type": "markdown",
   "metadata": {},
   "source": [
    "Пример"
   ]
  },
  {
   "cell_type": "code",
   "execution_count": 29,
   "metadata": {},
   "outputs": [
    {
     "data": {
      "text/plain": [
       "2"
      ]
     },
     "execution_count": 29,
     "metadata": {},
     "output_type": "execute_result"
    }
   ],
   "source": [
    "class A:\n",
    "    attr = 1\n",
    "    \n",
    "class B(A):\n",
    "    pass\n",
    "\n",
    "class C(A):\n",
    "    attr = 2\n",
    "    \n",
    "class D(B, C):  # сначала поиск дойдет до С, потом до А\n",
    "    pass\n",
    "\n",
    "x = D()\n",
    "x.attr"
   ]
  },
  {
   "cell_type": "markdown",
   "metadata": {},
   "source": [
    "### Явное разрешение конфликтов имен"
   ]
  },
  {
   "cell_type": "markdown",
   "metadata": {},
   "source": [
    "Если вам требуется более полное управление процедурой поиска, вы всегда можете произвести выбор желаемого атрибута из любого места в дереве, выполнив присваивание или как-то иначе обозначив его там, где может возникнуть смешение классов:"
   ]
  },
  {
   "cell_type": "code",
   "execution_count": 30,
   "metadata": {},
   "outputs": [
    {
     "data": {
      "text/plain": [
       "1"
      ]
     },
     "execution_count": 30,
     "metadata": {},
     "output_type": "execute_result"
    }
   ],
   "source": [
    "class A:\n",
    "    attr = 1\n",
    "    \n",
    "class B(A):\n",
    "    pass\n",
    "\n",
    "class C(A):\n",
    "    attr = 2\n",
    "    \n",
    "class D(B, C):  # выбрать A.attr, выше\n",
    "    attr = B.attr\n",
    "\n",
    "x = D()\n",
    "x.attr"
   ]
  },
  {
   "cell_type": "markdown",
   "metadata": {},
   "source": [
    "Здесь мы явно выбирает аттрибуты или методы, выполняя присваивание именам, находящимся ниже в дереве. Мы могли бы просто вызвать метод желаемого класса явно – на практике этот подход, возможно, является более общепринятым, в особенности при работе с конструкторами:\n",
    "```\n",
    "class D(B, C):\n",
    "    def meth(self):   # переопределяется ниже\n",
    "        ...\n",
    "        C.meth(self)  # вызовом выбрать метод класса C\n",
    "```"
   ]
  },
  {
   "cell_type": "markdown",
   "metadata": {},
   "source": [
    "### Пределы влияния изменений в порядке поиска"
   ]
  },
  {
   "cell_type": "markdown",
   "metadata": {},
   "source": [
    "Кроме того, следует отметить, что даже если вы не будете применять ромбоидальную схему наследования в  своих классах, все равно суперкласс `object` в версии 3.0 всегда будет находиться выше любого класса, вследствие чего любой случай множественного наследования будет соответствовать ромбоидальной схеме.\n",
    "\n",
    "То есть в новой модели класс `object` автоматически играет ту же самую роль, какую играет класс A в только что рассмотренном примере. Отсюда следует, что новые правила поиска не только изменили логическую семантику, но и  оптимизировали производительность, так как исключают возможность посещения одного и того же класса более одного раза.\n",
    "\n",
    "\n",
    "Не менее важно то обстоятельство, что суперкласс `object` в новой модели предоставляет методы по умолчанию, реализующие различные встроенные операции, включая методы вывода `__str__` и `__repr__`."
   ]
  },
  {
   "cell_type": "code",
   "execution_count": 31,
   "metadata": {},
   "outputs": [
    {
     "data": {
      "text/plain": [
       "['__class__',\n",
       " '__delattr__',\n",
       " '__dir__',\n",
       " '__doc__',\n",
       " '__eq__',\n",
       " '__format__',\n",
       " '__ge__',\n",
       " '__getattribute__',\n",
       " '__gt__',\n",
       " '__hash__',\n",
       " '__init__',\n",
       " '__init_subclass__',\n",
       " '__le__',\n",
       " '__lt__',\n",
       " '__ne__',\n",
       " '__new__',\n",
       " '__reduce__',\n",
       " '__reduce_ex__',\n",
       " '__repr__',\n",
       " '__setattr__',\n",
       " '__sizeof__',\n",
       " '__str__',\n",
       " '__subclasshook__']"
      ]
     },
     "execution_count": 31,
     "metadata": {},
     "output_type": "execute_result"
    }
   ],
   "source": [
    "dir(object)"
   ]
  },
  {
   "cell_type": "markdown",
   "metadata": {},
   "source": [
    "## Другие расширения в классах нового стиля"
   ]
  },
  {
   "cell_type": "markdown",
   "metadata": {},
   "source": [
    "### Слоты экземпляров"
   ]
  },
  {
   "cell_type": "markdown",
   "metadata": {},
   "source": [
    "Присваивая список имен атрибутов в  виде строк **специальному атрибуту `__slots__` класса**, в  классах нового стиля можно ограничить множество разрешенных атрибутов для экземпляров класса и оптимизировать использование памяти и производительность.\n",
    "\n",
    ">**Только имена, перечисленные в списке `__slots__`, смогут использоваться как атрибуты экземпляра.**\n",
    "\n",
    "Однако, как и в случае с любыми именами, прежде чем получить доступ к атрибутам экземпляра, им должны быть присвоены значения, даже если они перечислены в списке `__slots__`."
   ]
  },
  {
   "cell_type": "code",
   "execution_count": 32,
   "metadata": {},
   "outputs": [
    {
     "ename": "AttributeError",
     "evalue": "age",
     "output_type": "error",
     "traceback": [
      "\u001b[0;31m---------------------------------------------------------------------------\u001b[0m",
      "\u001b[0;31mAttributeError\u001b[0m                            Traceback (most recent call last)",
      "\u001b[0;32m<ipython-input-32-4e87b87c7804>\u001b[0m in \u001b[0;36m<module>\u001b[0;34m()\u001b[0m\n\u001b[1;32m      3\u001b[0m \u001b[0;34m\u001b[0m\u001b[0m\n\u001b[1;32m      4\u001b[0m \u001b[0mx\u001b[0m \u001b[0;34m=\u001b[0m \u001b[0mlimiter\u001b[0m\u001b[0;34m(\u001b[0m\u001b[0;34m)\u001b[0m\u001b[0;34m\u001b[0m\u001b[0m\n\u001b[0;32m----> 5\u001b[0;31m \u001b[0mx\u001b[0m\u001b[0;34m.\u001b[0m\u001b[0mage\u001b[0m  \u001b[0;31m# присваивание должно быть выполнено раньше использования\u001b[0m\u001b[0;34m\u001b[0m\u001b[0m\n\u001b[0m",
      "\u001b[0;31mAttributeError\u001b[0m: age"
     ]
    }
   ],
   "source": [
    "class limiter:\n",
    "    __slots__ = ['age', 'name', 'job']\n",
    "\n",
    "x = limiter()\n",
    "x.age  # присваивание должно быть выполнено раньше использования"
   ]
  },
  {
   "cell_type": "code",
   "execution_count": 33,
   "metadata": {},
   "outputs": [
    {
     "data": {
      "text/plain": [
       "40"
      ]
     },
     "execution_count": 33,
     "metadata": {},
     "output_type": "execute_result"
    }
   ],
   "source": [
    "x.age = 40\n",
    "x.age"
   ]
  },
  {
   "cell_type": "code",
   "execution_count": 34,
   "metadata": {},
   "outputs": [
    {
     "ename": "AttributeError",
     "evalue": "'limiter' object has no attribute 'ape'",
     "output_type": "error",
     "traceback": [
      "\u001b[0;31m---------------------------------------------------------------------------\u001b[0m",
      "\u001b[0;31mAttributeError\u001b[0m                            Traceback (most recent call last)",
      "\u001b[0;32m<ipython-input-34-97b9d9eccb68>\u001b[0m in \u001b[0;36m<module>\u001b[0;34m()\u001b[0m\n\u001b[0;32m----> 1\u001b[0;31m \u001b[0mx\u001b[0m\u001b[0;34m.\u001b[0m\u001b[0mape\u001b[0m \u001b[0;34m=\u001b[0m \u001b[0;36m1000\u001b[0m  \u001b[0;31m# недопустимое имя: отсутствует в списке __slots__\u001b[0m\u001b[0;34m\u001b[0m\u001b[0m\n\u001b[0m",
      "\u001b[0;31mAttributeError\u001b[0m: 'limiter' object has no attribute 'ape'"
     ]
    }
   ],
   "source": [
    "x.ape = 1000  # недопустимое имя: отсутствует в списке __slots__"
   ]
  },
  {
   "cell_type": "markdown",
   "metadata": {},
   "source": [
    "Слоты  – это своего рода нарушение динамической природы языка Python, которая диктует, что операция присваивания может создавать любые имена. Однако предполагается, что эта особенность поможет ликвидировать ошибки,\n",
    "обусловленные простыми «опечатками» (обнаруживается попытка присваивания атрибутам, отсутствующим в списке `'__slots__'`), и обеспечит некоторую оптимизацию.\n",
    "\n",
    "Выделение памяти для словаря с именами атрибутов в каждом экземпляре может оказаться слишком дорогим удовольствием, когда требуется создать большое количество экземпляров, каждый из которых обладает небольшим числом атрибутов. Для экономии пространства в памяти и повышения производительности (получающийся выигрыш в значительной степени\n",
    "зависит от самой программы) атрибуты, перечисленные в слотах, сохраняются не в словаре, а в виде последовательности, что обеспечивает более высокую скорость их поиска."
   ]
  },
  {
   "cell_type": "markdown",
   "metadata": {},
   "source": [
    "### Слоты и обобщенные инструменты"
   ]
  },
  {
   "cell_type": "markdown",
   "metadata": {},
   "source": [
    "Фактически некоторые экземпляры со слотами вообще могут не иметь атрибут словаря `__dict__`, что может сделать некоторые метапрограммы намного более сложными (включая некоторые из тех, что представлены в этой книге).\n",
    "\n",
    "Обобщенные инструменты, которые получают списки атрибутов или обращаются к атрибутам, используя имена в виде строк, например, должны использовать более универсальные механизмы, чем атрибут `__dict__`. К таким механизмам можно отнести встроенные функции `getattr`, `setattr` и `dir`, способные отыскивать атрибуты в обоих хранилищах, `__dict__` и `__slots__`. В некоторых случаях для полноты картины может потребоваться проверить оба источника атрибутов."
   ]
  },
  {
   "cell_type": "markdown",
   "metadata": {},
   "source": [
    "Например, экземпляры классов, где используются слоты, обычно не имеют атрибут словаря `__dict__`  – вместо него пространство для атрибутов в экземпляре выделяется с применением дескрипторов класса, которые будут рассматриваться в главе 37. Только имена, перечисленные в списке `__slots__`, смогут использоваться как атрибуты экземпляра, однако значения этих атрибутов могут извлекаться и изменяться обычными способами."
   ]
  },
  {
   "cell_type": "markdown",
   "metadata": {},
   "source": [
    ">**По умолчанию наличие `__slots__` означает отсутствие `__dict__`**"
   ]
  },
  {
   "cell_type": "code",
   "execution_count": 35,
   "metadata": {},
   "outputs": [
    {
     "data": {
      "text/plain": [
       "1"
      ]
     },
     "execution_count": 35,
     "metadata": {},
     "output_type": "execute_result"
    }
   ],
   "source": [
    "class C:\n",
    "    __slots__ = ['a', 'b']  # по умолчанию наличие __slots__\n",
    "                            # означает отсутствие __dict__\n",
    "        \n",
    "X = C()\n",
    "X.a = 1\n",
    "X.a"
   ]
  },
  {
   "cell_type": "code",
   "execution_count": 36,
   "metadata": {},
   "outputs": [
    {
     "ename": "AttributeError",
     "evalue": "'C' object has no attribute '__dict__'",
     "output_type": "error",
     "traceback": [
      "\u001b[0;31m---------------------------------------------------------------------------\u001b[0m",
      "\u001b[0;31mAttributeError\u001b[0m                            Traceback (most recent call last)",
      "\u001b[0;32m<ipython-input-36-b2412a113e8c>\u001b[0m in \u001b[0;36m<module>\u001b[0;34m()\u001b[0m\n\u001b[0;32m----> 1\u001b[0;31m \u001b[0mX\u001b[0m\u001b[0;34m.\u001b[0m\u001b[0m__dict__\u001b[0m\u001b[0;34m\u001b[0m\u001b[0m\n\u001b[0m",
      "\u001b[0;31mAttributeError\u001b[0m: 'C' object has no attribute '__dict__'"
     ]
    }
   ],
   "source": [
    "X.__dict__"
   ]
  },
  {
   "cell_type": "code",
   "execution_count": 37,
   "metadata": {},
   "outputs": [
    {
     "data": {
      "text/plain": [
       "1"
      ]
     },
     "execution_count": 37,
     "metadata": {},
     "output_type": "execute_result"
    }
   ],
   "source": [
    "getattr(X, 'a')"
   ]
  },
  {
   "cell_type": "code",
   "execution_count": 38,
   "metadata": {},
   "outputs": [
    {
     "data": {
      "text/plain": [
       "2"
      ]
     },
     "execution_count": 38,
     "metadata": {},
     "output_type": "execute_result"
    }
   ],
   "source": [
    "setattr(X, 'b', 2)  # однако ф-ии getattr() и setattr()\n",
    "X.b                 # по-прежнему работают"
   ]
  },
  {
   "cell_type": "code",
   "execution_count": 39,
   "metadata": {},
   "outputs": [
    {
     "data": {
      "text/plain": [
       "(True, True)"
      ]
     },
     "execution_count": 39,
     "metadata": {},
     "output_type": "execute_result"
    }
   ],
   "source": [
    "# и dir() также отыскивает атрибуты в слотах\n",
    "'a' in dir(X), 'b' in dir(X)"
   ]
  },
  {
   "cell_type": "markdown",
   "metadata": {},
   "source": [
    "В отсутствие словаря с  пространством имен невозможно присвоить значения атрибутам экземпляра, имена которых отсутствуют в списке слотов:"
   ]
  },
  {
   "cell_type": "code",
   "execution_count": 40,
   "metadata": {},
   "outputs": [
    {
     "ename": "AttributeError",
     "evalue": "'D' object has no attribute 'd'",
     "output_type": "error",
     "traceback": [
      "\u001b[0;31m---------------------------------------------------------------------------\u001b[0m",
      "\u001b[0;31mAttributeError\u001b[0m                            Traceback (most recent call last)",
      "\u001b[0;32m<ipython-input-40-8e607b2b35b8>\u001b[0m in \u001b[0;36m<module>\u001b[0;34m()\u001b[0m\n\u001b[1;32m      5\u001b[0m         \u001b[0mself\u001b[0m\u001b[0;34m.\u001b[0m\u001b[0md\u001b[0m \u001b[0;34m=\u001b[0m \u001b[0;36m4\u001b[0m       \u001b[0;31m# когда отсутствует атрибут __dict__\u001b[0m\u001b[0;34m\u001b[0m\u001b[0m\n\u001b[1;32m      6\u001b[0m \u001b[0;34m\u001b[0m\u001b[0m\n\u001b[0;32m----> 7\u001b[0;31m \u001b[0mX\u001b[0m \u001b[0;34m=\u001b[0m \u001b[0mD\u001b[0m\u001b[0;34m(\u001b[0m\u001b[0;34m)\u001b[0m\u001b[0;34m\u001b[0m\u001b[0m\n\u001b[0m",
      "\u001b[0;32m<ipython-input-40-8e607b2b35b8>\u001b[0m in \u001b[0;36m__init__\u001b[0;34m(self)\u001b[0m\n\u001b[1;32m      3\u001b[0m \u001b[0;34m\u001b[0m\u001b[0m\n\u001b[1;32m      4\u001b[0m     \u001b[0;32mdef\u001b[0m \u001b[0m__init__\u001b[0m\u001b[0;34m(\u001b[0m\u001b[0mself\u001b[0m\u001b[0;34m)\u001b[0m\u001b[0;34m:\u001b[0m  \u001b[0;31m# невозможно добавить новый атрибут\u001b[0m\u001b[0;34m\u001b[0m\u001b[0m\n\u001b[0;32m----> 5\u001b[0;31m         \u001b[0mself\u001b[0m\u001b[0;34m.\u001b[0m\u001b[0md\u001b[0m \u001b[0;34m=\u001b[0m \u001b[0;36m4\u001b[0m       \u001b[0;31m# когда отсутствует атрибут __dict__\u001b[0m\u001b[0;34m\u001b[0m\u001b[0m\n\u001b[0m\u001b[1;32m      6\u001b[0m \u001b[0;34m\u001b[0m\u001b[0m\n\u001b[1;32m      7\u001b[0m \u001b[0mX\u001b[0m \u001b[0;34m=\u001b[0m \u001b[0mD\u001b[0m\u001b[0;34m(\u001b[0m\u001b[0;34m)\u001b[0m\u001b[0;34m\u001b[0m\u001b[0m\n",
      "\u001b[0;31mAttributeError\u001b[0m: 'D' object has no attribute 'd'"
     ]
    }
   ],
   "source": [
    "class D:\n",
    "    __slots__ = ['a', 'b']\n",
    "    \n",
    "    def __init__(self):  # невозможно добавить новый атрибут\n",
    "        self.d = 4       # когда отсутствует атрибут __dict__\n",
    "        \n",
    "X = D()"
   ]
  },
  {
   "cell_type": "markdown",
   "metadata": {},
   "source": [
    ">Однако возможность добавлять новые атрибуты все-таки существует – для этого **необходимо включить имя `__dict__` в список `__slots__`, разрешив тем самым создать словарь с пространством имен**. В этом случае действовать будут оба механизма хранения имен, однако обобщенные инструменты, такие как `getattr`, будут воспринимать их, как единое множество атрибутов"
   ]
  },
  {
   "cell_type": "code",
   "execution_count": 41,
   "metadata": {},
   "outputs": [
    {
     "data": {
      "text/plain": [
       "4"
      ]
     },
     "execution_count": 41,
     "metadata": {},
     "output_type": "execute_result"
    }
   ],
   "source": [
    "class D:\n",
    "    __slots__ = ['a', 'b', '__dict__']\n",
    "    c = 3  # атрибуты действуют как обычно (__dict__ в __slots__)\n",
    "    \n",
    "    def __init__(self):  # имя d будет добавлено в __dict__\n",
    "        self.d = 4       # а не в __slots__\n",
    "        \n",
    "X = D()\n",
    "X.d"
   ]
  },
  {
   "cell_type": "code",
   "execution_count": 42,
   "metadata": {},
   "outputs": [
    {
     "data": {
      "text/plain": [
       "{'d': 4}"
      ]
     },
     "execution_count": 42,
     "metadata": {},
     "output_type": "execute_result"
    }
   ],
   "source": [
    "X.__dict__"
   ]
  },
  {
   "cell_type": "code",
   "execution_count": 43,
   "metadata": {},
   "outputs": [
    {
     "data": {
      "text/plain": [
       "['a', 'b', '__dict__']"
      ]
     },
     "execution_count": 43,
     "metadata": {},
     "output_type": "execute_result"
    }
   ],
   "source": [
    "X.__slots__"
   ]
  },
  {
   "cell_type": "code",
   "execution_count": 44,
   "metadata": {},
   "outputs": [
    {
     "data": {
      "text/plain": [
       "3"
      ]
     },
     "execution_count": 44,
     "metadata": {},
     "output_type": "execute_result"
    }
   ],
   "source": [
    "X.c"
   ]
  },
  {
   "cell_type": "code",
   "execution_count": 45,
   "metadata": {},
   "outputs": [
    {
     "ename": "AttributeError",
     "evalue": "a",
     "output_type": "error",
     "traceback": [
      "\u001b[0;31m---------------------------------------------------------------------------\u001b[0m",
      "\u001b[0;31mAttributeError\u001b[0m                            Traceback (most recent call last)",
      "\u001b[0;32m<ipython-input-45-c7e7e80b62fe>\u001b[0m in \u001b[0;36m<module>\u001b[0;34m()\u001b[0m\n\u001b[0;32m----> 1\u001b[0;31m \u001b[0mX\u001b[0m\u001b[0;34m.\u001b[0m\u001b[0ma\u001b[0m\u001b[0;34m\u001b[0m\u001b[0m\n\u001b[0m",
      "\u001b[0;31mAttributeError\u001b[0m: a"
     ]
    }
   ],
   "source": [
    "X.a"
   ]
  },
  {
   "cell_type": "code",
   "execution_count": 46,
   "metadata": {},
   "outputs": [],
   "source": [
    "X.a = 1"
   ]
  },
  {
   "cell_type": "code",
   "execution_count": 47,
   "metadata": {},
   "outputs": [
    {
     "data": {
      "text/plain": [
       "[1, 3, 4]"
      ]
     },
     "execution_count": 47,
     "metadata": {},
     "output_type": "execute_result"
    }
   ],
   "source": [
    "list(map(lambda x: getattr(X, x), ['a', 'c', 'd']))"
   ]
  },
  {
   "cell_type": "markdown",
   "metadata": {},
   "source": [
    "### Несколько суперклассов со списками `__slots__`"
   ]
  },
  {
   "cell_type": "markdown",
   "metadata": {},
   "source": [
    "Обратите внимание, что в этой реализации просматривается содержимое атрибута `__slots__` только самого нижнего в дереве класса, наследуемого экземпляром. Если в  дереве имеется несколько классов, обладающих собственными атрибутами `__slots__`, универсальные инструменты должны иначе подходить к  получению списка атрибутов (например, рассматривать имена слотов, как атрибуты классов, а не экземпляров).\n",
    "\n",
    "Объявления слотов могут присутствовать сразу в нескольких классах в дереве, но они имеют дополнительные ограничения, которые будет слишком сложно объяснить, пока вы еще не знаете, что слоты реализованы в виде дескрипторов на уровне класса (эту особенность мы детально будем рассматривать в последней части книги):\n",
    "\n",
    "* Если подкласс наследует суперкласс, который не имеет атрибута `__slots__`, атрибут `__dict__` суперкласса будет доступен всегда, что делает бессмысленным использование атрибута `__slots__` в подклассе.\n",
    "\n",
    "\n",
    "* Если класс определяет слот с тем же именем, что и суперкласс, версия имени, объявленная в суперклассе, будет доступна только при непосредственном обращении к дескриптору в суперклассе.\n",
    "\n",
    "\n",
    "* Поскольку объявление `__slots__` имеет значение только для класса, в котором оно присутствует, подклассы автоматически получат атрибут `__dict__`, если не определят свой атрибут `__slots__`."
   ]
  },
  {
   "cell_type": "markdown",
   "metadata": {},
   "source": [
    "В общем для получения списка атрибутов экземпляра при использовании слотов в нескольких классах может потребоваться:\n",
    "\n",
    "* подъем по дереву классов вручную,\n",
    "\n",
    "\n",
    "* использование функции `dir` или подход, при котором имена слотов рассматриваются, как совершенно отдельная категория имен:"
   ]
  },
  {
   "cell_type": "code",
   "execution_count": 48,
   "metadata": {},
   "outputs": [
    {
     "data": {
      "text/plain": [
       "(1, 3)"
      ]
     },
     "execution_count": 48,
     "metadata": {},
     "output_type": "execute_result"
    }
   ],
   "source": [
    "class E:\n",
    "    __slots__ = ['c', 'd']  # суперкласс имеет слоты\n",
    "    \n",
    "class D(E):\n",
    "    __slots__ = ['a', '__dict__']  # его подкласс также имеет слоты\n",
    "    \n",
    "X = D()\n",
    "X.a = 1; X.b = 2; X.c = 3  # Экземпляр объединяет слоты в себе\n",
    "X.a, X.c"
   ]
  },
  {
   "cell_type": "code",
   "execution_count": 49,
   "metadata": {},
   "outputs": [
    {
     "data": {
      "text/plain": [
       "['c', 'd']"
      ]
     },
     "execution_count": 49,
     "metadata": {},
     "output_type": "execute_result"
    }
   ],
   "source": [
    "E.__slots__  # но в классах слоты не объединяются"
   ]
  },
  {
   "cell_type": "code",
   "execution_count": 50,
   "metadata": {},
   "outputs": [
    {
     "data": {
      "text/plain": [
       "['a', '__dict__']"
      ]
     },
     "execution_count": 50,
     "metadata": {},
     "output_type": "execute_result"
    }
   ],
   "source": [
    "D.__slots__"
   ]
  },
  {
   "cell_type": "code",
   "execution_count": 51,
   "metadata": {},
   "outputs": [
    {
     "data": {
      "text/plain": [
       "['a', '__dict__']"
      ]
     },
     "execution_count": 51,
     "metadata": {},
     "output_type": "execute_result"
    }
   ],
   "source": [
    "X.__slots__  # экземпляр наследует __slots__ ближайшего класса"
   ]
  },
  {
   "cell_type": "code",
   "execution_count": 52,
   "metadata": {},
   "outputs": [
    {
     "data": {
      "text/plain": [
       "{'b': 2}"
      ]
     },
     "execution_count": 52,
     "metadata": {},
     "output_type": "execute_result"
    }
   ],
   "source": [
    "X.__dict__  # и имеет собственный атрибут __dict__"
   ]
  },
  {
   "cell_type": "code",
   "execution_count": 53,
   "metadata": {},
   "outputs": [
    {
     "data": {
      "text/plain": [
       "['__class__',\n",
       " '__delattr__',\n",
       " '__dict__',\n",
       " '__dir__',\n",
       " '__doc__',\n",
       " '__eq__',\n",
       " '__format__',\n",
       " '__ge__',\n",
       " '__getattribute__',\n",
       " '__gt__',\n",
       " '__hash__',\n",
       " '__init__',\n",
       " '__init_subclass__',\n",
       " '__le__',\n",
       " '__lt__',\n",
       " '__module__',\n",
       " '__ne__',\n",
       " '__new__',\n",
       " '__reduce__',\n",
       " '__reduce_ex__',\n",
       " '__repr__',\n",
       " '__setattr__',\n",
       " '__sizeof__',\n",
       " '__slots__',\n",
       " '__str__',\n",
       " '__subclasshook__',\n",
       " 'a',\n",
       " 'b',\n",
       " 'c',\n",
       " 'd']"
      ]
     },
     "execution_count": 53,
     "metadata": {},
     "output_type": "execute_result"
    }
   ],
   "source": [
    "dir(X)"
   ]
  },
  {
   "cell_type": "markdown",
   "metadata": {},
   "source": [
    "### Свойства класса (`property`)"
   ]
  },
  {
   "cell_type": "markdown",
   "metadata": {},
   "source": [
    "Механизм, известный как **свойства, обеспечивает в классах нового стиля еще один способ определения методов, вызываемых автоматически при обращении или присваивании атрибутам экземпляра**. Эта особенность во многих случаях представляет собой **альтернативу** методам перегрузки операторов `__getattr__` и `__setattr__`, которые мы рассматривали в главе 29.\n",
    "\n",
    "Свойства обладают тем же эффектом, что и эти два метода, только в этом случае выполняется вызов метода даже при простом обращении к атрибуту, что бывает полезно для атрибутов, значения которых вычисляются динамически."
   ]
  },
  {
   "cell_type": "markdown",
   "metadata": {},
   "source": [
    "Проще говоря, **свойства  – это тип объектов, который присваивается именам атрибутов класса**. Они создаются вызовом **встроенной функции `property`**, которой передаются три метода (обработчики операций чтения, присваивания и удаления), и строкой документирования – если в каком-либо аргументе передается значение `None`, следовательно, эта операция не поддерживается.\n",
    "\n",
    "Определение свойств обычно производится на верхнем уровне в  инструкции `class` (например, `name = property(...)`)."
   ]
  },
  {
   "cell_type": "markdown",
   "metadata": {},
   "source": [
    "Пример с `__getattr__`"
   ]
  },
  {
   "cell_type": "code",
   "execution_count": 54,
   "metadata": {},
   "outputs": [
    {
     "data": {
      "text/plain": [
       "40"
      ]
     },
     "execution_count": 54,
     "metadata": {},
     "output_type": "execute_result"
    }
   ],
   "source": [
    "class classic:\n",
    "    def __getattr__(self, name):\n",
    "        if name == 'age':\n",
    "            return 40\n",
    "        else:\n",
    "            raise AttributeError\n",
    "            \n",
    "x = classic()\n",
    "x.age  # вызовет метод __getattr__"
   ]
  },
  {
   "cell_type": "code",
   "execution_count": 55,
   "metadata": {},
   "outputs": [
    {
     "ename": "AttributeError",
     "evalue": "",
     "output_type": "error",
     "traceback": [
      "\u001b[0;31m---------------------------------------------------------------------------\u001b[0m",
      "\u001b[0;31mAttributeError\u001b[0m                            Traceback (most recent call last)",
      "\u001b[0;32m<ipython-input-55-9e0710c3698d>\u001b[0m in \u001b[0;36m<module>\u001b[0;34m()\u001b[0m\n\u001b[0;32m----> 1\u001b[0;31m \u001b[0mx\u001b[0m\u001b[0;34m.\u001b[0m\u001b[0mname\u001b[0m  \u001b[0;31m# вызовет метод __getattr__\u001b[0m\u001b[0;34m\u001b[0m\u001b[0m\n\u001b[0m",
      "\u001b[0;32m<ipython-input-54-3592c8eb4f92>\u001b[0m in \u001b[0;36m__getattr__\u001b[0;34m(self, name)\u001b[0m\n\u001b[1;32m      4\u001b[0m             \u001b[0;32mreturn\u001b[0m \u001b[0;36m40\u001b[0m\u001b[0;34m\u001b[0m\u001b[0m\n\u001b[1;32m      5\u001b[0m         \u001b[0;32melse\u001b[0m\u001b[0;34m:\u001b[0m\u001b[0;34m\u001b[0m\u001b[0m\n\u001b[0;32m----> 6\u001b[0;31m             \u001b[0;32mraise\u001b[0m \u001b[0mAttributeError\u001b[0m\u001b[0;34m\u001b[0m\u001b[0m\n\u001b[0m\u001b[1;32m      7\u001b[0m \u001b[0;34m\u001b[0m\u001b[0m\n\u001b[1;32m      8\u001b[0m \u001b[0mx\u001b[0m \u001b[0;34m=\u001b[0m \u001b[0mclassic\u001b[0m\u001b[0;34m(\u001b[0m\u001b[0;34m)\u001b[0m\u001b[0;34m\u001b[0m\u001b[0m\n",
      "\u001b[0;31mAttributeError\u001b[0m: "
     ]
    }
   ],
   "source": [
    "x.name  # вызовет метод __getattr__"
   ]
  },
  {
   "cell_type": "markdown",
   "metadata": {},
   "source": [
    "То же самое с `property`"
   ]
  },
  {
   "cell_type": "code",
   "execution_count": 56,
   "metadata": {},
   "outputs": [
    {
     "data": {
      "text/plain": [
       "42"
      ]
     },
     "execution_count": 56,
     "metadata": {},
     "output_type": "execute_result"
    }
   ],
   "source": [
    "# ещё раз - __getattr__ используется при доступе к непределённому атрибуту\n",
    "# если присвоить атрибут и попытаться получить к нему доступ, то AttributeError не будет\n",
    "x.b = 42\n",
    "x.b"
   ]
  },
  {
   "cell_type": "code",
   "execution_count": 57,
   "metadata": {},
   "outputs": [
    {
     "data": {
      "text/plain": [
       "40"
      ]
     },
     "execution_count": 57,
     "metadata": {},
     "output_type": "execute_result"
    }
   ],
   "source": [
    "class newprops:\n",
    "    def getage(self):\n",
    "        return 40\n",
    "    \n",
    "    age = property(getage, None, None, None)  # get, set, del, docs\n",
    "    \n",
    "x = newprops()\n",
    "x.age  # вызовет метод getage"
   ]
  },
  {
   "cell_type": "code",
   "execution_count": 58,
   "metadata": {},
   "outputs": [
    {
     "ename": "AttributeError",
     "evalue": "'newprops' object has no attribute 'name'",
     "output_type": "error",
     "traceback": [
      "\u001b[0;31m---------------------------------------------------------------------------\u001b[0m",
      "\u001b[0;31mAttributeError\u001b[0m                            Traceback (most recent call last)",
      "\u001b[0;32m<ipython-input-58-9236b64d60f1>\u001b[0m in \u001b[0;36m<module>\u001b[0;34m()\u001b[0m\n\u001b[0;32m----> 1\u001b[0;31m \u001b[0mx\u001b[0m\u001b[0;34m.\u001b[0m\u001b[0mname\u001b[0m  \u001b[0;31m# нормальная операция извлечения\u001b[0m\u001b[0;34m\u001b[0m\u001b[0m\n\u001b[0m",
      "\u001b[0;31mAttributeError\u001b[0m: 'newprops' object has no attribute 'name'"
     ]
    }
   ],
   "source": [
    "x.name  # нормальная операция извлечения"
   ]
  },
  {
   "cell_type": "markdown",
   "metadata": {},
   "source": [
    "В некоторых случаях свойства могут быть менее сложными и работать быстрее, чем при использовании традиционных подходов. Например, когда добавляется поддержка операции присваивания атрибуту, свойства становятся более привлекательными – программный код выглядит компактнее и в операцию присваивания не вовлекаются дополнительные вызовы методов, если не требуется производить дополнительных вычислений:"
   ]
  },
  {
   "cell_type": "code",
   "execution_count": 59,
   "metadata": {},
   "outputs": [
    {
     "data": {
      "text/plain": [
       "40"
      ]
     },
     "execution_count": 59,
     "metadata": {},
     "output_type": "execute_result"
    }
   ],
   "source": [
    "class newprops:\n",
    "    def getage(self):\n",
    "        return 40\n",
    "    \n",
    "    def setage(self, value):\n",
    "        print('set age:', value)\n",
    "        self._age = value\n",
    "        \n",
    "    age = property(getage, setage, None, None)  # get, set, del, docs\n",
    "    \n",
    "x = newprops()\n",
    "x.age  # вызовет метод getage"
   ]
  },
  {
   "cell_type": "code",
   "execution_count": 60,
   "metadata": {},
   "outputs": [
    {
     "name": "stdout",
     "output_type": "stream",
     "text": [
      "set age: 42\n"
     ]
    }
   ],
   "source": [
    "x.age = 42  # вызовет метод setage"
   ]
  },
  {
   "cell_type": "code",
   "execution_count": 61,
   "metadata": {},
   "outputs": [
    {
     "data": {
      "text/plain": [
       "42"
      ]
     },
     "execution_count": 61,
     "metadata": {},
     "output_type": "execute_result"
    }
   ],
   "source": [
    "x._age  # нормальная операция извлечения, нет вызова getage"
   ]
  },
  {
   "cell_type": "code",
   "execution_count": 62,
   "metadata": {},
   "outputs": [
    {
     "data": {
      "text/plain": [
       "40"
      ]
     },
     "execution_count": 62,
     "metadata": {},
     "output_type": "execute_result"
    }
   ],
   "source": [
    "x.age  # используется getage"
   ]
  },
  {
   "cell_type": "code",
   "execution_count": null,
   "metadata": {},
   "outputs": [],
   "source": [
    "x.job = 'trainer'  # нормальная операция извлечения, нет вызова setage\n",
    "x.job  # нормальная операция извлечения, нет вызова getage"
   ]
  },
  {
   "cell_type": "markdown",
   "metadata": {},
   "source": [
    "Для этого примера свойства обладают неоспоримым преимуществом. Однако в некоторых приложениях методы `__getattr__` и `__setattr__` по-прежнему могут быть востребованы для обеспечения более динамичных или универсальных\n",
    "интерфейсов, чем можно реализовать с помощью свойств.\n",
    "\n",
    "Например, во многих случаях невозможно заранее определить набор поддерживаемых атрибутов, которые могут даже не существовать вообще в каком-либо виде на момент написания класса (например, при делегировании ссылок на произвольные методы в обернутых/встроенных объектах)."
   ]
  },
  {
   "cell_type": "markdown",
   "metadata": {},
   "source": [
    "### Метод `__getattribute__` и дескрипторы"
   ]
  },
  {
   "cell_type": "markdown",
   "metadata": {},
   "source": [
    "Метод `__getattribute__` позволяет классам перехватывать **все** попытки обращения к атрибутам, а не только к неопределенным (как метод `__getattr__`). Кроме того, этот метод более сложен в обращении, чем `__getattr__`, из-за более высокой вероятности зациклвания.\n",
    "\n",
    "В дополнение к свойствам и методам перегрузки операторов в Python поддерживается понятие **дескрипторов атрибутов** - классов, с методами `__get__` и `__set__`, которые присваиваются атрибутам классов. Они наследуются экземплярами и перехватывают попытки доступа к определенным атрибутам. Дескрипторы представляют собой, в некотором смысле, более обобщенную форму свойств.\n",
    "\n",
    "Фактически свойства - это упрощенный вариант определения дескрипторов специфического типа, основанных на вызовах функций, управляющих доступом к атрибутам. Кроме того, дескрипторы используются для реализации слотов."
   ]
  },
  {
   "cell_type": "markdown",
   "metadata": {},
   "source": [
    "### Метаклассы"
   ]
  },
  {
   "cell_type": "markdown",
   "metadata": {},
   "source": [
    "Метаклассы - подклассы объекта `type`, которые реализуют операции создания классов. Они обеспечивают отличную возможность управления объектами классов и их расширения."
   ]
  },
  {
   "cell_type": "markdown",
   "metadata": {},
   "source": [
    "## Статические методы и методы класса"
   ]
  },
  {
   "cell_type": "markdown",
   "metadata": {},
   "source": [
    "**Статические методы** работают почти так же, как обычные функции, только расположенные внутри класса, а **методы класса** получают сам класс вместо экземпляра.\n",
    "\n",
    "Чтобы сделать возможными эти режимы работы методов, внутри класса должны вызываться специальные встроенные функции **`staticmethod`** и **`classmethod`** или использоваться декораторы.\n",
    "\n",
    "В Python 3 методы, которым не передается ссылка на экземпляр и которые вызываются только через имя класса, не требуют объявления с помощью функции `staticmethod`, но такое объявление обязательно для методов, которые предполагается вызывать через экземпляры."
   ]
  },
  {
   "cell_type": "markdown",
   "metadata": {},
   "source": [
    "### Зачем нужны специальные методы?"
   ]
  },
  {
   "cell_type": "markdown",
   "metadata": {},
   "source": [
    "Иногда в программах бывает необходимо организовать обработку данных, связанных с классами, а не с экземплярами. Например, следить за числом экземпляров класса или вести список всех экземпляров класса, находящихся в настоящий момент в памяти. Такого рода информация связана с классами и  должна обрабатываться на уровне класса, а не экземпляров. То есть такая информация обычно сохраняется в самом классе и обрабатывается, независимо от наличия экземпляров класса."
   ]
  },
  {
   "cell_type": "markdown",
   "metadata": {},
   "source": [
    "Для решения таких задач часто бывает достаточно простых функций, определения которых находятся за пределами классов. Такие функции могут обращаться к атрибутам класса через его имя – им требуется доступ только к данным класса и  никогда  – к  экземплярам. Однако, чтобы теснее связать такой программный код с классом и обеспечить возможность его адаптации с помощью механизма наследования, будет лучше помещать такого рода функции внутрь\n",
    "самого класса. Для этого нам и нужны методы класса, которые не ожидают получить аргумент `self` с экземпляром.\n",
    "\n",
    "В языке Python для этих целей поддерживаются **статические методы – простые функции без аргумента `self`, вложенные в  определение класса и  предназначенные для работы с  атрибутами класса, а  не экземпляра**.\n",
    "\n",
    "Статические методы никогда автоматически не получают ссылку `self` на экземпляр, независимо от того, вызываются они через имя класса или через экземпляр. Такие методы обычно используются для обработки информации, имеющей отношение ко всем экземплярам, а не для реализации поведения экземпляров.\n",
    "\n",
    "Кроме того, в языке Python поддерживается также понятие **методов класса**. На практике методы класса используются реже, и в **первом аргументе им автоматически передается объект класса, независимо от того, вызываются они через имя класса или через экземпляр**. Такие методы могут получить доступ к данным класса через аргумент `self`, даже когда они вызываются относительно экземпляра. Обычные методы (которые формально называются методами экземпляра) при вызове получают подразумеваемый экземпляр, а статические методы и методы класса – нет."
   ]
  },
  {
   "cell_type": "markdown",
   "metadata": {},
   "source": [
    "### Статические методы"
   ]
  },
  {
   "cell_type": "markdown",
   "metadata": {},
   "source": [
    "В Python 2 операция извлечения метода по имени класса возвращает *несвязанный метод*, при вызове которого требуется вручную передавать экземпляр\n",
    "\n",
    "В Python 3 операция извлечения метода по имени класса возвращает **простую функцию**, которой не требуется передавать ссылку на экземпляр."
   ]
  },
  {
   "cell_type": "markdown",
   "metadata": {},
   "source": [
    "Другими словами, в Python 2.6 методам всегда необходимо передавать экземпляр, независимо от того, вызываются они через имя класса или через экземпляр. В  Python  3.0, напротив, экземпляр требуется передавать методам, только если они ожидают получить его, – методы без аргумента `self` могут вызываться через имя класса без передачи им ссылки на экземпляр. То есть в версии 3.0 допускается объявлять простые функции внутри класса, при условии, что они не ожидают получить и им не будет передаваться аргумент со ссылкой на экземпляр.\n",
    "\n",
    "В результате:\n",
    "* В Python  2.6 мы всегда должны объявлять метод как статический, чтобы иметь возможность вызывать его без передачи ссылки на экземпляр, независимо от того, вызываются он через имя класса или через экземпляр.\n",
    "\n",
    "\n",
    "* В Python 3.0 от нас не требуется объявлять метод, как статический, если он будет вызываться только через имя класса, но мы обязаны объявлять его статическим, если он может вызываться через экземпляр."
   ]
  },
  {
   "cell_type": "markdown",
   "metadata": {},
   "source": [
    "В качестве примера предположим, что необходимо использовать атрибуты класса для подсчета числа экземпляров, созданных из класса. В следующем файле `spam.py` представлена первая попытка – класс содержит счетчик в виде\n",
    "атрибута класса, конструктор, который наращивает счетчик при создании нового экземпляра, и метод, который выводит значение счетчика. Не забывайте, что атрибуты класса совместно используются всеми экземплярами. Поэтому\n",
    "наличие счетчика непосредственно в объекте класса гарантирует, что он будет хранить число всех экземпляров:"
   ]
  },
  {
   "cell_type": "code",
   "execution_count": 63,
   "metadata": {},
   "outputs": [],
   "source": [
    "class Spam:\n",
    "    numInstances = 0\n",
    "    \n",
    "    def __init__(self):\n",
    "        Spam.numInstances = Spam.numInstances + 1\n",
    "        \n",
    "    def printNumInstances():\n",
    "        print('Number of instances created: ', Spam.numInstances)"
   ]
  },
  {
   "cell_type": "markdown",
   "metadata": {},
   "source": [
    "Метод `printNumInstances` предназначен для обработки данных класса, а  не экземпляров – эти данные являются общими для всех экземпляров. Вследствие этого нам необходима возможность вызывать его, не передавая ссылку на экземпляр."
   ]
  },
  {
   "cell_type": "code",
   "execution_count": 64,
   "metadata": {},
   "outputs": [
    {
     "name": "stdout",
     "output_type": "stream",
     "text": [
      "Number of instances created:  3\n"
     ]
    }
   ],
   "source": [
    "a, b, c = Spam(), Spam(), Spam()\n",
    "Spam.printNumInstances()"
   ]
  },
  {
   "cell_type": "code",
   "execution_count": 65,
   "metadata": {},
   "outputs": [
    {
     "ename": "TypeError",
     "evalue": "printNumInstances() takes 0 positional arguments but 1 was given",
     "output_type": "error",
     "traceback": [
      "\u001b[0;31m---------------------------------------------------------------------------\u001b[0m",
      "\u001b[0;31mTypeError\u001b[0m                                 Traceback (most recent call last)",
      "\u001b[0;32m<ipython-input-65-05e2611a4d82>\u001b[0m in \u001b[0;36m<module>\u001b[0;34m()\u001b[0m\n\u001b[0;32m----> 1\u001b[0;31m \u001b[0ma\u001b[0m\u001b[0;34m.\u001b[0m\u001b[0mprintNumInstances\u001b[0m\u001b[0;34m(\u001b[0m\u001b[0;34m)\u001b[0m\u001b[0;34m\u001b[0m\u001b[0m\n\u001b[0m",
      "\u001b[0;31mTypeError\u001b[0m: printNumInstances() takes 0 positional arguments but 1 was given"
     ]
    }
   ],
   "source": [
    "a.printNumInstances()  # вызывается Spam.printNumInstances(a)"
   ]
  },
  {
   "cell_type": "code",
   "execution_count": 66,
   "metadata": {},
   "outputs": [
    {
     "data": {
      "text/plain": [
       "function"
      ]
     },
     "execution_count": 66,
     "metadata": {},
     "output_type": "execute_result"
    }
   ],
   "source": [
    "type(Spam.printNumInstances)  # статический метод - это функция"
   ]
  },
  {
   "cell_type": "markdown",
   "metadata": {},
   "source": [
    "### Альтернативы статическим методам"
   ]
  },
  {
   "cell_type": "markdown",
   "metadata": {},
   "source": [
    "Кроме возможности пометить метод, как специальный, существуют и другие приемы, которые можно попробовать. Если для доступа к  атрибутам класса требуется вызывать функции, которые не принимают ссылку на экземпляр, самая простая мысль, которая приходит в  голову, – сделать метод обычной функцией, а не методом класса.\n",
    "\n",
    "До появления статических методов в Python такой способ был единственным."
   ]
  },
  {
   "cell_type": "markdown",
   "metadata": {},
   "source": [
    "### Использование статических методов и методов класса"
   ]
  },
  {
   "cell_type": "markdown",
   "metadata": {},
   "source": [
    "Классы со статическими методами и с методами класса не требуют передачи экземпляра класса в виде аргумента. Чтобы определить такие методы, в классах необходимо вызывать встроенные функции `staticmethod` и `classmethod`. Обе функции помечают объект функции как специальный, т.е. \n",
    "\n",
    "* в случае **`staticmethod` - как не требующий передачи экземпляра**,\n",
    "\n",
    "\n",
    "* в случае **`classmethod` - как требующий передачи класса**.\n",
    "\n",
    "Например:"
   ]
  },
  {
   "cell_type": "code",
   "execution_count": 67,
   "metadata": {},
   "outputs": [],
   "source": [
    "class Methods:\n",
    "    def imeth (self, x):  # обычный метод экземпляра\n",
    "        print(self, x)\n",
    "        \n",
    "    def smeth(x):  # статический метод: экземпляр не передается\n",
    "        print(x)\n",
    "        \n",
    "    def cmeth(cls, x):  # метод класса: получает класс, но не экз-р\n",
    "        print(cls, x)\n",
    "        \n",
    "    smeth = staticmethod(smeth)  # сделать smeth статическим\n",
    "    cmeth = classmethod(cmeth)   # сделать cmeth методом класса"
   ]
  },
  {
   "cell_type": "markdown",
   "metadata": {},
   "source": [
    "Две последние функциии просто **переприсваивают** имена методов.\n",
    "\n",
    ">С технической точки зрения Python поддерживает три разновидности методов:\n",
    ">* методы экземпляра\n",
    ">\n",
    ">* статические методы\n",
    ">\n",
    ">* методы класса"
   ]
  },
  {
   "cell_type": "markdown",
   "metadata": {},
   "source": [
    "**Методы экземпляра** - это обычные (и используемые по умолчанию) методы, которые мы видели в этой книге. Для воздействия на объект экземпляра всегда следует вызывать методы экземпляра."
   ]
  },
  {
   "cell_type": "code",
   "execution_count": 68,
   "metadata": {},
   "outputs": [
    {
     "name": "stdout",
     "output_type": "stream",
     "text": [
      "<__main__.Methods object at 0x7fe9fc774470> 1\n"
     ]
    }
   ],
   "source": [
    "obj = Methods()  # создать экземпляр\n",
    "\n",
    "obj.imeth(1)  # обычный вызов, через экземпляр\n",
    "              # будет преобразован в вызов imeth(obj, 1)"
   ]
  },
  {
   "cell_type": "code",
   "execution_count": 69,
   "metadata": {},
   "outputs": [
    {
     "name": "stdout",
     "output_type": "stream",
     "text": [
      "<__main__.Methods object at 0x7fe9fc774470> 2\n"
     ]
    }
   ],
   "source": [
    "Methods.imeth(obj, 2)  # обычный вызов, через класс\n",
    "                       # экземпляр передается явно"
   ]
  },
  {
   "cell_type": "markdown",
   "metadata": {},
   "source": [
    "**Статические методы** вызываются без аргумента с экземпляром. В отличие от простых функций, за пределами класса их имена ограничены областью видимости класса, в котором они определяются и могут отыскиваться механизмом наследования. Применение встроенной функции `staticmethod` обеспечивает возможность вызывать такие методы через экземпляр **в версии 3.0, вызов через имя класса возможен и без применения `staticmethod`, но вызов через экземпляр - нет**."
   ]
  },
  {
   "cell_type": "code",
   "execution_count": 70,
   "metadata": {},
   "outputs": [
    {
     "name": "stdout",
     "output_type": "stream",
     "text": [
      "3\n"
     ]
    }
   ],
   "source": [
    "Methods.smeth(3)  # вызов статического метода, через имя класса\n",
    "                  # экземпляр не передается и не ожидается"
   ]
  },
  {
   "cell_type": "code",
   "execution_count": 71,
   "metadata": {},
   "outputs": [
    {
     "name": "stdout",
     "output_type": "stream",
     "text": [
      "4\n"
     ]
    }
   ],
   "source": [
    "obj.smeth(4)  # вызов статического метода через экземпляр\n",
    "              # экземпляр не передается"
   ]
  },
  {
   "cell_type": "markdown",
   "metadata": {},
   "source": [
    "**Методы класса** похожи на статические, но интерпретатор автоматически передает методам класса сам класс (а не экземпляр) в первом аргументе, независимо от того, вызываются они через имя класса или через экземпляр:"
   ]
  },
  {
   "cell_type": "code",
   "execution_count": 72,
   "metadata": {},
   "outputs": [
    {
     "name": "stdout",
     "output_type": "stream",
     "text": [
      "<class '__main__.Methods'> 5\n"
     ]
    }
   ],
   "source": [
    "Methods.cmeth(5)  # вызов метода класса, через имя класса\n",
    "                  # будет преобразован в вызов cmeth(Methods, 5)"
   ]
  },
  {
   "cell_type": "code",
   "execution_count": 73,
   "metadata": {},
   "outputs": [
    {
     "name": "stdout",
     "output_type": "stream",
     "text": [
      "<class '__main__.Methods'> 6\n"
     ]
    }
   ],
   "source": [
    "obj.cmeth(6)  # вызов метода класса через экземпляр\n",
    "              # будет преобразован в вызов cmeth(Methods, 6)"
   ]
  },
  {
   "cell_type": "markdown",
   "metadata": {},
   "source": [
    "### Подсчет количества экземпляров с помощью статических методов"
   ]
  },
  {
   "cell_type": "code",
   "execution_count": 74,
   "metadata": {},
   "outputs": [],
   "source": [
    "class Spam:           # Для доступа к данным класса используется\n",
    "    numInstances = 0  # статический метод\n",
    "    \n",
    "    def __init__(self):\n",
    "        Spam.numInstances += 1\n",
    "        \n",
    "    def printNumInstances():\n",
    "        print('Number of instances:', Spam.numInstances)\n",
    "    \n",
    "    printNumInstances = staticmethod(printNumInstances)"
   ]
  },
  {
   "cell_type": "code",
   "execution_count": 75,
   "metadata": {},
   "outputs": [
    {
     "name": "stdout",
     "output_type": "stream",
     "text": [
      "Number of instances: 3\n"
     ]
    }
   ],
   "source": [
    "a, b, c = Spam(), Spam(), Spam()\n",
    "Spam.printNumInstances()  # вызывается, как простая функция"
   ]
  },
  {
   "cell_type": "code",
   "execution_count": 76,
   "metadata": {},
   "outputs": [
    {
     "name": "stdout",
     "output_type": "stream",
     "text": [
      "Number of instances: 3\n"
     ]
    }
   ],
   "source": [
    "a.printNumInstances()  # аргумент с экземпляром не передается, ошибки не возникает"
   ]
  },
  {
   "cell_type": "markdown",
   "metadata": {},
   "source": [
    "По сравнению с  простым перемещением `printNumInstances` за пределы класса, как описывалось ранее, эта версия требует дополнительный вызов функции `staticmethod`. При этом здесь область видимости имени функции ограничена классом (имя не будет вступать в конфликт с другими именами в модуле), программный код перемещен туда, где он используется (внутрь инструкции `class`), и подклассы получают возможность **адаптировать статический метод наследованием** – этот подход более удобен, чем импортирование функций из файлов, в  которых находятся определения суперклассов. Это иллюстрирует следующий подкласс и листинг нового интерактивного сеанса:"
   ]
  },
  {
   "cell_type": "code",
   "execution_count": 77,
   "metadata": {},
   "outputs": [
    {
     "name": "stdout",
     "output_type": "stream",
     "text": [
      "Extra stuff...\n",
      "Number of instances: 5\n"
     ]
    }
   ],
   "source": [
    "class Sub(Spam):\n",
    "    def printNumInstances():    # Переопределяет статический метод\n",
    "        print('Extra stuff...') # который вызывает оригинал\n",
    "        Spam.printNumInstances()\n",
    "    printNumInstances = staticmethod(printNumInstances)\n",
    "    \n",
    "a, b = Sub(), Sub()\n",
    "a.printNumInstances()  # вызов через экземпляр подкласса, печатает все экземпляры класса Spam"
   ]
  },
  {
   "cell_type": "code",
   "execution_count": 78,
   "metadata": {},
   "outputs": [
    {
     "name": "stdout",
     "output_type": "stream",
     "text": [
      "Extra stuff...\n",
      "Number of instances: 5\n"
     ]
    }
   ],
   "source": [
    "Sub.printNumInstances()  # вызов через имя подкласса"
   ]
  },
  {
   "cell_type": "code",
   "execution_count": 79,
   "metadata": {},
   "outputs": [
    {
     "name": "stdout",
     "output_type": "stream",
     "text": [
      "Number of instances: 5\n"
     ]
    }
   ],
   "source": [
    "Spam.printNumInstances()"
   ]
  },
  {
   "cell_type": "markdown",
   "metadata": {},
   "source": [
    "### Подсчет количества экземпляров с помощью методов класса"
   ]
  },
  {
   "cell_type": "markdown",
   "metadata": {},
   "source": [
    "Аналогичные действия можно реализовать с помощью **метода класса**"
   ]
  },
  {
   "cell_type": "code",
   "execution_count": 80,
   "metadata": {},
   "outputs": [],
   "source": [
    "class Spam:\n",
    "    numInstances = 0\n",
    "    \n",
    "    def __init__(self):\n",
    "        Spam.numInstances += 1\n",
    "        \n",
    "    def printNumInstances(cls):\n",
    "        print('Number of instances:', cls.numInstances)\n",
    "        \n",
    "    printNumInstances = classmethod(printNumInstances)"
   ]
  },
  {
   "cell_type": "code",
   "execution_count": 81,
   "metadata": {},
   "outputs": [
    {
     "name": "stdout",
     "output_type": "stream",
     "text": [
      "Number of instances: 2\n"
     ]
    }
   ],
   "source": [
    "a, b = Spam(), Spam()\n",
    "a.printNumInstances()  # в первом аргументе передается класс"
   ]
  },
  {
   "cell_type": "code",
   "execution_count": 82,
   "metadata": {},
   "outputs": [
    {
     "name": "stdout",
     "output_type": "stream",
     "text": [
      "Number of instances: 2\n"
     ]
    }
   ],
   "source": [
    "Spam.printNumInstances()  # также в первом аргументе передается класс"
   ]
  },
  {
   "cell_type": "markdown",
   "metadata": {},
   "source": [
    ">Однако, используя методы класса, имейте в  виду, что они принимают класс, самый близкий к  объекту вызова. Это влечет за собой ряд важных последствий, который оказывают влияние на попытки изменить данные класса через переданный методу класс."
   ]
  },
  {
   "cell_type": "markdown",
   "metadata": {},
   "source": [
    "Например, если мы определим подкласс, адаптирующий предыдущую версию метода `Spam.printNumInstances` так, чтобы он дополнительно выводил свой аргумент `cls`, и запустим новый сеанс:"
   ]
  },
  {
   "cell_type": "code",
   "execution_count": 83,
   "metadata": {},
   "outputs": [],
   "source": [
    "class Spam:\n",
    "    numInstances = 0  # Отслеживает количество экземпляров\n",
    "\n",
    "    def __init__(self):\n",
    "        Spam.numInstances += 1\n",
    "        \n",
    "    def printNumInstances(cls):\n",
    "        print('Number of instances:', cls.numInstances, cls)\n",
    "        \n",
    "    printNumInstances = classmethod(printNumInstances)\n",
    "\n",
    "    \n",
    "class Sub(Spam):\n",
    "    def printNumInstances(cls):       # Переопределяет метод класса\n",
    "        print('Extra stuff...', cls)  # Но вызывает оригинал\n",
    "        Spam.printNumInstances()\n",
    "        \n",
    "    printNumInstances = classmethod(printNumInstances)\n",
    "\n",
    "    \n",
    "class Other(Spam): pass  # Наследует метод класса"
   ]
  },
  {
   "cell_type": "markdown",
   "metadata": {},
   "source": [
    "всякий раз, когда будет вызываться метод класса, интерпретатор будет передавать ему самый близкий класс, даже для подклассов, не имеющих собственной реализации метода класса:"
   ]
  },
  {
   "cell_type": "code",
   "execution_count": 84,
   "metadata": {},
   "outputs": [
    {
     "name": "stdout",
     "output_type": "stream",
     "text": [
      "Extra stuff... <class '__main__.Sub'>\n",
      "Number of instances: 2 <class '__main__.Spam'>\n"
     ]
    }
   ],
   "source": [
    "x, y = Sub(), Sub()\n",
    "x.printNumInstances()  # вызов через экземпляр подкласса"
   ]
  },
  {
   "cell_type": "code",
   "execution_count": 85,
   "metadata": {},
   "outputs": [
    {
     "name": "stdout",
     "output_type": "stream",
     "text": [
      "Extra stuff... <class '__main__.Sub'>\n",
      "Number of instances: 2 <class '__main__.Spam'>\n"
     ]
    }
   ],
   "source": [
    "Sub.printNumInstances()  # вызов через сам подкласс"
   ]
  },
  {
   "cell_type": "markdown",
   "metadata": {},
   "source": [
    "В первом случае здесь метод класса вызывается через экземпляр подкласса `Sub`, и интерпретатор передает методу ближайший к экземпляру класс `Sub`. В данном случае никаких проблем не возникает, так как версия метода, переопределенная в классе `Sub`, явно вызывает оригинальную версию метода в суперклассе `Spam`, при этом метод суперкласса принимает класс `Spam` в первом аргументе.\n",
    "\n",
    "Но посмотрите, что произойдет в случае обращения к объекту, который просто наследует метод класса:"
   ]
  },
  {
   "cell_type": "code",
   "execution_count": 86,
   "metadata": {},
   "outputs": [
    {
     "name": "stdout",
     "output_type": "stream",
     "text": [
      "Number of instances: 3 <class '__main__.Other'>\n"
     ]
    }
   ],
   "source": [
    "z = Other()\n",
    "z.printNumInstances()"
   ]
  },
  {
   "cell_type": "markdown",
   "metadata": {},
   "source": [
    "Здесь в последнем вызове методу класса `Spam` передается класс `Other`. В данном случае метод работает потому, что он всего лишь извлекает значение счетчика, который обнаруживает в классе `Spam`, благодаря механизму наследования.\n",
    "\n",
    "Однако если бы этот метод попытался присвоить новое значение атрибуту класса, он изменил бы атрибут класса `Other`, а не `Spam`! В данном конкретном случае, вероятно, было бы лучше жестко указать имя класса, в котором производится изменение данных, чем полагаться на передаваемый аргумент класса."
   ]
  },
  {
   "cell_type": "markdown",
   "metadata": {},
   "source": [
    "### Подсчет экземпляров для каждого класса с помощью методов класса"
   ]
  },
  {
   "cell_type": "markdown",
   "metadata": {},
   "source": [
    "Фактически методы класса всегда получают ближайший класс в дереве наследования, поэтому:\n",
    "\n",
    "* Применение статических методов, в которых явно указывается имя класса, может оказаться более удачным решением для обработки данных класса.\n",
    "\n",
    "\n",
    "* Методы классов лучше подходят для обработки данных, которые могут отличаться для каждого конкретного класса в иерархии."
   ]
  },
  {
   "cell_type": "markdown",
   "metadata": {},
   "source": [
    "Например, для реализации счетчиков экземпляров каждого класса в  отдельности лучше подошли бы методы класса. В  следующем примере суперкласс определяет метод класса, управляющий информацией о  состоянии, которая отличается для разных классов в  дереве,  – подобно тому, как методы экземпляра управляют информацией о состоянии экземпляров:"
   ]
  },
  {
   "cell_type": "code",
   "execution_count": 91,
   "metadata": {},
   "outputs": [],
   "source": [
    "class Spam:\n",
    "    numInstances = 0\n",
    "    \n",
    "    def count(cls): # Счетчик экземпляров для каждого отдельного класса\n",
    "        cls.numInstances += 1 # cls – ближайший к экземпляру класс\n",
    "        \n",
    "    def __init__(self):  # Передаст self.__class__ для подсчета\n",
    "        self.count()\n",
    "    \n",
    "    count = classmethod(count)\n",
    "\n",
    "    \n",
    "class Sub(Spam):\n",
    "    numInstances = 0\n",
    "    \n",
    "    def __init__(self):      # Переопределяет __init__\n",
    "        Spam.__init__(self)\n",
    "\n",
    "    \n",
    "class Other(Spam):           # Наследует __init__\n",
    "    numInstances = 0\n",
    "\n",
    "    \n",
    "class Another(Spam):  # нет своего атрибута numInstances\n",
    "    pass"
   ]
  },
  {
   "cell_type": "code",
   "execution_count": 88,
   "metadata": {},
   "outputs": [
    {
     "data": {
      "text/plain": [
       "(1, 2, 3)"
      ]
     },
     "execution_count": 88,
     "metadata": {},
     "output_type": "execute_result"
    }
   ],
   "source": [
    "x = Spam()\n",
    "y1, y2 = Sub(), Sub()\n",
    "z1, z2, z3 = Other(), Other(), Other()\n",
    "\n",
    "x.numInstances, y1.numInstances, z1.numInstances"
   ]
  },
  {
   "cell_type": "code",
   "execution_count": 89,
   "metadata": {},
   "outputs": [
    {
     "data": {
      "text/plain": [
       "(1, 2, 3)"
      ]
     },
     "execution_count": 89,
     "metadata": {},
     "output_type": "execute_result"
    }
   ],
   "source": [
    "Spam.numInstances, Sub.numInstances, Other.numInstances"
   ]
  },
  {
   "cell_type": "code",
   "execution_count": 92,
   "metadata": {},
   "outputs": [
    {
     "data": {
      "text/plain": [
       "(1, 2, 3, 5)"
      ]
     },
     "execution_count": 92,
     "metadata": {},
     "output_type": "execute_result"
    }
   ],
   "source": [
    "x = Spam()\n",
    "y1, y2 = Sub(), Sub()\n",
    "z1, z2, z3 = Other(), Other(), Other()\n",
    "w1, w2, w3, w4 = Another(), Another(), Another(), Another()\n",
    "\n",
    "x.numInstances, y1.numInstances, z1.numInstances, w1.numInstances  # у w1 не 4, а 5"
   ]
  },
  {
   "cell_type": "code",
   "execution_count": 93,
   "metadata": {},
   "outputs": [
    {
     "data": {
      "text/plain": [
       "(1, 5)"
      ]
     },
     "execution_count": 93,
     "metadata": {},
     "output_type": "execute_result"
    }
   ],
   "source": [
    "Spam.numInstances, Another.numInstances"
   ]
  },
  {
   "cell_type": "markdown",
   "metadata": {},
   "source": [
    "## Декораторы и метаклассы: часть 1"
   ]
  },
  {
   "cell_type": "markdown",
   "metadata": {},
   "source": [
    "**Декораторы функций** обеспечивают способ определения специальных режимов работы функций, обертывая их дополнительным слоем логики, реализованной в виде других функций."
   ]
  },
  {
   "cell_type": "markdown",
   "metadata": {},
   "source": [
    "Декораторы функций представляют собой более универсальные инструменты: их удобно использовать для добавления самой разной логики не только к статическим методам, но и к любым другим функциям.\n",
    "\n",
    "Например, их можно использовать для расширения функций программным кодом, выполняющим регистрацию вызовов этих функций, проверяющим типы передаваемых аргументов в процессе отладки и так далее. В некоторой степени декораторы функций напоминают шаблон проектирования делегирования, исследованный нами в главе 30, но их главная цель состоит в том, чтобы расширять определенные функции или методы, а не весь интерфейс объекта."
   ]
  },
  {
   "cell_type": "markdown",
   "metadata": {},
   "source": [
    "### Основы декораторов функций"
   ]
  },
  {
   "cell_type": "markdown",
   "metadata": {},
   "source": [
    "Синтаксически декоратор функции - это разновидность объявления функции времени выполнения. Декоратор функции записывается в строке, непосредственно перед строкой с инструкцией `def`, которая определяет функцию или метод, и состоит из символа **`@`, за которым следует то, что называется метафункцией**, - функция (или другой вызываемый объект), которая управляет другой функцией."
   ]
  },
  {
   "cell_type": "markdown",
   "metadata": {},
   "source": [
    "Статические методы, например, могут быть оформлены в виде декораторов:\n",
    "\n",
    "```\n",
    "class C:\n",
    "    @staticmethod  # синтаксис декорирования\n",
    "    def meth():\n",
    "        ...\n",
    "```\n",
    "\n",
    "С технической точки зрения, это объявление имеет тот же эффект, что и фрагмент ниже:\n",
    "\n",
    "```\n",
    "class C:\n",
    "    def meth():\n",
    "        ...\n",
    "        \n",
    "    meth = staticmethod(meth)  # повторное присваивание имени\n",
    "```\n",
    "\n",
    "Результат, возвращаемый функцией-декоратором, повторно присваивается имени метода. Декоратор может возвращать объекты любого типа, поэтому данный прием позволяет декоратору вставлять дополнительный уровень логики, который будет запускаться при каждом вызове. Декоратор функции может возвращать как оригинальную функцию, так и новый объект, в котором хранится оригинальная функция, переданная декоратору, которая будет вызываться косвенно после того, как будет выполнен дополнительный слой логики."
   ]
  },
  {
   "cell_type": "markdown",
   "metadata": {},
   "source": [
    "### Первый пример декоратора функций"
   ]
  },
  {
   "cell_type": "markdown",
   "metadata": {},
   "source": [
    "В Python уже имеется несколько удобных встроенных функций, которые можно использовать как декораторы, но при этом мы также можем писать свои собственные декораторы."
   ]
  },
  {
   "cell_type": "markdown",
   "metadata": {},
   "source": [
    "В следующем примере метод `__call__` используется в определении класса, который сохраняет декорируемую функцию в экземпляре и перехватывает вызовы по оригинальному имени. А т.к. это класс, кроме всего прочего в нем имеется возможность хранить информацию о состоянии (счетчик произведенных вызовов)."
   ]
  },
  {
   "cell_type": "code",
   "execution_count": 94,
   "metadata": {},
   "outputs": [],
   "source": [
    "class tracer:\n",
    "    def __init__(self, func):\n",
    "        self.calls = 0\n",
    "        self.func = func\n",
    "        \n",
    "    def __call__(self, *args):\n",
    "        self.calls += 1\n",
    "        print(f'call {self.calls} to {self.func.__name__}')\n",
    "        self.func(*args)\n",
    "        \n",
    "@tracer             # то же, что и spam = tracer(spam)\n",
    "def spam(a, b, c):  # обертывает spam в объект-декоратор\n",
    "    print(a, b, c)"
   ]
  },
  {
   "cell_type": "code",
   "execution_count": 95,
   "metadata": {},
   "outputs": [
    {
     "name": "stdout",
     "output_type": "stream",
     "text": [
      "call 1 to spam\n",
      "1 2 3\n",
      "call 2 to spam\n",
      "a b c\n",
      "call 3 to spam\n",
      "4 5 6\n"
     ]
    }
   ],
   "source": [
    "spam(1, 2, 3)        # в действительности вызывается объект-обертка\n",
    "spam('a', 'b', 'c')  # т.е. выз-ся метод __call__ в классе\n",
    "spam(4, 5, 6)        # метод __call__ выпол-т доп. действия\n",
    "                     # и вызывает оригинальную функцию"
   ]
  },
  {
   "cell_type": "markdown",
   "metadata": {},
   "source": [
    "Данный декоратор действует, как обычная функция, принимающая позиционные аргументы, но он не возвращает результат вызова декорируемой функции, не обрабатывает именованные аргументы и не может декорировать методы классов (при декорировании методов метод `__call__` мог бы передавать только экземпляр класса `tracer`).\n",
    "\n",
    "Существует множество способов декорирования функций, включая вложенные инструкции `def`, - некоторые из них лучше подходят для декорирования методов, чем способ, представленный здесь."
   ]
  },
  {
   "cell_type": "markdown",
   "metadata": {},
   "source": [
    "### Декораторы классов и метаклассы"
   ]
  },
  {
   "cell_type": "markdown",
   "metadata": {},
   "source": [
    "**Декораторы классов** похожи на декораторы функций, но они запускаются после инструкции `class`, чтобы повторно присвоить имя класса вызываемому объекту. Они могут использоваться для изменения классов сразу после их создания или добавлять дополнительный слой логики уже после создания экземпляров.\n",
    "\n",
    "При применении декоратора к классу программный код вида:\n",
    "\n",
    "```\n",
    "def decorator(cls): ...\n",
    "\n",
    "@decorator\n",
    "class C: ...\n",
    "```\n",
    "\n",
    "отображается в следующий эквивалент:\n",
    "\n",
    "```\n",
    "def decorator(cls): ...\n",
    "\n",
    "class C: ...\n",
    "\n",
    "C = decorator(C)\n",
    "```"
   ]
  },
  {
   "cell_type": "markdown",
   "metadata": {},
   "source": [
    "Декоратор класса может расширить функциональность самого класса или вернуть объект, который будет перехватывать последующие попытки конструирования экземпляров.\n",
    "\n",
    "Например, для подсчета экземпляров класса:"
   ]
  },
  {
   "cell_type": "code",
   "execution_count": 96,
   "metadata": {},
   "outputs": [],
   "source": [
    "def count(cls):\n",
    "    cls.numInstances = 0\n",
    "    return cls  # возвращает класс, а не обертку\n",
    "\n",
    "@count\n",
    "class Spam: ...  # то же, что и Spam = count(Spam)\n",
    "    \n",
    "@count\n",
    "class Sub(Spam): ...  # инструкция numInstances = 0 не нужна здесь\n",
    "    \n",
    "@count\n",
    "class Other(Spam): ..."
   ]
  },
  {
   "cell_type": "code",
   "execution_count": 97,
   "metadata": {},
   "outputs": [],
   "source": [
    "a = Spam()"
   ]
  },
  {
   "cell_type": "code",
   "execution_count": 98,
   "metadata": {},
   "outputs": [
    {
     "data": {
      "text/plain": [
       "0"
      ]
     },
     "execution_count": 98,
     "metadata": {},
     "output_type": "execute_result"
    }
   ],
   "source": [
    "a.numInstances  # имеется атрибут numInstances, просто логика подсчета экземпляров не прописана"
   ]
  },
  {
   "cell_type": "markdown",
   "metadata": {},
   "source": [
    "**Метаклассы** представляют собой похожий инструмент на основе классов, область применения которого отчасти перекрывает область применения декораторов классов. Они представляют альтернативную модель управления созданием объектов классов за счет создания подклассов типа `type` и включения их в инструкцию `class`:\n",
    "\n",
    "```\n",
    "class Meta(type):\n",
    "    def __new__(meta, classname, supers, classdict): ...\n",
    "    \n",
    "class C(metaclass=Meta): ...\n",
    "```\n",
    "\n",
    "Обычно метакласс переопределяет метод `__new__` или `__init__` класса `type`, с целью взять на себя управление созданием или инициализацией нового объекта класса. Как и при использовании декораторов классов, суть состоит в том, чтобы определить программный код, который будет вызываться автоматически на этапе создания классов. Оба способа позволяют расширять классы или возвращать произвольные объекты для его замены - протокол с практически неограниченными возможностями."
   ]
  },
  {
   "cell_type": "markdown",
   "metadata": {},
   "source": [
    "## Типичные проблемы при работе с классами"
   ]
  },
  {
   "cell_type": "markdown",
   "metadata": {},
   "source": [
    "Большая часть типичных проблем, связанных с классами, сводится к проблемам, связанным с пространствами имен (особенно если учесть, что классы - это всего лишь пространства имен с некоторыми дополнительными особенностями)."
   ]
  },
  {
   "cell_type": "markdown",
   "metadata": {},
   "source": [
    "### Изменение атрибутов класса может приводить к побочным эффектам"
   ]
  },
  {
   "cell_type": "markdown",
   "metadata": {},
   "source": [
    "Теоретически классы (и экземпляры классов) относятся к категории **изменяемых объектов**. Это означает, что изменение класса или экземпляра может оказывать влияние на множественные ссылки на них. Изменяя атрибуты, следует от этом помнить.\n",
    "\n",
    "Все экземпляры класса совместно используют одно и то же пространство имен класса, поэтому любые изменения на уровне класса будут отражаться на всех экземплярах, если последние не имеют собственных версий атрибутов класса."
   ]
  },
  {
   "cell_type": "code",
   "execution_count": 99,
   "metadata": {},
   "outputs": [
    {
     "data": {
      "text/plain": [
       "1"
      ]
     },
     "execution_count": 99,
     "metadata": {},
     "output_type": "execute_result"
    }
   ],
   "source": [
    "class X:\n",
    "    a = 1  # атрибут класса\n",
    "    \n",
    "I = X()\n",
    "I.a  # унаследован экземпляром"
   ]
  },
  {
   "cell_type": "code",
   "execution_count": 100,
   "metadata": {},
   "outputs": [
    {
     "data": {
      "text/plain": [
       "1"
      ]
     },
     "execution_count": 100,
     "metadata": {},
     "output_type": "execute_result"
    }
   ],
   "source": [
    "X.a"
   ]
  },
  {
   "cell_type": "markdown",
   "metadata": {},
   "source": [
    "Если атрибут класса изменяется динамически, за пределами инструкции `class`, то это приводит к одновременному изменению атрибута во всех объектах, наследующих его от класса."
   ]
  },
  {
   "cell_type": "code",
   "execution_count": 101,
   "metadata": {},
   "outputs": [
    {
     "data": {
      "text/plain": [
       "2"
      ]
     },
     "execution_count": 101,
     "metadata": {},
     "output_type": "execute_result"
    }
   ],
   "source": [
    "X.a = 2  # может измениться только в классе X\n",
    "I.a      # объект I тоже изменился"
   ]
  },
  {
   "cell_type": "code",
   "execution_count": 102,
   "metadata": {},
   "outputs": [
    {
     "data": {
      "text/plain": [
       "2"
      ]
     },
     "execution_count": 102,
     "metadata": {},
     "output_type": "execute_result"
    }
   ],
   "source": [
    "J = X()  # унаследует значение, установленное во время выполнения\n",
    "J.a"
   ]
  },
  {
   "cell_type": "markdown",
   "metadata": {},
   "source": [
    "### Модификация изменяемых атрибутов класса также может иметь побочные эффекты"
   ]
  },
  {
   "cell_type": "markdown",
   "metadata": {},
   "source": [
    "Если атрибут класса ссылается на изменяемый объект, изменение этого объекта из любого экземпляра отразится сразу на всех экземплярах:"
   ]
  },
  {
   "cell_type": "code",
   "execution_count": 103,
   "metadata": {},
   "outputs": [
    {
     "data": {
      "text/plain": [
       "([], [])"
      ]
     },
     "execution_count": 103,
     "metadata": {},
     "output_type": "execute_result"
    }
   ],
   "source": [
    "class C:\n",
    "    shared = []           # атрибут класса\n",
    "    \n",
    "    def __init__(self):\n",
    "        self.perobj = []  # атрибут экземпляра\n",
    "        \n",
    "x, y = C(), C()  # два экз-ра, неявно исп-т один и тот же атр. класса\n",
    "y.shared, y.perobj"
   ]
  },
  {
   "cell_type": "code",
   "execution_count": 104,
   "metadata": {},
   "outputs": [],
   "source": [
    "x.shared.append('spam')  # окажет влияние на объект y также!"
   ]
  },
  {
   "cell_type": "code",
   "execution_count": 105,
   "metadata": {},
   "outputs": [
    {
     "data": {
      "text/plain": [
       "(['spam'], ['spam'])"
      ]
     },
     "execution_count": 105,
     "metadata": {},
     "output_type": "execute_result"
    }
   ],
   "source": [
    "x.perobj.append('spam')  # изменит данные, принадл-ие только x\n",
    "x.shared, x.perobj"
   ]
  },
  {
   "cell_type": "code",
   "execution_count": 106,
   "metadata": {},
   "outputs": [
    {
     "data": {
      "text/plain": [
       "(['spam'], [])"
      ]
     },
     "execution_count": 106,
     "metadata": {},
     "output_type": "execute_result"
    }
   ],
   "source": [
    "y.shared, y.perobj  # в y есть изменения, призв-ые через x"
   ]
  },
  {
   "cell_type": "code",
   "execution_count": 107,
   "metadata": {},
   "outputs": [
    {
     "data": {
      "text/plain": [
       "['spam']"
      ]
     },
     "execution_count": 107,
     "metadata": {},
     "output_type": "execute_result"
    }
   ],
   "source": [
    "C.shared  # сохраненный в классе и совместно исп-ый"
   ]
  },
  {
   "cell_type": "markdown",
   "metadata": {},
   "source": [
    "### Множественное наследование: порядок имеет значение"
   ]
  },
  {
   "cell_type": "markdown",
   "metadata": {},
   "source": [
    "В случае использования множественного наследования порядок, в котором перечислены суперклассы в строке заголовка инструкции `class`, может иметь критическое значение. В ходе поиска интерпретатор просматривает суперклассы слева направо, в соответствии с порядком их следования в заголовке инструкции.\n",
    "\n",
    "Если необходимо, чтобы одно имя наследовалось от одного суперкласса, а другое от другого, изменение порядка расположения в заголовке не поможет - мы должны вручную переопределить результат наследования, явно выполнив присваивание имени атрибута в подклассе:"
   ]
  },
  {
   "cell_type": "code",
   "execution_count": 108,
   "metadata": {},
   "outputs": [],
   "source": [
    "class ListTree:\n",
    "    def __str__(self): ...\n",
    "        \n",
    "    def other(self): ...\n",
    "        \n",
    "class Super:\n",
    "    def __str__(self): ...\n",
    "    def other(self): ...\n",
    "        \n",
    "        \n",
    "class Sub(ListTree, Super): # Унаследует __str__ класса ListTree, так как он\n",
    "                            # первый в списке\n",
    "    other = Super.other # Явно выбирается версия атрибута из класса Super\n",
    "    def __init__(self):\n",
    "        ...\n",
    "        \n",
    "x = Sub() # Поиск сначала выполняется в Sub и только потом в ListTree/Super"
   ]
  },
  {
   "cell_type": "markdown",
   "metadata": {},
   "source": [
    "Как правило, множественное наследование дает лучшие результаты, когда суперклассы являются максимально автономными, - поскольку они могут использоваться в разных контекстах, они не должны делать каких-либо предположений об именах, связанных с другими классами в дереве.\n",
    "\n",
    "Псевдочастные атрибуты (`__X`) могут помочь в локализации имен, на владение которыми опирается класс, и ограничить вероятность появления конфликтов имен в суперклассах, которые вы добавляете в список наследуемых классов."
   ]
  },
  {
   "cell_type": "markdown",
   "metadata": {},
   "source": [
    "### Делегирование в версии 3.0: `__getattr__` и встроенные операции"
   ]
  },
  {
   "cell_type": "markdown",
   "metadata": {},
   "source": [
    "Классы, использующие метод `__getattr__` для делегирования обернутым объектам операций обращения к атрибутам, будут терпеть неудачу в Python 3, если методы перегрузки операторов не будут переопределены в классе-обертке. В Python 3 обращения к методам перегрузки операторов производятся встроенными операциями неявно, минуя обычную схему выбора методов-обработчиков.\n",
    "\n",
    "Например, метод `__str__`, используемый для вывода, никогда не вызывает `__getattr__`. Вместо этого в Python 3 интерпретатор пытается отыскать требуемые имена в классах, пропуская этап поиска в экземпляре. Чтобы решить эту проблему, подобные методы должны быть переопределены в классах-обертках."
   ]
  },
  {
   "cell_type": "markdown",
   "metadata": {},
   "source": [
    "### Многослойное обертывание"
   ]
  },
  {
   "cell_type": "markdown",
   "metadata": {},
   "source": [
    "Если классы наслоены друг на друга слишком глубоко, программный код становится малопонятным  – возможно, вам придется изучить множество классов, чтобы выяснить, что делает единственная операция.\n",
    "\n",
    "Не усложняйте решение задачи, если оно не является таковым. Обертывание программного кода несколькими слоями классов на грани непостижимости – всегда плохая идея. Абстракция – это основа полиморфизма и инкапсуляции, и  при грамотном использовании она может быть весьма эффективным инструментом. Однако вы упростите отладку и  сопровождение, если сделаете интерфейсы своих классов интуитивно понятными. Избегайте чрезмерной абстракции и сохраняйте иерархии своих классов короткими и плоскими, если не существует веских причин сделать иначе."
   ]
  }
 ],
 "metadata": {
  "kernelspec": {
   "display_name": "Python 3",
   "language": "python",
   "name": "python3"
  },
  "language_info": {
   "codemirror_mode": {
    "name": "ipython",
    "version": 3
   },
   "file_extension": ".py",
   "mimetype": "text/x-python",
   "name": "python",
   "nbconvert_exporter": "python",
   "pygments_lexer": "ipython3",
   "version": "3.6.6"
  }
 },
 "nbformat": 4,
 "nbformat_minor": 2
}
