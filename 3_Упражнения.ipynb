{
 "cells": [
  {
   "cell_type": "markdown",
   "metadata": {},
   "source": [
    "# Упражнения к третьей части"
   ]
  },
  {
   "cell_type": "markdown",
   "metadata": {},
   "source": [
    "## 1. Основы циклов"
   ]
  },
  {
   "cell_type": "markdown",
   "metadata": {},
   "source": [
    "Напишите цикл `for`, который выводит ASCII-коды всех символов в строке с именем `S`. Для преобразования символов в  целочисленные ASCII-коды используйте встроенную функцию `ord(character)`. (Поэкспериментируйте с ней в  интерактивной оболочке, чтобы понять, как она работает.)"
   ]
  },
  {
   "cell_type": "code",
   "execution_count": 1,
   "metadata": {},
   "outputs": [
    {
     "name": "stdout",
     "output_type": "stream",
     "text": [
      "115 111 109 101 32 115 116 114 105 110 103 "
     ]
    }
   ],
   "source": [
    "S = 'some string'\n",
    "\n",
    "for char in S:\n",
    "    print(ord(char), end=' ')"
   ]
  },
  {
   "cell_type": "code",
   "execution_count": 2,
   "metadata": {},
   "outputs": [
    {
     "data": {
      "text/plain": [
       "[115, 111, 109, 101, 32, 115, 116, 114, 105, 110, 103]"
      ]
     },
     "execution_count": 2,
     "metadata": {},
     "output_type": "execute_result"
    }
   ],
   "source": [
    "[ord(char) for char in S]"
   ]
  },
  {
   "cell_type": "markdown",
   "metadata": {},
   "source": [
    "Затем измените цикл так, чтобы он вычислял сумму кодов ASCII всех\n",
    "символов в строке."
   ]
  },
  {
   "cell_type": "code",
   "execution_count": 3,
   "metadata": {},
   "outputs": [
    {
     "name": "stdout",
     "output_type": "stream",
     "text": [
      "1131\n"
     ]
    }
   ],
   "source": [
    "char_sum = 0\n",
    "for char in S:\n",
    "    char_sum += ord(char)\n",
    "print(char_sum)"
   ]
  },
  {
   "cell_type": "code",
   "execution_count": 4,
   "metadata": {},
   "outputs": [
    {
     "data": {
      "text/plain": [
       "1131"
      ]
     },
     "execution_count": 4,
     "metadata": {},
     "output_type": "execute_result"
    }
   ],
   "source": [
    "sum([ord(char) for char in S])"
   ]
  },
  {
   "cell_type": "markdown",
   "metadata": {},
   "source": [
    "Наконец, измените свой программный код так, чтобы он возвращал новый список, содержащий ASCII-коды всех символов в  строке. Дает ли выражение `map(ord, S)` похожий результат? (Подсказка: прочитайте главу 14.)"
   ]
  },
  {
   "cell_type": "code",
   "execution_count": 5,
   "metadata": {},
   "outputs": [
    {
     "data": {
      "text/plain": [
       "[115, 111, 109, 101, 32, 115, 116, 114, 105, 110, 103]"
      ]
     },
     "execution_count": 5,
     "metadata": {},
     "output_type": "execute_result"
    }
   ],
   "source": [
    "S_new = []\n",
    "for char in S:\n",
    "    S_new.append(ord(char))\n",
    "S_new"
   ]
  },
  {
   "cell_type": "code",
   "execution_count": 6,
   "metadata": {},
   "outputs": [
    {
     "data": {
      "text/plain": [
       "[115, 111, 109, 101, 32, 115, 116, 114, 105, 110, 103]"
      ]
     },
     "execution_count": 6,
     "metadata": {},
     "output_type": "execute_result"
    }
   ],
   "source": [
    "list(map(ord, S))"
   ]
  },
  {
   "cell_type": "markdown",
   "metadata": {},
   "source": [
    "## 2. Символы обратного слэша"
   ]
  },
  {
   "cell_type": "markdown",
   "metadata": {},
   "source": [
    "Что произойдет, если в интерактивной оболочке\n",
    "ввести следующий программный код?\n",
    "```\n",
    "for i in range(50):\n",
    "    print('hello %d\\n\\a' % i)\n",
    "```"
   ]
  },
  {
   "cell_type": "markdown",
   "metadata": {},
   "source": [
    "`\\a` - ASCII Bell (BEL)"
   ]
  },
  {
   "cell_type": "code",
   "execution_count": 7,
   "metadata": {
    "scrolled": true
   },
   "outputs": [
    {
     "name": "stdout",
     "output_type": "stream",
     "text": [
      "hello 0\n",
      "\u0007\n",
      "hello 1\n",
      "\u0007\n",
      "hello 2\n",
      "\u0007\n",
      "hello 3\n",
      "\u0007\n",
      "hello 4\n",
      "\u0007\n"
     ]
    }
   ],
   "source": [
    "for i in range(5):\n",
    "    print('hello %d\\n\\a' % i)"
   ]
  },
  {
   "cell_type": "markdown",
   "metadata": {},
   "source": [
    "## 3. Сортировка словарей"
   ]
  },
  {
   "cell_type": "markdown",
   "metadata": {},
   "source": [
    "В главе 8 мы видели, что словари представляют собой неупорядоченные коллекции. Напишите цикл `for`, который выводит\n",
    "элементы словаря в порядке возрастания. (Подсказка: используйте метод `keys` словаря и метод списка `sort` или новую встроенную функцию `sorted`)"
   ]
  },
  {
   "cell_type": "code",
   "execution_count": 8,
   "metadata": {},
   "outputs": [
    {
     "name": "stdout",
     "output_type": "stream",
     "text": [
      "a b c d "
     ]
    }
   ],
   "source": [
    "D = dict(a=10, b=2, c=4, d=3)\n",
    "\n",
    "for key in sorted(D):\n",
    "    print(key, end=' ')"
   ]
  },
  {
   "cell_type": "markdown",
   "metadata": {},
   "source": [
    "## 4. Программироване альтернативной логики"
   ]
  },
  {
   "cell_type": "markdown",
   "metadata": {},
   "source": [
    "Изучите следующий фрагмент, где для поиска числа 2 в пятой степени (32) в списке степеней числа 2, используется цикл `while` и флаг `found`.\n",
    "\n",
    "```\n",
    "L = [1, 2, 4, 8, 16, 32, 64]\n",
    "X = 5\n",
    "\n",
    "found = False\n",
    "i = 0\n",
    "while not found and i < len(L):\n",
    "    if 2 ** X == L[i]:\n",
    "        found = 1\n",
    "    else:\n",
    "        i = i+1\n",
    "        \n",
    "if found:\n",
    "    print('at index', i)\n",
    "else:\n",
    "    print(X, 'not found')\n",
    "```"
   ]
  },
  {
   "cell_type": "code",
   "execution_count": 9,
   "metadata": {},
   "outputs": [
    {
     "name": "stdout",
     "output_type": "stream",
     "text": [
      "at index 5\n"
     ]
    }
   ],
   "source": [
    "L = [1, 2, 4, 8, 16, 32, 64]\n",
    "X = 5\n",
    "\n",
    "found = False\n",
    "i = 0\n",
    "while not found and i < len(L):\n",
    "    if 2 ** X == L[i]:\n",
    "        found = 1\n",
    "    else:\n",
    "        i = i+1\n",
    "\n",
    "if found:\n",
    "    print('at index', i)\n",
    "else:\n",
    "    print(X, 'not found')"
   ]
  },
  {
   "cell_type": "markdown",
   "metadata": {},
   "source": [
    "В этом примере не используются обычные приемы программирования, принятые в языке Python. Следуя указаниям ниже, попробуйте улучшить его (вы можете вносить изменения в  интерактивной оболочке или сохранять в файле сценария и запускать его из командной строки системы – использование файла существенно упростит это упражнение):\n",
    "\n",
    "a. Сначала добавьте в цикл `while` блок `else`, чтобы избавиться от флага `found` и последней инструкции `if`."
   ]
  },
  {
   "cell_type": "code",
   "execution_count": 10,
   "metadata": {},
   "outputs": [
    {
     "name": "stdout",
     "output_type": "stream",
     "text": [
      "at index 5\n"
     ]
    }
   ],
   "source": [
    "L = [1, 2, 4, 8, 16, 32, 64]\n",
    "X = 5\n",
    "\n",
    "i = 0\n",
    "while i < len(L):\n",
    "    if 2 ** X == L[i]:\n",
    "        print('at index', i)\n",
    "        break\n",
    "    else:\n",
    "        i = i + 1\n",
    "else:\n",
    "    print(X, 'not found')   "
   ]
  },
  {
   "cell_type": "markdown",
   "metadata": {},
   "source": [
    "Затем перепишите пример с циклом `for` и блоком `else`, чтобы избавиться от логики вычисления индексов в списке. (Подсказка: получить индекс элемента можно с  помощью метода `index` (`L.index(X)`), возвращающего смещение первого элемента со значением `X` в списке.)"
   ]
  },
  {
   "cell_type": "code",
   "execution_count": 11,
   "metadata": {},
   "outputs": [
    {
     "name": "stdout",
     "output_type": "stream",
     "text": [
      "at index 5\n"
     ]
    }
   ],
   "source": [
    "for i in L:\n",
    "    idx = L.index(i)\n",
    "    if idx == X:\n",
    "        print('at index', idx)\n",
    "        break\n",
    "else:\n",
    "    print(X, 'not found')"
   ]
  },
  {
   "cell_type": "markdown",
   "metadata": {},
   "source": [
    "Затем вообще избавьтесь от цикла, реализовав решение на основе оператора `in` проверки вхождения. (Подробности вы найдете в главе 8 или попробуйте ввести такое выражение: `2 in [1,2,3]`.)"
   ]
  },
  {
   "cell_type": "code",
   "execution_count": 12,
   "metadata": {},
   "outputs": [
    {
     "name": "stdout",
     "output_type": "stream",
     "text": [
      "at index 5\n"
     ]
    }
   ],
   "source": [
    "if 2**X in L:\n",
    "    print('at index', L.index(2**X))\n",
    "else:\n",
    "    print(X, 'not found')"
   ]
  },
  {
   "cell_type": "markdown",
   "metadata": {},
   "source": [
    "Наконец, вместо литерала списка `L` используйте цикл `for` и метод `append` для заполнения списка степеней двойки."
   ]
  },
  {
   "cell_type": "code",
   "execution_count": 13,
   "metadata": {},
   "outputs": [
    {
     "name": "stdout",
     "output_type": "stream",
     "text": [
      "at index 5\n"
     ]
    }
   ],
   "source": [
    "L = []\n",
    "for i in range(7): L.append(2**i)\n",
    "\n",
    "if 2**X in L:\n",
    "    print('at index', L.index(2**X))\n",
    "else:\n",
    "    print(X, 'not found')"
   ]
  },
  {
   "cell_type": "markdown",
   "metadata": {},
   "source": [
    "Как вы думаете, повысится ли производительность, если выражение `2 ** X` вынести за пределы циклов? Как это можно сделать?"
   ]
  },
  {
   "cell_type": "markdown",
   "metadata": {},
   "source": [
    "Как мы видели в  упражнении 1, Python включает в  себя функцию `map(function, list)`, которая может создать список степеней числа 2: `map(lambda x: 2 ** x, range(7))`. Попробуйте выполнить этот программный код в интерактивной оболочке; с инструкцией `lambda` мы познакомимся в главе 19."
   ]
  },
  {
   "cell_type": "code",
   "execution_count": 14,
   "metadata": {},
   "outputs": [
    {
     "data": {
      "text/plain": [
       "[1, 2, 4, 8, 16, 32, 64]"
      ]
     },
     "execution_count": 14,
     "metadata": {},
     "output_type": "execute_result"
    }
   ],
   "source": [
    "list(map(lambda x: 2**x, range(7)))"
   ]
  }
 ],
 "metadata": {
  "kernelspec": {
   "display_name": "Python 3",
   "language": "python",
   "name": "python3"
  },
  "language_info": {
   "codemirror_mode": {
    "name": "ipython",
    "version": 3
   },
   "file_extension": ".py",
   "mimetype": "text/x-python",
   "name": "python",
   "nbconvert_exporter": "python",
   "pygments_lexer": "ipython3",
   "version": "3.6.6"
  }
 },
 "nbformat": 4,
 "nbformat_minor": 2
}
