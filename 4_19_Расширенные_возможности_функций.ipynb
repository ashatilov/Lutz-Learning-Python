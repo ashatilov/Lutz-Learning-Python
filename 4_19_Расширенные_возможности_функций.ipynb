{
 "cells": [
  {
   "cell_type": "markdown",
   "metadata": {},
   "source": [
    "# Глава 19. Расширенные возможности функций"
   ]
  },
  {
   "cell_type": "markdown",
   "metadata": {},
   "source": [
    "## Концепции проектирования функций"
   ]
  },
  {
   "cell_type": "markdown",
   "metadata": {},
   "source": [
    "**Связность** - как разложить задачу на функции\n",
    "\n",
    "**Взаимодействие** - как должны взаимодействовать функции"
   ]
  },
  {
   "cell_type": "markdown",
   "metadata": {},
   "source": [
    "* **Взаимодействие: для передачи значений функции используйте аргументы, для возврата результатов - инструкцию `return`**\n",
    "\n",
    "\n",
    "* **Взаимодействие: используйте глобальные переменные, только если это действительно необходимо**. Глобальные переменные могут порождать зависимости и проблемы согласованности, которые существенно осложняют отладку программ.\n",
    "\n",
    "\n",
    "* **Взаимодействие: не воздействуйте на изменяемые аргументы, если вызывающая программа не предполагает этого**\n",
    "\n",
    "\n",
    "* **Связность: каждая функция должна иметь единственное назначение**. Хорошо спроектированная функция должна решать одну задачу, которую можно выразить в одном повествовательном предложении (без широкого толкования и союзов)\n",
    "\n",
    "\n",
    "* **Размер: каждая функция должна иметь относительно небольшой размер**\n",
    "\n",
    "\n",
    "* **Взаимодействие: избегайте непосредственного изменения переменных в другом модуле**. Всегда, когда это возможно, для изменения переменных модуля вместо прямых инструкций используйте функции доступа."
   ]
  },
  {
   "cell_type": "markdown",
   "metadata": {},
   "source": [
    "Из приведенных выше правил проектирования есть свои исключения, включая те, что связаны с поддержкой ООП."
   ]
  },
  {
   "cell_type": "markdown",
   "metadata": {},
   "source": [
    "## Рекурсивные функции"
   ]
  },
  {
   "cell_type": "markdown",
   "metadata": {},
   "source": [
    "**Рекурсивные функции** - функции, которые могут вызывать сами себя, прямо или косвенно, образуя цикл.\n",
    "\n",
    "Это достаточно полезный прием, позволяющий реализовать обход структур данных с произвольной и неизвестной заранее организацией, также рекурсия является альтернативой простым циклам и итерациям, хотя и не обязательно более простой или более производительной."
   ]
  },
  {
   "cell_type": "markdown",
   "metadata": {},
   "source": [
    "### Вычисление суммы с применением рекурсии"
   ]
  },
  {
   "cell_type": "code",
   "execution_count": 1,
   "metadata": {},
   "outputs": [
    {
     "data": {
      "text/plain": [
       "15"
      ]
     },
     "execution_count": 1,
     "metadata": {},
     "output_type": "execute_result"
    }
   ],
   "source": [
    "def mysum(L):\n",
    "    if not L:\n",
    "        return 0\n",
    "    else:\n",
    "        return L[0] + mysum(L[1:])  # вызывает себя саму\n",
    "\n",
    "mysum([1, 2, 3, 4, 5])"
   ]
  },
  {
   "cell_type": "markdown",
   "metadata": {},
   "source": [
    "Когда рекурсия используется, как показано здесь, на каждом уровне\n",
    "рекурсии для функции создается собственная копия локальной области видимости на стеке вызовов – в данном случае это означает, что на каждом уровне создается собственная переменная `L`."
   ]
  },
  {
   "cell_type": "markdown",
   "metadata": {},
   "source": [
    "### Альтернативные решения"
   ]
  },
  {
   "cell_type": "code",
   "execution_count": 2,
   "metadata": {},
   "outputs": [],
   "source": [
    "# трехместный оператор\n",
    "def mysum(L):\n",
    "    return 0 if not L else L[0] + mysum(L[1:])\n",
    "\n",
    "# суммирует любые типы, предполагает наличие хотя бы одного значения\n",
    "def mysum(L):\n",
    "    return L[0] if len(L) == 1 else L[0] + mysum(L[1:])\n",
    "\n",
    "# использует расширенную операцию присваивания последовательностей\n",
    "def mysum(L):\n",
    "    first, *rest = L\n",
    "    return first if not rest else first + mysum(rest)"
   ]
  },
  {
   "cell_type": "markdown",
   "metadata": {},
   "source": [
    "Последние две функции будут завершаться с ошибкой при получении пустого списка, но они позволяют находить сумму последовательностей не только чисел, но и объектов любых типов, поддерживающих операцию `+`"
   ]
  },
  {
   "cell_type": "code",
   "execution_count": 3,
   "metadata": {},
   "outputs": [
    {
     "data": {
      "text/plain": [
       "1"
      ]
     },
     "execution_count": 3,
     "metadata": {},
     "output_type": "execute_result"
    }
   ],
   "source": [
    "mysum([1])"
   ]
  },
  {
   "cell_type": "code",
   "execution_count": 4,
   "metadata": {},
   "outputs": [
    {
     "data": {
      "text/plain": [
       "'spamhameggs'"
      ]
     },
     "execution_count": 4,
     "metadata": {},
     "output_type": "execute_result"
    }
   ],
   "source": [
    "mysum(['spam', 'ham', 'eggs'])"
   ]
  },
  {
   "cell_type": "code",
   "execution_count": 5,
   "metadata": {},
   "outputs": [
    {
     "data": {
      "text/plain": [
       "'spam'"
      ]
     },
     "execution_count": 5,
     "metadata": {},
     "output_type": "execute_result"
    }
   ],
   "source": [
    "mysum('spam')  # строка - это последовательность односимвольных строк"
   ]
  },
  {
   "cell_type": "markdown",
   "metadata": {},
   "source": [
    "**Рекурсия может быть прямой**, как в примерах выше, **или косвенной**, как в следующем примере (когда функция вызывает другую функцию, которая в свою очередь вызывает функцию, вызвавшую ее).\n",
    "\n",
    "Конечный результат будет тем же самым, только в этом случае на каждом уровне рекурсии будет выполняться два вызова функций вместо одного:"
   ]
  },
  {
   "cell_type": "code",
   "execution_count": 6,
   "metadata": {},
   "outputs": [
    {
     "data": {
      "text/plain": [
       "16.5"
      ]
     },
     "execution_count": 6,
     "metadata": {},
     "output_type": "execute_result"
    }
   ],
   "source": [
    "def mysum(L):\n",
    "    if not L:\n",
    "        return 0\n",
    "    return nonempty(L)  # вызов функции, которая вызовет эту функцию\n",
    "\n",
    "def nonempty(L):\n",
    "    return L[0] + mysum(L[1:])  # косвенная рекурсия\n",
    "\n",
    "mysum([1.1, 2.2, 3.3, 4.4, 5.5])"
   ]
  },
  {
   "cell_type": "markdown",
   "metadata": {},
   "source": [
    "### Инструкции циклов вместо рекурсии"
   ]
  },
  {
   "cell_type": "markdown",
   "metadata": {},
   "source": [
    "Для случая выше рекурсия - слишком тяжеловесный механизм\n",
    "\n",
    "Инструкция `for`, выполняя итерации автоматически, в большинстве случаев позволяет избавиться от рекурсии (которая обычно менее эффективна с  точки зрения использования памяти и скорости выполнения):"
   ]
  },
  {
   "cell_type": "code",
   "execution_count": 7,
   "metadata": {},
   "outputs": [
    {
     "data": {
      "text/plain": [
       "15"
      ]
     },
     "execution_count": 7,
     "metadata": {},
     "output_type": "execute_result"
    }
   ],
   "source": [
    "L = [1, 2, 3, 4, 5]\n",
    "\n",
    "sum = 0\n",
    "for x in L: sum += x\n",
    "sum"
   ]
  },
  {
   "cell_type": "markdown",
   "metadata": {},
   "source": [
    "При использовании инструкций циклов отпадает необходимость создавать для каждой итерации копии локальной области видимости в стеке вызовов и ликвидируются потери времени, необходимые на вызов функции."
   ]
  },
  {
   "cell_type": "markdown",
   "metadata": {},
   "source": [
    "### Обработка произвольных структур данных"
   ]
  },
  {
   "cell_type": "markdown",
   "metadata": {},
   "source": [
    "С другой стороны, рекурсия (или эквивалентные ей алгоритмы, основанные на использовании стека, которые мы рассмотрим здесь) может оказаться востребованной для реализации обхода структур данных с  произвольной организацией.\n",
    "\n",
    "В качестве простого примера, который поможет оценить роль рекурсии\n",
    "в данном контексте, рассмотрим задачу вычисления суммы всех чисел в структуре, состоящей из вложенных списков, как показано ниже:"
   ]
  },
  {
   "cell_type": "code",
   "execution_count": null,
   "metadata": {},
   "outputs": [],
   "source": [
    "L = [1, [2, [3, 4], 5], 6, [7, 8]] # Произвольно вложенные списки"
   ]
  },
  {
   "cell_type": "markdown",
   "metadata": {},
   "source": [
    "Простые инструкции циклов в этом случае не годятся, потому что выполнить обход такой структуры с помощью линейных итераций не удастся. Вложенные инструкции циклов также не могут использоваться, потому что списки могут иметь произвольные уровни вложенности и  иметь произвольную организацию. Вместо этого следующий пример выполняет обход вложенных списков с помощью рекурсии:"
   ]
  },
  {
   "cell_type": "code",
   "execution_count": 8,
   "metadata": {},
   "outputs": [],
   "source": [
    "def sumtree(L):\n",
    "    tot = 0\n",
    "    for x in L: # Обход элементов одного уровня\n",
    "        if not isinstance(x, list):\n",
    "            tot += x  # Числа суммируются непосредственно\n",
    "        else:\n",
    "            # Списки обрабатываются рекурсивными вызовами\n",
    "            tot += sumtree(x) \n",
    "    return tot"
   ]
  },
  {
   "cell_type": "code",
   "execution_count": 9,
   "metadata": {},
   "outputs": [
    {
     "data": {
      "text/plain": [
       "15"
      ]
     },
     "execution_count": 9,
     "metadata": {},
     "output_type": "execute_result"
    }
   ],
   "source": [
    "sumtree(L)"
   ]
  },
  {
   "cell_type": "code",
   "execution_count": 10,
   "metadata": {},
   "outputs": [
    {
     "name": "stdout",
     "output_type": "stream",
     "text": [
      "15\n"
     ]
    }
   ],
   "source": [
    "# Патологические случаи\n",
    "# Выведет 15 (центр тяжести справа)\n",
    "print(sumtree([1, [2, [3, [4, [5]]]]]))"
   ]
  },
  {
   "cell_type": "code",
   "execution_count": 11,
   "metadata": {},
   "outputs": [
    {
     "name": "stdout",
     "output_type": "stream",
     "text": [
      "15\n"
     ]
    }
   ],
   "source": [
    "# Выведет 15 (центр тяжести слева)\n",
    "print(sumtree([[[[[1], 2], 3], 4], 5]))"
   ]
  },
  {
   "cell_type": "markdown",
   "metadata": {},
   "source": [
    "## Функции – это объекты: атрибуты и аннотации"
   ]
  },
  {
   "cell_type": "markdown",
   "metadata": {},
   "source": [
    "### Косвенный вызов функций"
   ]
  },
  {
   "cell_type": "markdown",
   "metadata": {},
   "source": [
    "Объекты функций могут присваиваться, передаться другим функциям, сохраняться в  структурах данных и  так далее, как если бы они были простыми числами или строками.\n",
    "\n",
    "Кроме того, объекты функций поддерживают специальные операции: они могут вызываться перечислением аргументов в круглых скобках, следующих сразу же за выражением функции. И тем не менее, функции принадлежат к категории обычных объектов.\n",
    "\n",
    "Поскольку аргументы передаются путем присваивания объектов, функции\n",
    "легко можно передавать другим функциям в  виде аргументов. В  результате вызываемая функция может вызвать переданную ей функцию простым добавлением списка аргументов в круглых скобках:"
   ]
  },
  {
   "cell_type": "code",
   "execution_count": 12,
   "metadata": {},
   "outputs": [
    {
     "name": "stdout",
     "output_type": "stream",
     "text": [
      "Argument call!\n"
     ]
    }
   ],
   "source": [
    "def echo(message):\n",
    "    print(message)\n",
    "    \n",
    "def indirect(func, arg):\n",
    "    func(arg)  # вызов объекта добавлением ()\n",
    "    \n",
    "indirect(echo, 'Argument call!')  # передача функции в функцию"
   ]
  },
  {
   "cell_type": "markdown",
   "metadata": {},
   "source": [
    "Существует даже возможность наполнять структуры данных функциями, как\n",
    "если бы они были простыми числами или строками. В этом нет ничего необычного, так как составные типы объектов могут содержать объекты любых типов:"
   ]
  },
  {
   "cell_type": "code",
   "execution_count": 13,
   "metadata": {},
   "outputs": [
    {
     "name": "stdout",
     "output_type": "stream",
     "text": [
      "Spam!\n",
      "Ham!\n"
     ]
    }
   ],
   "source": [
    "schedule = [(echo, 'Spam!'), (echo, 'Ham!')]\n",
    "\n",
    "for func, arg in schedule:\n",
    "    func(arg) # Вызов функции, сохраненной в контейнере"
   ]
  },
  {
   "cell_type": "markdown",
   "metadata": {},
   "source": [
    "Функции могут также создаваться и возвращаться другими функциями"
   ]
  },
  {
   "cell_type": "code",
   "execution_count": 14,
   "metadata": {},
   "outputs": [
    {
     "name": "stdout",
     "output_type": "stream",
     "text": [
      "Spam:Ham!\n"
     ]
    }
   ],
   "source": [
    "def make(label):  # создает функцию, но не вызывает ее\n",
    "    def echo(message):\n",
    "        print(label + ':' + message)\n",
    "    return echo\n",
    "\n",
    "F = make('Spam')  # метка сохраняется во вложенной области видимости\n",
    "F('Ham!')"
   ]
  },
  {
   "cell_type": "code",
   "execution_count": 15,
   "metadata": {},
   "outputs": [
    {
     "name": "stdout",
     "output_type": "stream",
     "text": [
      "Spam:Eggs!\n"
     ]
    }
   ],
   "source": [
    "F('Eggs!')"
   ]
  },
  {
   "cell_type": "markdown",
   "metadata": {},
   "source": [
    "### Интроспекция функций"
   ]
  },
  {
   "cell_type": "markdown",
   "metadata": {},
   "source": [
    "Выражение вызова  – это лишь одна из операций, которые могут применяться к объектам функций. Кроме того, мы можем получить базовый доступ к  атрибутам функции:"
   ]
  },
  {
   "cell_type": "code",
   "execution_count": 16,
   "metadata": {
    "scrolled": false
   },
   "outputs": [
    {
     "data": {
      "text/plain": [
       "['__annotations__',\n",
       " '__call__',\n",
       " '__class__',\n",
       " '__closure__',\n",
       " '__code__',\n",
       " '__defaults__',\n",
       " '__delattr__',\n",
       " '__dict__',\n",
       " '__dir__',\n",
       " '__doc__',\n",
       " '__eq__',\n",
       " '__format__',\n",
       " '__ge__',\n",
       " '__get__',\n",
       " '__getattribute__',\n",
       " '__globals__',\n",
       " '__gt__',\n",
       " '__hash__',\n",
       " '__init__',\n",
       " '__init_subclass__',\n",
       " '__kwdefaults__',\n",
       " '__le__',\n",
       " '__lt__',\n",
       " '__module__',\n",
       " '__name__',\n",
       " '__ne__',\n",
       " '__new__',\n",
       " '__qualname__',\n",
       " '__reduce__',\n",
       " '__reduce_ex__',\n",
       " '__repr__',\n",
       " '__setattr__',\n",
       " '__sizeof__',\n",
       " '__str__',\n",
       " '__subclasshook__']"
      ]
     },
     "execution_count": 16,
     "metadata": {},
     "output_type": "execute_result"
    }
   ],
   "source": [
    "dir(func)"
   ]
  },
  {
   "cell_type": "markdown",
   "metadata": {},
   "source": [
    "Механизмы интроспекции позволяют нам также исследовать детали реализации – каждая функция, например, имеет присоединенный к ней объект с программным кодом, из которого можно получить такие сведения, как список локальных переменных и аргументов:"
   ]
  },
  {
   "cell_type": "code",
   "execution_count": 17,
   "metadata": {},
   "outputs": [
    {
     "data": {
      "text/plain": [
       "<code object echo at 0x7f2ca058f8a0, file \"<ipython-input-12-d55ef35e4539>\", line 1>"
      ]
     },
     "execution_count": 17,
     "metadata": {},
     "output_type": "execute_result"
    }
   ],
   "source": [
    "func.__code__"
   ]
  },
  {
   "cell_type": "code",
   "execution_count": 18,
   "metadata": {
    "scrolled": false
   },
   "outputs": [
    {
     "data": {
      "text/plain": [
       "['__class__',\n",
       " '__delattr__',\n",
       " '__dir__',\n",
       " '__doc__',\n",
       " '__eq__',\n",
       " '__format__',\n",
       " '__ge__',\n",
       " '__getattribute__',\n",
       " '__gt__',\n",
       " '__hash__',\n",
       " '__init__',\n",
       " '__init_subclass__',\n",
       " '__le__',\n",
       " '__lt__',\n",
       " '__ne__',\n",
       " '__new__',\n",
       " '__reduce__',\n",
       " '__reduce_ex__',\n",
       " '__repr__',\n",
       " '__setattr__',\n",
       " '__sizeof__',\n",
       " '__str__',\n",
       " '__subclasshook__',\n",
       " 'co_argcount',\n",
       " 'co_cellvars',\n",
       " 'co_code',\n",
       " 'co_consts',\n",
       " 'co_filename',\n",
       " 'co_firstlineno',\n",
       " 'co_flags',\n",
       " 'co_freevars',\n",
       " 'co_kwonlyargcount',\n",
       " 'co_lnotab',\n",
       " 'co_name',\n",
       " 'co_names',\n",
       " 'co_nlocals',\n",
       " 'co_stacksize',\n",
       " 'co_varnames']"
      ]
     },
     "execution_count": 18,
     "metadata": {},
     "output_type": "execute_result"
    }
   ],
   "source": [
    "dir(func.__code__)"
   ]
  },
  {
   "cell_type": "code",
   "execution_count": 19,
   "metadata": {},
   "outputs": [
    {
     "data": {
      "text/plain": [
       "('message',)"
      ]
     },
     "execution_count": 19,
     "metadata": {},
     "output_type": "execute_result"
    }
   ],
   "source": [
    "func.__code__.co_varnames"
   ]
  },
  {
   "cell_type": "code",
   "execution_count": 20,
   "metadata": {},
   "outputs": [
    {
     "data": {
      "text/plain": [
       "1"
      ]
     },
     "execution_count": 20,
     "metadata": {},
     "output_type": "execute_result"
    }
   ],
   "source": [
    "func.__code__.co_argcount"
   ]
  },
  {
   "cell_type": "markdown",
   "metadata": {},
   "source": [
    "### Атрибуты функций"
   ]
  },
  {
   "cell_type": "code",
   "execution_count": 21,
   "metadata": {},
   "outputs": [
    {
     "data": {
      "text/plain": [
       "1"
      ]
     },
     "execution_count": 21,
     "metadata": {},
     "output_type": "execute_result"
    }
   ],
   "source": [
    "func.count = 0\n",
    "func.count += 1\n",
    "func.count"
   ]
  },
  {
   "cell_type": "code",
   "execution_count": 22,
   "metadata": {},
   "outputs": [
    {
     "data": {
      "text/plain": [
       "'Button-Press'"
      ]
     },
     "execution_count": 22,
     "metadata": {},
     "output_type": "execute_result"
    }
   ],
   "source": [
    "func.handles = 'Button-Press'\n",
    "func.handles"
   ]
  },
  {
   "cell_type": "code",
   "execution_count": 23,
   "metadata": {},
   "outputs": [
    {
     "data": {
      "text/plain": [
       "['__sizeof__', '__str__', '__subclasshook__', 'count', 'handles']"
      ]
     },
     "execution_count": 23,
     "metadata": {},
     "output_type": "execute_result"
    }
   ],
   "source": [
    "dir(func)[-5:]"
   ]
  },
  {
   "cell_type": "markdown",
   "metadata": {},
   "source": [
    "Как было показано в указанной главе, такие атрибуты можно использовать для хранения информации о состоянии непосредственно в объекте функции и отказаться от использования других приемов, таких как применение глобальных или нелокальных переменных и классов.\n",
    "\n",
    "В отличие от нелокальных переменных, атрибуты функций доступны в любом месте программы, где доступна сама функция. В некотором смысле атрибуты можно рассматривать, как имитацию «статических локальных переменных», имеющихся в других языках программирования, – переменных, которые являются локальными для функции, но сохраняют свои значения после выхода из функции. Атрибуты связаны с объектами, а не с областями видимости, но конечный эффект от их использования получается тот же."
   ]
  },
  {
   "cell_type": "markdown",
   "metadata": {},
   "source": [
    "### Аннотации функций в версии 3.0"
   ]
  },
  {
   "cell_type": "markdown",
   "metadata": {},
   "source": [
    "В Python 3.0 (но не в 2.6) имеется также возможность присоединять к объектам функций **краткое описание (аннотацию)** – произвольные данные об аргументах функции и  о возвращаемом значении.\n",
    "\n",
    "Для создания аннотаций в  языке Python используется специальный синтаксис, но интерпретатор не выполняет никаких операций с ними – аннотации совершенно необязательны; если они присутствуют, они просто сохраняются в  атрибутах `__annotations__` объектов функций и могут использоваться другими инструментами."
   ]
  },
  {
   "cell_type": "markdown",
   "metadata": {},
   "source": [
    "* **Аннотации для аргументов** указываются через двоеточие, сразу после имени аргумента.\n",
    "\n",
    "\n",
    "* **Для возвращаемого значения** – после символов `->`, вслед за списком аргументов"
   ]
  },
  {
   "cell_type": "code",
   "execution_count": 24,
   "metadata": {},
   "outputs": [
    {
     "data": {
      "text/plain": [
       "6"
      ]
     },
     "execution_count": 24,
     "metadata": {},
     "output_type": "execute_result"
    }
   ],
   "source": [
    "def func(a: 'spam', b: (1, 10), c: float) -> int:\n",
    "    return a + b + c\n",
    "\n",
    "func(1, 2, 3)"
   ]
  },
  {
   "cell_type": "code",
   "execution_count": 25,
   "metadata": {},
   "outputs": [
    {
     "data": {
      "text/plain": [
       "{'a': 'spam', 'b': (1, 10), 'c': float, 'return': int}"
      ]
     },
     "execution_count": 25,
     "metadata": {},
     "output_type": "execute_result"
    }
   ],
   "source": [
    "func.__annotations__"
   ]
  },
  {
   "cell_type": "markdown",
   "metadata": {},
   "source": [
    "**В аннотированных аргументах все еще можно указывать значения по умолчанию** – аннотация (и символ `:`) находится перед значением по умолчанию (и перед символом `=`).\n",
    "\n",
    "В следующем примере фрагмент `a: 'spam' = 4` означает, что аргумент `a` по умолчанию получает значение `4` и аннотирован строкой `'spam'`:"
   ]
  },
  {
   "cell_type": "code",
   "execution_count": 26,
   "metadata": {},
   "outputs": [],
   "source": [
    "def func(a: 'spam' = 4, b: (1, 10) = 5, c: float = 6) -> int:\n",
    "    return a + b + c"
   ]
  },
  {
   "cell_type": "code",
   "execution_count": 27,
   "metadata": {},
   "outputs": [
    {
     "data": {
      "text/plain": [
       "15"
      ]
     },
     "execution_count": 27,
     "metadata": {},
     "output_type": "execute_result"
    }
   ],
   "source": [
    "func()  # все аргументы получают значения по умолчанию"
   ]
  },
  {
   "cell_type": "code",
   "execution_count": 28,
   "metadata": {},
   "outputs": [
    {
     "data": {
      "text/plain": [
       "16"
      ]
     },
     "execution_count": 28,
     "metadata": {},
     "output_type": "execute_result"
    }
   ],
   "source": [
    "func(1, c=10)  # именованные аргументы действуют как обычно"
   ]
  },
  {
   "cell_type": "markdown",
   "metadata": {},
   "source": [
    "## Анонимные функции: `lambda`"
   ]
  },
  {
   "cell_type": "markdown",
   "metadata": {},
   "source": [
    "Подобно инструкции `def` **выражение `lambda`** создает функцию, которая будет вызываться позднее, но в отличие от инструкции `def`, выражение возвращает функцию, а не связывает ее с  именем. Именно поэтому `lambda`-выражения иногда называют **анонимными (то есть безымянными) функциями**.\n",
    "\n",
    "На практике они часто используются, как способ получить встроенную функцию или отложить выполнение фрагмента программного кода."
   ]
  },
  {
   "cell_type": "markdown",
   "metadata": {},
   "source": [
    "### Основы `lambda`-выражений"
   ]
  },
  {
   "cell_type": "markdown",
   "metadata": {},
   "source": [
    "В общем виде `lambda`-выражение состоит из ключевого слова `lambda`, за которым следуют один или более аргументов (точно так же, как список аргументов в круглых скобках в заголовке инструкции `def`) и далее, вслед за двоеточием, находится выражение:\n",
    "\n",
    "`lambda arg1, arg2, ..., argN: выражение, использующее аргументы`"
   ]
  },
  {
   "cell_type": "markdown",
   "metadata": {},
   "source": [
    "В качестве результата `lambda`-выражения возвращают точно такие же объекты функций, которые создаются инструкциями `def`, но здесь есть несколько различий, которые делают `lambda`-выражения удобными в некоторых специализированных случаях:\n",
    "\n",
    "* **`lambda` - это выражение, а не инструкция**. По этой причине ключевое слово `lambda` может появляться там, где синтаксис не позволяет использовать инструкцию `def`, - внутри литералов или в вызовах функций, например. Кроме того lambda-выражение возвращает значение (новую функцию), которое при желании можно присвоить переменной.\n",
    "\n",
    "\n",
    "* **Тело `lambda` - это не блок инструкций, а единственное выражение**. `lambda`-выражения предназначены для создания простых функций, а инструкции `def` - для решения более сложных задач."
   ]
  },
  {
   "cell_type": "code",
   "execution_count": 29,
   "metadata": {},
   "outputs": [
    {
     "data": {
      "text/plain": [
       "True"
      ]
     },
     "execution_count": 29,
     "metadata": {},
     "output_type": "execute_result"
    }
   ],
   "source": [
    "def func(x, y, z): return x + y + z\n",
    "\n",
    "# аналогичное lambda-выражение\n",
    "\n",
    "f = lambda x, y, z: x + y + z\n",
    "\n",
    "func(1, 2, 3) == f(1, 2, 3)"
   ]
  },
  {
   "cell_type": "markdown",
   "metadata": {},
   "source": [
    "> В `lambda`-выражениях точно так же можно использовать аргументы со значениями по умолчанию:"
   ]
  },
  {
   "cell_type": "code",
   "execution_count": 30,
   "metadata": {},
   "outputs": [
    {
     "data": {
      "text/plain": [
       "'feefiefoe'"
      ]
     },
     "execution_count": 30,
     "metadata": {},
     "output_type": "execute_result"
    }
   ],
   "source": [
    "x = (lambda a='fee', b='fie', c='foe': a + b + c)\n",
    "x()"
   ]
  },
  {
   "cell_type": "markdown",
   "metadata": {},
   "source": [
    "Для `lambda`-выражений используются те же самые правила поиска переменных в областях видимости, что и для вложенных инструкций `def`.\n",
    "\n",
    "`lambda`-выражения создают локальную область видимости, как и вложенные инструкции `def`, и автоматически получают доступ к  именам в объемлющих функциях, в модуле и во встроенной области видимости (в соответствии с правилом LEGB):"
   ]
  },
  {
   "cell_type": "code",
   "execution_count": 31,
   "metadata": {},
   "outputs": [
    {
     "data": {
      "text/plain": [
       "'Sir Robin'"
      ]
     },
     "execution_count": 31,
     "metadata": {},
     "output_type": "execute_result"
    }
   ],
   "source": [
    "def knights():\n",
    "    title = 'Sir'\n",
    "    action = (lambda x: title + ' ' + x)\n",
    "    return action\n",
    "\n",
    "act = knights()\n",
    "act('Robin')"
   ]
  },
  {
   "cell_type": "markdown",
   "metadata": {},
   "source": [
    "### Когда можно использовать `lambda`-выражения?"
   ]
  },
  {
   "cell_type": "markdown",
   "metadata": {},
   "source": [
    "Вообще говоря, `lambda`-выражения очень удобны для создания очень маленьких функций, к  тому же они позволяют встраивать определения функций в программный код, который их использует. Они не являются предметом первой необходимости (вы всегда сможете вместо них использовать инструкции `def`), но они позволяют упростить сценарии, где требуется внедрять небольшие фрагменты программного кода.\n",
    "\n",
    "`lambda`-выражения также часто используются для создания таблиц переходов, которые представляют собой списки или словари действий, выполняемых по требованию. Например:"
   ]
  },
  {
   "cell_type": "code",
   "execution_count": 32,
   "metadata": {},
   "outputs": [
    {
     "name": "stdout",
     "output_type": "stream",
     "text": [
      "4\n",
      "8\n",
      "16\n"
     ]
    }
   ],
   "source": [
    "L = [lambda x: x**2, # Встроенные определения функций\n",
    "     lambda x: x**3,\n",
    "     lambda x: x**4] # Список из трех функций\n",
    "\n",
    "for f in L:\n",
    "    print(f(2))"
   ]
  },
  {
   "cell_type": "markdown",
   "metadata": {},
   "source": [
    "В действительности, подобные таблицы действий в языке Python можно создавать с помощью словарей и других структур данных. Ниже приводится другой пример, выполненный в интерактивном сеансе:"
   ]
  },
  {
   "cell_type": "code",
   "execution_count": 33,
   "metadata": {},
   "outputs": [
    {
     "data": {
      "text/plain": [
       "8"
      ]
     },
     "execution_count": 33,
     "metadata": {},
     "output_type": "execute_result"
    }
   ],
   "source": [
    "key = 'got'\n",
    "\n",
    "{'already': (lambda: 2 + 2),\n",
    " 'got': (lambda: 2 * 4),\n",
    " 'one': (lambda: 2 ** 6)}[key]()"
   ]
  },
  {
   "cell_type": "markdown",
   "metadata": {},
   "source": [
    "**Близость программного кода**, которую обеспечивают `lambda`-выражения, особенно полезна, когда функции используются в единственном месте – если три функции в этом фрагменте не используются где-то еще, определенно имеет смысл встроить их в определение словаря в виде `lambda`-выражений.\n",
    "\n",
    "Кроме того, инструкции `def` требуют даже для маленьких функций указывать имена, а они могут вступить в конфликт с другими именами в файле модуля (возможно, хотя и маловероятно).\n",
    "\n",
    "`lambda`-выражения также очень удобно использовать в  списках аргументов функций – для определения временных функций, которые больше нигде в программе не используются, – мы увидим примеры такого использования ниже, в этой главе, когда будем изучать функцию `map`."
   ]
  },
  {
   "cell_type": "markdown",
   "metadata": {},
   "source": [
    "### Как (не) запутать программный код на языке Python"
   ]
  },
  {
   "cell_type": "markdown",
   "metadata": {},
   "source": [
    "Трехместные операторы внутри `lambda`"
   ]
  },
  {
   "cell_type": "code",
   "execution_count": 34,
   "metadata": {},
   "outputs": [
    {
     "data": {
      "text/plain": [
       "'aa'"
      ]
     },
     "execution_count": 34,
     "metadata": {},
     "output_type": "execute_result"
    }
   ],
   "source": [
    "lower = (lambda x, y: x if x < y else y)\n",
    "lower('aa', 'bb')"
   ]
  },
  {
   "cell_type": "code",
   "execution_count": 35,
   "metadata": {},
   "outputs": [
    {
     "data": {
      "text/plain": [
       "2"
      ]
     },
     "execution_count": 35,
     "metadata": {},
     "output_type": "execute_result"
    }
   ],
   "source": [
    "lower(5, 2)"
   ]
  },
  {
   "cell_type": "markdown",
   "metadata": {},
   "source": [
    "Кроме того, если внутри `lambda`-выражения потребуется выполнять циклы, их можно заменить вызовами функции `map` и генераторами списков"
   ]
  },
  {
   "cell_type": "code",
   "execution_count": 36,
   "metadata": {},
   "outputs": [
    {
     "name": "stdout",
     "output_type": "stream",
     "text": [
      "spam\n",
      "toast\n",
      "eggs\n"
     ]
    }
   ],
   "source": [
    "import sys\n",
    "showall = lambda x: list(map(sys.stdout.write, x))\n",
    "\n",
    "t = showall(['spam\\n', 'toast\\n', 'eggs\\n'])"
   ]
  },
  {
   "cell_type": "markdown",
   "metadata": {},
   "source": [
    "### Вложенные `lambda`-выражения и области видимости"
   ]
  },
  {
   "cell_type": "markdown",
   "metadata": {},
   "source": [
    "`lambda`-выражения чаще других используют возможность поиска в области видимости вложенной функции (символ `E` в названии правила `LEGB`).\n",
    "\n",
    "Например, следующее ниже `lambda`-выражение находится внутри инструкции `def` – типичный случай  – и  потому получает значение имени `x` из области видимости объемлющей функции, имевшееся на момент ее вызова:"
   ]
  },
  {
   "cell_type": "code",
   "execution_count": 37,
   "metadata": {},
   "outputs": [],
   "source": [
    "def action(x):\n",
    "    return (lambda y: x + y)  # создать и вернуть ф-ию, запомнить x"
   ]
  },
  {
   "cell_type": "code",
   "execution_count": 38,
   "metadata": {},
   "outputs": [
    {
     "data": {
      "text/plain": [
       "<function __main__.action.<locals>.<lambda>(y)>"
      ]
     },
     "execution_count": 38,
     "metadata": {},
     "output_type": "execute_result"
    }
   ],
   "source": [
    "act = action(99)\n",
    "act"
   ]
  },
  {
   "cell_type": "code",
   "execution_count": 39,
   "metadata": {},
   "outputs": [
    {
     "data": {
      "text/plain": [
       "101"
      ]
     },
     "execution_count": 39,
     "metadata": {},
     "output_type": "execute_result"
    }
   ],
   "source": [
    "act(2)"
   ]
  },
  {
   "cell_type": "markdown",
   "metadata": {},
   "source": [
    "`lambda`-выражения обладают доступом к именам во всех объемлющих `lambda`-выражениях. Это сложно себе вообразить, но представьте, что мы записали предыдущую инструкцию `def` в виде `lambda`-выражения:"
   ]
  },
  {
   "cell_type": "code",
   "execution_count": 40,
   "metadata": {},
   "outputs": [
    {
     "data": {
      "text/plain": [
       "102"
      ]
     },
     "execution_count": 40,
     "metadata": {},
     "output_type": "execute_result"
    }
   ],
   "source": [
    "action = (lambda x: (lambda y: x + y))\n",
    "act = action(99)\n",
    "act(3)"
   ]
  },
  {
   "cell_type": "code",
   "execution_count": 41,
   "metadata": {},
   "outputs": [
    {
     "data": {
      "text/plain": [
       "103"
      ]
     },
     "execution_count": 41,
     "metadata": {},
     "output_type": "execute_result"
    }
   ],
   "source": [
    "((lambda x: (lambda y: x + y))(99))(4)"
   ]
  },
  {
   "cell_type": "markdown",
   "metadata": {},
   "source": [
    "Эта структура `lambda`-выражений создает функцию, которая при вызове создает другую функцию. В  обоих случаях вложенное `lambda`-выражение имеет доступ к переменной `x` в объемлющем `lambda`-выражении. Этот фрагмент будет\n",
    "работать, но программный код выглядит весьма замысловато, поэтому в интересах соблюдения удобочитаемости лучше избегать использования вложенных друг в друга `lambda`-выражений."
   ]
  },
  {
   "cell_type": "markdown",
   "metadata": {},
   "source": [
    "## Отображение функций на последовательности: `map`"
   ]
  },
  {
   "cell_type": "markdown",
   "metadata": {},
   "source": [
    "**Функция `map`** применяет указанную функцию к  каждому элементу последовательности и возвращает итерируемый объект, содержащий результаты всех вызовов функции."
   ]
  },
  {
   "cell_type": "code",
   "execution_count": 42,
   "metadata": {},
   "outputs": [
    {
     "data": {
      "text/plain": [
       "[11, 12, 13, 14, 15]"
      ]
     },
     "execution_count": 42,
     "metadata": {},
     "output_type": "execute_result"
    }
   ],
   "source": [
    "def inc(x): return x + 10  # функция, которая должна быть вызвана\n",
    "\n",
    "list(map(inc, [1, 2, 3, 4, 5]))"
   ]
  },
  {
   "cell_type": "markdown",
   "metadata": {},
   "source": [
    "Функция `map` ожидает получить в  первом аргументе функцию, поэтому здесь часто можно встретить `lambda`-выражения:"
   ]
  },
  {
   "cell_type": "code",
   "execution_count": 43,
   "metadata": {},
   "outputs": [
    {
     "data": {
      "text/plain": [
       "[11, 12, 13, 14, 15]"
      ]
     },
     "execution_count": 43,
     "metadata": {},
     "output_type": "execute_result"
    }
   ],
   "source": [
    "list(map(lambda x: x + 10, range(1, 6)))"
   ]
  },
  {
   "cell_type": "markdown",
   "metadata": {},
   "source": [
    "Такой вариант использования функции `map` представляет собой эквивалент цикла `for`, поэтому, написав несколько строк, эту утилиту в общем виде вы можете реализовать самостоятельно:"
   ]
  },
  {
   "cell_type": "code",
   "execution_count": 44,
   "metadata": {},
   "outputs": [],
   "source": [
    "def mymap(func, seq):\n",
    "    res = []\n",
    "    for x in seq: res.append(func(x))\n",
    "    return res"
   ]
  },
  {
   "cell_type": "code",
   "execution_count": 45,
   "metadata": {},
   "outputs": [
    {
     "data": {
      "text/plain": [
       "[10, 11, 12, 13, 14]"
      ]
     },
     "execution_count": 45,
     "metadata": {},
     "output_type": "execute_result"
    }
   ],
   "source": [
    "list(map(inc, range(5)))"
   ]
  },
  {
   "cell_type": "code",
   "execution_count": 46,
   "metadata": {},
   "outputs": [
    {
     "data": {
      "text/plain": [
       "[10, 11, 12, 13, 14]"
      ]
     },
     "execution_count": 46,
     "metadata": {},
     "output_type": "execute_result"
    }
   ],
   "source": [
    "mymap(inc, range(5))"
   ]
  },
  {
   "cell_type": "markdown",
   "metadata": {},
   "source": [
    "Однако функция `map` является встроенной функцией, поэтому она доступна всегда, всегда работает одним и  тем же способом и  обладает некоторыми\n",
    "преимуществами производительности"
   ]
  },
  {
   "cell_type": "markdown",
   "metadata": {},
   "source": [
    ">**При передаче нескольких последовательностей** функция `map` предполагает, что ей будет передана функция, принимающая N аргументов для N последовательностей."
   ]
  },
  {
   "cell_type": "markdown",
   "metadata": {},
   "source": [
    "Здесь функция `pow` при каждом вызове принимает от функции `map` два\n",
    "аргумента – по одному из каждой последовательности."
   ]
  },
  {
   "cell_type": "code",
   "execution_count": 47,
   "metadata": {},
   "outputs": [
    {
     "data": {
      "text/plain": [
       "[1, 8, 81]"
      ]
     },
     "execution_count": 47,
     "metadata": {},
     "output_type": "execute_result"
    }
   ],
   "source": [
    "list(map(pow, [1, 2, 3], [2, 3, 4]))"
   ]
  },
  {
   "cell_type": "markdown",
   "metadata": {},
   "source": [
    "Этот вызов функции `map` напоминает генераторы списков, которые рассматривались в  главе  14, и  с которыми мы встретимся еще раз в  следующей главе.\n",
    "\n",
    "Основное отличие состоит в том, что `map` применяет к каждому элементу последовательности не произвольное выражение, а функцию. Вследствие этого ограничения она обладает меньшей гибкостью. Однако, современная реализация\n",
    "`map` в некоторых случаях обладает более высокой производительностью, чем генераторы списков (например, когда отображается встроенная функция), и использовать ее проще."
   ]
  },
  {
   "cell_type": "markdown",
   "metadata": {},
   "source": [
    "## Средства функционального программирования: `filter` и `reduce`"
   ]
  },
  {
   "cell_type": "markdown",
   "metadata": {},
   "source": [
    "Родственные `map` функции отфильтровывают элементы с помощью функций, выполняющих проверку (`filter`), и применяют функции к парам элементов, накапливая результаты (`reduce`).\n",
    "\n",
    "Например, следующий вызов функции `filter` отбирает элементы последовательности больше нуля:"
   ]
  },
  {
   "cell_type": "code",
   "execution_count": 48,
   "metadata": {},
   "outputs": [
    {
     "data": {
      "text/plain": [
       "[1, 2, 3, 4]"
      ]
     },
     "execution_count": 48,
     "metadata": {},
     "output_type": "execute_result"
    }
   ],
   "source": [
    "list(filter((lambda x: x > 0), range(-5, 5)))"
   ]
  },
  {
   "cell_type": "markdown",
   "metadata": {},
   "source": [
    "**Функция `reduce`** в 3.0 была перемещена в **модуль `functools`**. Она принимает итератор, но сама возвращает не итератор, а  одиночный объект.\n",
    "Ниже приводятся два вызова функции `reduce`, которые вычисляют сумму\n",
    "и произведение элементов списка:"
   ]
  },
  {
   "cell_type": "code",
   "execution_count": 49,
   "metadata": {},
   "outputs": [
    {
     "data": {
      "text/plain": [
       "10"
      ]
     },
     "execution_count": 49,
     "metadata": {},
     "output_type": "execute_result"
    }
   ],
   "source": [
    "from functools import reduce\n",
    "\n",
    "reduce((lambda x, y: x + y), [1, 2, 3, 4])"
   ]
  },
  {
   "cell_type": "code",
   "execution_count": 50,
   "metadata": {},
   "outputs": [
    {
     "data": {
      "text/plain": [
       "24"
      ]
     },
     "execution_count": 50,
     "metadata": {},
     "output_type": "execute_result"
    }
   ],
   "source": [
    "reduce((lambda x, y: x * y), [1, 2, 3, 4])"
   ]
  },
  {
   "cell_type": "markdown",
   "metadata": {},
   "source": [
    "На каждом шаге функция `reduce` передает текущую сумму или произведение\n",
    "вместе со следующим элементом списка `lambda`-функции. По умолчанию первый элемент последовательности принимается в  качестве начального значения.\n",
    "\n",
    "`reduce` может принимать третий необязательный аргумент, который используется в  качестве начального значения и  служит значением по умолчанию, когда передаваемая последовательность не содержит ни одного элемента"
   ]
  },
  {
   "cell_type": "code",
   "execution_count": 51,
   "metadata": {},
   "outputs": [
    {
     "data": {
      "text/plain": [
       "0"
      ]
     },
     "execution_count": 51,
     "metadata": {},
     "output_type": "execute_result"
    }
   ],
   "source": [
    "reduce((lambda x, y: x * y), [1, 2, 3, 4], 0)"
   ]
  }
 ],
 "metadata": {
  "kernelspec": {
   "display_name": "Python 3",
   "language": "python",
   "name": "python3"
  },
  "language_info": {
   "codemirror_mode": {
    "name": "ipython",
    "version": 3
   },
   "file_extension": ".py",
   "mimetype": "text/x-python",
   "name": "python",
   "nbconvert_exporter": "python",
   "pygments_lexer": "ipython3",
   "version": "3.6.6"
  }
 },
 "nbformat": 4,
 "nbformat_minor": 2
}
