{
 "cells": [
  {
   "cell_type": "markdown",
   "metadata": {},
   "source": [
    "# Глава 2. Как Python запускает программы"
   ]
  },
  {
   "cell_type": "markdown",
   "metadata": {},
   "source": [
    "<img src='./images/1_1_Program_run.png'></img>"
   ]
  },
  {
   "cell_type": "markdown",
   "metadata": {},
   "source": [
    "* **Интерпретатор python** - программа, которая выполняет программы на языке Python\n",
    "\n",
    "\n",
    "* **Исходный программный код** - инструкции, которые составляют программу\n",
    "\n",
    "\n",
    "* **Байт код** - низкоуровневое представление программы после ее компиляции. Байт код сохраняется в файлах .pyc\n",
    "\n",
    "\n",
    "* **PVM (Python Virtual Machine)** - механизм Python, который интерпретирует компилированный программный код"
   ]
  },
  {
   "cell_type": "markdown",
   "metadata": {},
   "source": [
    "***"
   ]
  },
  {
   "cell_type": "markdown",
   "metadata": {},
   "source": [
    "# Глава 3. Как пользователь запускает программы"
   ]
  },
  {
   "cell_type": "markdown",
   "metadata": {},
   "source": [
    "**Интерактивная командная оболочка**\n",
    "\n",
    "Команды исполняются сразу же после нажатия Enter, хорошо для экспериментов, но программы, введенные во время интерактивного сеанса, нигде не сохраняются"
   ]
  },
  {
   "cell_type": "markdown",
   "metadata": {},
   "source": [
    "**Модуль** - файл с кодом на Python, который может быть импортирован другими файлами"
   ]
  },
  {
   "cell_type": "code",
   "execution_count": 1,
   "metadata": {},
   "outputs": [
    {
     "name": "stdout",
     "output_type": "stream",
     "text": [
      "linux\n",
      "1267650600228229401496703205376\n",
      "Spam!Spam!Spam!Spam!Spam!Spam!Spam!Spam!\n"
     ]
    }
   ],
   "source": [
    "# Первый сценарий на языке Python\n",
    "import sys\n",
    "print(sys.platform)\n",
    "print(2 ** 100)\n",
    "x = 'Spam!'\n",
    "print(x * 8)"
   ]
  },
  {
   "cell_type": "markdown",
   "metadata": {},
   "source": [
    "**shebang** - первая строка в файлах в системе linux, указывающая, где находится интерпретатор Python\n",
    "\n",
    "\n",
    "`#!/usr/local/bin/python`\n",
    "\n",
    "`#!/usr/bin/env python` - env сама отыщет интерпретатор Python"
   ]
  },
  {
   "cell_type": "markdown",
   "metadata": {},
   "source": [
    "`import` - выполняет загрузку другого файла и обеспечивает доступ к его содержимому\n",
    "\n",
    "**операция импорта** на заключительном этапе приводит к **выполнению** программного кода загружаемого файла (но один раз, если импортировать повторно, то исполняться код не будет). Если необходим многократный запуск (импорт) модуля, можно воспользоватся функцие `reload` из модуля `imp` стандартной библиотеки (`from imp import reload`).\n",
    "\n",
    "Но операция перезагрузки не является транзитивной - перезагружается только модуль, указанный в вызове функции reload, но не перезагружаются модули, которые он импортирует.\n",
    "\n",
    "`reload` принимает только имя уже загруженного модуля"
   ]
  },
  {
   "cell_type": "code",
   "execution_count": 2,
   "metadata": {},
   "outputs": [
    {
     "name": "stdout",
     "output_type": "stream",
     "text": [
      "The Zen of Python, by Tim Peters\n",
      "\n",
      "Beautiful is better than ugly.\n",
      "Explicit is better than implicit.\n",
      "Simple is better than complex.\n",
      "Complex is better than complicated.\n",
      "Flat is better than nested.\n",
      "Sparse is better than dense.\n",
      "Readability counts.\n",
      "Special cases aren't special enough to break the rules.\n",
      "Although practicality beats purity.\n",
      "Errors should never pass silently.\n",
      "Unless explicitly silenced.\n",
      "In the face of ambiguity, refuse the temptation to guess.\n",
      "There should be one-- and preferably only one --obvious way to do it.\n",
      "Although that way may not be obvious at first unless you're Dutch.\n",
      "Now is better than never.\n",
      "Although never is often better than *right* now.\n",
      "If the implementation is hard to explain, it's a bad idea.\n",
      "If the implementation is easy to explain, it may be a good idea.\n",
      "Namespaces are one honking great idea -- let's do more of those!\n"
     ]
    }
   ],
   "source": [
    "# The Zen of Python\n",
    "import this"
   ]
  },
  {
   "cell_type": "code",
   "execution_count": 3,
   "metadata": {
    "scrolled": false
   },
   "outputs": [
    {
     "name": "stdout",
     "output_type": "stream",
     "text": [
      "The Zen of Python, by Tim Peters\n",
      "\n",
      "Beautiful is better than ugly.\n",
      "Explicit is better than implicit.\n",
      "Simple is better than complex.\n",
      "Complex is better than complicated.\n",
      "Flat is better than nested.\n",
      "Sparse is better than dense.\n",
      "Readability counts.\n",
      "Special cases aren't special enough to break the rules.\n",
      "Although practicality beats purity.\n",
      "Errors should never pass silently.\n",
      "Unless explicitly silenced.\n",
      "In the face of ambiguity, refuse the temptation to guess.\n",
      "There should be one-- and preferably only one --obvious way to do it.\n",
      "Although that way may not be obvious at first unless you're Dutch.\n",
      "Now is better than never.\n",
      "Although never is often better than *right* now.\n",
      "If the implementation is hard to explain, it's a bad idea.\n",
      "If the implementation is easy to explain, it may be a good idea.\n",
      "Namespaces are one honking great idea -- let's do more of those!\n"
     ]
    },
    {
     "data": {
      "text/plain": [
       "<module 'this' from '/home/shurik/anaconda3/lib/python3.6/this.py'>"
      ]
     },
     "execution_count": 3,
     "metadata": {},
     "output_type": "execute_result"
    }
   ],
   "source": [
    "from imp import reload\n",
    "reload(this)"
   ]
  },
  {
   "cell_type": "markdown",
   "metadata": {},
   "source": [
    "Операции импортирования и перезагрузки модулей обеспечивают естественный способ запуска программы, так как на заключительном этапе этих операций производится исполнение файлов. При этом в более широком понимании модули играют роль библиотек инструментов.\n",
    "\n",
    "Модуль  – это, главным образом, всего лишь пакет имен переменных, известный как **пространство имен**.\n",
    "\n",
    "Имена внутри этого пакета называются **атрибутами**, то есть атрибут – это имя переменной, которая связана с определенным объектом (таким как модуль)."
   ]
  },
  {
   "cell_type": "markdown",
   "metadata": {},
   "source": [
    "Вообще синтаксис точечной нотации в виде `object.attribute` позволяет получить доступ к любому атрибуту в любом объекте, и этот прием широко используется в программном коде на языке Python."
   ]
  },
  {
   "cell_type": "markdown",
   "metadata": {},
   "source": [
    "`dir` - функция для получения списка всех имен (атрибутов), доступных внутри модуля"
   ]
  },
  {
   "cell_type": "markdown",
   "metadata": {},
   "source": [
    "Каждый файл модуля - это самостоятельный пакет переменных, или **пространство имен (namespace)**"
   ]
  },
  {
   "cell_type": "markdown",
   "metadata": {},
   "source": [
    "Запуск модулей с помощью функции **`exec`**\n",
    "\n",
    "`exec(open('module.py').read())`  – это еще один способ выполнять файлы из интерактивной оболочки, фактически не импортируя модуль.\n",
    "\n",
    "Каждый последующий вызов `exec` будет выполнять текущую версию файла и  ликвидирует необходимость позднее выполнять перезагрузку модуля, но при этом возможно затирание переменных."
   ]
  },
  {
   "cell_type": "markdown",
   "metadata": {},
   "source": [
    "### Отладка кода"
   ]
  },
  {
   "cell_type": "markdown",
   "metadata": {},
   "source": [
    "**`pdb`** - отладчик командной строки, доступный в виде модуля из стандартной библиотеки.\n",
    "\n",
    "При его использовании можно выполнять программный код построчно, отображать значения переменных, устанавливать и сбрасывать точки останова и т.д."
   ]
  }
 ],
 "metadata": {
  "kernelspec": {
   "display_name": "Python 3",
   "language": "python",
   "name": "python3"
  },
  "language_info": {
   "codemirror_mode": {
    "name": "ipython",
    "version": 3
   },
   "file_extension": ".py",
   "mimetype": "text/x-python",
   "name": "python",
   "nbconvert_exporter": "python",
   "pygments_lexer": "ipython3",
   "version": "3.6.6"
  }
 },
 "nbformat": 4,
 "nbformat_minor": 2
}
