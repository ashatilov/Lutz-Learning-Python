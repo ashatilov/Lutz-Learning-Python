{
 "cells": [
  {
   "cell_type": "markdown",
   "metadata": {},
   "source": [
    "# Глава 18. Аргументы"
   ]
  },
  {
   "cell_type": "markdown",
   "metadata": {},
   "source": [
    "*Передача аргументов* - способ передачи объектов в функции"
   ]
  },
  {
   "cell_type": "markdown",
   "metadata": {},
   "source": [
    "## Передача аргументов"
   ]
  },
  {
   "cell_type": "markdown",
   "metadata": {},
   "source": [
    ">**Передача аргументов** производится посредством **операции присваивания**"
   ]
  },
  {
   "cell_type": "markdown",
   "metadata": {},
   "source": [
    "* **Аргументы передаются через автоматическое присваивание объектов локальным переменным**. Аргументы функции - ссылки на объекты, которые (возможно) используются совместно с вызывающей программой, - это всего лишь результат еще одной из разновидностей операции присваивания.\n",
    "\n",
    "\n",
    "* **Операция присваивания именам аргументов внутри функций не оказывает влияния на вызывающую программу**. При вызове функции имена аргументов, указанные в ее заголовке, становятся новыми локальными именами в области видимости функции. Это не является совмещением имен между именами аргументов и именами в вызывающей программе.\n",
    "\n",
    "\n",
    "* **Изменение внутри функции аргумента, который является изменяемым объектом, может оказывать влияние на вызывающую программу**"
   ]
  },
  {
   "cell_type": "markdown",
   "metadata": {},
   "source": [
    "Схема передачи аргументов посредством присваивания:\n",
    "\n",
    "* **Неизменяемые объекты передаются \"по значению\"**. Такие объекты, как целые числа и строки, передаются в виде ссылок на объекты, а не в виде копий объектов, но так как неизменяемые объекты невозможно изменить непосредственно, передача таких объектов очень напоминает копирование.\n",
    "\n",
    "\n",
    "* **Изменяемые объекты передаются \"по указателю\"**. такие объекты, как списки и словари, также передаются в виде ссылок на объекты, что очень похоже на то, как в языке C передаются указатели на массивы, - изменяемые объекты допускают возможность непосредственного изменения внутри функции так же, как и массивы в языке C."
   ]
  },
  {
   "cell_type": "markdown",
   "metadata": {},
   "source": [
    "### Аргументы и разделяемые ссылки"
   ]
  },
  {
   "cell_type": "code",
   "execution_count": 1,
   "metadata": {},
   "outputs": [
    {
     "name": "stdout",
     "output_type": "stream",
     "text": [
      "88\n"
     ]
    }
   ],
   "source": [
    "def f(a):  # имени а присваивается переданный объект\n",
    "    a = 99 # изменяется только локальная переменная\n",
    "    \n",
    "b = 88\n",
    "f(b)  # первоначально имена a и b ссылаются на одно и то же число 88\n",
    "print(b) # переменная b не изменилась"
   ]
  },
  {
   "cell_type": "code",
   "execution_count": 2,
   "metadata": {},
   "outputs": [
    {
     "data": {
      "text/plain": [
       "(1, ['spam', 2])"
      ]
     },
     "execution_count": 2,
     "metadata": {},
     "output_type": "execute_result"
    }
   ],
   "source": [
    "def changer(a, b): # В аргументах передаются ссылки на объекты\n",
    "    a = 2          # Изменяется только значение локального имени\n",
    "    b[0] = 'spam'  # Изменяется непосредственно разделяемый объект\n",
    "    \n",
    "X = 1\n",
    "L = [1, 2]         # Вызывающая программа\n",
    "changer(X, L)      # Передаются изменяемый и неизменяемый объекты\n",
    "X, L               # Переменная X – не изменилась, L - изменилась"
   ]
  },
  {
   "cell_type": "markdown",
   "metadata": {},
   "source": [
    "Так как `a` – это локальная переменная в области видимости функции, первая операция присваивания не имеет эффекта для вызывающей программы – она всего лишь изменяет локальную переменную `a`, записывая в нее ссылку на совершенно другой объект, и не изменяет связанное с ней имя `X` в вызывающей программе. Здесь все происходит точно так же, как в предыдущем примере.\n",
    "\n",
    "`b` – также локальная переменная, но в ней передается изменяемый объект (список, на который ссылается переменная `L` в  вызывающей программе).\n",
    "\n",
    "Поскольку вторая операция присваивания воздействует непосредственно на изменяемый объект, результат присваивания элементу `b[0]` в  функции оказывает влияние на значение имени `L` после выхода из функции."
   ]
  },
  {
   "cell_type": "code",
   "execution_count": 3,
   "metadata": {},
   "outputs": [
    {
     "data": {
      "text/plain": [
       "[1, 2]"
      ]
     },
     "execution_count": 3,
     "metadata": {},
     "output_type": "execute_result"
    }
   ],
   "source": [
    "def deleter(b): \n",
    "    del b  # удалить только ссылку - локальную переменную b\n",
    "    \n",
    "L = [1, 2]        \n",
    "deleter(L)\n",
    "L"
   ]
  },
  {
   "cell_type": "code",
   "execution_count": 4,
   "metadata": {},
   "outputs": [
    {
     "data": {
      "text/plain": [
       "[2]"
      ]
     },
     "execution_count": 4,
     "metadata": {},
     "output_type": "execute_result"
    }
   ],
   "source": [
    "def deleter(b): \n",
    "    del b[0]\n",
    "    \n",
    "L = [1, 2]        \n",
    "deleter(L)\n",
    "L"
   ]
  },
  {
   "cell_type": "markdown",
   "metadata": {},
   "source": [
    "### Как избежать воздействий на изменяемые аргументы"
   ]
  },
  {
   "cell_type": "markdown",
   "metadata": {},
   "source": [
    "Если нам требуется избежать влияния непосредственных изменений\n",
    "объектов, производимых в  функциях, на вызывающую программу, мы можем **просто явно копировать изменяемые объекты**.\n",
    "\n",
    "В случае с аргументами функций мы всегда можем скопировать список в точке вызова:"
   ]
  },
  {
   "cell_type": "code",
   "execution_count": 5,
   "metadata": {},
   "outputs": [
    {
     "data": {
      "text/plain": [
       "[1, 2]"
      ]
     },
     "execution_count": 5,
     "metadata": {},
     "output_type": "execute_result"
    }
   ],
   "source": [
    "def changer(a, b):\n",
    "    a = 2\n",
    "    b[0] = 'spam'\n",
    "\n",
    "X = 1\n",
    "L = [1, 2]\n",
    "changer(X, L[:])\n",
    "L"
   ]
  },
  {
   "cell_type": "markdown",
   "metadata": {},
   "source": [
    "Можно также создать копию внутри функции, если для нас нежелательно,\n",
    "чтобы функция изменяла объект, независимо от способа его передачи:"
   ]
  },
  {
   "cell_type": "code",
   "execution_count": 6,
   "metadata": {},
   "outputs": [],
   "source": [
    "def changer(a, b):\n",
    "    b = b[:]  # входной списко копируется\n",
    "    a = 2\n",
    "    b[0] = 'spam'  # изменится только копия списка"
   ]
  },
  {
   "cell_type": "markdown",
   "metadata": {},
   "source": [
    "### Имитация выходных параметров"
   ]
  },
  {
   "cell_type": "markdown",
   "metadata": {},
   "source": [
    "Инструкция `return` может возвращать объект любого типа, поэтому с ее помощью можно возвращать сразу несколько значений, упаковав их в  кортеж или в коллекцию любого другого типа.\n",
    "\n",
    "Например, `return x, y`. Выглядит так, как будто функция возвращает два значения, но на самом деле – это единственный кортеж, состоящий из двух элементов, а необязательные окружающие скобки просто опущены."
   ]
  },
  {
   "cell_type": "markdown",
   "metadata": {},
   "source": [
    "## Специальные режимы сопоставления аргументов"
   ]
  },
  {
   "cell_type": "markdown",
   "metadata": {},
   "source": [
    "По умолчанию сопоставление аргументов производится в соответствии с  их позициями, слева направо, и функции должно передаваться столько аргументов, сколько имен указано в  заголовке функции.\n",
    "\n",
    "Но кроме этого существует возможность явно указывать соответствия между аргументами и  именами, определять значения по умолчанию и передавать дополнительные аргументы."
   ]
  },
  {
   "cell_type": "markdown",
   "metadata": {},
   "source": [
    "### Основы"
   ]
  },
  {
   "cell_type": "markdown",
   "metadata": {},
   "source": [
    "* **Сопоставление по позиции: значения и имена ставятся в соответствие по порядку, слева направо**. Обычный случай, значения и имена аргументов ставятся в соответствие в порядке их следования слева направо.\n",
    "\n",
    "\n",
    "* **Сопоставление по именам: соответствие определяется по указанным именам аргументов**. Вызывающая программа иметт возможность указать соответствие между аргументами функции и их значениями в момент вызова, используя синтаксис `argument=value`.\n",
    "\n",
    "\n",
    "* **Значения по умолчанию: указываются значения аргументов, которые могут не передаваться**. Функциии могут определять значения аргументов по умолчанию на тот случай, если вызывающая программа передаст недостаточное количество значений. Здесь также используется синтаксис `argument=value`.\n",
    "\n",
    "\n",
    "* **Переменное число аргументов: прием произвольного числа аргументов, позиционных или именованных**. Функции могут использовать специальный аргумент, имени которого предшествует один или два символа `*`, для объединения произвольного числа дополнительных аргументов в коллекцию.\n",
    "\n",
    "\n",
    "* **Переменное число аргументов: передача произвольного числа аргументов, позиционных или именованных**. Вызывающая программа также может использовать синтаксис с символом `*` для распаковывания коллекции аргументов в отдельные аргументы. В данном случае символ `*` имеет обратный смысл по отношению к символу `*` в заголовке функции - в заголовке он означает коллекцию произвольного числа аргументов, тогда как в вызывающей программе - передачу коллекции в виде произвольного числа отдельных аргументов.\n",
    "\n",
    "\n",
    "* **Только именованные аргументы: аргументы, которые должны передаваться только по имени**. В Python 3 функции могут определять аргументы, которые должны передаваться по именам, то есть в виде именованных, а не позиционных аргументов. Такие аргументы обычно используются для определения параметров настройки, дополняющих фактические аргументы."
   ]
  },
  {
   "cell_type": "markdown",
   "metadata": {},
   "source": [
    "### Синтаксис сопоставления"
   ]
  },
  {
   "cell_type": "markdown",
   "metadata": {},
   "source": [
    "| **Синтаксис** | **Местоположение** | **Интерпретация** |\n",
    "| --- | --- | --- |\n",
    "| `func(value)` | Вызывающая программа | Обычный аргумент: сопоставление производится по позиции |\n",
    "| `func(name=value)` | Вызывающая программа | Именованный аргумент: сопоставление производится по указанномму имени |\n",
    "| `func(*sequence)` | Вызывающая программа | Все объекты в указанной последовательности передаются как отдельные позиционные аргументы |\n",
    "| `func(**dict)` | Вызывающая программа | Все пары ключ/значение в указанном словаре передаются как отдельные аргументы |\n",
    "| `def func(name)` | Функция | Обычный аргумент: сопоставление производится по позиции или имени |\n",
    "| `def func(name=value)` | Функция | Значение аргумента по умолчанию, на случай, если аргумент не передается функции |\n",
    "| `def func(*name)` | Функция | Определяет и объединяет все дополнительные аргументы в кортеж |\n",
    "| `def func(**name)` | Функция | Определяет и объединяет все дополнительные именованные аргументы в словарь |\n",
    "| `def func(*args, name)`, `def func(*, name=value)` | Функция | Аргументы, которые должны передаваться функции только по именам |"
   ]
  },
  {
   "cell_type": "markdown",
   "metadata": {},
   "source": [
    "### Тонкости сопоставления"
   ]
  },
  {
   "cell_type": "markdown",
   "metadata": {},
   "source": [
    "* В **вызове** функции аргументы должны указываться в следующем порядке:\n",
    "    * любые позиционные аргументы (значения), за которыми могут следовать\n",
    "    * любые именованные аргументы (`name=value`) и аргументы в форме `*sequence`, за которыми могут следовать\n",
    "    * аргументы в форме `**dict`\n",
    "    \n",
    "    \n",
    "* В **заголовке** функции аргументы должны указываться в следующем порядке:\n",
    "    * любые обычные аргументы (`name`), за которыми могут следовать \n",
    "    * аргументы со значениями по умолчанию (`name=value`), за которыми следуют\n",
    "    * аргументы в форме `*name`, если имеются, за которыми могут следовать\n",
    "    * любые имена или пары `name=value` аргументов, которые передаются только по имени, за которыми могут следовать\n",
    "    * аргументы в форме `**name`"
   ]
  },
  {
   "cell_type": "markdown",
   "metadata": {},
   "source": [
    "Действия, которые выполняет интерпретатор при сопоставлении аргументов перед присваиванием, грубо можно описать так:\n",
    "1. Сопоставление неименованных аргументов по позициям\n",
    "2. Сопоставление именованных аргументов по именам\n",
    "3. Сопоставление дополнительных неименованных аргументов с кортежем `*name`\n",
    "4. Сопоставление дополнительных именованных аргументов со словарем `**name`\n",
    "5. Сопоставление значений по умолчанию с отсутствующими именованными аргументами.\n",
    "\n",
    "После этого интерпретатор убеждается, что каждому аргументу соответствует только одно значение, – в противном случае возбуждается исключение. По окончании сопоставления всех аргументов интерпретатор связывает имена аргументов с полученными объектами."
   ]
  },
  {
   "cell_type": "markdown",
   "metadata": {},
   "source": [
    "> В Python 3 имена аргументов в заголовке функции могут также снабжаться **аннотациями** в форме `name:value` (или `name:value=default)`, если имеется значение по умолчанию). Это просто возможность вставлять дополнительное описание аргументов, которая никак не влияет и  не изменяет правила, определяющие порядок следования аргументов.\n",
    ">\n",
    ">Сама функция также может снабжаться аннотацией в форме `def f()->value`."
   ]
  },
  {
   "cell_type": "markdown",
   "metadata": {},
   "source": [
    "### Примеры использования именованных аргументов и значений по умолчанию"
   ]
  },
  {
   "cell_type": "markdown",
   "metadata": {},
   "source": [
    "#### Именованные аргументы"
   ]
  },
  {
   "cell_type": "code",
   "execution_count": 7,
   "metadata": {},
   "outputs": [],
   "source": [
    "def f(a, b, c):\n",
    "    print(a, b, c)"
   ]
  },
  {
   "cell_type": "code",
   "execution_count": 8,
   "metadata": {},
   "outputs": [
    {
     "name": "stdout",
     "output_type": "stream",
     "text": [
      "1 2 3\n"
     ]
    }
   ],
   "source": [
    "f(1, 2, 3)  # передача аргументов по позициям"
   ]
  },
  {
   "cell_type": "code",
   "execution_count": 9,
   "metadata": {},
   "outputs": [
    {
     "name": "stdout",
     "output_type": "stream",
     "text": [
      "1 2 3\n"
     ]
    }
   ],
   "source": [
    "f(c=3, b=2, a=1)  # передача по именам"
   ]
  },
  {
   "cell_type": "code",
   "execution_count": 10,
   "metadata": {},
   "outputs": [
    {
     "name": "stdout",
     "output_type": "stream",
     "text": [
      "1 2 3\n"
     ]
    }
   ],
   "source": [
    "f(1, c=3, b=2)  # объединение передачи по позициям и именам"
   ]
  },
  {
   "cell_type": "markdown",
   "metadata": {},
   "source": [
    "#### Значения по умолчанию"
   ]
  },
  {
   "cell_type": "code",
   "execution_count": 11,
   "metadata": {},
   "outputs": [],
   "source": [
    "def f(a, b=2, c=3):\n",
    "    print(a, b, c)"
   ]
  },
  {
   "cell_type": "code",
   "execution_count": 12,
   "metadata": {},
   "outputs": [
    {
     "name": "stdout",
     "output_type": "stream",
     "text": [
      "1 2 3\n"
     ]
    }
   ],
   "source": [
    "f(1)"
   ]
  },
  {
   "cell_type": "code",
   "execution_count": 13,
   "metadata": {},
   "outputs": [
    {
     "name": "stdout",
     "output_type": "stream",
     "text": [
      "1 2 3\n"
     ]
    }
   ],
   "source": [
    "f(a=1)"
   ]
  },
  {
   "cell_type": "code",
   "execution_count": 14,
   "metadata": {},
   "outputs": [
    {
     "name": "stdout",
     "output_type": "stream",
     "text": [
      "1 2 6\n"
     ]
    }
   ],
   "source": [
    "f(1, c=6)"
   ]
  },
  {
   "cell_type": "markdown",
   "metadata": {},
   "source": [
    "#### Комбинирование именованных аргументов и значений по умолчанию"
   ]
  },
  {
   "cell_type": "code",
   "execution_count": 15,
   "metadata": {},
   "outputs": [],
   "source": [
    "def func(spam, eggs, toast=0, ham=0):  # первые 2 являются обязательными\n",
    "    print(spam, eggs, toast, ham)"
   ]
  },
  {
   "cell_type": "code",
   "execution_count": 16,
   "metadata": {},
   "outputs": [
    {
     "name": "stdout",
     "output_type": "stream",
     "text": [
      "1 2 0 0\n"
     ]
    }
   ],
   "source": [
    "func(1, 2)"
   ]
  },
  {
   "cell_type": "code",
   "execution_count": 17,
   "metadata": {},
   "outputs": [
    {
     "name": "stdout",
     "output_type": "stream",
     "text": [
      "1 0 0 1\n"
     ]
    }
   ],
   "source": [
    "func(1, ham=1, eggs=0)"
   ]
  },
  {
   "cell_type": "code",
   "execution_count": 18,
   "metadata": {},
   "outputs": [
    {
     "name": "stdout",
     "output_type": "stream",
     "text": [
      "1 0 0 0\n"
     ]
    }
   ],
   "source": [
    "func(spam=1, eggs=0)"
   ]
  },
  {
   "cell_type": "code",
   "execution_count": 19,
   "metadata": {},
   "outputs": [
    {
     "name": "stdout",
     "output_type": "stream",
     "text": [
      "3 2 1 0\n"
     ]
    }
   ],
   "source": [
    "func(toast=1, eggs=2, spam=3)"
   ]
  },
  {
   "cell_type": "code",
   "execution_count": 20,
   "metadata": {},
   "outputs": [
    {
     "name": "stdout",
     "output_type": "stream",
     "text": [
      "1 2 3 4\n"
     ]
    }
   ],
   "source": [
    "func(1, 2, 3, 4)"
   ]
  },
  {
   "cell_type": "markdown",
   "metadata": {},
   "source": [
    "### Примеры произвольного числа аргументов"
   ]
  },
  {
   "cell_type": "markdown",
   "metadata": {},
   "source": [
    "#### Сбор аргументов в коллекцию"
   ]
  },
  {
   "cell_type": "markdown",
   "metadata": {},
   "source": [
    "В первом случае, в определении функции, выполняется сборка лишних позиционных аргументов в кортеж"
   ]
  },
  {
   "cell_type": "code",
   "execution_count": 21,
   "metadata": {},
   "outputs": [],
   "source": [
    "def f(*args):\n",
    "    print(args)"
   ]
  },
  {
   "cell_type": "code",
   "execution_count": 22,
   "metadata": {},
   "outputs": [
    {
     "name": "stdout",
     "output_type": "stream",
     "text": [
      "()\n"
     ]
    }
   ],
   "source": [
    "f()"
   ]
  },
  {
   "cell_type": "code",
   "execution_count": 23,
   "metadata": {},
   "outputs": [
    {
     "name": "stdout",
     "output_type": "stream",
     "text": [
      "(1,)\n"
     ]
    }
   ],
   "source": [
    "f(1)"
   ]
  },
  {
   "cell_type": "code",
   "execution_count": 24,
   "metadata": {},
   "outputs": [
    {
     "name": "stdout",
     "output_type": "stream",
     "text": [
      "(1, 2, 3, 4)\n"
     ]
    }
   ],
   "source": [
    "f(1, 2, 3, 4)"
   ]
  },
  {
   "cell_type": "markdown",
   "metadata": {},
   "source": [
    "Комбинация `**` дает похожий результат, но применяется при передаче именованных аргументов – в этом случае аргументы будут собраны в новый словарь, который можно обрабатывать обычными инструментами, предназначенными для работы со словарями.\n",
    "\n",
    "В  определенном смысле форма `**` позволяет преобразовать аргументы, передаваемые по именам, в словари, которые можно будет обойти с помощью метода `keys`, итераторов словарей и так далее:"
   ]
  },
  {
   "cell_type": "code",
   "execution_count": 25,
   "metadata": {},
   "outputs": [],
   "source": [
    "def f(**args):\n",
    "    print(args)"
   ]
  },
  {
   "cell_type": "code",
   "execution_count": 26,
   "metadata": {},
   "outputs": [
    {
     "name": "stdout",
     "output_type": "stream",
     "text": [
      "{}\n"
     ]
    }
   ],
   "source": [
    "f()"
   ]
  },
  {
   "cell_type": "code",
   "execution_count": 27,
   "metadata": {},
   "outputs": [
    {
     "name": "stdout",
     "output_type": "stream",
     "text": [
      "{'a': 1, 'b': 2}\n"
     ]
    }
   ],
   "source": [
    "f(a=1, b=2)"
   ]
  },
  {
   "cell_type": "markdown",
   "metadata": {},
   "source": [
    "В заголовках функций можно комбинировать обычные аргументы, `*` и `**` для реализации чрезвычайно гибких сигнатур вызова.\n",
    "\n",
    "Например, в следующем фрагменте число 1 передается как позиционный аргумент, 2 и 3 объединяются в кортеж `pargs` с позиционными аргументами, а `x` и `y` помещаются в словарь `kargs` с именованными аргументами:"
   ]
  },
  {
   "cell_type": "code",
   "execution_count": 28,
   "metadata": {},
   "outputs": [],
   "source": [
    "def f(a, *pargs, **kargs):\n",
    "    print(a, pargs, kargs)"
   ]
  },
  {
   "cell_type": "code",
   "execution_count": 29,
   "metadata": {},
   "outputs": [
    {
     "name": "stdout",
     "output_type": "stream",
     "text": [
      "1 (2, 3) {'x': 1, 'y': 2}\n"
     ]
    }
   ],
   "source": [
    "f(1, 2, 3, x=1, y=2)"
   ]
  },
  {
   "cell_type": "markdown",
   "metadata": {},
   "source": [
    "#### Извлечение аргументов из коллекции"
   ]
  },
  {
   "cell_type": "code",
   "execution_count": 30,
   "metadata": {},
   "outputs": [],
   "source": [
    "def func(a, b, c, d):\n",
    "    print(a, b, c, d)"
   ]
  },
  {
   "cell_type": "markdown",
   "metadata": {},
   "source": [
    "Например, можно передать в функцию четыре аргумента в виде кортежа и позволить интерпретатору распаковать их в отдельные аргументы:"
   ]
  },
  {
   "cell_type": "code",
   "execution_count": 31,
   "metadata": {},
   "outputs": [
    {
     "name": "stdout",
     "output_type": "stream",
     "text": [
      "1 2 3 4\n"
     ]
    }
   ],
   "source": [
    "args = (1, 2)\n",
    "args += (3, 4)\n",
    "func(*args)"
   ]
  },
  {
   "cell_type": "markdown",
   "metadata": {},
   "source": [
    "Точно так же форма `**` в вызовах функций распаковывает словари пар ключ/значение в отдельные аргументы, которые передаются по ключу:"
   ]
  },
  {
   "cell_type": "code",
   "execution_count": 32,
   "metadata": {},
   "outputs": [
    {
     "name": "stdout",
     "output_type": "stream",
     "text": [
      "1 2 3 4\n"
     ]
    }
   ],
   "source": [
    "args = {'a': 1, 'b': 2, 'c': 3}\n",
    "args['d'] = 4\n",
    "func(**args)"
   ]
  },
  {
   "cell_type": "markdown",
   "metadata": {},
   "source": [
    "Также можно очень гибко комбинировать в одном вызове обычные позиционные и именованные аргументы:"
   ]
  },
  {
   "cell_type": "code",
   "execution_count": 33,
   "metadata": {},
   "outputs": [
    {
     "name": "stdout",
     "output_type": "stream",
     "text": [
      "1 2 3 4\n"
     ]
    }
   ],
   "source": [
    "func(*(1, 2), **{'d': 4, 'c': 3})"
   ]
  },
  {
   "cell_type": "code",
   "execution_count": 34,
   "metadata": {},
   "outputs": [
    {
     "name": "stdout",
     "output_type": "stream",
     "text": [
      "1 2 3 4\n"
     ]
    }
   ],
   "source": [
    "func(1, *(2, 3), **{'d': 4})"
   ]
  },
  {
   "cell_type": "code",
   "execution_count": 35,
   "metadata": {},
   "outputs": [
    {
     "name": "stdout",
     "output_type": "stream",
     "text": [
      "1 2 3 4\n"
     ]
    }
   ],
   "source": [
    "func(1, c=3, *(2,), **{'d': 4})"
   ]
  },
  {
   "cell_type": "code",
   "execution_count": 36,
   "metadata": {},
   "outputs": [
    {
     "name": "stdout",
     "output_type": "stream",
     "text": [
      "1 2 3 4\n"
     ]
    }
   ],
   "source": [
    "func(1, *(2, 3), d=4)"
   ]
  },
  {
   "cell_type": "code",
   "execution_count": 37,
   "metadata": {},
   "outputs": [
    {
     "name": "stdout",
     "output_type": "stream",
     "text": [
      "1 2 3 4\n"
     ]
    }
   ],
   "source": [
    "func(1, *(2,), c=3, **{'d': 4})"
   ]
  },
  {
   "cell_type": "markdown",
   "metadata": {},
   "source": [
    "### Обобщенные способы вызова функций"
   ]
  },
  {
   "cell_type": "markdown",
   "metadata": {},
   "source": [
    "Так как список аргументов передается функции в  виде кортежа, программа может создать его во время выполнения. Этот прием удобно использовать в  функциях, которые тестируют или измеряют производительность других функций. Например, в следующем фрагменте мы реализовали поддержку вызова произвольных функций с  любым количеством любых аргументов, передавая все аргументы, которые были получены:"
   ]
  },
  {
   "cell_type": "code",
   "execution_count": 38,
   "metadata": {},
   "outputs": [],
   "source": [
    "def tracer(func, *pargs, **kargs):  # принимает произвольные аргументы\n",
    "    print('calling:', func.__name__)\n",
    "    return func(*pargs, **kargs)  # передает все полученные аргументы\n",
    "\n",
    "def func(a, b, c, d):\n",
    "    return a + b + c + d"
   ]
  },
  {
   "cell_type": "markdown",
   "metadata": {},
   "source": [
    "При вызове функции `tracer` все аргументы будут собраны в коллекции и переданы требуемой функции с использованием синтаксиса передачи произвольного количества аргументов"
   ]
  },
  {
   "cell_type": "code",
   "execution_count": 39,
   "metadata": {},
   "outputs": [
    {
     "name": "stdout",
     "output_type": "stream",
     "text": [
      "calling: func\n",
      "10\n"
     ]
    }
   ],
   "source": [
    "print(tracer(func, 1, 2, c=3, d=4))"
   ]
  },
  {
   "cell_type": "markdown",
   "metadata": {},
   "source": [
    "### Python 3.0: аргументы, которые могут передаваться только по именам"
   ]
  },
  {
   "cell_type": "markdown",
   "metadata": {},
   "source": [
    "Синтаксически аргументы, которые могут передаваться только в виде именованных аргументов, **оформляются в виде обычных именованных аргументов, следующих за формой `*args` в списке аргументов**. Все такие аргументы могут передаваться в  вызовы функций только по именам.\n",
    "\n",
    "Например, в  следующем фрагменте аргумент `a` может передаваться как именованный или как позиционный аргумент, в `b` собираются все дополнительные позиционные аргументы и аргумент `c` может передаваться только как именованный аргумент:"
   ]
  },
  {
   "cell_type": "code",
   "execution_count": 40,
   "metadata": {},
   "outputs": [],
   "source": [
    "def kwonly (a, *b, c):\n",
    "    print(a, b, c)"
   ]
  },
  {
   "cell_type": "code",
   "execution_count": 41,
   "metadata": {},
   "outputs": [
    {
     "name": "stdout",
     "output_type": "stream",
     "text": [
      "1 (2,) 3\n"
     ]
    }
   ],
   "source": [
    "kwonly(1, 2, c=3)"
   ]
  },
  {
   "cell_type": "code",
   "execution_count": 42,
   "metadata": {},
   "outputs": [
    {
     "name": "stdout",
     "output_type": "stream",
     "text": [
      "1 () 3\n"
     ]
    }
   ],
   "source": [
    "kwonly(a=1, c=3)"
   ]
  },
  {
   "cell_type": "code",
   "execution_count": 43,
   "metadata": {},
   "outputs": [
    {
     "ename": "TypeError",
     "evalue": "kwonly() missing 1 required keyword-only argument: 'c'",
     "output_type": "error",
     "traceback": [
      "\u001b[0;31m---------------------------------------------------------------------------\u001b[0m",
      "\u001b[0;31mTypeError\u001b[0m                                 Traceback (most recent call last)",
      "\u001b[0;32m<ipython-input-43-62465c70825a>\u001b[0m in \u001b[0;36m<module>\u001b[0;34m()\u001b[0m\n\u001b[0;32m----> 1\u001b[0;31m \u001b[0mkwonly\u001b[0m\u001b[0;34m(\u001b[0m\u001b[0;36m1\u001b[0m\u001b[0;34m,\u001b[0m \u001b[0;36m2\u001b[0m\u001b[0;34m,\u001b[0m \u001b[0;36m3\u001b[0m\u001b[0;34m)\u001b[0m\u001b[0;34m\u001b[0m\u001b[0m\n\u001b[0m",
      "\u001b[0;31mTypeError\u001b[0m: kwonly() missing 1 required keyword-only argument: 'c'"
     ]
    }
   ],
   "source": [
    "kwonly(1, 2, 3)"
   ]
  },
  {
   "cell_type": "markdown",
   "metadata": {},
   "source": [
    ">Чтобы показать, что функция не принимает списки аргументов произвольной длины, можно использовать одиночный символ `*`, при этом она ожидает, что все следующие за звездочкой аргументы будут передаваться по именам."
   ]
  },
  {
   "cell_type": "markdown",
   "metadata": {},
   "source": [
    "Следующей функции аргумент `a` можно передать как позиционный или как именованный, но аргументы `b` и `c` могут передаваться только как именованные аргументы; при этом функция не может принимать списки аргументов произвольной длины:"
   ]
  },
  {
   "cell_type": "code",
   "execution_count": 44,
   "metadata": {},
   "outputs": [],
   "source": [
    "def kwonly(a, *, b, c):\n",
    "    print(a, b, c)"
   ]
  },
  {
   "cell_type": "code",
   "execution_count": 45,
   "metadata": {},
   "outputs": [
    {
     "name": "stdout",
     "output_type": "stream",
     "text": [
      "1 2 3\n"
     ]
    }
   ],
   "source": [
    "kwonly(1, c=3, b=2)"
   ]
  },
  {
   "cell_type": "code",
   "execution_count": 46,
   "metadata": {},
   "outputs": [
    {
     "ename": "TypeError",
     "evalue": "kwonly() takes 1 positional argument but 3 were given",
     "output_type": "error",
     "traceback": [
      "\u001b[0;31m---------------------------------------------------------------------------\u001b[0m",
      "\u001b[0;31mTypeError\u001b[0m                                 Traceback (most recent call last)",
      "\u001b[0;32m<ipython-input-46-62465c70825a>\u001b[0m in \u001b[0;36m<module>\u001b[0;34m()\u001b[0m\n\u001b[0;32m----> 1\u001b[0;31m \u001b[0mkwonly\u001b[0m\u001b[0;34m(\u001b[0m\u001b[0;36m1\u001b[0m\u001b[0;34m,\u001b[0m \u001b[0;36m2\u001b[0m\u001b[0;34m,\u001b[0m \u001b[0;36m3\u001b[0m\u001b[0;34m)\u001b[0m\u001b[0;34m\u001b[0m\u001b[0m\n\u001b[0m",
      "\u001b[0;31mTypeError\u001b[0m: kwonly() takes 1 positional argument but 3 were given"
     ]
    }
   ],
   "source": [
    "kwonly(1, 2, 3)"
   ]
  },
  {
   "cell_type": "code",
   "execution_count": 47,
   "metadata": {},
   "outputs": [
    {
     "ename": "TypeError",
     "evalue": "kwonly() missing 2 required keyword-only arguments: 'b' and 'c'",
     "output_type": "error",
     "traceback": [
      "\u001b[0;31m---------------------------------------------------------------------------\u001b[0m",
      "\u001b[0;31mTypeError\u001b[0m                                 Traceback (most recent call last)",
      "\u001b[0;32m<ipython-input-47-bab768676c3f>\u001b[0m in \u001b[0;36m<module>\u001b[0;34m()\u001b[0m\n\u001b[0;32m----> 1\u001b[0;31m \u001b[0mkwonly\u001b[0m\u001b[0;34m(\u001b[0m\u001b[0;36m1\u001b[0m\u001b[0;34m)\u001b[0m\u001b[0;34m\u001b[0m\u001b[0m\n\u001b[0m",
      "\u001b[0;31mTypeError\u001b[0m: kwonly() missing 2 required keyword-only arguments: 'b' and 'c'"
     ]
    }
   ],
   "source": [
    "kwonly(1)"
   ]
  },
  {
   "cell_type": "markdown",
   "metadata": {},
   "source": [
    "Вы по-прежнему можете использовать значения по умолчанию для аргументов, которые могут передаваться только в  виде именованных, несмотря на то, что в заголовке функции они располагаются после символа `*`"
   ]
  },
  {
   "cell_type": "code",
   "execution_count": 48,
   "metadata": {},
   "outputs": [],
   "source": [
    "def kwonly(a, *, b='spam', c='ham'):\n",
    "    print(a, b, c)"
   ]
  },
  {
   "cell_type": "code",
   "execution_count": 49,
   "metadata": {},
   "outputs": [
    {
     "name": "stdout",
     "output_type": "stream",
     "text": [
      "1 spam ham\n"
     ]
    }
   ],
   "source": [
    "kwonly(1)"
   ]
  },
  {
   "cell_type": "code",
   "execution_count": 50,
   "metadata": {},
   "outputs": [
    {
     "name": "stdout",
     "output_type": "stream",
     "text": [
      "1 spam 3\n"
     ]
    }
   ],
   "source": [
    "kwonly(1, c=3)"
   ]
  },
  {
   "cell_type": "code",
   "execution_count": 51,
   "metadata": {},
   "outputs": [
    {
     "name": "stdout",
     "output_type": "stream",
     "text": [
      "1 2 3\n"
     ]
    }
   ],
   "source": [
    "kwonly(c=3, b=2, a=1)"
   ]
  },
  {
   "cell_type": "code",
   "execution_count": 52,
   "metadata": {},
   "outputs": [
    {
     "ename": "TypeError",
     "evalue": "kwonly() takes 1 positional argument but 2 were given",
     "output_type": "error",
     "traceback": [
      "\u001b[0;31m---------------------------------------------------------------------------\u001b[0m",
      "\u001b[0;31mTypeError\u001b[0m                                 Traceback (most recent call last)",
      "\u001b[0;32m<ipython-input-52-fec93b2f48aa>\u001b[0m in \u001b[0;36m<module>\u001b[0;34m()\u001b[0m\n\u001b[0;32m----> 1\u001b[0;31m \u001b[0mkwonly\u001b[0m\u001b[0;34m(\u001b[0m\u001b[0;36m1\u001b[0m\u001b[0;34m,\u001b[0m \u001b[0;36m2\u001b[0m\u001b[0;34m)\u001b[0m\u001b[0;34m\u001b[0m\u001b[0m\n\u001b[0m",
      "\u001b[0;31mTypeError\u001b[0m: kwonly() takes 1 positional argument but 2 were given"
     ]
    }
   ],
   "source": [
    "kwonly(1, 2)"
   ]
  },
  {
   "cell_type": "markdown",
   "metadata": {},
   "source": [
    "Аргументы со значениями по умолчанию, которые могут передаваться только\n",
    "по именам, в действительности являются необязательными, а те же самые аргументы без значений по умолчанию превращаются в обязательные именованные аргументы:"
   ]
  },
  {
   "cell_type": "code",
   "execution_count": 53,
   "metadata": {},
   "outputs": [],
   "source": [
    "def kwonly(a, *, b, c='spam'):\n",
    "    print(a, b, c)"
   ]
  },
  {
   "cell_type": "code",
   "execution_count": 54,
   "metadata": {},
   "outputs": [
    {
     "name": "stdout",
     "output_type": "stream",
     "text": [
      "1 eggs spam\n"
     ]
    }
   ],
   "source": [
    "kwonly(1, b='eggs')"
   ]
  },
  {
   "cell_type": "code",
   "execution_count": 55,
   "metadata": {},
   "outputs": [
    {
     "ename": "TypeError",
     "evalue": "kwonly() missing 1 required keyword-only argument: 'b'",
     "output_type": "error",
     "traceback": [
      "\u001b[0;31m---------------------------------------------------------------------------\u001b[0m",
      "\u001b[0;31mTypeError\u001b[0m                                 Traceback (most recent call last)",
      "\u001b[0;32m<ipython-input-55-ee26104a7cdb>\u001b[0m in \u001b[0;36m<module>\u001b[0;34m()\u001b[0m\n\u001b[0;32m----> 1\u001b[0;31m \u001b[0mkwonly\u001b[0m\u001b[0;34m(\u001b[0m\u001b[0;36m1\u001b[0m\u001b[0;34m,\u001b[0m \u001b[0mc\u001b[0m\u001b[0;34m=\u001b[0m\u001b[0;34m'eggs'\u001b[0m\u001b[0;34m)\u001b[0m\u001b[0;34m\u001b[0m\u001b[0m\n\u001b[0m",
      "\u001b[0;31mTypeError\u001b[0m: kwonly() missing 1 required keyword-only argument: 'b'"
     ]
    }
   ],
   "source": [
    "kwonly(1, c='eggs')"
   ]
  },
  {
   "cell_type": "markdown",
   "metadata": {},
   "source": [
    "### Правила, определяющие порядок следования"
   ]
  },
  {
   "cell_type": "markdown",
   "metadata": {},
   "source": [
    "Важно отметить, что **аргументы, которые могут передаваться только по именам, должны указываться после одиночного символа звездочки, но не двойного**; эти аргументы не могут располагаться после формы `**args` представления списка именованных аргументов произвольной длины, и пара символов `**` без следующего за ними имени аргумента также не может появляться в списке аргументов. В обоих случаях будет выведено сообщение о синтаксической ошибке:"
   ]
  },
  {
   "cell_type": "code",
   "execution_count": 56,
   "metadata": {},
   "outputs": [
    {
     "ename": "SyntaxError",
     "evalue": "invalid syntax (<ipython-input-56-20d9b29c8916>, line 1)",
     "output_type": "error",
     "traceback": [
      "\u001b[0;36m  File \u001b[0;32m\"<ipython-input-56-20d9b29c8916>\"\u001b[0;36m, line \u001b[0;32m1\u001b[0m\n\u001b[0;31m    def kwonly(a, **pargs, b, c)\u001b[0m\n\u001b[0m                           ^\u001b[0m\n\u001b[0;31mSyntaxError\u001b[0m\u001b[0;31m:\u001b[0m invalid syntax\n"
     ]
    }
   ],
   "source": [
    "def kwonly(a, **pargs, b, c)"
   ]
  },
  {
   "cell_type": "code",
   "execution_count": 57,
   "metadata": {},
   "outputs": [
    {
     "ename": "SyntaxError",
     "evalue": "invalid syntax (<ipython-input-57-e2641274d526>, line 1)",
     "output_type": "error",
     "traceback": [
      "\u001b[0;36m  File \u001b[0;32m\"<ipython-input-57-e2641274d526>\"\u001b[0;36m, line \u001b[0;32m1\u001b[0m\n\u001b[0;31m    def kwonly(a, **, b, c)\u001b[0m\n\u001b[0m                    ^\u001b[0m\n\u001b[0;31mSyntaxError\u001b[0m\u001b[0;31m:\u001b[0m invalid syntax\n"
     ]
    }
   ],
   "source": [
    "def kwonly(a, **, b, c)"
   ]
  },
  {
   "cell_type": "markdown",
   "metadata": {},
   "source": [
    "> Аргументы, которые могут передаваться только по именам, в  заголовке функции должны предшествовать форме `**args` представления списка именованных аргументов произвольной длины и следовать за формой\n",
    "`*args` представления списка позиционных аргументов произвольной длины,\n",
    "когда присутствуют обе формы."
   ]
  },
  {
   "cell_type": "code",
   "execution_count": 58,
   "metadata": {},
   "outputs": [
    {
     "ename": "SyntaxError",
     "evalue": "invalid syntax (<ipython-input-58-ece97c7a8333>, line 1)",
     "output_type": "error",
     "traceback": [
      "\u001b[0;36m  File \u001b[0;32m\"<ipython-input-58-ece97c7a8333>\"\u001b[0;36m, line \u001b[0;32m1\u001b[0m\n\u001b[0;31m    def f(a, *b, **d, c=6): print(a, b, c, d)\u001b[0m\n\u001b[0m                      ^\u001b[0m\n\u001b[0;31mSyntaxError\u001b[0m\u001b[0;31m:\u001b[0m invalid syntax\n"
     ]
    }
   ],
   "source": [
    "def f(a, *b, **d, c=6): print(a, b, c, d)\n",
    "    # Только именованные аргументы должны предшествовать **!"
   ]
  },
  {
   "cell_type": "code",
   "execution_count": 59,
   "metadata": {},
   "outputs": [],
   "source": [
    "# Коллекции аргументов в заголовке\n",
    "def f(a, *b, c=6, **d):\n",
    "    print(a, b, c, d)"
   ]
  },
  {
   "cell_type": "code",
   "execution_count": 60,
   "metadata": {},
   "outputs": [
    {
     "name": "stdout",
     "output_type": "stream",
     "text": [
      "1 (2, 3) 6 {'x': 4, 'y': 5}\n"
     ]
    }
   ],
   "source": [
    "f(1, 2, 3, x=4, y=5) # Используется значение по умолчанию"
   ]
  },
  {
   "cell_type": "code",
   "execution_count": 61,
   "metadata": {},
   "outputs": [
    {
     "name": "stdout",
     "output_type": "stream",
     "text": [
      "1 (2, 3) 7 {'x': 4, 'y': 5}\n"
     ]
    }
   ],
   "source": [
    "f(1, 2, 3, x=4, y=5, c=7) # Переопределение значения по умолчанию"
   ]
  },
  {
   "cell_type": "code",
   "execution_count": 62,
   "metadata": {},
   "outputs": [
    {
     "name": "stdout",
     "output_type": "stream",
     "text": [
      "1 (2, 3) 7 {'x': 4, 'y': 5}\n"
     ]
    }
   ],
   "source": [
    "f(1, 2, 3, c=7, x=4, y=5) # Среди именованных аргументов"
   ]
  },
  {
   "cell_type": "code",
   "execution_count": 63,
   "metadata": {},
   "outputs": [],
   "source": [
    "def f(a, c=6, *b, **d): # c не является только именованным аргументом!\n",
    "    print(a, b, c, d) "
   ]
  },
  {
   "cell_type": "code",
   "execution_count": 64,
   "metadata": {},
   "outputs": [
    {
     "name": "stdout",
     "output_type": "stream",
     "text": [
      "1 (3,) 2 {'x': 4}\n"
     ]
    }
   ],
   "source": [
    "f(1, 2, 3, x=4)"
   ]
  },
  {
   "cell_type": "markdown",
   "metadata": {},
   "source": [
    "В вызовах функций используются похожие правила, определяющие порядок\n",
    "следования аргументов:\n",
    "\n",
    ">когда функции передаются аргументы, которые могут быть только именованными, они должны располагаться перед формой `**args`.\n",
    "При этом аргументы, которые могут передаваться только по именам, могут\n",
    "располагаться как перед формой `*args`, так и  после нее, а  также могут включаться в словарь `**args`:"
   ]
  },
  {
   "cell_type": "code",
   "execution_count": 65,
   "metadata": {},
   "outputs": [
    {
     "name": "stdout",
     "output_type": "stream",
     "text": [
      "1 (2, 3) 6 {'x': 4, 'y': 5}\n"
     ]
    }
   ],
   "source": [
    "# Только именованные аргументы между * и **\n",
    "def f(a, *b, c=6, **d):\n",
    "    print(a, b, c, d)\n",
    "    \n",
    "# Распаковывание аргументов при вызове\n",
    "f(1, *(2, 3), **dict(x=4, y=5))"
   ]
  },
  {
   "cell_type": "code",
   "execution_count": 66,
   "metadata": {},
   "outputs": [
    {
     "name": "stdout",
     "output_type": "stream",
     "text": [
      "1 (2, 3, {'x': 4, 'y': 5}) 6 {}\n"
     ]
    }
   ],
   "source": [
    "f(1, *(2, 3), dict(x=4, y=5))"
   ]
  },
  {
   "cell_type": "code",
   "execution_count": 67,
   "metadata": {},
   "outputs": [
    {
     "name": "stdout",
     "output_type": "stream",
     "text": [
      "1 (2, 3) 7 {'x': 4, 'y': 5}\n"
     ]
    }
   ],
   "source": [
    "# Именованные аргументы после **args! ПО ИДЕЕ ДОЛЖНА БЫТЬ ОШИБКА\n",
    "f(1, *(2, 3), **dict(x=4, y=5), c=7)"
   ]
  },
  {
   "cell_type": "code",
   "execution_count": 68,
   "metadata": {},
   "outputs": [
    {
     "name": "stdout",
     "output_type": "stream",
     "text": [
      "1 (2, 3) 7 {'x': 4, 'y': 5}\n"
     ]
    }
   ],
   "source": [
    "# Переопределение значений по умолчанию\n",
    "f(1, *(2, 3), c=7, **dict(x=4, y=5))"
   ]
  },
  {
   "cell_type": "code",
   "execution_count": 69,
   "metadata": {},
   "outputs": [
    {
     "name": "stdout",
     "output_type": "stream",
     "text": [
      "1 (2, 3) 7 {'x': 4, 'y': 5}\n"
     ]
    }
   ],
   "source": [
    "# Перед * или после нее\n",
    "f(1, c=7, *(2, 3), **dict(x=4, y=5))"
   ]
  },
  {
   "cell_type": "code",
   "execution_count": 70,
   "metadata": {},
   "outputs": [
    {
     "name": "stdout",
     "output_type": "stream",
     "text": [
      "1 (2, 3) 7 {'x': 4, 'y': 5}\n"
     ]
    }
   ],
   "source": [
    "# Только именованные аргументы внутри **\n",
    "f(1, *(2, 3), **dict(x=4, y=5, c=7))"
   ]
  },
  {
   "cell_type": "markdown",
   "metadata": {},
   "source": [
    "### Когда используются аргументы, которые могут передаваться только по именам?"
   ]
  },
  {
   "cell_type": "markdown",
   "metadata": {},
   "source": [
    "Итак, когда же бывает желательно использовать аргументы, которые могут передаваться только по именам? Если говорить кратко, они упрощают создание функций, которые принимают произвольное количество позиционных аргументов и  параметры настройки, передаваемые в  виде именованных аргументов. Аргументы, которые передаются только по именам, можно и не использовать, но без их использования может потребоваться выполнить лишнюю работу, чтобы определить значения по умолчанию для таких параметров и проверять, что не было передано лишних именованных аргументов."
   ]
  },
  {
   "cell_type": "markdown",
   "metadata": {},
   "source": [
    "Представьте функцию, которая обрабатывает множество передаваемых ей объектов и дополнительно принимает флаг трассировки:\n",
    "```\n",
    "process(X, Y, Z) # Используется значение флага по умолчанию\n",
    "process(X, Y, notify=True) # значение флага определяется явно\n",
    "```"
   ]
  },
  {
   "cell_type": "markdown",
   "metadata": {},
   "source": [
    "Без использования аргумента, который может передаваться только по имени, нам пришлось бы использовать обе формы, `*args` и `**args`, и вручную проверять именованные аргументы, а благодаря аргументу, который может передаваться только по имени, программный код получится компактнее.\n",
    "\n",
    "Следующее определение функции гарантирует, что ни один из позиционных аргументов не будет по ошибке сопоставлен с аргументом `notify`, и требует, чтобы этот параметр передавался по имени:\n",
    "```\n",
    "def process(*args, notify=False): ...\n",
    "```"
   ]
  },
  {
   "cell_type": "markdown",
   "metadata": {},
   "source": [
    "## Функция поиска минимума"
   ]
  },
  {
   "cell_type": "markdown",
   "metadata": {},
   "source": [
    "Предположим, что вам необходимо написать функцию, которая способна находить минимальное значение из произвольного множества аргументов с произвольными типами данных. То есть функция должна принимать ноль или более аргументов  – столько, сколько вы пожелаете передать. Более того, функция должна работать со всеми типами объектов, имеющимися в языке Python: числами, строками, списками, списками словарей, файлами и даже `None`.\n",
    "\n",
    "Первое требование представляет собой обычный пример того, как можно найти применение форме `*`, – мы можем собирать аргументы в кортеж и выполнять их обход с помощью простого цикла `for`. Второе требование тоже не представляет никакой сложности: все типы объектов поддерживают операцию сравнения, поэтому нам не требуется учитывать типы объектов в функции (полиморфизм в действии) – мы можем просто слепо сравнивать объекты и позволить интерпретатору самостоятельно выбрать корректную операцию сравнения."
   ]
  },
  {
   "cell_type": "markdown",
   "metadata": {},
   "source": [
    "### Основное задание"
   ]
  },
  {
   "cell_type": "markdown",
   "metadata": {},
   "source": [
    "Ниже представлены три способа реализации этой функции, из которых по крайней мере один был предложен студентом:\n",
    "\n",
    "* Первая версия функции извлекает первый аргумент (`args` – это кортеж) и обходит остальную часть коллекции, отсекая первый элемент (нет никакого смысла сравнивать объект сам с собой, особенно если это довольно крупная структура данных).\n",
    "\n",
    "\n",
    "* Вторая версия позволяет интерпретатору самому выбрать первый аргумент и остаток, благодаря чему отпадает необходимость извлекать первый аргумент и получать срез.\n",
    "\n",
    "\n",
    "* Третья версия преобразует кортеж в  список с  помощью встроенной функции `list` и использует метод списка `sort`."
   ]
  },
  {
   "cell_type": "code",
   "execution_count": null,
   "metadata": {},
   "outputs": [],
   "source": [
    "def min1(*args):\n",
    "    res = args[0]\n",
    "    for arg in args[1:]:\n",
    "        if arg < res:\n",
    "            res = arg\n",
    "    return res   \n",
    "\n",
    "def min2(first, *rest):\n",
    "    for arg in rest:\n",
    "        if arg < first:\n",
    "            first = arg\n",
    "    return first\n",
    "\n",
    "def min3(*args):\n",
    "    tmp = list(args)\n",
    "    tmp.sort()\n",
    "    return tmp[0]"
   ]
  },
  {
   "cell_type": "markdown",
   "metadata": {},
   "source": [
    "Все три решения дают одинаковые результаты."
   ]
  },
  {
   "cell_type": "markdown",
   "metadata": {},
   "source": [
    "## Универсальные функции для работы с множествами"
   ]
  },
  {
   "cell_type": "markdown",
   "metadata": {},
   "source": [
    "Ниже приводится версия функции, которая возвращает пересечение произвольного числа последовательностей\n",
    "(одной или более), где используется механизм передачи произвольного числа аргументов в форме `*args` для сбора всех передаваемых аргументов в виде коллекции. Все аргументы передаются в тело функции в составе кортежа, поэтому для их обработки можно использовать простой цикл `for`.\n",
    "\n",
    "Ради интереса мы напишем функцию `union`, возвращающую объединение, которая также принимает произвольное число аргументов и собирает вместе все элементы, имеющиеся в любом из операндов:"
   ]
  },
  {
   "cell_type": "code",
   "execution_count": 71,
   "metadata": {},
   "outputs": [],
   "source": [
    "def intersect(*args):\n",
    "    res = []\n",
    "    for x in args[0]:          # Сканировать первую последовательность\n",
    "        for other in args[1:]: # Во всех остальных аргументах\n",
    "            if x not in other: # Общий элемент?\n",
    "                break          # Нет: прервать цикл\n",
    "        else:\n",
    "            res.append(x)      # Да: добавить элемент в конец\n",
    "    return res\n",
    "\n",
    "def union(*args):\n",
    "    res = []\n",
    "    for seq in args:           # Для всех аргументов\n",
    "        for x in seq:          # Для всех элементов\n",
    "            if not x in res: \n",
    "                res.append(x)  # Добавить новый элемент в результат\n",
    "    return res"
   ]
  },
  {
   "cell_type": "code",
   "execution_count": 72,
   "metadata": {},
   "outputs": [
    {
     "data": {
      "text/plain": [
       "(['S', 'A', 'M'], ['S', 'P', 'A', 'M', 'C'])"
      ]
     },
     "execution_count": 72,
     "metadata": {},
     "output_type": "execute_result"
    }
   ],
   "source": [
    "s1, s2, s3 = 'SPAM', 'SCAM', 'SLAM'\n",
    "\n",
    "intersect(s1, s2), union(s1, s2) # Два операнда"
   ]
  },
  {
   "cell_type": "code",
   "execution_count": 73,
   "metadata": {},
   "outputs": [
    {
     "data": {
      "text/plain": [
       "[1]"
      ]
     },
     "execution_count": 73,
     "metadata": {},
     "output_type": "execute_result"
    }
   ],
   "source": [
    "intersect([1, 2, 3], (1, 4)) # Смешивание типов"
   ]
  },
  {
   "cell_type": "code",
   "execution_count": 74,
   "metadata": {},
   "outputs": [
    {
     "data": {
      "text/plain": [
       "(['S', 'A', 'M'], ['S', 'P', 'A', 'M', 'C', 'L'])"
      ]
     },
     "execution_count": 74,
     "metadata": {},
     "output_type": "execute_result"
    }
   ],
   "source": [
    "intersect(s1, s2, s3), union(s1, s2, s3) # Три операнда"
   ]
  },
  {
   "cell_type": "markdown",
   "metadata": {},
   "source": [
    "## Имитация функции print в Python 3.0"
   ]
  },
  {
   "cell_type": "code",
   "execution_count": 75,
   "metadata": {},
   "outputs": [],
   "source": [
    "# Сигнатура вызова: print30(*args, sep=’ ‘, end=’\\n’, file=None)\n",
    "\n",
    "import sys\n",
    "\n",
    "def print30(*args, **kargs):\n",
    "    sep = kargs.get('sep', ' ')          # Именованные аргументы\n",
    "    end = kargs.get('end', '\\n')         # со значениями по умолчанию\n",
    "    file = kargs.get('file', sys.stdout)  \n",
    "    output = ''\n",
    "    first = True\n",
    "    for arg in args:\n",
    "        output += ('' if first else sep) + str(arg)\n",
    "        first = False\n",
    "    file.write(output + end)"
   ]
  },
  {
   "cell_type": "code",
   "execution_count": 76,
   "metadata": {},
   "outputs": [
    {
     "name": "stdout",
     "output_type": "stream",
     "text": [
      "1 2 3\n"
     ]
    }
   ],
   "source": [
    "print30(1, 2, 3)"
   ]
  },
  {
   "cell_type": "code",
   "execution_count": 77,
   "metadata": {},
   "outputs": [
    {
     "name": "stdout",
     "output_type": "stream",
     "text": [
      "1...[2]...(3,)\n"
     ]
    }
   ],
   "source": [
    "print30(1, [2], (3, ), sep='...')"
   ]
  },
  {
   "cell_type": "code",
   "execution_count": 78,
   "metadata": {
    "scrolled": true
   },
   "outputs": [
    {
     "name": "stdout",
     "output_type": "stream",
     "text": [
      ";0;0...1;0...1...2;0...1...2...3;"
     ]
    }
   ],
   "source": [
    "for i in [list(range(k)) for k in range(5)]:\n",
    "    print30(*i, sep='...', end=';')"
   ]
  },
  {
   "cell_type": "code",
   "execution_count": 79,
   "metadata": {},
   "outputs": [
    {
     "name": "stdout",
     "output_type": "stream",
     "text": [
      "99\n"
     ]
    }
   ],
   "source": [
    "print30(99, name='bob')  # лишний аргумент"
   ]
  },
  {
   "cell_type": "markdown",
   "metadata": {},
   "source": [
    "### Использование аргументов, которые могут передаваться только по имени"
   ]
  },
  {
   "cell_type": "code",
   "execution_count": 80,
   "metadata": {},
   "outputs": [],
   "source": [
    "def print301(*args, sep=' ', end='\\n', file=sys.stdout):\n",
    "    output = ''\n",
    "    first = True\n",
    "    for arg in args:\n",
    "        output += ('' if first else sep) + str(arg)\n",
    "        first = False\n",
    "    file.write(output + end)"
   ]
  },
  {
   "cell_type": "markdown",
   "metadata": {},
   "source": [
    "Эта версия действует точно так же, как и предыдущая, и может служить отличным примером того, насколько удобными могут быть аргументы, которые могут передаваться только по имени. В  оригинальной версии функции предполагается, что все позиционные аргументы являются объектами, которые требуется вывести, а все именованные аргументы являются дополнительными параметрами настройки. Это почти то, что нужно, но прежняя версия будет молча игнорировать все лишние именованные аргументы, тогда как новая версия, например, вызовет исключение:"
   ]
  },
  {
   "cell_type": "code",
   "execution_count": 81,
   "metadata": {},
   "outputs": [
    {
     "ename": "TypeError",
     "evalue": "print301() got an unexpected keyword argument 'name'",
     "output_type": "error",
     "traceback": [
      "\u001b[0;31m---------------------------------------------------------------------------\u001b[0m",
      "\u001b[0;31mTypeError\u001b[0m                                 Traceback (most recent call last)",
      "\u001b[0;32m<ipython-input-81-6111d9b85a6b>\u001b[0m in \u001b[0;36m<module>\u001b[0;34m()\u001b[0m\n\u001b[0;32m----> 1\u001b[0;31m \u001b[0mprint301\u001b[0m\u001b[0;34m(\u001b[0m\u001b[0;36m99\u001b[0m\u001b[0;34m,\u001b[0m \u001b[0mname\u001b[0m\u001b[0;34m=\u001b[0m\u001b[0;34m'bob'\u001b[0m\u001b[0;34m)\u001b[0m  \u001b[0;31m# лишний аргумент\u001b[0m\u001b[0;34m\u001b[0m\u001b[0m\n\u001b[0m",
      "\u001b[0;31mTypeError\u001b[0m: print301() got an unexpected keyword argument 'name'"
     ]
    }
   ],
   "source": [
    "print301(99, name='bob')  # лишний аргумент"
   ]
  }
 ],
 "metadata": {
  "kernelspec": {
   "display_name": "Python 3",
   "language": "python",
   "name": "python3"
  },
  "language_info": {
   "codemirror_mode": {
    "name": "ipython",
    "version": 3
   },
   "file_extension": ".py",
   "mimetype": "text/x-python",
   "name": "python",
   "nbconvert_exporter": "python",
   "pygments_lexer": "ipython3",
   "version": "3.6.6"
  }
 },
 "nbformat": 4,
 "nbformat_minor": 2
}
