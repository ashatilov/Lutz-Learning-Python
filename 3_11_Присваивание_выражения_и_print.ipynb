{
 "cells": [
  {
   "cell_type": "markdown",
   "metadata": {},
   "source": [
    "# Глава 11. Присваивание, выражения и `print`"
   ]
  },
  {
   "cell_type": "markdown",
   "metadata": {},
   "source": [
    "## Инструкции присваивания"
   ]
  },
  {
   "cell_type": "markdown",
   "metadata": {},
   "source": [
    "В канонической форме цель инструкции присваивания записывается слева от знака равно, а  объект, который присваивается, – справа. Цель слева может быть именем или компонентом объекта, а объектом справа может быть произвольное выражение, которое в результате дает объект. В большинстве случаев присваивание выполняется достаточно просто, однако оно обладает следующими особенностями, которые вам следует иметь в виду:\n",
    "\n",
    "* **Инструкция присваивания создает ссылку на объект**\n",
    "\n",
    "* **Переменные создаются при первом присваивании**\n",
    "\n",
    "* **Прежде чем переменную можно будет использовать, ей должно быть присвоено значение**\n",
    "\n",
    "* **Некоторые инструкции неявно тоже выполняют операцию присваивания**:\n",
    "импорт модуля, определение функции или класса, указание переменной в цикле `for` и передача аргумента функции"
   ]
  },
  {
   "cell_type": "markdown",
   "metadata": {},
   "source": [
    "### Формы инструкции присваивания"
   ]
  },
  {
   "cell_type": "markdown",
   "metadata": {},
   "source": [
    "| **Операция** | **Интерпретация** |\n",
    "| --- | --- |\n",
    "| `spam = 'Spam'` | Каноническая форма |\n",
    "| `spam, ham = 'yum', 'YUM'` | Присваивание кортежей (позиционное) |\n",
    "| `[spam, ham] = ['yum', 'YUM']` | Присваивание списков (позиционное) |\n",
    "| `a, b, c, d = 'spam'` | Присваивание последовательностей, обобщеннное|\n",
    "| `a, *b = 'spam'` | Расширенная операция распаковывания последовательностей|\n",
    "| `spam = ham = 'lunch'` | Групповое присваивание одного значения |\n",
    "| `spams += 42` | Комбинированная инструкция присваивания (эквивалентно `spams = spams + 42` |"
   ]
  },
  {
   "cell_type": "markdown",
   "metadata": {},
   "source": [
    "### Присваивание последовательностей"
   ]
  },
  {
   "cell_type": "code",
   "execution_count": 1,
   "metadata": {},
   "outputs": [
    {
     "data": {
      "text/plain": [
       "(1, 2)"
      ]
     },
     "execution_count": 1,
     "metadata": {},
     "output_type": "execute_result"
    }
   ],
   "source": [
    "nudge = 1\n",
    "wink = 2\n",
    "A, B = nudge, wink\n",
    "A, B"
   ]
  },
  {
   "cell_type": "code",
   "execution_count": 2,
   "metadata": {},
   "outputs": [
    {
     "data": {
      "text/plain": [
       "(1, 2)"
      ]
     },
     "execution_count": 2,
     "metadata": {},
     "output_type": "execute_result"
    }
   ],
   "source": [
    "[C, D] = [nudge, wink]\n",
    "C, D"
   ]
  },
  {
   "cell_type": "code",
   "execution_count": 3,
   "metadata": {},
   "outputs": [
    {
     "data": {
      "text/plain": [
       "(2, 1, 1)"
      ]
     },
     "execution_count": 3,
     "metadata": {},
     "output_type": "execute_result"
    }
   ],
   "source": [
    "# обмен значений переменных\n",
    "A, B, C = D, C, A\n",
    "A, B, C"
   ]
  },
  {
   "cell_type": "markdown",
   "metadata": {},
   "source": [
    "В конечном итоге формы присваивания кортежей и списков были обобщены, чтобы обеспечить возможность указывать любые типы последовательностей справа при условии, что они будут иметь ту же длину. Допускается присваивать кортеж значений списку переменных, строки символов  – кортежу переменных и  так далее."
   ]
  },
  {
   "cell_type": "code",
   "execution_count": 4,
   "metadata": {},
   "outputs": [
    {
     "data": {
      "text/plain": [
       "(1, 3)"
      ]
     },
     "execution_count": 4,
     "metadata": {},
     "output_type": "execute_result"
    }
   ],
   "source": [
    "[a, b, c] = (1, 2, 3) # Кортеж значений присваивается списку переменных\n",
    "a, c"
   ]
  },
  {
   "cell_type": "code",
   "execution_count": 5,
   "metadata": {},
   "outputs": [
    {
     "data": {
      "text/plain": [
       "('A', 'C')"
      ]
     },
     "execution_count": 5,
     "metadata": {},
     "output_type": "execute_result"
    }
   ],
   "source": [
    "(a, b, c) = 'ABC' # Строка символов присваивается кортежу переменных\n",
    "a, c"
   ]
  },
  {
   "cell_type": "markdown",
   "metadata": {},
   "source": [
    "С технической точки зрения **в правой части инструкции присваивания последовательностей допускается указывать не только последовательности, но и любые объекты, обеспечивающие возможность итераций по элементам**."
   ]
  },
  {
   "cell_type": "markdown",
   "metadata": {},
   "source": [
    "**Дополнительные варианты инструкции присваивания последовательностей**\n",
    "\n",
    "Даже при том, что допускается смешивать разные типы последовательностей\n",
    "по обе стороны оператора `=`, **обе последовательности должны иметь одно и то же число элементов (если не используется расширенная операция со `*`)**"
   ]
  },
  {
   "cell_type": "code",
   "execution_count": 6,
   "metadata": {},
   "outputs": [
    {
     "ename": "ValueError",
     "evalue": "too many values to unpack (expected 3)",
     "output_type": "error",
     "traceback": [
      "\u001b[0;31m---------------------------------------------------------------------------\u001b[0m",
      "\u001b[0;31mValueError\u001b[0m                                Traceback (most recent call last)",
      "\u001b[0;32m<ipython-input-6-39535de22939>\u001b[0m in \u001b[0;36m<module>\u001b[0;34m()\u001b[0m\n\u001b[1;32m      1\u001b[0m \u001b[0mstring\u001b[0m \u001b[0;34m=\u001b[0m \u001b[0;34m'SPAM'\u001b[0m\u001b[0;34m\u001b[0m\u001b[0m\n\u001b[0;32m----> 2\u001b[0;31m \u001b[0ma\u001b[0m\u001b[0;34m,\u001b[0m \u001b[0mb\u001b[0m\u001b[0;34m,\u001b[0m \u001b[0mc\u001b[0m \u001b[0;34m=\u001b[0m \u001b[0mstring\u001b[0m\u001b[0;34m\u001b[0m\u001b[0m\n\u001b[0m",
      "\u001b[0;31mValueError\u001b[0m: too many values to unpack (expected 3)"
     ]
    }
   ],
   "source": [
    "string = 'SPAM'\n",
    "a, b, c = string"
   ]
  },
  {
   "cell_type": "code",
   "execution_count": 7,
   "metadata": {},
   "outputs": [
    {
     "data": {
      "text/plain": [
       "('S', 'P', 'AM')"
      ]
     },
     "execution_count": 7,
     "metadata": {},
     "output_type": "execute_result"
    }
   ],
   "source": [
    "a, b, c = string[0], string[1], string[2:] # Элементы и срез\n",
    "a, b, c"
   ]
  },
  {
   "cell_type": "code",
   "execution_count": 8,
   "metadata": {},
   "outputs": [
    {
     "data": {
      "text/plain": [
       "('S', 'P', 'AM')"
      ]
     },
     "execution_count": 8,
     "metadata": {},
     "output_type": "execute_result"
    }
   ],
   "source": [
    "a, b, c = list(string[:2]) + [string[2:]] # Срезы и конкатенация\n",
    "a, b, c"
   ]
  },
  {
   "cell_type": "code",
   "execution_count": 9,
   "metadata": {},
   "outputs": [
    {
     "data": {
      "text/plain": [
       "('S', 'P', 'AM')"
      ]
     },
     "execution_count": 9,
     "metadata": {},
     "output_type": "execute_result"
    }
   ],
   "source": [
    "a, b = string[:2] # То же, только проще\n",
    "с = string[2:]\n",
    "a, b, c"
   ]
  },
  {
   "cell_type": "markdown",
   "metadata": {},
   "source": [
    "**Мы можем присваивать даже вложенные последовательности**, и  интерпретатор распаковывает их части в  соответствии с  их представлением, как и  ожидается"
   ]
  },
  {
   "cell_type": "code",
   "execution_count": 10,
   "metadata": {},
   "outputs": [
    {
     "data": {
      "text/plain": [
       "('S', 'P', 'AM')"
      ]
     },
     "execution_count": 10,
     "metadata": {},
     "output_type": "execute_result"
    }
   ],
   "source": [
    "(a, b), c = string[:2], string[2:]  # Вложенные последовательности\n",
    "a, b, c"
   ]
  },
  {
   "cell_type": "code",
   "execution_count": 11,
   "metadata": {},
   "outputs": [
    {
     "data": {
      "text/plain": [
       "('S', 'P', 'AM')"
      ]
     },
     "execution_count": 11,
     "metadata": {},
     "output_type": "execute_result"
    }
   ],
   "source": [
    "((a, b), c) = ('SP', 'AM')\n",
    "a, b, c"
   ]
  },
  {
   "cell_type": "markdown",
   "metadata": {},
   "source": [
    "Пример:"
   ]
  },
  {
   "cell_type": "code",
   "execution_count": 12,
   "metadata": {},
   "outputs": [
    {
     "name": "stdout",
     "output_type": "stream",
     "text": [
      "1 2 3\n",
      "4 5 6\n"
     ]
    }
   ],
   "source": [
    "# Простое присваивание кортежей\n",
    "for (a, b, c) in [(1, 2, 3), (4, 5, 6)]:\n",
    "    print(a, b, c)"
   ]
  },
  {
   "cell_type": "code",
   "execution_count": 13,
   "metadata": {},
   "outputs": [
    {
     "name": "stdout",
     "output_type": "stream",
     "text": [
      "1 2 3\n",
      "4 5 6\n"
     ]
    }
   ],
   "source": [
    "# Присваивание вложенных кортежей\n",
    "for ((a, b), c) in [((1, 2), 3), ((4, 5), 6)]:\n",
    "    print(a, b, c)"
   ]
  },
  {
   "cell_type": "markdown",
   "metadata": {},
   "source": [
    "Присваивание последовательности целых чисел множеству переменных:"
   ]
  },
  {
   "cell_type": "code",
   "execution_count": 14,
   "metadata": {},
   "outputs": [
    {
     "data": {
      "text/plain": [
       "(0, 2)"
      ]
     },
     "execution_count": 14,
     "metadata": {},
     "output_type": "execute_result"
    }
   ],
   "source": [
    "red, green, blue = range(3)\n",
    "red, blue"
   ]
  },
  {
   "cell_type": "markdown",
   "metadata": {},
   "source": [
    "Разделение последовательности на начальную и остальную части в циклах, как показано ниже:"
   ]
  },
  {
   "cell_type": "code",
   "execution_count": 15,
   "metadata": {},
   "outputs": [
    {
     "name": "stdout",
     "output_type": "stream",
     "text": [
      "1 [2, 3, 4]\n",
      "2 [3, 4]\n",
      "3 [4]\n",
      "4 []\n"
     ]
    }
   ],
   "source": [
    "L = [1, 2, 3, 4]\n",
    "while L:\n",
    "    front, L = L[0], L[1:] # или просто front, *L = L\n",
    "    print(front, L)"
   ]
  },
  {
   "cell_type": "markdown",
   "metadata": {},
   "source": [
    "### Расширенная операция распаковывания последовательностей"
   ]
  },
  {
   "cell_type": "markdown",
   "metadata": {},
   "source": [
    "Как мы уже знаем, в операции распаковывания последовательностей количество имен слева от оператора присваивания должно точно соответствовать количеству элементов в последовательности справа. При несоблюдении этого правила мы будем получать сообщение об ошибке"
   ]
  },
  {
   "cell_type": "code",
   "execution_count": 16,
   "metadata": {},
   "outputs": [
    {
     "name": "stdout",
     "output_type": "stream",
     "text": [
      "1 2 3 4\n"
     ]
    }
   ],
   "source": [
    "seq = [1, 2, 3, 4]\n",
    "a, b, c, d = seq\n",
    "print(a, b, c, d)"
   ]
  },
  {
   "cell_type": "code",
   "execution_count": 17,
   "metadata": {},
   "outputs": [
    {
     "ename": "ValueError",
     "evalue": "too many values to unpack (expected 2)",
     "output_type": "error",
     "traceback": [
      "\u001b[0;31m---------------------------------------------------------------------------\u001b[0m",
      "\u001b[0;31mValueError\u001b[0m                                Traceback (most recent call last)",
      "\u001b[0;32m<ipython-input-17-8a1b49c05b5f>\u001b[0m in \u001b[0;36m<module>\u001b[0;34m()\u001b[0m\n\u001b[0;32m----> 1\u001b[0;31m \u001b[0ma\u001b[0m\u001b[0;34m,\u001b[0m \u001b[0mb\u001b[0m \u001b[0;34m=\u001b[0m \u001b[0mseq\u001b[0m\u001b[0;34m\u001b[0m\u001b[0m\n\u001b[0m",
      "\u001b[0;31mValueError\u001b[0m: too many values to unpack (expected 2)"
     ]
    }
   ],
   "source": [
    "a, b = seq"
   ]
  },
  {
   "cell_type": "markdown",
   "metadata": {},
   "source": [
    "В Python  3.0 в  списке переменных слева можно указать одно имя со звездочкой, чтобы ослабить правило соответствия. В  представленном ниже продолжении предыдущего интерактивного сеанса переменной `a` присваивается первый элемент последовательности, а переменной `b` – все остальные"
   ]
  },
  {
   "cell_type": "code",
   "execution_count": 18,
   "metadata": {},
   "outputs": [
    {
     "name": "stdout",
     "output_type": "stream",
     "text": [
      "1 [2, 3, 4]\n"
     ]
    }
   ],
   "source": [
    "a, *b = seq\n",
    "print(a, b)"
   ]
  },
  {
   "cell_type": "markdown",
   "metadata": {},
   "source": [
    ">В какой бы позиции ни появлялась переменная со звездочкой, ей будет присвоен список, содержащий все неприсвоенные элементы, соответствующие этой позиции"
   ]
  },
  {
   "cell_type": "code",
   "execution_count": 19,
   "metadata": {},
   "outputs": [
    {
     "name": "stdout",
     "output_type": "stream",
     "text": [
      "[1, 2, 3] 4\n"
     ]
    }
   ],
   "source": [
    "*a, b = seq\n",
    "print(a, b)"
   ]
  },
  {
   "cell_type": "code",
   "execution_count": 20,
   "metadata": {},
   "outputs": [
    {
     "name": "stdout",
     "output_type": "stream",
     "text": [
      "1 [2, 3] 4\n"
     ]
    }
   ],
   "source": [
    "a, *b, c = seq\n",
    "print(a, b, c)"
   ]
  },
  {
   "cell_type": "markdown",
   "metadata": {},
   "source": [
    "#### Граничные случаи"
   ]
  },
  {
   "cell_type": "markdown",
   "metadata": {},
   "source": [
    "* **Переменной со звездочкой** может соответствовать единственный элемент, но ей **всегда присваивается список**"
   ]
  },
  {
   "cell_type": "code",
   "execution_count": 21,
   "metadata": {},
   "outputs": [
    {
     "name": "stdout",
     "output_type": "stream",
     "text": [
      "1 2 3 [4]\n"
     ]
    }
   ],
   "source": [
    "seq = [1, 2, 3, 4]\n",
    "a, b, c, *d = seq\n",
    "print(a, b, c, d)"
   ]
  },
  {
   "cell_type": "markdown",
   "metadata": {},
   "source": [
    "* Если на долю переменной со звездочкой **не остается неприсвоенных** элементов, ей **присваивается пустой список**, независимо от того, в какой позиии эта переменная находится"
   ]
  },
  {
   "cell_type": "code",
   "execution_count": 22,
   "metadata": {},
   "outputs": [
    {
     "name": "stdout",
     "output_type": "stream",
     "text": [
      "1 2 3 4 []\n"
     ]
    }
   ],
   "source": [
    "seq = [1, 2, 3, 4]\n",
    "a, b, c, d, *e = seq\n",
    "print(a, b, c, d, e)"
   ]
  },
  {
   "cell_type": "code",
   "execution_count": 23,
   "metadata": {},
   "outputs": [
    {
     "name": "stdout",
     "output_type": "stream",
     "text": [
      "1 2 [] 3 4\n"
     ]
    }
   ],
   "source": [
    "seq = [1, 2, 3, 4]\n",
    "a, b, *c, d, e = seq\n",
    "print(a, b, c, d, e)"
   ]
  },
  {
   "cell_type": "markdown",
   "metadata": {},
   "source": [
    "* **Ошибкой** будет считаться:\n",
    "    * если указать **несколько переменных со звездочкой**;\n",
    "    \n",
    "    * если **значений окажется недостаточно, а слева не окажется переменной со звездочкой** (как и ранее)\n",
    "    \n",
    "    * если **переменная со звездочкой окажется единственной вне последовательности**"
   ]
  },
  {
   "cell_type": "code",
   "execution_count": 24,
   "metadata": {
    "scrolled": true
   },
   "outputs": [
    {
     "ename": "SyntaxError",
     "evalue": "two starred expressions in assignment (<ipython-input-24-b2ec86b3457e>, line 2)",
     "output_type": "error",
     "traceback": [
      "\u001b[0;36m  File \u001b[0;32m\"<ipython-input-24-b2ec86b3457e>\"\u001b[0;36m, line \u001b[0;32m2\u001b[0m\n\u001b[0;31m    a, *b, c, *d = seq\u001b[0m\n\u001b[0m                      ^\u001b[0m\n\u001b[0;31mSyntaxError\u001b[0m\u001b[0;31m:\u001b[0m two starred expressions in assignment\n"
     ]
    }
   ],
   "source": [
    "seq = [1, 2, 3, 4]\n",
    "a, *b, c, *d = seq"
   ]
  },
  {
   "cell_type": "code",
   "execution_count": 25,
   "metadata": {},
   "outputs": [
    {
     "ename": "ValueError",
     "evalue": "too many values to unpack (expected 2)",
     "output_type": "error",
     "traceback": [
      "\u001b[0;31m---------------------------------------------------------------------------\u001b[0m",
      "\u001b[0;31mValueError\u001b[0m                                Traceback (most recent call last)",
      "\u001b[0;32m<ipython-input-25-d194ceeef879>\u001b[0m in \u001b[0;36m<module>\u001b[0;34m()\u001b[0m\n\u001b[1;32m      1\u001b[0m \u001b[0mseq\u001b[0m \u001b[0;34m=\u001b[0m \u001b[0;34m[\u001b[0m\u001b[0;36m1\u001b[0m\u001b[0;34m,\u001b[0m \u001b[0;36m2\u001b[0m\u001b[0;34m,\u001b[0m \u001b[0;36m3\u001b[0m\u001b[0;34m,\u001b[0m \u001b[0;36m4\u001b[0m\u001b[0;34m]\u001b[0m\u001b[0;34m\u001b[0m\u001b[0m\n\u001b[0;32m----> 2\u001b[0;31m \u001b[0ma\u001b[0m\u001b[0;34m,\u001b[0m \u001b[0mb\u001b[0m \u001b[0;34m=\u001b[0m \u001b[0mseq\u001b[0m\u001b[0;34m\u001b[0m\u001b[0m\n\u001b[0m",
      "\u001b[0;31mValueError\u001b[0m: too many values to unpack (expected 2)"
     ]
    }
   ],
   "source": [
    "seq = [1, 2, 3, 4]\n",
    "a, b = seq"
   ]
  },
  {
   "cell_type": "code",
   "execution_count": 26,
   "metadata": {},
   "outputs": [
    {
     "ename": "SyntaxError",
     "evalue": "starred assignment target must be in a list or tuple (<ipython-input-26-ac7c372f5517>, line 2)",
     "output_type": "error",
     "traceback": [
      "\u001b[0;36m  File \u001b[0;32m\"<ipython-input-26-ac7c372f5517>\"\u001b[0;36m, line \u001b[0;32m2\u001b[0m\n\u001b[0;31m    *a = seq\u001b[0m\n\u001b[0m            ^\u001b[0m\n\u001b[0;31mSyntaxError\u001b[0m\u001b[0;31m:\u001b[0m starred assignment target must be in a list or tuple\n"
     ]
    }
   ],
   "source": [
    "seq = [1, 2, 3, 4]\n",
    "*a = seq"
   ]
  },
  {
   "cell_type": "code",
   "execution_count": 27,
   "metadata": {},
   "outputs": [
    {
     "name": "stdout",
     "output_type": "stream",
     "text": [
      "[1, 2, 3, 4]\n"
     ]
    }
   ],
   "source": [
    "seq = [1, 2, 3, 4]\n",
    "*a, = seq\n",
    "print(a)"
   ]
  },
  {
   "cell_type": "markdown",
   "metadata": {},
   "source": [
    "#### Использование в циклах `for`"
   ]
  },
  {
   "cell_type": "code",
   "execution_count": 28,
   "metadata": {},
   "outputs": [
    {
     "name": "stdout",
     "output_type": "stream",
     "text": [
      "1 [2, 3] 4\n",
      "5 [6, 7] 8\n"
     ]
    }
   ],
   "source": [
    "for (a, *b, c) in [(1, 2, 3, 4), (5, 6, 7, 8)]:\n",
    "    print(a, b, c)"
   ]
  },
  {
   "cell_type": "markdown",
   "metadata": {},
   "source": [
    "### Групповое присваивание"
   ]
  },
  {
   "cell_type": "markdown",
   "metadata": {},
   "source": [
    "При групповом присваивании объект, расположенный справа, присваивается всем указанным переменным. В следующем примере трем переменным `a`, `b` и `c` присваивается строка `'spam'`:"
   ]
  },
  {
   "cell_type": "code",
   "execution_count": 29,
   "metadata": {},
   "outputs": [
    {
     "data": {
      "text/plain": [
       "('spam', 'spam', 'spam')"
      ]
     },
     "execution_count": 29,
     "metadata": {},
     "output_type": "execute_result"
    }
   ],
   "source": [
    "a = b = c = 'spam'\n",
    "a, b, c"
   ]
  },
  {
   "cell_type": "markdown",
   "metadata": {},
   "source": [
    "Эта инструкция эквивалентна (но записывается компактнее) следующим трем\n",
    "инструкциям присваивания:"
   ]
  },
  {
   "cell_type": "code",
   "execution_count": 30,
   "metadata": {},
   "outputs": [
    {
     "data": {
      "text/plain": [
       "('spam', 'spam', 'spam')"
      ]
     },
     "execution_count": 30,
     "metadata": {},
     "output_type": "execute_result"
    }
   ],
   "source": [
    "c = 'spam'\n",
    "b = c\n",
    "a = b\n",
    "a, b, c"
   ]
  },
  {
   "cell_type": "code",
   "execution_count": 31,
   "metadata": {},
   "outputs": [
    {
     "data": {
      "text/plain": [
       "True"
      ]
     },
     "execution_count": 31,
     "metadata": {},
     "output_type": "execute_result"
    }
   ],
   "source": [
    "a is b is c is a"
   ]
  },
  {
   "cell_type": "markdown",
   "metadata": {},
   "source": [
    "#### Групповое присваивание и разделяемые ссылки"
   ]
  },
  {
   "cell_type": "markdown",
   "metadata": {},
   "source": [
    "Имейте в виду, что в этом случае **существует всего один объект, разделяемый всеми тремя переменными (все они указывают на один и тот же объект в памяти)**. Такой способ присваивания хорошо подходит для неизменяемых объектов, например для инициализации нескольких счетчиков нулевым значением (не забывайте, что в  языке Python переменная должна быть инициализирована, прежде чем к ней можно будет обратиться, поэтому вам всегда придется устанавливать начальные значения в счетчиках, прежде чем они смогут использоваться для счета)"
   ]
  },
  {
   "cell_type": "code",
   "execution_count": 32,
   "metadata": {},
   "outputs": [
    {
     "data": {
      "text/plain": [
       "(0, 1)"
      ]
     },
     "execution_count": 32,
     "metadata": {},
     "output_type": "execute_result"
    }
   ],
   "source": [
    "a = b = 0\n",
    "b += 1\n",
    "a, b"
   ]
  },
  {
   "cell_type": "markdown",
   "metadata": {},
   "source": [
    "Здесь изменение переменной `b` затронет только переменную `b`, потому что числа не допускают возможность непосредственного изменения. Если присваиваемый объект является неизменяемым, совершенно не важно, как много ссылок на него будет создано."
   ]
  },
  {
   "cell_type": "markdown",
   "metadata": {},
   "source": [
    "Но, как обычно, следует проявлять осторожность, выполняя присваивание\n",
    "переменным изменяемых объектов, таких как списки или словари:"
   ]
  },
  {
   "cell_type": "code",
   "execution_count": 33,
   "metadata": {},
   "outputs": [
    {
     "data": {
      "text/plain": [
       "([42], [42])"
      ]
     },
     "execution_count": 33,
     "metadata": {},
     "output_type": "execute_result"
    }
   ],
   "source": [
    "a = b = []\n",
    "b.append(42)\n",
    "a, b"
   ]
  },
  {
   "cell_type": "markdown",
   "metadata": {},
   "source": [
    "Чтобы избежать этой проблемы, инициализацию изменяемыми объектами\n",
    "следует производить в отдельных инструкциях, чтобы в каждой из них создавался новый пустой объект с помощью отдельных литеральных выражений:"
   ]
  },
  {
   "cell_type": "code",
   "execution_count": 34,
   "metadata": {},
   "outputs": [
    {
     "data": {
      "text/plain": [
       "([], [42])"
      ]
     },
     "execution_count": 34,
     "metadata": {},
     "output_type": "execute_result"
    }
   ],
   "source": [
    "a = []\n",
    "b = []\n",
    "b.append(42)\n",
    "a, b"
   ]
  },
  {
   "cell_type": "markdown",
   "metadata": {},
   "source": [
    "## Комбинированные инструкции присваивания"
   ]
  },
  {
   "cell_type": "markdown",
   "metadata": {},
   "source": [
    "Комбинируют в себе выражение и операцию присваивания, существуют для любого поддерживаемого двухместного оператора"
   ]
  },
  {
   "cell_type": "markdown",
   "metadata": {},
   "source": [
    "```\n",
    "x += y\n",
    "x *= y\n",
    "x %= y\n",
    "x &= y\n",
    "x ^= y\n",
    "x <<= y\n",
    "x -= y\n",
    "x /= y\n",
    "x **= y\n",
    "x |= y\n",
    "x >>= y\n",
    "x //= y\n",
    "```"
   ]
  },
  {
   "cell_type": "code",
   "execution_count": 35,
   "metadata": {},
   "outputs": [
    {
     "data": {
      "text/plain": [
       "'spamSPAM'"
      ]
     },
     "execution_count": 35,
     "metadata": {},
     "output_type": "execute_result"
    }
   ],
   "source": [
    "s = 'spam'\n",
    "s += 'SPAM'\n",
    "s"
   ]
  },
  {
   "cell_type": "markdown",
   "metadata": {},
   "source": [
    "Комбинированные инструкции присваивания обладают следующими преимуществами:\n",
    "\n",
    "* Уменьшается объем ввода с клавиатуры\n",
    "\n",
    "\n",
    "* **Левая часть инструкции должна быть получена всего один раз**\n",
    "В инструкции `X += Y` `X` может оказаться сложным выражением, которое в комбинированной форме должно быть вычислено всего один раз. В более длинной форме записи `X = X + Y` `X` появляется дважды, и поэтому данное выражение должно быть вычислено дважды.\n",
    "\n",
    "\n",
    "* Автоматически выбирается оптимальный алгоритм выполнения. Для объектов, поддерживающих возможность непосредственного изменения, комбинированные инструкции присваивания автоматически выполняются непосредственно на самих объектах, вместо более медленной операции копирования"
   ]
  },
  {
   "cell_type": "markdown",
   "metadata": {},
   "source": [
    "> Комбинированные инструкции присваивания, при применении к изменяемым объектам, могут служить для оптимизации."
   ]
  },
  {
   "cell_type": "code",
   "execution_count": 36,
   "metadata": {},
   "outputs": [
    {
     "data": {
      "text/plain": [
       "[1, 2, 3]"
      ]
     },
     "execution_count": 36,
     "metadata": {},
     "output_type": "execute_result"
    }
   ],
   "source": [
    "L = [1, 2]\n",
    "L = L + [3] # Конкатенация более медленная\n",
    "L"
   ]
  },
  {
   "cell_type": "code",
   "execution_count": 37,
   "metadata": {},
   "outputs": [],
   "source": [
    "# Более быстрая, но изменяет сам объект\n",
    "L.append(4)"
   ]
  },
  {
   "cell_type": "code",
   "execution_count": 38,
   "metadata": {},
   "outputs": [
    {
     "data": {
      "text/plain": [
       "[1, 2, 3, 4, 5, 6]"
      ]
     },
     "execution_count": 38,
     "metadata": {},
     "output_type": "execute_result"
    }
   ],
   "source": [
    "# для нескольких элементов\n",
    "L = L + [5, 6] # Конкатенация более медленная\n",
    "L"
   ]
  },
  {
   "cell_type": "code",
   "execution_count": 39,
   "metadata": {},
   "outputs": [
    {
     "data": {
      "text/plain": [
       "[1, 2, 3, 4, 5, 6, 7, 8]"
      ]
     },
     "execution_count": 39,
     "metadata": {},
     "output_type": "execute_result"
    }
   ],
   "source": [
    "# Более быстрая, но изменяет сам объект\n",
    "L.extend([7, 8])\n",
    "L"
   ]
  },
  {
   "cell_type": "markdown",
   "metadata": {},
   "source": [
    "В обоих случаях операция конкатенации несет в себе меньше побочных эффектов при работе с разделяемыми ссылками на объекты, но вообще она выполняется медленнее, чем эквивалентные операции, воздействующие на объект непосредственно.\n",
    "\n",
    "Операция конкатенации должна создать новый объект, копию списка слева, и затем скопировать в него список справа. В противовес ей **метод,\n",
    "воздействующий на объект непосредственно, просто добавляет новый элемент в конец блока памяти**.\n",
    "\n",
    "**При использовании комбинированной инструкции присваивания** для расширения списка мы можем не думать об этих деталях – **интерпретатор Python автоматически вызовет более быстрый метод `extend`** вместо использования более медленной операции конкатенации, которую предполагает оператор `+`"
   ]
  },
  {
   "cell_type": "code",
   "execution_count": 40,
   "metadata": {},
   "outputs": [
    {
     "data": {
      "text/plain": [
       "[1, 2, 3, 4, 5, 6, 7, 8, 9, 10]"
      ]
     },
     "execution_count": 40,
     "metadata": {},
     "output_type": "execute_result"
    }
   ],
   "source": [
    "L += [9, 10] # Выполняется как L.extend([9, 10])\n",
    "L"
   ]
  },
  {
   "cell_type": "markdown",
   "metadata": {},
   "source": [
    "#### Комбинированные инструкции присваивания и разделяемые ссылки"
   ]
  },
  {
   "cell_type": "markdown",
   "metadata": {},
   "source": [
    "Такой порядок вещей чаще всего именно то, что нам требуется, но необходимо учитывать – он предполагает, что применительно к спискам операция `+=` выполняет изменения непосредственно в объекте, а это далеко не то же самое, что операция конкатенации `+`, в  результате которой всегда создается новый объект.\n",
    "\n",
    "Как всегда в случае использования разделяемых ссылок, различия в поведении этих операций могут иметь значение, если имеются другие ссылки на изменяемый объект"
   ]
  },
  {
   "cell_type": "code",
   "execution_count": 41,
   "metadata": {},
   "outputs": [
    {
     "data": {
      "text/plain": [
       "([1, 2, 3, 4], [1, 2])"
      ]
     },
     "execution_count": 41,
     "metadata": {},
     "output_type": "execute_result"
    }
   ],
   "source": [
    "L = [1, 2]\n",
    "M = L           # L и M ссылаются на один и тот же объект\n",
    "L = L + [3, 4]  # Операция конкатенации создает новый объект\n",
    "L, M            # Изменяется L, но не M"
   ]
  },
  {
   "cell_type": "code",
   "execution_count": 42,
   "metadata": {},
   "outputs": [
    {
     "data": {
      "text/plain": [
       "([1, 2, 3, 4], [1, 2, 3, 4])"
      ]
     },
     "execution_count": 42,
     "metadata": {},
     "output_type": "execute_result"
    }
   ],
   "source": [
    "L = [1, 2]\n",
    "M = L           # L и M ссылаются на один и тот же объект\n",
    "L += [3, 4]     # Операция += предполагает вызов метода extend\n",
    "L, M            # Значение M тоже изменилось"
   ]
  },
  {
   "cell_type": "markdown",
   "metadata": {},
   "source": [
    "### Правила именования переменных"
   ]
  },
  {
   "cell_type": "markdown",
   "metadata": {},
   "source": [
    "Существует несколько правил, которым желательно следовать при выборе\n",
    "имен для всего сущего в ваших программах:\n",
    "\n",
    "* **Синтаксис: (символ подчеркивания или алфавитный символ) + (любое число символов, цифр или символов подчеркивания)** \n",
    "\n",
    "Имена переменных должны начинаться с символа подчеркивания или с алфавитного символа, за которым может следовать произвольное число алфавитных символов, цифр или символов подчеркивания.\n",
    " * Допустимыми именами являются: `_spam`, `spam` и `Spam_1`,\n",
    " * а `1_Spam`, `spam$` и  `@#!` – недопустимыми.\n",
    "\n",
    "\n",
    "* **Регистр символов в именах имеет значение**: имена `SPAM` и `spam` считаются различными\n",
    "\n",
    "\n",
    "* **Запрещено использовать зарезервированные слова**. Имена определяемых вами переменных не могут совпадать с зарезервированными словами, имеющими в языке Python специальное назначение"
   ]
  },
  {
   "cell_type": "markdown",
   "metadata": {},
   "source": [
    "**Зарезервированные слова**\n",
    "\n",
    "```\n",
    "False\n",
    "None\n",
    "True\n",
    "and\n",
    "as\n",
    "assert\n",
    "break\n",
    "class\n",
    "continue\n",
    "def\n",
    "del\n",
    "elif\n",
    "else\n",
    "except\n",
    "finally\n",
    "for\n",
    "from\n",
    "global\n",
    "if\n",
    "import\n",
    "in\n",
    "is\n",
    "lambda\n",
    "nonlocal\n",
    "not\n",
    "or\n",
    "pass\n",
    "raise\n",
    "return\n",
    "try\n",
    "while\n",
    "with\n",
    "yield\n",
    "```"
   ]
  },
  {
   "cell_type": "markdown",
   "metadata": {},
   "source": [
    ">Вы **не можете переопределять зарезервированные слова посредством операции присваивания** (в отличие от имен в области видимости по умолчанию)"
   ]
  },
  {
   "cell_type": "code",
   "execution_count": 43,
   "metadata": {},
   "outputs": [
    {
     "ename": "SyntaxError",
     "evalue": "invalid syntax (<ipython-input-43-fe0e9e3f858a>, line 1)",
     "output_type": "error",
     "traceback": [
      "\u001b[0;36m  File \u001b[0;32m\"<ipython-input-43-fe0e9e3f858a>\"\u001b[0;36m, line \u001b[0;32m1\u001b[0m\n\u001b[0;31m    and = 4\u001b[0m\n\u001b[0m      ^\u001b[0m\n\u001b[0;31mSyntaxError\u001b[0m\u001b[0;31m:\u001b[0m invalid syntax\n"
     ]
    }
   ],
   "source": [
    "and = 4"
   ]
  },
  {
   "cell_type": "markdown",
   "metadata": {},
   "source": [
    "`True`, `False`, `None` имеют не совсем обычное назначение  – они определены в  области видимости по умолчанию и с технической точки зрения являются именами переменных, которым присвоены объекты. Однако во всех остальных смыслах они являются зарезервированными словами и не могут использоваться для других целей, кроме как представлять присвоенные им объекты. Все остальные зарезервированные слова являются частью синтаксиса языка Python и могут появляться только в определенном контексте."
   ]
  },
  {
   "cell_type": "code",
   "execution_count": 44,
   "metadata": {},
   "outputs": [
    {
     "ename": "SyntaxError",
     "evalue": "can't assign to keyword (<ipython-input-44-892860a61661>, line 1)",
     "output_type": "error",
     "traceback": [
      "\u001b[0;36m  File \u001b[0;32m\"<ipython-input-44-892860a61661>\"\u001b[0;36m, line \u001b[0;32m1\u001b[0m\n\u001b[0;31m    False = 10\u001b[0m\n\u001b[0m              ^\u001b[0m\n\u001b[0;31mSyntaxError\u001b[0m\u001b[0;31m:\u001b[0m can't assign to keyword\n"
     ]
    }
   ],
   "source": [
    "False = 10"
   ]
  },
  {
   "cell_type": "markdown",
   "metadata": {},
   "source": [
    "Кроме того, поскольку имена модулей в  инструкции `import` становятся переменными в ваших сценариях, это накладывает ограничения на имена файлов с модулями.\n",
    "\n",
    "Вы **можете создать** файлы с именами `and.py` и `my-code.py`, но вы **не сможете импортировать их**, потому что их имена без расширения «.py» в программном коде будут преобразованы в  имена переменных и  поэтому должны следовать только что обозначенным правилам"
   ]
  },
  {
   "cell_type": "markdown",
   "metadata": {},
   "source": [
    "#### Соглашения по именованию"
   ]
  },
  {
   "cell_type": "markdown",
   "metadata": {},
   "source": [
    "* Имена, начинающиеся с одного символа подчеркивания (**`_X`**), **не импортируются инструкцией `from module import *`**\n",
    "\n",
    "\n",
    "* Имена, имеющие два символа подчеркивания в начале и конце (**`__X__`**), являются **системными именами, которые имеют особый смысл для интерпретатора**\n",
    "\n",
    "\n",
    "* Имена, начинающиеся с двух символов подчеркивания и не оканчивающиеся двумя символами подчеркивания (**`__X`**), являются **локальными (\"искаженными\") для объемлющего класса**\n",
    "\n",
    "\n",
    "* Имя, состоящее из единственного символа подчеркивания (**`_`**), **хранит результат последнего выражения при работе в интерактивной оболочке**"
   ]
  },
  {
   "cell_type": "markdown",
   "metadata": {},
   "source": [
    "#### Имена не имеют типа, тип – это характеристика объектов"
   ]
  },
  {
   "cell_type": "markdown",
   "metadata": {},
   "source": [
    "Крайне важно сохранить четкое понимание **различий между именами и объектами** в языке Python.\n",
    "\n",
    "**Объекты имеют тип** (например, целое число, список) и  могут быть изменяемыми или нет.\n",
    "\n",
    "С другой стороны, **имена (они же переменные)** всегда являются **всего лишь ссылками на объекты** – они не имеют информации об изменяемости или о типе отдельно от типа объекта, на который они ссылаются в данный момент времени."
   ]
  },
  {
   "cell_type": "markdown",
   "metadata": {},
   "source": [
    "## Инструкции выражений"
   ]
  },
  {
   "cell_type": "markdown",
   "metadata": {},
   "source": [
    "В языке Python выражения также могут использоваться в качестве инструкций (то есть в отдельной строке). Однако, поскольку результат вычисления таких выражений не сохраняется, использовать такую возможность имеет смысл только в том случае, если выражение выполняет какие-то полезные действия в  виде побочного эффекта. В  качестве инструкций выражения используются обычно в двух ситуациях:\n",
    "\n",
    "* **Для вызова функций и методов**\n",
    "Некоторые функции и методы выполняют огромный объем работы, не возвращая никакого значения. В других языках программирования такие функции иногда называют *процедурами*. Поскольку они не возвращают значение, которые могло бы потребоваться сохранить, вы можете вызывать эти функции в инструкциях выражений.\n",
    "\n",
    "\n",
    "* **Для вывода значений в интерактивной оболочке**\n",
    "В ходе интерактивного сеанса интерпретатор автоматически выводит результаты вводимых выражений. С технической точки зрения они также являются инструкциями выражений и играют роль сокращенной версии инструкции `print`"
   ]
  },
  {
   "cell_type": "markdown",
   "metadata": {},
   "source": [
    "В таблице приведены некоторые наиболее часто используемые формы инструкции выражений:\n",
    "\n",
    "| **Операция** | **Интерпретация** |\n",
    "| --- | --- |\n",
    "| `spam(eggs, ham)` | Вызов функции |\n",
    "| `spam.ham(eggs)` | Вызов метода |\n",
    "| `spam` | Вывод значения переменной в интерактивной оболочке интерпретатора |\n",
    "| `print(a, b, c, sep='')` | Операция вывода |\n",
    "| `yield x ** 2` | Инструкция выражения `yield` |"
   ]
  },
  {
   "cell_type": "markdown",
   "metadata": {},
   "source": [
    "Несмотря на то, что выражения могут играть роль инструкций в языке Python, сами инструкции не могут использоваться в качестве выражений. Например, язык Python не допускает встраивание инструкции присваивания (`=`) в выражения."
   ]
  },
  {
   "cell_type": "markdown",
   "metadata": {},
   "source": [
    "### Инструкции выражений и непосредственное изменение объектов"
   ]
  },
  {
   "cell_type": "markdown",
   "metadata": {},
   "source": [
    "Инструкции выражений являются причиной распространенной ошибки при\n",
    "программировании на языке Python. Инструкции выражений часто используются для вызова методов списка, которые непосредственно изменяют сам список"
   ]
  },
  {
   "cell_type": "code",
   "execution_count": 45,
   "metadata": {},
   "outputs": [
    {
     "data": {
      "text/plain": [
       "[1, 2, 3]"
      ]
     },
     "execution_count": 45,
     "metadata": {},
     "output_type": "execute_result"
    }
   ],
   "source": [
    "L = [1, 2]\n",
    "L.append(3)\n",
    "L"
   ]
  },
  {
   "cell_type": "markdown",
   "metadata": {},
   "source": [
    "Однако начинающие программисты нередко записывают такие операции\n",
    "в виде инструкций присваивания, пытаясь связать имя L со списком"
   ]
  },
  {
   "cell_type": "code",
   "execution_count": 46,
   "metadata": {},
   "outputs": [
    {
     "name": "stdout",
     "output_type": "stream",
     "text": [
      "None\n"
     ]
    }
   ],
   "source": [
    "L = L.append(4)  # метод append возвращает None, список теряется\n",
    "print(L)"
   ]
  },
  {
   "cell_type": "markdown",
   "metadata": {},
   "source": [
    "## Операция `print`"
   ]
  },
  {
   "cell_type": "markdown",
   "metadata": {},
   "source": [
    "В языке Python инструкция `print` – это просто **удобный для программистов интерфейс к стандартному потоку вывода**.\n",
    "\n",
    "С технической точки зрения эта инструкция преобразует объекты в текстовое представление и либо посылает результат в поток стандартного вывода, либо передает другому объекту, похожему на файл. Инструкция `print` тесно связана с понятием файлов и потоков в языке Python.\n",
    "\n",
    "* **Методы объектов файлов**\n",
    "В главе 9 мы рассматривали некоторые методы для работы с файлами, которые выводят текст (например, `file.write(str)`). Инструкция `print` чем-то похожа на них, но она имеет более специализированное назначение: **инструкция `print` по умолчанию записывает объекты в поток `stdout` (с соблюдением некоторого форматирования)**, в  то время как методы файлов записывают строки в произвольные файлы. В отличие от методов файлов, инструкция `print` не требует преобразовывать объекты в строковое представление.\n",
    "\n",
    "\n",
    "* **Поток стандартного вывода**\n",
    "Поток стандартного вывода в языке Python (известный под именем `stdout`) – это просто объект, куда программы выводят текст. Наряду с потоками стандартного ввода и стандартного вывода сообщений об ошибках, поток стандартного вывода является одним из трех потоков, которые создаются в момент запуска сценария. Поток стандартного вывода обычно отображается на окно терминала, где была запущена программа на языке Python, если явно не было выполнено перенаправление вывода в файл или в конвейер системной командной оболочки."
   ]
  },
  {
   "cell_type": "markdown",
   "metadata": {},
   "source": [
    "Так как поток стандартного вывода в  языке Python доступен в  виде объекта `stdout` из встроенного модуля `sys` (то есть `sys.stdout`), вполне возможно имитировать поведение инструкции `print` с помощью методов записи в файл, хотя использование `print` выглядит проще."
   ]
  },
  {
   "cell_type": "markdown",
   "metadata": {},
   "source": [
    "От версии интерпретатора зависит способ оформления операции `print`:\n",
    "\n",
    "* В Python 3.X инструкция `print` превратилась во встроенную функцию, которая принимает именованные аргументы, определяющие специальные режимы вывода.\n",
    "\n",
    "\n",
    "* В Python 2.X `print` – это инструкция, имеющая свой характерный синтаксис."
   ]
  },
  {
   "cell_type": "markdown",
   "metadata": {},
   "source": [
    "### Функция `print` в Python 3.0"
   ]
  },
  {
   "cell_type": "markdown",
   "metadata": {},
   "source": [
    "#### Формат вызова"
   ]
  },
  {
   "cell_type": "markdown",
   "metadata": {},
   "source": [
    "`print([object, ...][, sep=' '][, end='\\n'][, file=sys.stdout])`\n",
    "\n",
    "Параметры `sep`, `end` и `file`, если они необходимы, должны передаваться не в  виде позиционных, а **в виде именованных аргументов**, то есть с  использованием специального синтаксиса «имя=значение»\n",
    "\n",
    "* `sep` - строка, которая должна вставляться между объектами при выводе. По умолчанию состоит из одного пробела.\n",
    "\n",
    "* `end` - строка, добавляемая в конец выводимого текста. По умолчанию содержит символ конца строки `\\n`. Если в этом аргументе передать пустую строку, следующий вызов функции `print` начнет вывод текста с позиции, где закончился вывод текущей строки.\n",
    "\n",
    "* `file` - объект файла, стандартный поток или другой объект, похожий на файл, куда будет выводиться текст. По умолчанию используется объект `sys.stdout` стандартного потока вывода. В  этом аргументе можно передать любой объект, поддерживающий метод файлов `write(string)`; если передается настоящий объект файла, он должен уже быть открыт для записи.\n",
    "\n",
    "Текстовое представление любого объекта, который передается для вывода, функция `print` получает с помощью встроенной функции `str`."
   ]
  },
  {
   "cell_type": "markdown",
   "metadata": {},
   "source": [
    "#### Функция `print` в действии"
   ]
  },
  {
   "cell_type": "code",
   "execution_count": 47,
   "metadata": {},
   "outputs": [
    {
     "name": "stdout",
     "output_type": "stream",
     "text": [
      "spam 99 ['eggs']\n"
     ]
    }
   ],
   "source": [
    "x = 'spam'\n",
    "y = 99\n",
    "z = ['eggs']\n",
    "\n",
    "print(x, y, z)"
   ]
  },
  {
   "cell_type": "code",
   "execution_count": 48,
   "metadata": {},
   "outputs": [
    {
     "name": "stdout",
     "output_type": "stream",
     "text": [
      "spam...99...['eggs']!\n"
     ]
    }
   ],
   "source": [
    "print(x, y, z, sep='...', end='!\\n')"
   ]
  },
  {
   "cell_type": "code",
   "execution_count": 49,
   "metadata": {},
   "outputs": [
    {
     "name": "stdout",
     "output_type": "stream",
     "text": [
      "spam...99...['eggs']!\n"
     ]
    }
   ],
   "source": [
    "# порядок именованных аргументов не имеет значения\n",
    "print(x, y, z, end='!\\n', sep='...')"
   ]
  },
  {
   "cell_type": "code",
   "execution_count": 50,
   "metadata": {},
   "outputs": [],
   "source": [
    "# Вывод в файл\n",
    "print(x, y, z, sep='...', file=open('./exercises/3_11/data.txt', 'w'))"
   ]
  },
  {
   "cell_type": "markdown",
   "metadata": {},
   "source": [
    "### Перенаправление потока вывода в инструкции `print`"
   ]
  },
  {
   "cell_type": "code",
   "execution_count": 51,
   "metadata": {},
   "outputs": [
    {
     "data": {
      "text/plain": [
       "'hello world'"
      ]
     },
     "execution_count": 51,
     "metadata": {},
     "output_type": "execute_result"
    }
   ],
   "source": [
    "# Интерактивная оболочка выводит результат автоматически\n",
    "'hello world'"
   ]
  },
  {
   "cell_type": "code",
   "execution_count": 52,
   "metadata": {},
   "outputs": [
    {
     "name": "stdout",
     "output_type": "stream",
     "text": [
      "hello world\n"
     ]
    }
   ],
   "source": [
    "# Вывод более сложным способом\n",
    "import sys\n",
    "sys.stdout.write('hello world\\n')"
   ]
  },
  {
   "cell_type": "markdown",
   "metadata": {},
   "source": [
    "#### Перенаправление потока вручную"
   ]
  },
  {
   "cell_type": "markdown",
   "metadata": {},
   "source": [
    "```\n",
    "print(X, Y)\n",
    "``` \n",
    "является эквивалентом более длинной\n",
    "```\n",
    "import sys\n",
    "sys.stdout.write(str(X) + ' ' + str(Y) + '\\n')\n",
    "```\n",
    "которая вручную выполняет преобразование объекта в  строку с  помощью\n",
    "функции `str`, добавляет символ конца строки с помощью оператора `+` и вызывает метод `write` потока вывода."
   ]
  },
  {
   "cell_type": "markdown",
   "metadata": {},
   "source": [
    "**Существует возможность переназначить `sys.stdout` на\n",
    "что-то, отличное от стандартного потока вывода**. Другими словами, эта эквивалентность обеспечивает возможность заставить инструкцию `print` выводить текст в другое место. Например:"
   ]
  },
  {
   "cell_type": "code",
   "execution_count": 53,
   "metadata": {},
   "outputs": [],
   "source": [
    "import sys\n",
    "sys.stdout = open('./exercises/3_11/log.txt', 'a')  # Перенаправить в файл\n",
    "print('some text')                                  # Текст появится в файле log.txt"
   ]
  },
  {
   "cell_type": "markdown",
   "metadata": {},
   "source": [
    "Здесь мы вручную перенаправили объект `sys.stdout` в  файл, открытый вручную в  режиме добавления (так как мы добавляем новое содержимое). После этого все инструкции `print` в программе будут выводить текст в конец файла `log.txt`, а не в стандартный поток вывода.\n",
    "\n",
    "Инструкции `print` благополучно продолжают вызывать метод `write` объекта `sys.stdout` независимо от того, куда он ссылается. Поскольку в  каждом процессе существует всего один модуль `sys`, **перенаправление** `sys.stdout` таким способом **будет воздействовать на все инструкции `print` в программе**.\n",
    "\n",
    "Фактически, существует возможность перенаправить `sys.stdout` в объект, который даже не является файлом, при условии, что он поддерживает ожидаемый интерфейс: метод `write`, принимающий строковый аргумент. Этот объект может быть классом, способным обрабатывать и  перенаправлять выводимый текст произвольным образом."
   ]
  },
  {
   "cell_type": "markdown",
   "metadata": {},
   "source": [
    "#### Автоматическое перенаправление потоков"
   ]
  },
  {
   "cell_type": "markdown",
   "metadata": {},
   "source": [
    "В программном коде предыдущего раздела имеется одна потенциальная проблема  – отсутствует прямой способ восстановления первоначального потока вывода, если вдруг после вывода данных в файл потребуется вернуться обратно к выводу на экран.\n",
    "\n",
    "Но поскольку `sys.stdout` является обычным объектом, вы всегда можете в случае необходимости сохранить его и восстановить позднее"
   ]
  },
  {
   "cell_type": "markdown",
   "metadata": {},
   "source": [
    ">Можно также использовать атрибут **`__stdout__`** модуля `sys`,\n",
    "который ссылается на первоначальное значение `sys.stdout`, имевшееся на момент запуска программы. Но вам и в этом случае необходимо вручную восстановить `sys.stdout` в первоначальное значение `sys.__stdout__`, чтобы вернуться к оригинальному потоку вывода."
   ]
  },
  {
   "cell_type": "code",
   "execution_count": 1,
   "metadata": {},
   "outputs": [
    {
     "name": "stdout",
     "output_type": "stream",
     "text": [
      "back here\n"
     ]
    }
   ],
   "source": [
    "# перед выполнением кода ниже кернел ноутбука перезапущен\n",
    "\n",
    "import sys\n",
    "\n",
    "temp = sys.stdout  # Сохранить для последующего восстановления\n",
    "\n",
    "sys.stdout = open('./exercises/3_11/log.txt', 'a')  # Переправить вывод в файл\n",
    "print('spam')\n",
    "print(1, 2, 3)\n",
    "sys.stdout.close()  # Вытолкнуть буферы на диск\n",
    "\n",
    "sys.stdout = temp   # Восстановить первоначальный поток\n",
    "print('back here')"
   ]
  },
  {
   "cell_type": "code",
   "execution_count": 2,
   "metadata": {},
   "outputs": [
    {
     "name": "stdout",
     "output_type": "stream",
     "text": [
      "some text\n",
      "spam\n",
      "1 2 3\n",
      "\n"
     ]
    }
   ],
   "source": [
    "# Результаты более ранних обращений к print\n",
    "print(open('./exercises/3_11/log.txt').read())"
   ]
  },
  {
   "cell_type": "markdown",
   "metadata": {},
   "source": [
    "В версии 3.0 именованный аргумент `file` позволяет перенаправить в файл вывод единственного вызова функции `print`, не прибегая к переустановке значения `sys.stdout`. Так как такое перенаправление носит временный характер, обычные вызовы функции `print` продолжают выводить текст в оригинальный поток вывода.\n",
    "\n",
    "```\n",
    "log = open('log.txt', 'a')\n",
    "print(x, y, z, file=log)  # Вывести в объект, напоминающий файл\n",
    "print(a, b, c)            # Вывести в оригинальный поток вывода\n",
    "```"
   ]
  },
  {
   "cell_type": "markdown",
   "metadata": {},
   "source": [
    "Эти расширенные формы инструкции `print` нередко используются для вывода сообщений об ошибках в стандартный поток ошибок, `sys.stderr`."
   ]
  },
  {
   "cell_type": "markdown",
   "metadata": {},
   "source": [
    "#### Реализация вывода, не зависящая от версии интерпретатора"
   ]
  },
  {
   "cell_type": "markdown",
   "metadata": {},
   "source": [
    "`from __future__ import print_function`\n",
    "\n",
    "Единственный недостаток такого подхода состоит в том, что он образует кортеж из выводимых объектов, когда их более одного – в выводимом тексте они будут заключены в круглые скобки."
   ]
  },
  {
   "cell_type": "code",
   "execution_count": 3,
   "metadata": {},
   "outputs": [
    {
     "name": "stdout",
     "output_type": "stream",
     "text": [
      "spam ham eggs\n"
     ]
    }
   ],
   "source": [
    "print('spam', 'ham', 'eggs')\n",
    "# в 2.6 будет выведено ('spam', 'ham', 'eggs')"
   ]
  },
  {
   "cell_type": "markdown",
   "metadata": {},
   "source": [
    "Чтобы обеспечить настоящую независимость от версии интерпретатора, необходимо сначала сконструировать строку, используя оператор форматирования строк, или метод `format`, или другие инструменты для работы со строками."
   ]
  },
  {
   "cell_type": "markdown",
   "metadata": {},
   "source": [
    "С помощью `print` вывод `stdout` можно **перенаправить в любой объект с методом `write`**, например:"
   ]
  },
  {
   "cell_type": "code",
   "execution_count": 5,
   "metadata": {},
   "outputs": [],
   "source": [
    "class FileFaker:\n",
    "    def write(self, string):\n",
    "        pass\n",
    "    \n",
    "myobj = FileFaker()\n",
    "print('sometext', file=myobj)\n",
    "\n",
    "# перенаправление вывода для одной инструкции\n",
    "# не влияет на объект sys.stdout"
   ]
  },
  {
   "cell_type": "markdown",
   "metadata": {},
   "source": [
    ">Встроенная функция `input` в языке Python читает данные из файла `sys.stdin`, благодаря чему существует возможность перенаправить ввод аналогичным образом, используя классы, реализующие метод `read`."
   ]
  }
 ],
 "metadata": {
  "kernelspec": {
   "display_name": "Python 3",
   "language": "python",
   "name": "python3"
  },
  "language_info": {
   "codemirror_mode": {
    "name": "ipython",
    "version": 3
   },
   "file_extension": ".py",
   "mimetype": "text/x-python",
   "name": "python",
   "nbconvert_exporter": "python",
   "pygments_lexer": "ipython3",
   "version": "3.6.6"
  }
 },
 "nbformat": 4,
 "nbformat_minor": 2
}
