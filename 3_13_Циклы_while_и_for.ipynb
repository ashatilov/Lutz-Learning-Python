{
 "cells": [
  {
   "cell_type": "markdown",
   "metadata": {},
   "source": [
    "# Глава 13. Циклы `while` и `for`"
   ]
  },
  {
   "cell_type": "markdown",
   "metadata": {},
   "source": [
    "Инструкции `while` и `for`, которые описываются здесь, являются основными синтаксическими элементами, предоставляющими возможность программирования повторяющихся действий."
   ]
  },
  {
   "cell_type": "markdown",
   "metadata": {},
   "source": [
    "## Циклы `while`"
   ]
  },
  {
   "cell_type": "markdown",
   "metadata": {},
   "source": [
    "Инструкция `while` продолжает выполнять блок инструкций (обычно с отступами) до тех пор, пока условное выражение продолжает возвращать истину.\n",
    "\n",
    "Как только в результате проверки будет получено ложное значение, управление будет передано первой инструкции, расположенной сразу же за вложенным блоком тела цикла `while`.\n",
    "\n",
    "Если условное выражение сразу вернет ложное значение, тело цикла никогда не будет выполнено"
   ]
  },
  {
   "cell_type": "markdown",
   "metadata": {},
   "source": [
    "### Общий формат"
   ]
  },
  {
   "cell_type": "markdown",
   "metadata": {},
   "source": [
    "```\n",
    "while <test>:\n",
    "    <statements1>\n",
    "else:\n",
    "    <statements2>\n",
    "```\n",
    "\n",
    "`else` - необязательная часть , которая выполняется, когда управление передается за пределы цикла без использования инструкции `break`."
   ]
  },
  {
   "cell_type": "markdown",
   "metadata": {},
   "source": [
    "**Примеры**"
   ]
  },
  {
   "cell_type": "code",
   "execution_count": 1,
   "metadata": {},
   "outputs": [
    {
     "name": "stdout",
     "output_type": "stream",
     "text": [
      "spam pam am m "
     ]
    }
   ],
   "source": [
    "x = 'spam'\n",
    "\n",
    "while x:\n",
    "    print(x, end=' ')\n",
    "    x = x[1:]  # вырезать первый символ из x"
   ]
  },
  {
   "cell_type": "code",
   "execution_count": 2,
   "metadata": {},
   "outputs": [
    {
     "name": "stdout",
     "output_type": "stream",
     "text": [
      "0 1 2 3 4 5 6 7 8 9 "
     ]
    }
   ],
   "source": [
    "a = 0; b = 10\n",
    "while a < b:\n",
    "    print(a, end=' ')\n",
    "    a += 1"
   ]
  },
  {
   "cell_type": "markdown",
   "metadata": {},
   "source": [
    "В языке Python отсутствует цикл «do until», имеющийся в других языках программирования. Однако его можно имитировать, добавив в конец тела цикла условную инструкцию и инструкцию `break`\n",
    "\n",
    "```\n",
    "while True:\n",
    "    ... тело цикла ...\n",
    "    if exitTest():\n",
    "        break\n",
    "```"
   ]
  },
  {
   "cell_type": "markdown",
   "metadata": {},
   "source": [
    "## `break`, `continue`, `pass` и `else`"
   ]
  },
  {
   "cell_type": "markdown",
   "metadata": {},
   "source": [
    ">Инструкции `break` и `continue` могут использоваться только внутри циклов\n",
    "\n",
    "* **`break`** - производит переход за пределы объемлющего цикла (всей инструкции цикла)\n",
    "\n",
    "\n",
    "* **`continue`** - производит переход в начало цикла (в строку заголовка)\n",
    "\n",
    "\n",
    "* **`pass`** - ничего не делает: это пустая инструкция, используемая как заполнитель\n",
    "\n",
    "\n",
    "* **Блок `else`** - выполняется, только если цикл завершился обычным образом (без использования инструкции `break`)"
   ]
  },
  {
   "cell_type": "markdown",
   "metadata": {},
   "source": [
    "### Общий формат"
   ]
  },
  {
   "cell_type": "markdown",
   "metadata": {},
   "source": [
    "```\n",
    "while <test1>:\n",
    "    <statements1>\n",
    "    if <test2>: break\n",
    "    if <test3>: continue\n",
    "else:\n",
    "    <statements2>\n",
    "```\n",
    "\n",
    "Инструкции `break` и `continue` могут появляться в любом месте внутри тела цикла `while` (или `for`), но как правило, они используются в условных инструкциях `if`, чтобы выполнить необходимое действие в ответ на некоторое условие."
   ]
  },
  {
   "cell_type": "markdown",
   "metadata": {},
   "source": [
    "### `pass`"
   ]
  },
  {
   "cell_type": "markdown",
   "metadata": {},
   "source": [
    "Инструкция `pass` не выполняет никаких действий и  используется в  случаях, когда синтаксис языка требует наличия инструкции, но никаких полезных действий в этой точке программы выполнить нельзя.\n",
    "\n",
    "Например, бесконечный цикл, который ничего не делает:\n",
    "\n",
    "`while True: pass`"
   ]
  },
  {
   "cell_type": "markdown",
   "metadata": {},
   "source": [
    "> В Python 3 вместо любого выражения допускается использовать многоточие `...`. Многоточие само по себе не выполняет никаких действий, поэтому его можно использовать как альтернативу инструкции `pass`, в частности вместо программного кода, который будет дописан позднее:\n",
    "\n",
    "```\n",
    "def func1():\n",
    "    pass\n",
    "    \n",
    "def func2():\n",
    "    ...\n",
    "```"
   ]
  },
  {
   "cell_type": "markdown",
   "metadata": {},
   "source": [
    "### `continue`"
   ]
  },
  {
   "cell_type": "markdown",
   "metadata": {},
   "source": [
    "Инструкция `continue` вызывает немедленный переход в начало цикла."
   ]
  },
  {
   "cell_type": "markdown",
   "metadata": {},
   "source": [
    "Например, исключение нечетных чисел:"
   ]
  },
  {
   "cell_type": "code",
   "execution_count": 3,
   "metadata": {},
   "outputs": [
    {
     "name": "stdout",
     "output_type": "stream",
     "text": [
      "8 6 4 2 0 "
     ]
    }
   ],
   "source": [
    "x = 10\n",
    "while x:\n",
    "    x -= 1\n",
    "    if x % 2 != 0:\n",
    "        continue\n",
    "    print(x, end=' ')"
   ]
  },
  {
   "cell_type": "markdown",
   "metadata": {},
   "source": [
    "Но это не самое лучшее решение, лучше `print` занести в `if`"
   ]
  },
  {
   "cell_type": "code",
   "execution_count": 4,
   "metadata": {},
   "outputs": [
    {
     "name": "stdout",
     "output_type": "stream",
     "text": [
      "8 6 4 2 0 "
     ]
    }
   ],
   "source": [
    "x = 10\n",
    "while x:\n",
    "    x -= 1\n",
    "    if x % 2 == 0:\n",
    "        print(x, end=' ')"
   ]
  },
  {
   "cell_type": "markdown",
   "metadata": {},
   "source": [
    "### `break`"
   ]
  },
  {
   "cell_type": "markdown",
   "metadata": {},
   "source": [
    "Инструкция `break` вызывает немедленный выход из цикла.\n",
    "\n",
    "Так как программный код, следующий в цикле за этой инструкцией, не выполняется, если эта инструкция запущена, то ее также можно использовать, чтобы избежать вложения."
   ]
  },
  {
   "cell_type": "code",
   "execution_count": 5,
   "metadata": {
    "scrolled": true
   },
   "outputs": [
    {
     "name": "stdout",
     "output_type": "stream",
     "text": [
      "Enter name: John\n",
      "Hello,  John\n",
      "Enter name: stop\n"
     ]
    }
   ],
   "source": [
    "while True:\n",
    "    name = input('Enter name: ')\n",
    "    if name == 'stop':\n",
    "        break\n",
    "    print('Hello, ', name)"
   ]
  },
  {
   "cell_type": "markdown",
   "metadata": {},
   "source": [
    "### `else`"
   ]
  },
  {
   "cell_type": "markdown",
   "metadata": {},
   "source": [
    "При объединении с частью `else` инструкция `break` часто позволяет избавиться от необходимости сохранять флаг состояния поиска, как это делается в  других языках программирования.\n",
    "\n",
    "Например, следующий фрагмент определяет, является ли положительное целое число `y` простым числом, выполняя поиск делителей больше 1:"
   ]
  },
  {
   "cell_type": "code",
   "execution_count": 6,
   "metadata": {},
   "outputs": [
    {
     "name": "stdout",
     "output_type": "stream",
     "text": [
      "Input number: 7\n",
      "7 is prime\n"
     ]
    }
   ],
   "source": [
    "y = int(input('Input number: '))\n",
    "\n",
    "x = y // 2                         # Для значений y > 1\n",
    "while x > 1:\n",
    "    if y % x == 0:                 # Остаток\n",
    "        print(y, 'has factor', x)\n",
    "        break                      # Перешагнуть блок else\n",
    "    x -= 1\n",
    "else:\n",
    "    print(y, 'is prime')"
   ]
  },
  {
   "cell_type": "markdown",
   "metadata": {},
   "source": [
    "Вместо того чтобы устанавливать флаг, который будет проверен по окончании цикла, достаточно вставить инструкцию `break` в  месте, где будет найден делитель. При такой реализации управление будет передано блоку `else`, только если инструкция `break` не была выполнена, то есть когда с уверенностью можно сказать, что число является простым."
   ]
  },
  {
   "cell_type": "markdown",
   "metadata": {},
   "source": [
    "> Блок `else` цикла выполняется также в том случае, когда тело цикла ни разу не выполнялось, поскольку в этой ситуации инструкция `break` также не выполняется."
   ]
  },
  {
   "cell_type": "markdown",
   "metadata": {},
   "source": [
    "### Еще о блоке `else` в цикле"
   ]
  },
  {
   "cell_type": "markdown",
   "metadata": {},
   "source": [
    "В общих чертах, блок `else` в  циклах обеспечивает явный синтаксис представления распространенной ситуации  – эта программная структура позволяет обработать «другой» способ выхода из цикла, без необходимости устанавливать и проверять флаги или условия."
   ]
  },
  {
   "cell_type": "markdown",
   "metadata": {},
   "source": [
    "Предположим, что вы создаете цикл поиска некоторого значения в списке и после выхода из цикла вам необходимо узнать, было ли найдено значение. Эту задачу можно решить следующим способом:\n",
    "\n",
    "```\n",
    "found = False\n",
    "while x and not found:\n",
    "    if match(x[0]):      # Искомое значение является первым?\n",
    "        print('Ni')\n",
    "        found = True\n",
    "    else:\n",
    "        x = x[1:]        # Вырезать первое значение и повторить\n",
    "if not found:\n",
    "    print('not found')\n",
    "```"
   ]
  },
  {
   "cell_type": "markdown",
   "metadata": {},
   "source": [
    "Здесь мы инициализируем, устанавливаем и  проверяем флаг, чтобы определить, увенчался поиск успехом или нет. Это вполне корректный программный код для языка Python, и он работает, однако это именно тот случай, когда можно использовать блок `else` в цикле. Ниже приводится эквивалентный фрагмент:\n",
    "\n",
    "```\n",
    "while x:               # выйти, когда x опустеет\n",
    "    if match(x[0]):\n",
    "        print('Ni')\n",
    "        break          # Выход, в обход блока else\n",
    "    x = x[1:]\n",
    "# блок ниже работает, только если строка x исчерпана\n",
    "else:\n",
    "    print('not found') \n",
    "```"
   ]
  },
  {
   "cell_type": "markdown",
   "metadata": {},
   "source": [
    "## Циклы `for`"
   ]
  },
  {
   "cell_type": "markdown",
   "metadata": {},
   "source": [
    "Цикл `for` является универсальным итератором последовательностей в  языке Python: он может выполнять обход элементов в  любых упорядоченных объектах последовательностей."
   ]
  },
  {
   "cell_type": "markdown",
   "metadata": {},
   "source": [
    "### Общий формат"
   ]
  },
  {
   "cell_type": "markdown",
   "metadata": {},
   "source": [
    "Циклы `for` в языке Python начинаются со строки заголовка, где  указывается переменная для присваивания (или – цель), а также объект, обход которого будет выполнен. Вслед за заголовком следует блок (обычно с отступами) инструкций, которые требуется выполнить:\n",
    "\n",
    "```\n",
    "for <target> in <object>:\n",
    "    <statements>\n",
    "else:\n",
    "    <statements>   # Если не попали на инструкцию break\n",
    "```\n",
    "\n",
    "Когда интерпретатор выполняет цикл `for`, он поочередно, один за другим, присваивает элементы объекта последовательности переменной цикла и выполняет тело цикла для каждого из них.\n",
    "\n",
    "Имя, используемое в качестве переменной цикла (возможно, новой), которое указывается в  заголовке цикла `for`, обычно находится в  области видимости, где располагается сама инструкция `for`.\n",
    "\n",
    "После выхода из цикла эта переменная обычно все еще ссылается на последний элемент последовательности, если цикл не был завершен\n",
    "инструкцией `break`."
   ]
  },
  {
   "cell_type": "markdown",
   "metadata": {},
   "source": [
    "**Полная форма цикла `for`**\n",
    "\n",
    "```\n",
    "for <target> in <object>:\n",
    "    <statements>\n",
    "    if <test>: break     # Выход из цикла, минуя else\n",
    "    if <test>: continue  # Переход в начало цикла\n",
    "else:\n",
    "    <statements>   # Если не попали на инструкцию break\n",
    "```"
   ]
  },
  {
   "cell_type": "markdown",
   "metadata": {},
   "source": [
    "### Присваивание кортежа в цикле `for`"
   ]
  },
  {
   "cell_type": "markdown",
   "metadata": {},
   "source": [
    "Если выполнить обход последовательности кортежей, переменная цикла сама\n",
    "фактически будет кортежем."
   ]
  },
  {
   "cell_type": "code",
   "execution_count": 9,
   "metadata": {},
   "outputs": [
    {
     "name": "stdout",
     "output_type": "stream",
     "text": [
      "(1, 2)\n",
      "(3, 4)\n",
      "(5, 6)\n"
     ]
    }
   ],
   "source": [
    "T = [(1, 2), (3, 4), (5, 6)]\n",
    "for x in T:\n",
    "    print(x)"
   ]
  },
  {
   "cell_type": "code",
   "execution_count": 10,
   "metadata": {},
   "outputs": [
    {
     "name": "stdout",
     "output_type": "stream",
     "text": [
      "1 2\n",
      "3 4\n",
      "5 6\n"
     ]
    }
   ],
   "source": [
    "T = [(1, 2), (3, 4), (5, 6)]\n",
    "for (a, b) in T:  # первый проход аналогичен (a, b) = (1, 2) и т.д.\n",
    "    print(a, b)"
   ]
  },
  {
   "cell_type": "code",
   "execution_count": 11,
   "metadata": {},
   "outputs": [
    {
     "name": "stdout",
     "output_type": "stream",
     "text": [
      "a => 1\n",
      "b => 2\n",
      "c => 3\n"
     ]
    }
   ],
   "source": [
    "d = {'a': 1, 'b': 2, 'c': 3}\n",
    "\n",
    "for k, v in d.items():\n",
    "    print(k, '=>', v)"
   ]
  },
  {
   "cell_type": "markdown",
   "metadata": {},
   "source": [
    "Можно выполнить распаковывание внутри цикла. Но использование кортежей в заголовке цикла позволяет сэкономить одну операцию в теле цикла при обходе последовательности последовательностей."
   ]
  },
  {
   "cell_type": "code",
   "execution_count": 12,
   "metadata": {},
   "outputs": [
    {
     "name": "stdout",
     "output_type": "stream",
     "text": [
      "1 2\n",
      "3 4\n",
      "5 6\n"
     ]
    }
   ],
   "source": [
    "T = [(1, 2), (3, 4), (5, 6)]\n",
    "for x in T:\n",
    "    a, b = x\n",
    "    print(a, b)"
   ]
  },
  {
   "cell_type": "markdown",
   "metadata": {},
   "source": [
    "Также автоматически можно распаковывать вложенные структуры"
   ]
  },
  {
   "cell_type": "code",
   "execution_count": 13,
   "metadata": {},
   "outputs": [
    {
     "name": "stdout",
     "output_type": "stream",
     "text": [
      "1 2 3\n",
      "X Y 6\n"
     ]
    }
   ],
   "source": [
    "lst = [([1, 2], 3), ['XY', 6]]\n",
    "\n",
    "for ((a, b), c) in lst:\n",
    "    print(a, b, c)"
   ]
  },
  {
   "cell_type": "markdown",
   "metadata": {},
   "source": [
    "### Расширенная операция присваивания последовательностей в циклах `for` в версии Python 3.0"
   ]
  },
  {
   "cell_type": "code",
   "execution_count": 14,
   "metadata": {},
   "outputs": [
    {
     "name": "stdout",
     "output_type": "stream",
     "text": [
      "1 [2, 3] 4\n",
      "5 [6, 7] 8\n"
     ]
    }
   ],
   "source": [
    "lst = [(1, 2, 3, 4), (5, 6, 7, 8)]\n",
    "\n",
    "for a, *b, c in lst:\n",
    "    print(a, b, c)"
   ]
  },
  {
   "cell_type": "markdown",
   "metadata": {},
   "source": [
    "### Вложенные циклы `for`"
   ]
  },
  {
   "cell_type": "code",
   "execution_count": 15,
   "metadata": {},
   "outputs": [
    {
     "name": "stdout",
     "output_type": "stream",
     "text": [
      "(4, 5) was found\n",
      "3.14 not found!\n"
     ]
    }
   ],
   "source": [
    "items = ['aaa', 111, (4, 5), 2.01]   # Множество объектов\n",
    "tests = [(4, 5), 3.14]               # Ключи, кот. надо отыскать\n",
    "\n",
    "for key in tests:                    # Для всех ключей\n",
    "    for item in items:               # Для всех элементов\n",
    "        if item == key:              # Проверить совпадение\n",
    "            print(key, 'was found')\n",
    "            break\n",
    "    else:\n",
    "        print(key, 'not found!')"
   ]
  },
  {
   "cell_type": "markdown",
   "metadata": {},
   "source": [
    "Поскольку при обнаружении совпадения вложенная инструкция `if` вызывает\n",
    "инструкцию `break`, можно утверждать, что блок `else` будет выполняться только в случае, когда поиск завершится неудачей.\n",
    "\n",
    "Обратите внимание на вложение инструкций. Если запустить этот фрагмент, одновременно будут выполняться два цикла: внешний цикл будет выполнять обход списка ключей, а  внутренний будет выполнять обход списка элементов в поисках каждого ключа.\n",
    "\n",
    "**Уровень вложенности блока `else` имеет большое значение** – он находится на уровне строки заголовка внутреннего цикла `for`, поэтому он соответствует внутреннему циклу (не инструкции `if` и не внешнему циклу `for`)."
   ]
  },
  {
   "cell_type": "markdown",
   "metadata": {},
   "source": [
    "Упрощенный пример выше без внутреннего цикла"
   ]
  },
  {
   "cell_type": "code",
   "execution_count": 16,
   "metadata": {},
   "outputs": [
    {
     "name": "stdout",
     "output_type": "stream",
     "text": [
      "(4, 5) was found\n",
      "3.14 not found!\n"
     ]
    }
   ],
   "source": [
    "items = ['aaa', 111, (4, 5), 2.01]   # Множество объектов\n",
    "tests = [(4, 5), 3.14]               # Ключи, кот. надо отыскать\n",
    "\n",
    "for key in tests:                    # Для всех ключей\n",
    "    if key in items:                 # Сразу проверит наличие\n",
    "        print(key, 'was found')\n",
    "    else:\n",
    "        print(key, 'not found!')"
   ]
  },
  {
   "cell_type": "markdown",
   "metadata": {},
   "source": [
    "**Перебор строк в файле**\n",
    "\n",
    "`readlines` загружает файл целиком в список строк, а **при использовании итератора файла** в каждой итерации загружается только одна строка\n",
    "\n",
    "```\n",
    "for line in open('test.txt').readlines():\n",
    "    print(line, end='')\n",
    "    \n",
    "# Использование итератора: лучший способ чтения текста \n",
    "for line in open('test.txt'): \n",
    "    print(line, end='')\n",
    "```"
   ]
  },
  {
   "cell_type": "markdown",
   "metadata": {},
   "source": [
    "## Приемы программирования циклов"
   ]
  },
  {
   "cell_type": "markdown",
   "metadata": {},
   "source": [
    "Цикл `for` относится к категории счетных циклов. Обычно он выглядит проще и работает быстрее, чем цикл `while`, поэтому его нужно рассматривать в самую первую очередь, когда возникает необходимость выполнить обход последовательности. Однако существуют ситуации, когда необходимо выполнять обход каким-то особенным способом.\n",
    "\n",
    "Python предоставляет две встроенные возможности, позволяющие управлять обходом элементов в цикле `for`:\n",
    "\n",
    "* Встроенная **функция `range`** возвращает непрерывную последовательность увеличивающихся целых чисел, которые можно использовать в  качестве индексов внутри цикла `for`.\n",
    "\n",
    "\n",
    "* Встроенная **функция `zip`** возвращает список кортежей, составленных из элементов входных списков с одинаковыми индексами, который может использоваться для одновременного обхода нескольких последовательностей в цикле `for`."
   ]
  },
  {
   "cell_type": "markdown",
   "metadata": {},
   "source": [
    "### Счетные циклы: `while` и `range`"
   ]
  },
  {
   "cell_type": "markdown",
   "metadata": {},
   "source": [
    "Функция `range` возвращает итератор, который генерирует элементы по требованию"
   ]
  },
  {
   "cell_type": "code",
   "execution_count": 17,
   "metadata": {},
   "outputs": [
    {
     "data": {
      "text/plain": [
       "[3, 7]"
      ]
     },
     "execution_count": 17,
     "metadata": {},
     "output_type": "execute_result"
    }
   ],
   "source": [
    "list(range(3, 8, 4))"
   ]
  },
  {
   "cell_type": "code",
   "execution_count": 18,
   "metadata": {},
   "outputs": [
    {
     "data": {
      "text/plain": [
       "[5, 3, 1, -1, -3]"
      ]
     },
     "execution_count": 18,
     "metadata": {},
     "output_type": "execute_result"
    }
   ],
   "source": [
    "list(range(5, -5, -2))"
   ]
  },
  {
   "cell_type": "code",
   "execution_count": 19,
   "metadata": {},
   "outputs": [
    {
     "name": "stdout",
     "output_type": "stream",
     "text": [
      "0 Pythons\n",
      "1 Pythons\n",
      "2 Pythons\n"
     ]
    }
   ],
   "source": [
    "for i in range(3):\n",
    "    print(i, 'Pythons')"
   ]
  },
  {
   "cell_type": "markdown",
   "metadata": {},
   "source": [
    "Если вам действительно необходимо явно управлять логикой доступа к элементам, можно воспользоваться циклом `while`:"
   ]
  },
  {
   "cell_type": "code",
   "execution_count": 20,
   "metadata": {},
   "outputs": [
    {
     "name": "stdout",
     "output_type": "stream",
     "text": [
      "s p a m "
     ]
    }
   ],
   "source": [
    "X = 'spam'\n",
    "\n",
    "i = 0\n",
    "while i < len(X):\n",
    "    print(X[i], end=' ')\n",
    "    i += 1"
   ]
  },
  {
   "cell_type": "markdown",
   "metadata": {},
   "source": [
    "Однако управлять индексами вручную можно и в цикле `for`, если использовать функцию **`range` для воспроизведения списка индексов**."
   ]
  },
  {
   "cell_type": "code",
   "execution_count": 21,
   "metadata": {},
   "outputs": [
    {
     "name": "stdout",
     "output_type": "stream",
     "text": [
      "s p a m "
     ]
    }
   ],
   "source": [
    "X = 'spam'\n",
    "\n",
    "for i in range(len(X)):\n",
    "    print(X[i], end=' ')"
   ]
  },
  {
   "cell_type": "markdown",
   "metadata": {},
   "source": [
    "### Обход части последовательности: `range` и срезы"
   ]
  },
  {
   "cell_type": "markdown",
   "metadata": {},
   "source": [
    ">Если вы не предъявляете особых требований к индексам, всегда лучше использовать простейшую форму цикла `for` – используйте цикл `for` вместо `while` везде, где только возможно, и используйте функцию `range` в циклах `for`, только если это действительно необходимо."
   ]
  },
  {
   "cell_type": "markdown",
   "metadata": {},
   "source": [
    "С помощью `range` в цикле `for` можно управлять порядком обхода последовательности"
   ]
  },
  {
   "cell_type": "code",
   "execution_count": 22,
   "metadata": {},
   "outputs": [
    {
     "name": "stdout",
     "output_type": "stream",
     "text": [
      "a c e g i k m o q s u w y "
     ]
    }
   ],
   "source": [
    "S = 'abcdefghijklmnopqrstuvwxyz'\n",
    "\n",
    "for i in range(0, len(S), 2):\n",
    "    print(S[i], end=' ')"
   ]
  },
  {
   "cell_type": "markdown",
   "metadata": {},
   "source": [
    "Применительно к примеру выше еще лучше сделать просто используя срез"
   ]
  },
  {
   "cell_type": "code",
   "execution_count": 23,
   "metadata": {},
   "outputs": [
    {
     "name": "stdout",
     "output_type": "stream",
     "text": [
      "a c e g i k m o q s u w y "
     ]
    }
   ],
   "source": [
    "S = 'abcdefghijklmnopqrstuvwxyz'\n",
    "\n",
    "for c in S[::2]:\n",
    "    print(c, end=' ')"
   ]
  },
  {
   "cell_type": "markdown",
   "metadata": {},
   "source": [
    "### Изменение списков: `range`"
   ]
  },
  {
   "cell_type": "markdown",
   "metadata": {},
   "source": [
    "Пример, где изменяется не элемент списка, а переменная цикла.\n",
    "\n",
    "Всякий раз, когда цикл выполняет очередную итерацию, переменная `x` ссылается на очередное целое число, которое уже было извлечено из списка. В первой итерации, например, переменная `x` является целым числом 1. На следующей итерации в переменную `x` будет записана ссылка на другой объект – целое число 2, но это никак не повлияет на список, откуда было взято число 1."
   ]
  },
  {
   "cell_type": "code",
   "execution_count": 24,
   "metadata": {},
   "outputs": [
    {
     "data": {
      "text/plain": [
       "[1, 2, 3, 4, 5]"
      ]
     },
     "execution_count": 24,
     "metadata": {},
     "output_type": "execute_result"
    }
   ],
   "source": [
    "L = [1, 2, 3, 4, 5]\n",
    "\n",
    "for x in L:\n",
    "    x += 1\n",
    "L"
   ]
  },
  {
   "cell_type": "markdown",
   "metadata": {},
   "source": [
    "Чтобы **действительно изменить список во время его обхода**, нам необходимо использовать **операцию присваивания по индексу** и  изменить значения во всех позициях, по которым осуществляется цикл."
   ]
  },
  {
   "cell_type": "code",
   "execution_count": 25,
   "metadata": {},
   "outputs": [
    {
     "data": {
      "text/plain": [
       "[2, 3, 4, 5, 6]"
      ]
     },
     "execution_count": 25,
     "metadata": {},
     "output_type": "execute_result"
    }
   ],
   "source": [
    "L = [1, 2, 3, 4, 5]\n",
    "\n",
    "for i in range(len(L)):\n",
    "    L[i] += 1\n",
    "L"
   ]
  },
  {
   "cell_type": "markdown",
   "metadata": {},
   "source": [
    "### Параллельный обход: `zip` и `map`"
   ]
  },
  {
   "cell_type": "markdown",
   "metadata": {},
   "source": [
    "**Функция `zip`** принимает одну или несколько последовательностей в качестве аргументов и возвращает итерируемый объект кортежей, составленных из соответствующих элементов этих последовательностей.\n",
    "\n",
    "Длина списка, возвращаемого функцией `zip`, равна длине кратчайшей из последовательностей, если аргументы имеют разную длину."
   ]
  },
  {
   "cell_type": "code",
   "execution_count": 26,
   "metadata": {},
   "outputs": [
    {
     "data": {
      "text/plain": [
       "[(1, 5), (2, 6), (3, 7), (4, 8)]"
      ]
     },
     "execution_count": 26,
     "metadata": {},
     "output_type": "execute_result"
    }
   ],
   "source": [
    "L1 = [1, 2, 3, 4]\n",
    "L2 = [5, 6, 7, 8, 9]\n",
    "\n",
    "list(zip(L1, L2))"
   ]
  },
  {
   "cell_type": "markdown",
   "metadata": {},
   "source": [
    "Применительно к циклу `for` использование `zip` обеспечивает возможность выполнения параллельных итераций:"
   ]
  },
  {
   "cell_type": "code",
   "execution_count": 27,
   "metadata": {},
   "outputs": [
    {
     "name": "stdout",
     "output_type": "stream",
     "text": [
      "1 5 -- 6\n",
      "2 6 -- 8\n",
      "3 7 -- 10\n",
      "4 8 -- 12\n"
     ]
    }
   ],
   "source": [
    "for x, y in zip(L1, L2):\n",
    "    print(x, y, '--', x + y)"
   ]
  },
  {
   "cell_type": "markdown",
   "metadata": {},
   "source": [
    "**`map`**"
   ]
  },
  {
   "cell_type": "code",
   "execution_count": 28,
   "metadata": {},
   "outputs": [
    {
     "data": {
      "text/plain": [
       "[115, 112, 97, 109]"
      ]
     },
     "execution_count": 28,
     "metadata": {},
     "output_type": "execute_result"
    }
   ],
   "source": [
    "list(map(ord, 'spam'))"
   ]
  },
  {
   "cell_type": "markdown",
   "metadata": {},
   "source": [
    "### Конструирование словаря с помощью функции `zip`"
   ]
  },
  {
   "cell_type": "code",
   "execution_count": 29,
   "metadata": {},
   "outputs": [
    {
     "data": {
      "text/plain": [
       "{'spam': 1, 'eggs': 3, 'toast': 5}"
      ]
     },
     "execution_count": 29,
     "metadata": {},
     "output_type": "execute_result"
    }
   ],
   "source": [
    "keys = ['spam', 'eggs', 'toast']\n",
    "vals = [1, 3, 5]\n",
    "\n",
    "d = dict(zip(keys, vals))\n",
    "d"
   ]
  },
  {
   "cell_type": "markdown",
   "metadata": {},
   "source": [
    "### Генерирование индексов и элементов: `enumerate`"
   ]
  },
  {
   "cell_type": "markdown",
   "metadata": {},
   "source": [
    "Функция `enumerate` возвращает объект-генератор  – разновидность объекта, который поддерживает протокол итераций. В двух словах: он имеет метод `__next__`, вызываемый встроенной функцией `next` и возвращающий кортеж `(index, value)` для каждого элемента списка."
   ]
  },
  {
   "cell_type": "code",
   "execution_count": 30,
   "metadata": {},
   "outputs": [
    {
     "name": "stdout",
     "output_type": "stream",
     "text": [
      "s appears at offset 0\n",
      "p appears at offset 1\n",
      "a appears at offset 2\n",
      "m appears at offset 3\n"
     ]
    }
   ],
   "source": [
    "S = 'spam'\n",
    "\n",
    "for (offset, item) in enumerate(S):\n",
    "    print(item, 'appears at offset', offset)"
   ]
  },
  {
   "cell_type": "code",
   "execution_count": 31,
   "metadata": {},
   "outputs": [
    {
     "data": {
      "text/plain": [
       "(0, 's')"
      ]
     },
     "execution_count": 31,
     "metadata": {},
     "output_type": "execute_result"
    }
   ],
   "source": [
    "E = enumerate(S)\n",
    "next(E)"
   ]
  },
  {
   "cell_type": "code",
   "execution_count": 32,
   "metadata": {},
   "outputs": [
    {
     "data": {
      "text/plain": [
       "(1, 'p')"
      ]
     },
     "execution_count": 32,
     "metadata": {},
     "output_type": "execute_result"
    }
   ],
   "source": [
    "next(E)"
   ]
  }
 ],
 "metadata": {
  "kernelspec": {
   "display_name": "Python 3",
   "language": "python",
   "name": "python3"
  },
  "language_info": {
   "codemirror_mode": {
    "name": "ipython",
    "version": 3
   },
   "file_extension": ".py",
   "mimetype": "text/x-python",
   "name": "python",
   "nbconvert_exporter": "python",
   "pygments_lexer": "ipython3",
   "version": "3.6.6"
  }
 },
 "nbformat": 4,
 "nbformat_minor": 2
}
