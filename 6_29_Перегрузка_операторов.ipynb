{
 "cells": [
  {
   "cell_type": "markdown",
   "metadata": {},
   "source": [
    "# Глава 29. Перегрузка операторов"
   ]
  },
  {
   "cell_type": "markdown",
   "metadata": {},
   "source": [
    "## Основы"
   ]
  },
  {
   "cell_type": "markdown",
   "metadata": {},
   "source": [
    "**Перегрузка операторов** - перехватывание встроенных операций с помощью методов классов - интерпретатор автоматически вызывает эти методы при выполнении встроенных операций над экземплярами классов, а методы должны возвращать значения, которые будут интерпретироваться как результаты соответствующих операций.\n",
    "\n",
    "* Перегрузка операторов в  языке Python позволяет классам участвовать в обычных операциях.\n",
    "\n",
    "\n",
    "* Классы в языке Python могут перегружать все операторы выражений.\n",
    "\n",
    "\n",
    "* Классы могут также перегружать такие операции, как вывод, вызов функций, обращение к атрибутам и так далее.\n",
    "\n",
    "\n",
    "* Перегрузка делает экземпляры классов более похожими на встроенные типы.\n",
    "\n",
    "\n",
    "* Перегрузка заключается в реализации в классах методов со специальными именами."
   ]
  },
  {
   "cell_type": "markdown",
   "metadata": {},
   "source": [
    "## Общие методы перегрузки операторов"
   ]
  },
  {
   "cell_type": "markdown",
   "metadata": {},
   "source": [
    "| Метод | Перегружает | Вызывается |\n",
    "| --- | --- | --- |\n",
    "| `__init__` | Конструктор | При создании объекта: `X = Class(args)` |\n",
    "| `__del__` | Деструктор | При уничтожении объекта |\n",
    "| `__add__` | Оператор `+` | `X + Y`, `X += Y`, если отсутствует метод `__iadd__` |\n",
    "| `__or__` | Оператор `｜` (побитовое ИЛИ) | `X ｜ Y`, `X ｜= Y`, если отсутствует метод `__ior__` |\n",
    "| `__repr__`, `__str__` | Вывод, преобразование | `print(X)`, `repr(X)`, `str(X)` |\n",
    "| `__call__` | Вызовы функции | `X(*args, **kargs)` |\n",
    "| `__getattr__` | Обращение к атрибуту | `X.undefined` |\n",
    "| `__setattr__` | Присваивание атрибуту | `X.any = value` |\n",
    "| `__delattr__` | Удаление атрибута | `del X.any` |\n",
    "| `__getattribute__` | Обращение к атрибуту | `X.any` |\n",
    "| `__getitem__` | Доступ к элементу по индексу, извлечение среза, итерации | `X[key]`, `X[i:j]`, циклы `for` и другие конструкции итерации, при отсутствии метода `__iter__` |\n",
    "| `__setitem__` | Присваивание элементу по индексу или срезу | `X[key] = value`, `X[i:j] = sequence` |\n",
    "| `__delitem__` | Удаление элемента по индексу или среза | `del X[key]`, `del X[i:j]` |\n",
    "| `__len__` | Длина | `len(X)`, проверка истинности, если отсутствует метод `__bool__` |\n",
    "| `__bool__` | Проверка логического значения | `bool(X)` , проверка истинности |\n",
    "| `__lt__, __gt__, __le__, __ge__, __eq__, __ne__` | Сравнивание | `X < Y`, `X > Y`, `X <= Y`, `X >= Y`, `X == Y`, `X != Y` |\n",
    "| `__radd__` | Правосторонний оператор `+` | Не_экземпляр + `X` |\n",
    "| `__iadd__` | Добавление (увеличение) | `X += Y` (в ином случае `__add__`) |\n",
    "| `__iter__, __next__` | Итерационный контекст | `I=iter(X)`, `next(I)`; циклы `for`, оператор `in` (если не определен метод `__contains__`), все типы генераторов, `map(F, X)` и другие |\n",
    "| `__contains__` | Проверка на вхождение | `item in X` (где `X` – любой итерируемый объект) |\n",
    "| `__index__` | Целое число | `hex(X)`, `bin(X)` , `oct(X)` , `O[X]` , `O[X:]` |\n",
    "| `__enter__, __exit__` | Менеджеры контекстов (глава 33) | `with obj as var:` |\n",
    "| `__get__, __set__, __delete__` | Дескрипторы атрибутов (глава 37) | `X.attr`, `X.attr = value`, `del X.attr` |\n",
    "| `__new__` | Создание (глава 39) | Вызывается при создании объектов, перед вызовом метода `__init__` |"
   ]
  },
  {
   "cell_type": "markdown",
   "metadata": {},
   "source": [
    "Методы перегрузки операторов могут наследоваться от суперклассов, если они отсутствуют в самом классе, как и любые другие методы.\n",
    "\n",
    "Методы перегрузки являются необязательными - если какой-то метод не реализован, это лишь означает, что соответствующая ему операция не поддерживается классом, а при попытке применить такую операцию возбуждается исключение.\n",
    "\n",
    "Некоторые встроенные операции, такие как вывод, имеют реализацию по умолчанию (в Python 3.0 они наследуются от класса `object`, являющегося суперклассом для всех объектов), но большинство операций будут вызывать исключение, если класс не предусматривает реализацию соответствующего метода."
   ]
  },
  {
   "cell_type": "code",
   "execution_count": 1,
   "metadata": {},
   "outputs": [
    {
     "data": {
      "text/plain": [
       "['__class__',\n",
       " '__delattr__',\n",
       " '__dir__',\n",
       " '__doc__',\n",
       " '__eq__',\n",
       " '__format__',\n",
       " '__ge__',\n",
       " '__getattribute__',\n",
       " '__gt__',\n",
       " '__hash__',\n",
       " '__init__',\n",
       " '__init_subclass__',\n",
       " '__le__',\n",
       " '__lt__',\n",
       " '__ne__',\n",
       " '__new__',\n",
       " '__reduce__',\n",
       " '__reduce_ex__',\n",
       " '__repr__',\n",
       " '__setattr__',\n",
       " '__sizeof__',\n",
       " '__str__',\n",
       " '__subclasshook__']"
      ]
     },
     "execution_count": 1,
     "metadata": {},
     "output_type": "execute_result"
    }
   ],
   "source": [
    "dir(object)"
   ]
  },
  {
   "cell_type": "markdown",
   "metadata": {},
   "source": [
    "## Доступ к элементам по индексу и извлечение срезов: `__getitem__` и `__setitem__`"
   ]
  },
  {
   "cell_type": "markdown",
   "metadata": {},
   "source": [
    "Если метод **`__getitem__`** присутствует в  определении класса (или наследуется им), он автоматически будет вызываться интерпретатором в  случае **применения операций индексирования к экземплярам**.\n",
    "\n",
    "Например, следующий класс возвращает квадрат значения индекса:"
   ]
  },
  {
   "cell_type": "code",
   "execution_count": 2,
   "metadata": {},
   "outputs": [],
   "source": [
    "class Indexer:\n",
    "    def __getitem__(self, index):\n",
    "        return index ** 2"
   ]
  },
  {
   "cell_type": "code",
   "execution_count": 3,
   "metadata": {},
   "outputs": [
    {
     "data": {
      "text/plain": [
       "4"
      ]
     },
     "execution_count": 3,
     "metadata": {},
     "output_type": "execute_result"
    }
   ],
   "source": [
    "X = Indexer()\n",
    "X[2]  # Выражение X[i] вызывает X.__getitem__(i)"
   ]
  },
  {
   "cell_type": "code",
   "execution_count": 4,
   "metadata": {},
   "outputs": [
    {
     "name": "stdout",
     "output_type": "stream",
     "text": [
      "0 1 4 9 16 "
     ]
    }
   ],
   "source": [
    "for i in range(5):\n",
    "    print(X[i], end=' ')"
   ]
  },
  {
   "cell_type": "markdown",
   "metadata": {},
   "source": [
    "### Извлечение срезов"
   ]
  },
  {
   "cell_type": "markdown",
   "metadata": {},
   "source": [
    "`__getitem__` вызывается не только при выполнении операции обращения к элементу по индексу, но **и при извлечении срезов**.\n",
    "\n",
    "Параметры среза определяются с помощью **объекта среза**, который и передается реализации операции индексирования списка."
   ]
  },
  {
   "cell_type": "code",
   "execution_count": 5,
   "metadata": {},
   "outputs": [
    {
     "data": {
      "text/plain": [
       "[2, 3]"
      ]
     },
     "execution_count": 5,
     "metadata": {},
     "output_type": "execute_result"
    }
   ],
   "source": [
    "L = list(range(10))\n",
    "\n",
    "L[slice(2, 4)] # Извлечение среза с помощью объекта среза"
   ]
  },
  {
   "cell_type": "code",
   "execution_count": 6,
   "metadata": {},
   "outputs": [
    {
     "data": {
      "text/plain": [
       "[0, 2, 4, 6, 8]"
      ]
     },
     "execution_count": 6,
     "metadata": {},
     "output_type": "execute_result"
    }
   ],
   "source": [
    "L[slice(None, None, 2)]"
   ]
  },
  {
   "cell_type": "markdown",
   "metadata": {},
   "source": [
    "Пример класса, поддерживающего извлечение среза:"
   ]
  },
  {
   "cell_type": "code",
   "execution_count": 7,
   "metadata": {},
   "outputs": [],
   "source": [
    "class Indexer:\n",
    "    data = list(range(10))\n",
    "    def __getitem__(self, index):  # вызывается при индексировании или\n",
    "        print('getitem:', index)   # извлечении среза\n",
    "        return self.data[index]    # выполняет индексирование или\n",
    "                                   # извлекает срез"
   ]
  },
  {
   "cell_type": "code",
   "execution_count": 8,
   "metadata": {},
   "outputs": [],
   "source": [
    "X = Indexer()"
   ]
  },
  {
   "cell_type": "code",
   "execution_count": 9,
   "metadata": {},
   "outputs": [
    {
     "name": "stdout",
     "output_type": "stream",
     "text": [
      "getitem: 0\n"
     ]
    },
    {
     "data": {
      "text/plain": [
       "0"
      ]
     },
     "execution_count": 9,
     "metadata": {},
     "output_type": "execute_result"
    }
   ],
   "source": [
    "X[0]"
   ]
  },
  {
   "cell_type": "code",
   "execution_count": 10,
   "metadata": {},
   "outputs": [
    {
     "name": "stdout",
     "output_type": "stream",
     "text": [
      "getitem: -1\n"
     ]
    },
    {
     "data": {
      "text/plain": [
       "9"
      ]
     },
     "execution_count": 10,
     "metadata": {},
     "output_type": "execute_result"
    }
   ],
   "source": [
    "X[-1]"
   ]
  },
  {
   "cell_type": "markdown",
   "metadata": {},
   "source": [
    "Когда метод вызывается для извлечения среза, он получает объект среза, который просто передается списку, встроенному в класс `Indexer`, в виде выражения обращения по индексу:"
   ]
  },
  {
   "cell_type": "code",
   "execution_count": 11,
   "metadata": {},
   "outputs": [
    {
     "name": "stdout",
     "output_type": "stream",
     "text": [
      "getitem: slice(2, 4, None)\n"
     ]
    },
    {
     "data": {
      "text/plain": [
       "[2, 3]"
      ]
     },
     "execution_count": 11,
     "metadata": {},
     "output_type": "execute_result"
    }
   ],
   "source": [
    "X[2:4]"
   ]
  },
  {
   "cell_type": "markdown",
   "metadata": {},
   "source": [
    "Метод **`__setitem__`** присваивания элементу по индексу точно так же обслуживает обе операции – **присваивания элементу по индексу и присваивание срезу**.\n",
    "\n",
    "В последнем случае он получает объект среза, который может передаваться\n",
    "другим операциям присваивания по индексу:\n",
    "\n",
    "```\n",
    "def __setitem__(self, index, value):\n",
    "    ...\n",
    "    self.data[index] = value\n",
    "```"
   ]
  },
  {
   "cell_type": "markdown",
   "metadata": {},
   "source": [
    "## Итерации по индексам: `__getitem__`"
   ]
  },
  {
   "cell_type": "markdown",
   "metadata": {},
   "source": [
    "Инструкция `for` многократно применяет операцию индексирования к последовательности, используя индексы от нуля и выше, пока не будет получено исключение выхода за границы.\n",
    "\n",
    "Благодаря этому метод `__getitem__` представляет собой один из способов перегрузки итераций - если этот метод реализован, инструкции циклов `for` будут вызывать его на каждом шаге цикла, с постоянно увеличивающимся смещением."
   ]
  },
  {
   "cell_type": "code",
   "execution_count": 12,
   "metadata": {},
   "outputs": [],
   "source": [
    "class stepper:\n",
    "    def __getitem__(self, i):\n",
    "        return self.data[i]"
   ]
  },
  {
   "cell_type": "code",
   "execution_count": 13,
   "metadata": {},
   "outputs": [
    {
     "data": {
      "text/plain": [
       "'p'"
      ]
     },
     "execution_count": 13,
     "metadata": {},
     "output_type": "execute_result"
    }
   ],
   "source": [
    "X = stepper()\n",
    "X.data = 'Spam'\n",
    "X[1]"
   ]
  },
  {
   "cell_type": "code",
   "execution_count": 14,
   "metadata": {},
   "outputs": [
    {
     "name": "stdout",
     "output_type": "stream",
     "text": [
      "S p a m "
     ]
    }
   ],
   "source": [
    "for item in X:\n",
    "    print(item, end=' ')"
   ]
  },
  {
   "cell_type": "markdown",
   "metadata": {},
   "source": [
    "Оператор проверки на принадлежность `in`, генераторы списков, встроенная функция `map`, присваивание списков и кортежей и конструкторы типов также автоматически вызывают метод `__getitem__`,\n",
    "если он определен:"
   ]
  },
  {
   "cell_type": "code",
   "execution_count": 15,
   "metadata": {},
   "outputs": [
    {
     "data": {
      "text/plain": [
       "True"
      ]
     },
     "execution_count": 15,
     "metadata": {},
     "output_type": "execute_result"
    }
   ],
   "source": [
    "'p' in X"
   ]
  },
  {
   "cell_type": "code",
   "execution_count": 16,
   "metadata": {},
   "outputs": [
    {
     "data": {
      "text/plain": [
       "['S', 'P', 'A', 'M']"
      ]
     },
     "execution_count": 16,
     "metadata": {},
     "output_type": "execute_result"
    }
   ],
   "source": [
    "list(map(str.upper, X))"
   ]
  },
  {
   "cell_type": "code",
   "execution_count": 17,
   "metadata": {},
   "outputs": [
    {
     "data": {
      "text/plain": [
       "('S', 'a', 'm')"
      ]
     },
     "execution_count": 17,
     "metadata": {},
     "output_type": "execute_result"
    }
   ],
   "source": [
    "(a, b, c, d) = X\n",
    "a, c, d"
   ]
  },
  {
   "cell_type": "code",
   "execution_count": 18,
   "metadata": {},
   "outputs": [
    {
     "data": {
      "text/plain": [
       "<__main__.stepper at 0x7f7f711f2eb8>"
      ]
     },
     "execution_count": 18,
     "metadata": {},
     "output_type": "execute_result"
    }
   ],
   "source": [
    "X"
   ]
  },
  {
   "cell_type": "markdown",
   "metadata": {},
   "source": [
    "## Итераторы: `__iter__` и `__next__`"
   ]
  },
  {
   "cell_type": "markdown",
   "metadata": {},
   "source": [
    "Прием, основанный на использовании метода `__getitem__`, представленный в предыдущем разделе, действительно работает, однако он используется операциями, выполняющими итерации, в  самом крайнем случае.\n",
    "\n",
    "В  настоящее время **все итерационные контексты в  языке Python пытаются сначала использовать метод `__iter__`**, и только потом – метод `__getitem__`."
   ]
  },
  {
   "cell_type": "markdown",
   "metadata": {},
   "source": [
    "С технической точки зрения итерационные контексты вызывают встроенную функцию `iter`, чтобы определить наличие метода `__iter__`, который должен возвращать объект итератора.\n",
    "\n",
    "Если он предоставляется, то интерпретатор Python будет вызывать метод `__next__` объекта итератора для получения элементов до тех пор, пока не будет возбуждено исключение `StopIteration`.\n",
    "\n",
    "Если метод `__iter__` отсутствует, интерпретатор переходит на использование схемы с применением метода `__getitem__` и начинает извлекать элементы по индексам, пока не будет возбуждено исключение `IndexError`.\n",
    "\n",
    "Кроме того, для удобства предоставляется **встроенная функция `next`**, позволяющая выполнять итерации вручную: вызов `next(I)` – это то же самое, что вызов `I.__next__()`."
   ]
  },
  {
   "cell_type": "markdown",
   "metadata": {},
   "source": [
    "### Итераторы, определяемые пользователями"
   ]
  },
  {
   "cell_type": "markdown",
   "metadata": {},
   "source": [
    "Следующий класс определяет итератор, который возвращает квадраты чисел:"
   ]
  },
  {
   "cell_type": "code",
   "execution_count": 19,
   "metadata": {},
   "outputs": [],
   "source": [
    "class Squares:\n",
    "    def __init__(self, start, stop):  # сохранить сост-ие при создании\n",
    "        self.value = start - 1\n",
    "        self.stop = stop\n",
    "    \n",
    "    def __iter__(self):               # возвращает итератор в iter()\n",
    "        return self\n",
    "    \n",
    "    def __next__(self):               # возвр-т квадрат в каждой ит-ии\n",
    "        if self.value == self.stop:   # также вызывается ф-ей next\n",
    "            raise StopIteration\n",
    "        self.value += 1\n",
    "        return self.value ** 2"
   ]
  },
  {
   "cell_type": "code",
   "execution_count": 20,
   "metadata": {},
   "outputs": [
    {
     "name": "stdout",
     "output_type": "stream",
     "text": [
      "1 4 9 16 25 "
     ]
    }
   ],
   "source": [
    "for i in Squares(1, 5):  # for вызывает iter(), кот. выз. __iter__()\n",
    "    print(i, end=' ')    # на каждой итерации выз-тся __next__()"
   ]
  },
  {
   "cell_type": "code",
   "execution_count": 21,
   "metadata": {},
   "outputs": [
    {
     "data": {
      "text/plain": [
       "[25, 36, 49, 64, 81]"
      ]
     },
     "execution_count": 21,
     "metadata": {},
     "output_type": "execute_result"
    }
   ],
   "source": [
    "list(Squares(5, 9))"
   ]
  },
  {
   "cell_type": "markdown",
   "metadata": {},
   "source": [
    "Здесь объект итератора  – это просто экземпляр `self`, поэтому метод `__next__` является частью этого класса. **В более сложных ситуациях объект итератора может быть определен как отдельный класс и объект** со своей собственной информацией о состоянии, с целью поддержки нескольких активных итераций на одних и  тех же данных."
   ]
  },
  {
   "cell_type": "markdown",
   "metadata": {},
   "source": [
    "Итераторы, реализованные на основе метода `__iter__`, иногда могут оказаться более сложными и менее удобными, чем метод `__getitem__`. Но они действительно предназначены для итераций, а  не для случайной индексации,  – фактически они вообще не перегружают операцию индексирования:"
   ]
  },
  {
   "cell_type": "code",
   "execution_count": 22,
   "metadata": {},
   "outputs": [
    {
     "ename": "TypeError",
     "evalue": "'Squares' object does not support indexing",
     "output_type": "error",
     "traceback": [
      "\u001b[0;31m---------------------------------------------------------------------------\u001b[0m",
      "\u001b[0;31mTypeError\u001b[0m                                 Traceback (most recent call last)",
      "\u001b[0;32m<ipython-input-22-4f0b84ddb0bd>\u001b[0m in \u001b[0;36m<module>\u001b[0;34m()\u001b[0m\n\u001b[1;32m      1\u001b[0m \u001b[0mX\u001b[0m \u001b[0;34m=\u001b[0m \u001b[0mSquares\u001b[0m\u001b[0;34m(\u001b[0m\u001b[0;36m1\u001b[0m\u001b[0;34m,\u001b[0m \u001b[0;36m5\u001b[0m\u001b[0;34m)\u001b[0m\u001b[0;34m\u001b[0m\u001b[0m\n\u001b[0;32m----> 2\u001b[0;31m \u001b[0mX\u001b[0m\u001b[0;34m[\u001b[0m\u001b[0;36m3\u001b[0m\u001b[0;34m]\u001b[0m\u001b[0;34m\u001b[0m\u001b[0m\n\u001b[0m",
      "\u001b[0;31mTypeError\u001b[0m: 'Squares' object does not support indexing"
     ]
    }
   ],
   "source": [
    "X = Squares(1, 5)\n",
    "X[3]"
   ]
  },
  {
   "cell_type": "markdown",
   "metadata": {},
   "source": [
    "В отличие от `__getitem__`, схема на основе метода `__iter__` предназначена для выполнения обхода элементов один раз, а не несколько. \n",
    "\n",
    "Например, элементы класса `Squares` можно обойти всего один раз – для каждой последующей итерации необходимо будет создавать новый объект итератора:"
   ]
  },
  {
   "cell_type": "code",
   "execution_count": 23,
   "metadata": {},
   "outputs": [
    {
     "data": {
      "text/plain": [
       "[1, 4, 9, 16, 25]"
      ]
     },
     "execution_count": 23,
     "metadata": {},
     "output_type": "execute_result"
    }
   ],
   "source": [
    "X = Squares(1, 5)\n",
    "[n for n in X]  # Получить все элементы"
   ]
  },
  {
   "cell_type": "code",
   "execution_count": 24,
   "metadata": {},
   "outputs": [
    {
     "data": {
      "text/plain": [
       "[]"
      ]
     },
     "execution_count": 24,
     "metadata": {},
     "output_type": "execute_result"
    }
   ],
   "source": [
    "[n for n in X] # Теперь объект пуст"
   ]
  },
  {
   "cell_type": "code",
   "execution_count": 25,
   "metadata": {},
   "outputs": [
    {
     "data": {
      "text/plain": [
       "[1, 4, 9, 16, 25]"
      ]
     },
     "execution_count": 25,
     "metadata": {},
     "output_type": "execute_result"
    }
   ],
   "source": [
    "[n for n in Squares(1, 5)] # Создать новый объект итератора"
   ]
  },
  {
   "cell_type": "markdown",
   "metadata": {},
   "source": [
    "### Несколько итераторов в одном объекте"
   ]
  },
  {
   "cell_type": "markdown",
   "metadata": {},
   "source": [
    "Пример при выполнении обхода элементов встроенных типов, таких как строка:"
   ]
  },
  {
   "cell_type": "code",
   "execution_count": 26,
   "metadata": {},
   "outputs": [
    {
     "name": "stdout",
     "output_type": "stream",
     "text": [
      "aa ac ae ca cc ce ea ec ee "
     ]
    }
   ],
   "source": [
    "S = 'ace'\n",
    "for x in S:\n",
    "    for y in S:\n",
    "        print(x + y, end=' ')"
   ]
  },
  {
   "cell_type": "markdown",
   "metadata": {},
   "source": [
    "Здесь внешний цикл получает итератор строки вызовом функции `iter` и каждый вложенный цикл делает то же самое, чтобы получить независимый итератор. Т.к. каждый итератор хранит свою собственную информацию о состоянии, каждый цикл управляет своим собственным положением в строке, независимо от любых других активных циклов."
   ]
  },
  {
   "cell_type": "markdown",
   "metadata": {},
   "source": [
    ">Чтобы обеспечить поддержку множества независимых итераторов, метод `__iter__` должен не просто возвращать аргумент `self`, а создавать новый объект итератора со своей информацией о состоянии."
   ]
  },
  {
   "cell_type": "markdown",
   "metadata": {},
   "source": [
    "В следующем примере определяется класс итератора, который пропускает каждый второй элемент. Поскольку объект итератора создается заново для каждой итерации, он обеспечивает поддержку нескольких активных циклов одновременно:"
   ]
  },
  {
   "cell_type": "code",
   "execution_count": 27,
   "metadata": {},
   "outputs": [],
   "source": [
    "class SkipIterator:\n",
    "    def __init__(self, wrapped):\n",
    "        self.wrapped = wrapped  # информация о состоянии\n",
    "        self.offset = 0\n",
    "        \n",
    "    def __next__(self):\n",
    "        if self.offset >= len(self.wrapped): # завершить итерации\n",
    "            raise StopIteration\n",
    "        else:\n",
    "            item = self.wrapped[self.offset] # иначе перешагнуть и вернуть\n",
    "            self.offset += 2\n",
    "            return item\n",
    "\n",
    "        \n",
    "class SkipObject:\n",
    "    def __init__(self, wrapped):\n",
    "        self.wrapped = wrapped  # сохранить используемый элемент\n",
    "        \n",
    "    def __iter__(self):\n",
    "        return SkipIterator(self.wrapped) # каждый раз новый итератор"
   ]
  },
  {
   "cell_type": "code",
   "execution_count": 28,
   "metadata": {},
   "outputs": [
    {
     "name": "stdout",
     "output_type": "stream",
     "text": [
      "a c e\n"
     ]
    }
   ],
   "source": [
    "alpha = 'abcdef'\n",
    "skipper = SkipObject(alpha)       # создать объект-контейнер\n",
    "I = iter(skipper)                 # создать итератор для него\n",
    "print(next(I), next(I), next(I))  # обойти элементы 0, 2, 4"
   ]
  },
  {
   "cell_type": "code",
   "execution_count": 29,
   "metadata": {},
   "outputs": [
    {
     "name": "stdout",
     "output_type": "stream",
     "text": [
      "aa ac ae ca cc ce ea ec ee "
     ]
    }
   ],
   "source": [
    "for x in skipper:     # for вызывает __iter__ автоматически\n",
    "    for y in skipper: # вложенные циклы for также вызывают __iter__\n",
    "        print(x + y, end=' ')  # каждый итератор помнит свое состояние,\n",
    "                               # смещение"
   ]
  },
  {
   "cell_type": "markdown",
   "metadata": {},
   "source": [
    "## Проверка на вхождение: `__contains__`, `__iter__` и `__getitem__`"
   ]
  },
  {
   "cell_type": "markdown",
   "metadata": {},
   "source": [
    "Перегрузка операторов нередко образует **многослойную архитектуру**: классы могут представлять реализацию специфических методов или обобщенные альтернативы, используемые в крайнем случае, например:\n",
    "\n",
    "Операция проверки логического значения сначала пытается вызвать специализированный метод `__bool__`, а в случае его отсутствия вызывает более обобщенный метод `__len__`.\n",
    "\n",
    "Метод **`__contains__`** обеспечивает специализированную поддержку операции проверки на членство - этот метод имеет преимущество перед методом `__iter__`, который в свою очередь пользуется преимуществом перед `__getitem__`. В случае **отображений** метод `__contains__` должен определять членство, применяя ключи (и может использовать быструю операцию поиска), а в случае **последовательностей** - производить поиск."
   ]
  },
  {
   "cell_type": "code",
   "execution_count": 30,
   "metadata": {},
   "outputs": [],
   "source": [
    "class Iters:\n",
    "    def __init__(self, value):\n",
    "        self.data = value\n",
    "    \n",
    "    def __getitem__(self, i):         # Крайний случай для итераций\n",
    "        print('get[%s]:' % i, end='') # А также для индексирования и срезов\n",
    "        return self.data[i]\n",
    "    \n",
    "    def __iter__(self):               # Предпочтительный для итераций\n",
    "        print('iter=> ', end='')      # Возможен только 1 активный итератор\n",
    "        self.ix = 0\n",
    "        return self\n",
    "    \n",
    "    def __next__(self):\n",
    "        print('next:', end='')\n",
    "        if self.ix == len(self.data):\n",
    "            raise StopIteration\n",
    "        item = self.data[self.ix]\n",
    "        self.ix += 1\n",
    "        return item\n",
    "    \n",
    "    def __contains__(self, x):        # Предпочт-ый для оператора ‘in’\n",
    "        print('contains: ', end='')\n",
    "        return x in self.data"
   ]
  },
  {
   "cell_type": "code",
   "execution_count": 31,
   "metadata": {},
   "outputs": [
    {
     "name": "stdout",
     "output_type": "stream",
     "text": [
      "contains: True\n",
      "iter=> next:1 | next:2 | next:3 | next:4 | next:5 | next:\n",
      "\n",
      "iter=> next:next:next:next:next:next:[1, 4, 9, 16, 25]\n",
      "iter=> next:next:next:next:next:next:['0b1', '0b10', '0b11', '0b100', '0b101']\n",
      "iter=> next:1 @ next:2 @ next:3 @ next:4 @ next:5 @ next:"
     ]
    }
   ],
   "source": [
    "X = Iters([1, 2, 3, 4, 5])  # Создать экземпляр\n",
    "print(3 in X)               # Проверка на вхождение\n",
    "for i in X:                 # Циклы\n",
    "    print(i, end=' | ') \n",
    "print('\\n')\n",
    "print([i ** 2 for i in X])  # Другие итерационные контексты\n",
    "print( list(map(bin, X)) )\n",
    "\n",
    "I = iter(X)                 # Обход вручную (именно так действуют\n",
    "while True:                 # другие итерационные контексты)\n",
    "    try:\n",
    "        print(next(I), end=' @ ')\n",
    "    except StopIteration:\n",
    "        break"
   ]
  },
  {
   "cell_type": "markdown",
   "metadata": {},
   "source": [
    "Eсли не использовать `__contains__`, то операция проверки на вхождение будет использовать обобщенный метод `__iter__`"
   ]
  },
  {
   "cell_type": "code",
   "execution_count": 32,
   "metadata": {},
   "outputs": [],
   "source": [
    "class Iters:\n",
    "    def __init__(self, value):\n",
    "        self.data = value\n",
    "    \n",
    "    def __getitem__(self, i):         # Крайний случай для итераций\n",
    "        print('get[%s]:' % i, end='') # А также для индексирования и срезов\n",
    "        return self.data[i]\n",
    "    \n",
    "    def __iter__(self):               # Предпочтительный для итераций\n",
    "        print('iter=> ', end='')      # Возможен только 1 активный итератор\n",
    "        self.ix = 0\n",
    "        return self\n",
    "    \n",
    "    def __next__(self):\n",
    "        print('next:', end='')\n",
    "        if self.ix == len(self.data):\n",
    "            raise StopIteration\n",
    "        item = self.data[self.ix]\n",
    "        self.ix += 1\n",
    "        return item\n",
    "    \n",
    "#     def __contains__(self, x):        # Предпочт-ый для оператора ‘in’\n",
    "#         print('contains: ', end='')\n",
    "#         return x in self.data"
   ]
  },
  {
   "cell_type": "code",
   "execution_count": 33,
   "metadata": {},
   "outputs": [
    {
     "name": "stdout",
     "output_type": "stream",
     "text": [
      "iter=> next:next:next:True\n",
      "iter=> next:1 | next:2 | next:3 | next:4 | next:5 | next:\n",
      "\n",
      "iter=> next:next:next:next:next:next:[1, 4, 9, 16, 25]\n",
      "iter=> next:next:next:next:next:next:['0b1', '0b10', '0b11', '0b100', '0b101']\n",
      "iter=> next:1 @ next:2 @ next:3 @ next:4 @ next:5 @ next:"
     ]
    }
   ],
   "source": [
    "X = Iters([1, 2, 3, 4, 5])  # Создать экземпляр\n",
    "print(3 in X)               # Проверка на вхождение\n",
    "for i in X:                 # Циклы\n",
    "    print(i, end=' | ')\n",
    "print('\\n')\n",
    "print([i ** 2 for i in X])  # Другие итерационные контексты\n",
    "print( list(map(bin, X)) )\n",
    "I = iter(X)                 # Обход вручную (именно так действуют\n",
    "while True:                 # другие итерационные контексты)\n",
    "    try:\n",
    "        print(next(I), end=' @ ')\n",
    "    except StopIteration:\n",
    "        break"
   ]
  },
  {
   "cell_type": "markdown",
   "metadata": {},
   "source": [
    "И, наконец, если и `__contains__`, и `__iter__` не используются, то при проверке на вхождение и в других итерационных методах используется метод `__getitem__`, которому последовательно передаются индексы в порядке возрастания:"
   ]
  },
  {
   "cell_type": "code",
   "execution_count": 34,
   "metadata": {},
   "outputs": [],
   "source": [
    "class Iters:\n",
    "    def __init__(self, value):\n",
    "        self.data = value\n",
    "    \n",
    "    def __getitem__(self, i):         # Крайний случай для итераций\n",
    "        print('get[%s]:' % i, end='') # А также для индексирования и срезов\n",
    "        return self.data[i]\n",
    "    \n",
    "    def __next__(self):\n",
    "        print('next:', end='')\n",
    "        if self.ix == len(self.data):\n",
    "            raise StopIteration\n",
    "        item = self.data[self.ix]\n",
    "        self.ix += 1\n",
    "        return item"
   ]
  },
  {
   "cell_type": "code",
   "execution_count": 35,
   "metadata": {},
   "outputs": [
    {
     "name": "stdout",
     "output_type": "stream",
     "text": [
      "get[0]:get[1]:get[2]:True\n",
      "get[0]:1 | get[1]:2 | get[2]:3 | get[3]:4 | get[4]:5 | get[5]:\n",
      "\n",
      "get[0]:get[1]:get[2]:get[3]:get[4]:get[5]:[1, 4, 9, 16, 25]\n",
      "get[0]:get[1]:get[2]:get[3]:get[4]:get[5]:['0b1', '0b10', '0b11', '0b100', '0b101']\n",
      "get[0]:1 @ get[1]:2 @ get[2]:3 @ get[3]:4 @ get[4]:5 @ get[5]:"
     ]
    }
   ],
   "source": [
    "X = Iters([1, 2, 3, 4, 5])  # Создать экземпляр\n",
    "print(3 in X)               # Проверка на вхождение\n",
    "for i in X:                 # Циклы\n",
    "    print(i, end=' | ')\n",
    "print('\\n')\n",
    "print([i ** 2 for i in X])  # Другие итерационные контексты\n",
    "print( list(map(bin, X)) )\n",
    "I = iter(X)                 # Обход вручную (именно так действуют\n",
    "while True:                 # другие итерационные контексты)\n",
    "    try:\n",
    "        print(next(I), end=' @ ')\n",
    "    except StopIteration:\n",
    "        break"
   ]
  },
  {
   "cell_type": "markdown",
   "metadata": {},
   "source": [
    "## Обращения к атрибутам: `__getattr__` и `__setattr__`"
   ]
  },
  {
   "cell_type": "markdown",
   "metadata": {},
   "source": [
    "Метод **`__getattr__` выполняет операцию получения ссылки на атрибут**. \n",
    "\n",
    "Если говорить более определенно, он вызывается с именем атрибута в виде строки всякий раз, когда обнаруживается попытка получить ссылку на неопределенный (несуществующий) атрибут. **Этот метод не вызывается, если интерпретатор может обнаружить атрибут посредством выполнения процедуры поиска в дереве наследования**. Вследствие этого метод `__getattr__` удобно использовать для обобщенной обработки запросов к атрибутам."
   ]
  },
  {
   "cell_type": "code",
   "execution_count": 36,
   "metadata": {},
   "outputs": [
    {
     "data": {
      "text/plain": [
       "40"
      ]
     },
     "execution_count": 36,
     "metadata": {},
     "output_type": "execute_result"
    }
   ],
   "source": [
    "class empty:\n",
    "    def __getattr__(self, attrname):\n",
    "        if attrname == 'age':\n",
    "            return 40\n",
    "        else:\n",
    "            raise AttributeError(attrname)\n",
    "            \n",
    "X = empty()\n",
    "X.age"
   ]
  },
  {
   "cell_type": "code",
   "execution_count": 37,
   "metadata": {},
   "outputs": [
    {
     "ename": "AttributeError",
     "evalue": "name",
     "output_type": "error",
     "traceback": [
      "\u001b[0;31m---------------------------------------------------------------------------\u001b[0m",
      "\u001b[0;31mAttributeError\u001b[0m                            Traceback (most recent call last)",
      "\u001b[0;32m<ipython-input-37-94c5350c32f8>\u001b[0m in \u001b[0;36m<module>\u001b[0;34m()\u001b[0m\n\u001b[0;32m----> 1\u001b[0;31m \u001b[0mX\u001b[0m\u001b[0;34m.\u001b[0m\u001b[0mname\u001b[0m\u001b[0;34m\u001b[0m\u001b[0m\n\u001b[0m",
      "\u001b[0;32m<ipython-input-36-f3909e8c732a>\u001b[0m in \u001b[0;36m__getattr__\u001b[0;34m(self, attrname)\u001b[0m\n\u001b[1;32m      4\u001b[0m             \u001b[0;32mreturn\u001b[0m \u001b[0;36m40\u001b[0m\u001b[0;34m\u001b[0m\u001b[0m\n\u001b[1;32m      5\u001b[0m         \u001b[0;32melse\u001b[0m\u001b[0;34m:\u001b[0m\u001b[0;34m\u001b[0m\u001b[0m\n\u001b[0;32m----> 6\u001b[0;31m             \u001b[0;32mraise\u001b[0m \u001b[0mAttributeError\u001b[0m\u001b[0;34m(\u001b[0m\u001b[0mattrname\u001b[0m\u001b[0;34m)\u001b[0m\u001b[0;34m\u001b[0m\u001b[0m\n\u001b[0m\u001b[1;32m      7\u001b[0m \u001b[0;34m\u001b[0m\u001b[0m\n\u001b[1;32m      8\u001b[0m \u001b[0mX\u001b[0m \u001b[0;34m=\u001b[0m \u001b[0mempty\u001b[0m\u001b[0;34m(\u001b[0m\u001b[0;34m)\u001b[0m\u001b[0;34m\u001b[0m\u001b[0m\n",
      "\u001b[0;31mAttributeError\u001b[0m: name"
     ]
    }
   ],
   "source": [
    "X.name"
   ]
  },
  {
   "cell_type": "markdown",
   "metadata": {},
   "source": [
    "В этом примере класс `empty` и  его экземпляр `X` не имеют своих собственных атрибутов, поэтому при обращении к атрибуту `X.age` вызывается метод `__getattr__` – в аргументе `self` передается экземпляр (`X`), а в аргументе `attrname` – строка с именем неопределенного атрибута (`age`).\n",
    "\n",
    "Класс выглядит так, как если бы он действительно имел атрибут `age`, возвращая результат обращения к имени `X.age` (`40`). В результате получается **атрибут, вычисляемый динамически**."
   ]
  },
  {
   "cell_type": "markdown",
   "metadata": {},
   "source": [
    "Метод перегрузки **`__setattr__` перехватывает все попытки присваивания значений атрибутам**.\n",
    "\n",
    "Если этот метод определен, выражение `self.attr = value` будет преобразовано в вызов метода `self.__setattr_('attr', value)`."
   ]
  },
  {
   "cell_type": "code",
   "execution_count": 38,
   "metadata": {},
   "outputs": [
    {
     "data": {
      "text/plain": [
       "40"
      ]
     },
     "execution_count": 38,
     "metadata": {},
     "output_type": "execute_result"
    }
   ],
   "source": [
    "class accesscontrol:\n",
    "    def __setattr__(self, attr, value):\n",
    "        if attr == 'age':\n",
    "            self.__dict__[attr] = value\n",
    "        else:\n",
    "            raise AttributeError(attr + ' not allowed')\n",
    "            \n",
    "X = accesscontrol()\n",
    "X.age = 40\n",
    "X.age"
   ]
  },
  {
   "cell_type": "code",
   "execution_count": 39,
   "metadata": {},
   "outputs": [
    {
     "ename": "AttributeError",
     "evalue": "name not allowed",
     "output_type": "error",
     "traceback": [
      "\u001b[0;31m---------------------------------------------------------------------------\u001b[0m",
      "\u001b[0;31mAttributeError\u001b[0m                            Traceback (most recent call last)",
      "\u001b[0;32m<ipython-input-39-b5850918f94d>\u001b[0m in \u001b[0;36m<module>\u001b[0;34m()\u001b[0m\n\u001b[0;32m----> 1\u001b[0;31m \u001b[0mX\u001b[0m\u001b[0;34m.\u001b[0m\u001b[0mname\u001b[0m \u001b[0;34m=\u001b[0m \u001b[0;34m'mel'\u001b[0m\u001b[0;34m\u001b[0m\u001b[0m\n\u001b[0m",
      "\u001b[0;32m<ipython-input-38-28e1ff6f604b>\u001b[0m in \u001b[0;36m__setattr__\u001b[0;34m(self, attr, value)\u001b[0m\n\u001b[1;32m      4\u001b[0m             \u001b[0mself\u001b[0m\u001b[0;34m.\u001b[0m\u001b[0m__dict__\u001b[0m\u001b[0;34m[\u001b[0m\u001b[0mattr\u001b[0m\u001b[0;34m]\u001b[0m \u001b[0;34m=\u001b[0m \u001b[0mvalue\u001b[0m\u001b[0;34m\u001b[0m\u001b[0m\n\u001b[1;32m      5\u001b[0m         \u001b[0;32melse\u001b[0m\u001b[0;34m:\u001b[0m\u001b[0;34m\u001b[0m\u001b[0m\n\u001b[0;32m----> 6\u001b[0;31m             \u001b[0;32mraise\u001b[0m \u001b[0mAttributeError\u001b[0m\u001b[0;34m(\u001b[0m\u001b[0mattr\u001b[0m \u001b[0;34m+\u001b[0m \u001b[0;34m' not allowed'\u001b[0m\u001b[0;34m)\u001b[0m\u001b[0;34m\u001b[0m\u001b[0m\n\u001b[0m\u001b[1;32m      7\u001b[0m \u001b[0;34m\u001b[0m\u001b[0m\n\u001b[1;32m      8\u001b[0m \u001b[0mX\u001b[0m \u001b[0;34m=\u001b[0m \u001b[0maccesscontrol\u001b[0m\u001b[0;34m(\u001b[0m\u001b[0;34m)\u001b[0m\u001b[0;34m\u001b[0m\u001b[0m\n",
      "\u001b[0;31mAttributeError\u001b[0m: name not allowed"
     ]
    }
   ],
   "source": [
    "X.name = 'mel'"
   ]
  },
  {
   "cell_type": "markdown",
   "metadata": {},
   "source": [
    "### Другие способы управления атрибутами"
   ]
  },
  {
   "cell_type": "markdown",
   "metadata": {},
   "source": [
    "* **Метод `__getattribute__`** вызывается при обращениях к любым атрибутам, не только к  неизвестным; но при реализации этого метода следует быть еще более осторожным, чем при реализации метода `__getattr__`, чтобы избежать зацикливания.\n",
    "\n",
    "\n",
    "* **Встроенная функция `property`** позволяет ассоциировать специальные методы с операциями чтения и записи над определенными атрибутами класса.\n",
    "\n",
    "\n",
    "* Дескрипторы предоставляют возможность ассоциировать методы `__get__` и `__set__` класса с операциями доступа к определенным атрибутам класса."
   ]
  },
  {
   "cell_type": "markdown",
   "metadata": {},
   "source": [
    "### Имитация частных атрибутов экземпляра: часть 1"
   ]
  },
  {
   "cell_type": "code",
   "execution_count": 40,
   "metadata": {},
   "outputs": [],
   "source": [
    "class PrivateExc(Exception):  # Подробнее об исключениях позднее\n",
    "    pass\n",
    "\n",
    "class Privacy:\n",
    "    def __setattr__(self, attrname, value): # Выз-ся self.attrname = value\n",
    "        if attrname in self.privates:\n",
    "            raise PrivateExc(attrname, self)\n",
    "        else:\n",
    "            self.__dict__[attrname] = value # Self.attrname = value\n",
    "                                            # вызовет зацикливание!\n",
    "class Test1(Privacy):\n",
    "    privates = ['age']\n",
    "    \n",
    "class Test2(Privacy):\n",
    "    privates = ['name', 'pay']\n",
    "    def __init__(self):\n",
    "        self.__dict__['name'] = 'Tom'"
   ]
  },
  {
   "cell_type": "code",
   "execution_count": 41,
   "metadata": {},
   "outputs": [],
   "source": [
    "x = Test1()\n",
    "y = Test2()"
   ]
  },
  {
   "cell_type": "code",
   "execution_count": 42,
   "metadata": {},
   "outputs": [],
   "source": [
    "x.name = 'Bob'"
   ]
  },
  {
   "cell_type": "code",
   "execution_count": 43,
   "metadata": {},
   "outputs": [
    {
     "ename": "PrivateExc",
     "evalue": "('name', <__main__.Test2 object at 0x7f7f70988470>)",
     "output_type": "error",
     "traceback": [
      "\u001b[0;31m---------------------------------------------------------------------------\u001b[0m",
      "\u001b[0;31mPrivateExc\u001b[0m                                Traceback (most recent call last)",
      "\u001b[0;32m<ipython-input-43-5241bd7fed48>\u001b[0m in \u001b[0;36m<module>\u001b[0;34m()\u001b[0m\n\u001b[0;32m----> 1\u001b[0;31m \u001b[0my\u001b[0m\u001b[0;34m.\u001b[0m\u001b[0mname\u001b[0m \u001b[0;34m=\u001b[0m \u001b[0;34m'Sue'\u001b[0m\u001b[0;34m\u001b[0m\u001b[0m\n\u001b[0m",
      "\u001b[0;32m<ipython-input-40-4a4cf53e0cbc>\u001b[0m in \u001b[0;36m__setattr__\u001b[0;34m(self, attrname, value)\u001b[0m\n\u001b[1;32m      5\u001b[0m     \u001b[0;32mdef\u001b[0m \u001b[0m__setattr__\u001b[0m\u001b[0;34m(\u001b[0m\u001b[0mself\u001b[0m\u001b[0;34m,\u001b[0m \u001b[0mattrname\u001b[0m\u001b[0;34m,\u001b[0m \u001b[0mvalue\u001b[0m\u001b[0;34m)\u001b[0m\u001b[0;34m:\u001b[0m \u001b[0;31m# Выз-ся self.attrname = value\u001b[0m\u001b[0;34m\u001b[0m\u001b[0m\n\u001b[1;32m      6\u001b[0m         \u001b[0;32mif\u001b[0m \u001b[0mattrname\u001b[0m \u001b[0;32min\u001b[0m \u001b[0mself\u001b[0m\u001b[0;34m.\u001b[0m\u001b[0mprivates\u001b[0m\u001b[0;34m:\u001b[0m\u001b[0;34m\u001b[0m\u001b[0m\n\u001b[0;32m----> 7\u001b[0;31m             \u001b[0;32mraise\u001b[0m \u001b[0mPrivateExc\u001b[0m\u001b[0;34m(\u001b[0m\u001b[0mattrname\u001b[0m\u001b[0;34m,\u001b[0m \u001b[0mself\u001b[0m\u001b[0;34m)\u001b[0m\u001b[0;34m\u001b[0m\u001b[0m\n\u001b[0m\u001b[1;32m      8\u001b[0m         \u001b[0;32melse\u001b[0m\u001b[0;34m:\u001b[0m\u001b[0;34m\u001b[0m\u001b[0m\n\u001b[1;32m      9\u001b[0m             \u001b[0mself\u001b[0m\u001b[0;34m.\u001b[0m\u001b[0m__dict__\u001b[0m\u001b[0;34m[\u001b[0m\u001b[0mattrname\u001b[0m\u001b[0;34m]\u001b[0m \u001b[0;34m=\u001b[0m \u001b[0mvalue\u001b[0m \u001b[0;31m# Self.attrname = value\u001b[0m\u001b[0;34m\u001b[0m\u001b[0m\n",
      "\u001b[0;31mPrivateExc\u001b[0m: ('name', <__main__.Test2 object at 0x7f7f70988470>)"
     ]
    }
   ],
   "source": [
    "y.name = 'Sue'"
   ]
  },
  {
   "cell_type": "code",
   "execution_count": 44,
   "metadata": {},
   "outputs": [],
   "source": [
    "y.age = 30"
   ]
  },
  {
   "cell_type": "code",
   "execution_count": 45,
   "metadata": {},
   "outputs": [
    {
     "ename": "PrivateExc",
     "evalue": "('age', <__main__.Test1 object at 0x7f7f70988198>)",
     "output_type": "error",
     "traceback": [
      "\u001b[0;31m---------------------------------------------------------------------------\u001b[0m",
      "\u001b[0;31mPrivateExc\u001b[0m                                Traceback (most recent call last)",
      "\u001b[0;32m<ipython-input-45-f7dd3a84c319>\u001b[0m in \u001b[0;36m<module>\u001b[0;34m()\u001b[0m\n\u001b[0;32m----> 1\u001b[0;31m \u001b[0mx\u001b[0m\u001b[0;34m.\u001b[0m\u001b[0mage\u001b[0m \u001b[0;34m=\u001b[0m \u001b[0;36m40\u001b[0m\u001b[0;34m\u001b[0m\u001b[0m\n\u001b[0m",
      "\u001b[0;32m<ipython-input-40-4a4cf53e0cbc>\u001b[0m in \u001b[0;36m__setattr__\u001b[0;34m(self, attrname, value)\u001b[0m\n\u001b[1;32m      5\u001b[0m     \u001b[0;32mdef\u001b[0m \u001b[0m__setattr__\u001b[0m\u001b[0;34m(\u001b[0m\u001b[0mself\u001b[0m\u001b[0;34m,\u001b[0m \u001b[0mattrname\u001b[0m\u001b[0;34m,\u001b[0m \u001b[0mvalue\u001b[0m\u001b[0;34m)\u001b[0m\u001b[0;34m:\u001b[0m \u001b[0;31m# Выз-ся self.attrname = value\u001b[0m\u001b[0;34m\u001b[0m\u001b[0m\n\u001b[1;32m      6\u001b[0m         \u001b[0;32mif\u001b[0m \u001b[0mattrname\u001b[0m \u001b[0;32min\u001b[0m \u001b[0mself\u001b[0m\u001b[0;34m.\u001b[0m\u001b[0mprivates\u001b[0m\u001b[0;34m:\u001b[0m\u001b[0;34m\u001b[0m\u001b[0m\n\u001b[0;32m----> 7\u001b[0;31m             \u001b[0;32mraise\u001b[0m \u001b[0mPrivateExc\u001b[0m\u001b[0;34m(\u001b[0m\u001b[0mattrname\u001b[0m\u001b[0;34m,\u001b[0m \u001b[0mself\u001b[0m\u001b[0;34m)\u001b[0m\u001b[0;34m\u001b[0m\u001b[0m\n\u001b[0m\u001b[1;32m      8\u001b[0m         \u001b[0;32melse\u001b[0m\u001b[0;34m:\u001b[0m\u001b[0;34m\u001b[0m\u001b[0m\n\u001b[1;32m      9\u001b[0m             \u001b[0mself\u001b[0m\u001b[0;34m.\u001b[0m\u001b[0m__dict__\u001b[0m\u001b[0;34m[\u001b[0m\u001b[0mattrname\u001b[0m\u001b[0;34m]\u001b[0m \u001b[0;34m=\u001b[0m \u001b[0mvalue\u001b[0m \u001b[0;31m# Self.attrname = value\u001b[0m\u001b[0;34m\u001b[0m\u001b[0m\n",
      "\u001b[0;31mPrivateExc\u001b[0m: ('age', <__main__.Test1 object at 0x7f7f70988198>)"
     ]
    }
   ],
   "source": [
    "x.age = 40"
   ]
  },
  {
   "cell_type": "code",
   "execution_count": 46,
   "metadata": {},
   "outputs": [],
   "source": [
    "class Test3(Privacy):\n",
    "    privates = ['name', 'pay']\n",
    "    def __init__(self):\n",
    "        self.name = 'Tom'  # __setattr__ в суперклассе Privacy не даст создать ни одного экземлпяра Test3\n",
    "                           # нужно как в Test2 использовать self.__dict__['name'] = 'Tom'"
   ]
  },
  {
   "cell_type": "code",
   "execution_count": 47,
   "metadata": {},
   "outputs": [
    {
     "ename": "PrivateExc",
     "evalue": "('name', <__main__.Test3 object at 0x7f7f70988ba8>)",
     "output_type": "error",
     "traceback": [
      "\u001b[0;31m---------------------------------------------------------------------------\u001b[0m",
      "\u001b[0;31mPrivateExc\u001b[0m                                Traceback (most recent call last)",
      "\u001b[0;32m<ipython-input-47-8ae344d12548>\u001b[0m in \u001b[0;36m<module>\u001b[0;34m()\u001b[0m\n\u001b[0;32m----> 1\u001b[0;31m \u001b[0mTest3\u001b[0m\u001b[0;34m(\u001b[0m\u001b[0;34m)\u001b[0m\u001b[0;34m\u001b[0m\u001b[0m\n\u001b[0m",
      "\u001b[0;32m<ipython-input-46-d8150c2a652a>\u001b[0m in \u001b[0;36m__init__\u001b[0;34m(self)\u001b[0m\n\u001b[1;32m      2\u001b[0m     \u001b[0mprivates\u001b[0m \u001b[0;34m=\u001b[0m \u001b[0;34m[\u001b[0m\u001b[0;34m'name'\u001b[0m\u001b[0;34m,\u001b[0m \u001b[0;34m'pay'\u001b[0m\u001b[0;34m]\u001b[0m\u001b[0;34m\u001b[0m\u001b[0m\n\u001b[1;32m      3\u001b[0m     \u001b[0;32mdef\u001b[0m \u001b[0m__init__\u001b[0m\u001b[0;34m(\u001b[0m\u001b[0mself\u001b[0m\u001b[0;34m)\u001b[0m\u001b[0;34m:\u001b[0m\u001b[0;34m\u001b[0m\u001b[0m\n\u001b[0;32m----> 4\u001b[0;31m         \u001b[0mself\u001b[0m\u001b[0;34m.\u001b[0m\u001b[0mname\u001b[0m \u001b[0;34m=\u001b[0m \u001b[0;34m'Tom'\u001b[0m  \u001b[0;31m# __setattr__ в суперклассе Privacy не даст создать ни одного экземлпяра Test3\u001b[0m\u001b[0;34m\u001b[0m\u001b[0m\n\u001b[0m",
      "\u001b[0;32m<ipython-input-40-4a4cf53e0cbc>\u001b[0m in \u001b[0;36m__setattr__\u001b[0;34m(self, attrname, value)\u001b[0m\n\u001b[1;32m      5\u001b[0m     \u001b[0;32mdef\u001b[0m \u001b[0m__setattr__\u001b[0m\u001b[0;34m(\u001b[0m\u001b[0mself\u001b[0m\u001b[0;34m,\u001b[0m \u001b[0mattrname\u001b[0m\u001b[0;34m,\u001b[0m \u001b[0mvalue\u001b[0m\u001b[0;34m)\u001b[0m\u001b[0;34m:\u001b[0m \u001b[0;31m# Выз-ся self.attrname = value\u001b[0m\u001b[0;34m\u001b[0m\u001b[0m\n\u001b[1;32m      6\u001b[0m         \u001b[0;32mif\u001b[0m \u001b[0mattrname\u001b[0m \u001b[0;32min\u001b[0m \u001b[0mself\u001b[0m\u001b[0;34m.\u001b[0m\u001b[0mprivates\u001b[0m\u001b[0;34m:\u001b[0m\u001b[0;34m\u001b[0m\u001b[0m\n\u001b[0;32m----> 7\u001b[0;31m             \u001b[0;32mraise\u001b[0m \u001b[0mPrivateExc\u001b[0m\u001b[0;34m(\u001b[0m\u001b[0mattrname\u001b[0m\u001b[0;34m,\u001b[0m \u001b[0mself\u001b[0m\u001b[0;34m)\u001b[0m\u001b[0;34m\u001b[0m\u001b[0m\n\u001b[0m\u001b[1;32m      8\u001b[0m         \u001b[0;32melse\u001b[0m\u001b[0;34m:\u001b[0m\u001b[0;34m\u001b[0m\u001b[0m\n\u001b[1;32m      9\u001b[0m             \u001b[0mself\u001b[0m\u001b[0;34m.\u001b[0m\u001b[0m__dict__\u001b[0m\u001b[0;34m[\u001b[0m\u001b[0mattrname\u001b[0m\u001b[0;34m]\u001b[0m \u001b[0;34m=\u001b[0m \u001b[0mvalue\u001b[0m \u001b[0;31m# Self.attrname = value\u001b[0m\u001b[0;34m\u001b[0m\u001b[0m\n",
      "\u001b[0;31mPrivateExc\u001b[0m: ('name', <__main__.Test3 object at 0x7f7f70988ba8>)"
     ]
    }
   ],
   "source": [
    "Test3()"
   ]
  },
  {
   "cell_type": "markdown",
   "metadata": {},
   "source": [
    "Фактически это лишь первая прикидочная реализация частных атрибутов в языке Python (то есть запрет на изменение атрибутов вне класса). \n",
    "\n",
    "Несмотря на то что язык Python не поддерживает возможность объявления частных атрибутов, такие приемы, как этот, могут их имитировать. Однако, хотя таким способом можно имитировать сокрытие атрибутов, тем не менее он почти никогда не используется на практике."
   ]
  },
  {
   "cell_type": "markdown",
   "metadata": {},
   "source": [
    "## Строковое представление объектов: `__repr__` и `__str__`"
   ]
  },
  {
   "cell_type": "markdown",
   "metadata": {},
   "source": [
    "Если метод `__repr__` (или родственный ему метод `__str__`) определен, он автоматически будет вызываться при попытках вывести экземпляр класса или преобразовать его в строку.\n",
    "\n",
    "Эти методы позволяют определить более удобочитаемый формат вывода ваших объектов. Строковое представление объектов по умолчанию не содержит полезной информации и имеет неудобочитаемый внешний вид."
   ]
  },
  {
   "cell_type": "code",
   "execution_count": 48,
   "metadata": {},
   "outputs": [
    {
     "name": "stdout",
     "output_type": "stream",
     "text": [
      "<__main__.adder object at 0x7f7f70983160>\n"
     ]
    }
   ],
   "source": [
    "class adder:\n",
    "    def __init__(self, value=0):\n",
    "        self.data = value        # инициализировать атрибут data\n",
    "        \n",
    "    def __add__(self, other):\n",
    "        self.data += other       # прибавить другое значение\n",
    "        \n",
    "x = adder()\n",
    "print(x)"
   ]
  },
  {
   "cell_type": "code",
   "execution_count": 49,
   "metadata": {},
   "outputs": [
    {
     "data": {
      "text/plain": [
       "<__main__.adder at 0x7f7f70983160>"
      ]
     },
     "execution_count": 49,
     "metadata": {},
     "output_type": "execute_result"
    }
   ],
   "source": [
    "x"
   ]
  },
  {
   "cell_type": "code",
   "execution_count": 50,
   "metadata": {},
   "outputs": [],
   "source": [
    "class addrepr(adder):            # наследует __init__, __add__\n",
    "    def __repr__(self):          # добавляет строковое представление\n",
    "        return 'addrepr(%s)' % self.data"
   ]
  },
  {
   "cell_type": "code",
   "execution_count": 51,
   "metadata": {},
   "outputs": [],
   "source": [
    "x = addrepr(2)  # вызовет __init__\n",
    "x + 1           # вызовет __add__"
   ]
  },
  {
   "cell_type": "code",
   "execution_count": 52,
   "metadata": {},
   "outputs": [
    {
     "data": {
      "text/plain": [
       "addrepr(3)"
      ]
     },
     "execution_count": 52,
     "metadata": {},
     "output_type": "execute_result"
    }
   ],
   "source": [
    "x               # вызовет __repr__"
   ]
  },
  {
   "cell_type": "code",
   "execution_count": 53,
   "metadata": {},
   "outputs": [
    {
     "name": "stdout",
     "output_type": "stream",
     "text": [
      "addrepr(3)\n"
     ]
    }
   ],
   "source": [
    "print(x)        # вызовет __repr__"
   ]
  },
  {
   "cell_type": "code",
   "execution_count": 54,
   "metadata": {},
   "outputs": [
    {
     "data": {
      "text/plain": [
       "('addrepr(3)', 'addrepr(3)')"
      ]
     },
     "execution_count": 54,
     "metadata": {},
     "output_type": "execute_result"
    }
   ],
   "source": [
    "str(x), repr(x) # вызовет __repr__"
   ]
  },
  {
   "cell_type": "markdown",
   "metadata": {},
   "source": [
    "Почему имеется два метода?\n",
    "\n",
    "* Встроенные функции `print` и `str` (а также ее внутренний эквивалент, который используется функцией `print`) сначала пытаются использовать метод `__str__`. Вообще этот метод должен возвращать строковое представление объекта в удобном для пользователя виде.\n",
    "\n",
    "\n",
    "* Во всех остальных случаях используется метод `__repr__`: функцией автоматического вывода в интерактивной оболочке, функцией `repr`, при выводе вложенных объектов, а также функциями `print` и `str`, когда в классе отсутствует метод `__str__`. Вообще этот метод должен возвращать строку, которая могла бы использоваться как программный код для воссоздания объекта или содержать информацию, полезную для разработчиков."
   ]
  },
  {
   "cell_type": "markdown",
   "metadata": {},
   "source": [
    ">Проще говоря, **метод `__repr__` используется везде, за исключением функций `print` и `str`, если определен метод `__str__`**.\n",
    "\n",
    ">Однако, **если метод `__str__` отсутствует, операции вывода будут использовать метод `__repr__`**, но не наоборот – в остальных случаях, например, функцией автоматического вывода в интерактивной оболочке всегда используется только метод `__repr__`"
   ]
  },
  {
   "cell_type": "markdown",
   "metadata": {},
   "source": [
    "Вследствие этого, если вам необходимо обеспечить единое отображение во всех контекстах, лучше использовать метод `__repr__`.\n",
    "\n",
    "Однако, определив оба метода, вы обеспечите поддержку вывода в  различных контекстах. Например, перед конечным пользователем объект будет отображаться с помощью метода `__str__`, а перед программистом будет выводиться информация более низкого уровня с помощью метода `__repr__`:"
   ]
  },
  {
   "cell_type": "code",
   "execution_count": 55,
   "metadata": {},
   "outputs": [],
   "source": [
    "class addboth(adder):\n",
    "    def __str__(self):\n",
    "        return '[Value: %s]' % self.data  # удобочитаемая строка\n",
    "    \n",
    "    def __repr__(self):\n",
    "        return 'addboth(%s)' % self.data  # строка программного кода"
   ]
  },
  {
   "cell_type": "code",
   "execution_count": 56,
   "metadata": {},
   "outputs": [
    {
     "data": {
      "text/plain": [
       "addboth(5)"
      ]
     },
     "execution_count": 56,
     "metadata": {},
     "output_type": "execute_result"
    }
   ],
   "source": [
    "x = addboth(4)\n",
    "x + 1\n",
    "x         # вызовет __repr__"
   ]
  },
  {
   "cell_type": "code",
   "execution_count": 57,
   "metadata": {},
   "outputs": [
    {
     "name": "stdout",
     "output_type": "stream",
     "text": [
      "[Value: 5]\n"
     ]
    }
   ],
   "source": [
    "print(x)  # вызовет __str__"
   ]
  },
  {
   "cell_type": "code",
   "execution_count": 58,
   "metadata": {},
   "outputs": [
    {
     "data": {
      "text/plain": [
       "('[Value: 5]', 'addboth(5)')"
      ]
     },
     "execution_count": 58,
     "metadata": {},
     "output_type": "execute_result"
    }
   ],
   "source": [
    "str(x), repr(x)"
   ]
  },
  {
   "cell_type": "markdown",
   "metadata": {},
   "source": [
    ">**Оба метода должны возвращать строки**, возвращаемые значения других типов не преобразуются в строки и вызывают ошибку"
   ]
  },
  {
   "cell_type": "markdown",
   "metadata": {},
   "source": [
    "В зависимости от логики преобразования в строковое представление, реализованной в контейнерном объекте, **операция вывода может вызывать метод `__str__` только для объектов верхнего уровня** - **вложенные объекты по-прежнему могут выводиться с применением их методов `__repr__` или метода по умолчанию**"
   ]
  },
  {
   "cell_type": "code",
   "execution_count": 59,
   "metadata": {},
   "outputs": [],
   "source": [
    "class Printer:\n",
    "    def __init__(self, val):\n",
    "        self.val = val\n",
    "        \n",
    "    def __str__(self):        # исп-ся для вывода самого экземпляра\n",
    "        return str(self.val)  # преобразует результат в строку"
   ]
  },
  {
   "cell_type": "code",
   "execution_count": 60,
   "metadata": {},
   "outputs": [
    {
     "name": "stdout",
     "output_type": "stream",
     "text": [
      "2\n",
      "3\n"
     ]
    }
   ],
   "source": [
    "objs = [Printer(2), Printer(3)]\n",
    "\n",
    "for x in objs:\n",
    "    print(x)"
   ]
  },
  {
   "cell_type": "code",
   "execution_count": 61,
   "metadata": {},
   "outputs": [
    {
     "name": "stdout",
     "output_type": "stream",
     "text": [
      "[<__main__.Printer object at 0x7f7f70988f28>, <__main__.Printer object at 0x7f7f70988da0>]\n"
     ]
    }
   ],
   "source": [
    "print(objs)"
   ]
  },
  {
   "cell_type": "code",
   "execution_count": 62,
   "metadata": {},
   "outputs": [
    {
     "data": {
      "text/plain": [
       "[<__main__.Printer at 0x7f7f70988f28>, <__main__.Printer at 0x7f7f70988da0>]"
      ]
     },
     "execution_count": 62,
     "metadata": {},
     "output_type": "execute_result"
    }
   ],
   "source": [
    "objs"
   ]
  },
  {
   "cell_type": "markdown",
   "metadata": {},
   "source": [
    "Чтобы обеспечить вызов адаптированной версии метода во всех случаях, независимо от реализации контейнера, реализуйте метод `__repr__`, а не `__str__` – первый из них вызывается во всех случаях, где последний не может быть применен:"
   ]
  },
  {
   "cell_type": "code",
   "execution_count": 63,
   "metadata": {},
   "outputs": [],
   "source": [
    "class Printer:\n",
    "    def __init__(self, val):\n",
    "        self.val = val\n",
    "        \n",
    "    def __repr__(self):   # ___repr__ исп-ся print, если нет __str__\n",
    "        return str(self.val)  # __repr__ исп-ся инт. оболочкой и для\n",
    "                              # вывода вложенных объектов"
   ]
  },
  {
   "cell_type": "code",
   "execution_count": 64,
   "metadata": {},
   "outputs": [
    {
     "name": "stdout",
     "output_type": "stream",
     "text": [
      "2\n",
      "3\n"
     ]
    }
   ],
   "source": [
    "objs = [Printer(2), Printer(3)]\n",
    "\n",
    "for x in objs:\n",
    "    print(x)"
   ]
  },
  {
   "cell_type": "code",
   "execution_count": 65,
   "metadata": {},
   "outputs": [
    {
     "name": "stdout",
     "output_type": "stream",
     "text": [
      "[2, 3]\n"
     ]
    }
   ],
   "source": [
    "print(objs)"
   ]
  },
  {
   "cell_type": "code",
   "execution_count": 66,
   "metadata": {},
   "outputs": [
    {
     "data": {
      "text/plain": [
       "[2, 3]"
      ]
     },
     "execution_count": 66,
     "metadata": {},
     "output_type": "execute_result"
    }
   ],
   "source": [
    "objs"
   ]
  },
  {
   "cell_type": "markdown",
   "metadata": {},
   "source": [
    "## Правостороннее сложение и операция приращения: `__radd__` и `__iadd__`"
   ]
  },
  {
   "cell_type": "markdown",
   "metadata": {},
   "source": [
    ">C технической точки зрения метод `__add__`, который использовался в примерах выше, не поддерживает использование объектов экземпляров справа от оператора `+`. **Чтобы реализовать поддержку таких выражений и  тем самым обеспечить допустимость перестановки операндов, необходимо реализовать метод `__radd__`**."
   ]
  },
  {
   "cell_type": "markdown",
   "metadata": {},
   "source": [
    "**Интерпретатор вызывает метод `__radd__`, только когда экземпляр\n",
    "вашего класса появляется справа от оператора `+`, а  объект слева не является экземпляром вашего класса**. Во всех других случаях, когда объект появляется слева, вызывается метод `__add__`:"
   ]
  },
  {
   "cell_type": "code",
   "execution_count": 67,
   "metadata": {},
   "outputs": [],
   "source": [
    "class Commuter:\n",
    "    def __init__(self, val):\n",
    "        self.val = val\n",
    "        \n",
    "    def __add__(self, other):\n",
    "        print('add', self.val, other)\n",
    "        return self.val + other\n",
    "    \n",
    "    def __radd__(self, other):\n",
    "        print('radd', self.val, other)\n",
    "        return other + self.val"
   ]
  },
  {
   "cell_type": "code",
   "execution_count": 68,
   "metadata": {},
   "outputs": [
    {
     "name": "stdout",
     "output_type": "stream",
     "text": [
      "add 88 1\n"
     ]
    },
    {
     "data": {
      "text/plain": [
       "89"
      ]
     },
     "execution_count": 68,
     "metadata": {},
     "output_type": "execute_result"
    }
   ],
   "source": [
    "x = Commuter(88)\n",
    "y = Commuter(99)\n",
    "x + 1  # __add__: экземпляр + не_экземпляр"
   ]
  },
  {
   "cell_type": "code",
   "execution_count": 69,
   "metadata": {},
   "outputs": [
    {
     "name": "stdout",
     "output_type": "stream",
     "text": [
      "radd 99 1\n"
     ]
    },
    {
     "data": {
      "text/plain": [
       "100"
      ]
     },
     "execution_count": 69,
     "metadata": {},
     "output_type": "execute_result"
    }
   ],
   "source": [
    "1 + y  # __radd__: не_экземпляр + экземпляр"
   ]
  },
  {
   "cell_type": "code",
   "execution_count": 70,
   "metadata": {},
   "outputs": [
    {
     "name": "stdout",
     "output_type": "stream",
     "text": [
      "add 88 <__main__.Commuter object at 0x7f7f70988080>\n",
      "radd 99 88\n"
     ]
    },
    {
     "data": {
      "text/plain": [
       "187"
      ]
     },
     "execution_count": 70,
     "metadata": {},
     "output_type": "execute_result"
    }
   ],
   "source": [
    "x + y  # __add__: экземпляр + экземпляр"
   ]
  },
  {
   "cell_type": "markdown",
   "metadata": {},
   "source": [
    "На практике, когда требуется распространить тип класса на результат, реализация может оказаться сложнее: может оказаться необходимым выполнить проверку типа, чтобы убедиться в  безопасности операции преобразовании и избежать вложенности.\n",
    "\n",
    "Так, если в следующем примере не выполнять проверку типа с  помощью функции `isinstance`, дело может закончиться тем, что мы получим экземпляр класса `Commuter`, значением атрибута `val` которого является другой экземпляр класса `Commuter`, – при сложении двух экземпляров,\n",
    "когда метод `__add__` вызывает метод `__radd__`:"
   ]
  },
  {
   "cell_type": "code",
   "execution_count": 71,
   "metadata": {},
   "outputs": [],
   "source": [
    "class Commuter:\n",
    "    def __init__(self, val):\n",
    "        self.val = val\n",
    "        \n",
    "    def __add__(self, other):\n",
    "        if isinstance(other, Commuter):\n",
    "            other = other.val\n",
    "        return Commuter(self.val + other)\n",
    "    \n",
    "    def __radd__(self, other):\n",
    "        return Commuter(other + self.val)\n",
    "    \n",
    "    def __str__(self):\n",
    "        return '<Commuter: %s>' % self.val"
   ]
  },
  {
   "cell_type": "code",
   "execution_count": 72,
   "metadata": {},
   "outputs": [
    {
     "name": "stdout",
     "output_type": "stream",
     "text": [
      "<Commuter: 98>\n"
     ]
    }
   ],
   "source": [
    "x = Commuter(88)\n",
    "y = Commuter(99)\n",
    "print(x + 10)      # Результат – другой экземпляр класса Commuter"
   ]
  },
  {
   "cell_type": "code",
   "execution_count": 73,
   "metadata": {},
   "outputs": [
    {
     "name": "stdout",
     "output_type": "stream",
     "text": [
      "<Commuter: 109>\n"
     ]
    }
   ],
   "source": [
    "print(10 + y)"
   ]
  },
  {
   "cell_type": "code",
   "execution_count": 74,
   "metadata": {},
   "outputs": [
    {
     "name": "stdout",
     "output_type": "stream",
     "text": [
      "<Commuter: 187>\n"
     ]
    }
   ],
   "source": [
    "z = x + y    # Нет вложения: не происходит рекурсивный вызов __radd__\n",
    "print(z)"
   ]
  },
  {
   "cell_type": "code",
   "execution_count": 75,
   "metadata": {},
   "outputs": [
    {
     "name": "stdout",
     "output_type": "stream",
     "text": [
      "<Commuter: 197>\n"
     ]
    }
   ],
   "source": [
    "print(z + 10)"
   ]
  },
  {
   "cell_type": "code",
   "execution_count": 76,
   "metadata": {},
   "outputs": [
    {
     "name": "stdout",
     "output_type": "stream",
     "text": [
      "<Commuter: 374>\n"
     ]
    }
   ],
   "source": [
    "print(z + z)"
   ]
  },
  {
   "cell_type": "markdown",
   "metadata": {},
   "source": [
    "### Комбинированная операция сложения"
   ]
  },
  {
   "cell_type": "markdown",
   "metadata": {},
   "source": [
    "Чтобы обеспечить поддержку комбинированной операции сложения `+=`, увеличивающей значение экземпляра, необходимо реализовать метод `__iadd__` или `__add__`. Последний из них используется в случае отсутствия первого. \n",
    "\n",
    "Фактически класс `Commuter`, представленный в предыдущем разделе, уже поддерживает операцию `+=`, однако с помощью метода `__iadd__` можно реализовать более эффективную операцию изменения самого экземпляра"
   ]
  },
  {
   "cell_type": "code",
   "execution_count": 77,
   "metadata": {},
   "outputs": [],
   "source": [
    "class Number:\n",
    "    def __init__(self, val):\n",
    "        self.val = val\n",
    "        \n",
    "    def __iadd__(self, other): # __iadd__ явно реализует операцию x += y\n",
    "        self.val += other      # Обычно возвращает self\n",
    "        return self"
   ]
  },
  {
   "cell_type": "code",
   "execution_count": 78,
   "metadata": {},
   "outputs": [],
   "source": [
    "x = Number(5)\n",
    "x += 1"
   ]
  },
  {
   "cell_type": "code",
   "execution_count": 79,
   "metadata": {},
   "outputs": [],
   "source": [
    "x += 1"
   ]
  },
  {
   "cell_type": "code",
   "execution_count": 80,
   "metadata": {},
   "outputs": [
    {
     "data": {
      "text/plain": [
       "7"
      ]
     },
     "execution_count": 80,
     "metadata": {},
     "output_type": "execute_result"
    }
   ],
   "source": [
    "x.val"
   ]
  },
  {
   "cell_type": "code",
   "execution_count": 81,
   "metadata": {},
   "outputs": [],
   "source": [
    "class Number:\n",
    "    def __init__(self, val):\n",
    "        self.val = val\n",
    "    \n",
    "    def __add__(self, other): # __add__ как крайнее средство: x=(x + y)\n",
    "        return Number(self.val + other) # распространяет тип класса"
   ]
  },
  {
   "cell_type": "code",
   "execution_count": 82,
   "metadata": {},
   "outputs": [],
   "source": [
    "x = Number(5)\n",
    "x += 1"
   ]
  },
  {
   "cell_type": "code",
   "execution_count": 83,
   "metadata": {},
   "outputs": [],
   "source": [
    "x += 1"
   ]
  },
  {
   "cell_type": "code",
   "execution_count": 84,
   "metadata": {},
   "outputs": [
    {
     "data": {
      "text/plain": [
       "7"
      ]
     },
     "execution_count": 84,
     "metadata": {},
     "output_type": "execute_result"
    }
   ],
   "source": [
    "x.val"
   ]
  },
  {
   "cell_type": "markdown",
   "metadata": {},
   "source": [
    "## Операция вызова: `__call__`"
   ]
  },
  {
   "cell_type": "markdown",
   "metadata": {},
   "source": [
    "**Метод `__call__` вызывается при обращении к экземпляру как к функции** и поддерживает все схемы передачи аргументов - все, что передается экземпляру, передается этому методу наряду с аргументом `self`, в котором передается сам экземпляр."
   ]
  },
  {
   "cell_type": "code",
   "execution_count": 85,
   "metadata": {},
   "outputs": [],
   "source": [
    "class Callee:\n",
    "    def __call__(self, *pargs, **kargs): # реализует вызов экземпляра\n",
    "        print('Called:', pargs, kargs)   # принимает любые аргументы"
   ]
  },
  {
   "cell_type": "code",
   "execution_count": 86,
   "metadata": {},
   "outputs": [
    {
     "name": "stdout",
     "output_type": "stream",
     "text": [
      "Called: (1, 2, 3) {}\n"
     ]
    }
   ],
   "source": [
    "C = Callee()\n",
    "C(1, 2, 3)"
   ]
  },
  {
   "cell_type": "code",
   "execution_count": 87,
   "metadata": {},
   "outputs": [
    {
     "name": "stdout",
     "output_type": "stream",
     "text": [
      "Called: (1, 2, 3) {'x': 4, 'y': 5}\n"
     ]
    }
   ],
   "source": [
    "C(1, 2, 3, x=4, y=5)"
   ]
  },
  {
   "cell_type": "markdown",
   "metadata": {},
   "source": [
    "Реализация операции вызова позволяет экземплярам классов имитировать поведение функций, а также сохранять информацию о состоянии между вызовами."
   ]
  },
  {
   "cell_type": "code",
   "execution_count": 89,
   "metadata": {},
   "outputs": [],
   "source": [
    "class Prod:\n",
    "    def __init__(self, value):  # принимает единственный аргумент\n",
    "        self.value = value\n",
    "    \n",
    "    def __call__(self, other):\n",
    "        return self.value * other"
   ]
  },
  {
   "cell_type": "code",
   "execution_count": 90,
   "metadata": {},
   "outputs": [
    {
     "data": {
      "text/plain": [
       "6"
      ]
     },
     "execution_count": 90,
     "metadata": {},
     "output_type": "execute_result"
    }
   ],
   "source": [
    "x = Prod(2)  # запоминает 2 в своей области видимости\n",
    "x(3)         # 3 (передано) * 2 (сохраненное значение)"
   ]
  },
  {
   "cell_type": "markdown",
   "metadata": {},
   "source": [
    ">Метод `__call__` может оказаться удобнее **при взаимодействии с прикладными интерфейсами, где ожидается функция**, - это позволяет создавать объекты, совместимые с интерфейсами, ожидающими получить функцию, которые к тому же способны сохранять информацию о своем состоянии между вызовами."
   ]
  },
  {
   "cell_type": "markdown",
   "metadata": {},
   "source": [
    "## Функциональные интерфейсы и программный код обратного вызова"
   ]
  },
  {
   "cell_type": "markdown",
   "metadata": {},
   "source": [
    "Инструментальный набор для создания графического интерфейса `tkinter` позволяет регистрировать функции как **обработчики событий (они же - функции обратного вызова)**. Когда возникают какие-либо события, `tkinter` вызывает зарегистрированные объекты.\n",
    "\n",
    "Если необходимо реализовать обработчик событий, способный сохранять свое состояние между вызовами, вы можете **либо зарегистрировать связанный метод класса, либо экземпляр класса, который с помощью метода `__call__` обеспечивает совместимость с функциональным интерфейсом**.\n",
    "\n",
    "Например:"
   ]
  },
  {
   "cell_type": "code",
   "execution_count": 91,
   "metadata": {},
   "outputs": [],
   "source": [
    "class Callback:\n",
    "    def __init__(self, color):  # функция + информация о состоянии\n",
    "        self.color = color\n",
    "        \n",
    "    def __call__(self):         # поддерживает вызовы без аргументов\n",
    "        print('turn', self.color)"
   ]
  },
  {
   "cell_type": "markdown",
   "metadata": {},
   "source": [
    "Теперь можно зарегистрировать экземпляры этого класса в контексте графического интерфейса, как обработчики событий для кнопок, несмотря на то, что реализация графического интерфейса предполагает вызывать обработчики событий как обычные функции без аргументов:\n",
    "\n",
    "```\n",
    "cb1 = Callback('blue')  # \"запомнить\" голубой цвет\n",
    "cb2 = Callback('green')\n",
    "\n",
    "B1 = Button(command=cb1)  # зарегистрировать обработчик\n",
    "B2 = Button(command=cb2)  # зарегистрировать обработчик\n",
    "```\n",
    "\n",
    "Когда позднее кнопка будет нажата, объект экземпляра будет вызван как простая функция, а поскольку он сохраняет информацию о состоянии в атрибутах экземпляра, он помнит, что необходимо сделать"
   ]
  },
  {
   "cell_type": "markdown",
   "metadata": {},
   "source": [
    "Еще 2 способа, которые используются для сохранения информации о состояниях в функциях обратного вызова.\n",
    "\n",
    "**1. lambda-функция с аргументами, имеющими значения по умолчанию**\n",
    "```\n",
    "cb3 = (lambda color='red': 'turn' + color)\n",
    "```\n",
    "\n",
    "**2. Связанные методы класса**\n",
    "Объект связанного метода - это объект, который запоминает экземпляр `self` и ссылку на функцию, так что потом можно вызывать простую функцию без использования экземпляра"
   ]
  },
  {
   "cell_type": "code",
   "execution_count": 92,
   "metadata": {},
   "outputs": [],
   "source": [
    "class Callback:\n",
    "    def __init__(self, color):  # класс с информацией о состоянии\n",
    "        self.color = color\n",
    "        \n",
    "    def changeColor(self):      # обычный метод\n",
    "        print('turn', self.color)"
   ]
  },
  {
   "cell_type": "markdown",
   "metadata": {},
   "source": [
    "```\n",
    "cb1 = Callback('blue')\n",
    "cb2 = Callback('green')\n",
    "\n",
    "B1 = Button(command=cb1.changeColor)  # ссылка, не вызов\n",
    "B2 = Button(command=cb2.changeColor)  # запом-ся ф-ия + self\n",
    "```\n",
    "\n",
    "Когда позднее кнопка будет нажата, имитируется поведение графического интерфейса и вызывается метод `changeColor`, который обработает информацию о состоянии объекта:\n",
    "\n",
    "```\n",
    "obj = Callback('blue')\n",
    "cb = obj.changeColor  # регистрация обработчика событий\n",
    "cb()                  # по событию выведет 'blue'\n",
    "```"
   ]
  },
  {
   "cell_type": "markdown",
   "metadata": {},
   "source": [
    "Этот прием более простой, но менее универсальный, чем перегрузка операции вызова с помощью метода `__call__`"
   ]
  },
  {
   "cell_type": "markdown",
   "metadata": {},
   "source": [
    "## Сравнение: `__lt__`, `__gt__` и другие"
   ]
  },
  {
   "cell_type": "markdown",
   "metadata": {},
   "source": [
    "Классы могут определять методы, реализующие все шесть операций сравнения: `<`, `>`, `<=`, `>=`, `==` и `!=`. Обычно они просты в реализации, но нужно иметь в виду следующее:\n",
    "\n",
    "* В отличие от методов `__add__`/`__radd__`, обсуждавшихся выше, **методы сравнения не имеют правосторонних версий**. Вместо этого, когда операцию сравнения поддерживает только один операнд, используются **зеркальные методы сравнивания** (например, методы `__lt__` и `__gt__` являются зеркальными по отношению друг к другу).\n",
    "\n",
    "\n",
    "* **Среди операторов сравнения нет неявных взаимоотношений**. Суть в  том, что истинность операции `==` не предполагает ложность операции `!=`, например, чтобы гарантировать корректное поведение обоих операторов, требуется реализовать оба метода, `__eq__` и `__ne__`.\n",
    "\n",
    "Пример:"
   ]
  },
  {
   "cell_type": "code",
   "execution_count": 93,
   "metadata": {},
   "outputs": [],
   "source": [
    "class C:\n",
    "    data = 'spam'\n",
    "    \n",
    "    def __gt__(self, other):\n",
    "        return self.data > other\n",
    "    \n",
    "    def __lt__(self, other):\n",
    "        return self.data < other"
   ]
  },
  {
   "cell_type": "code",
   "execution_count": 94,
   "metadata": {},
   "outputs": [
    {
     "name": "stdout",
     "output_type": "stream",
     "text": [
      "True\n"
     ]
    }
   ],
   "source": [
    "X = C()\n",
    "print(X > 'ham')  # вызовет __gt__"
   ]
  },
  {
   "cell_type": "code",
   "execution_count": 95,
   "metadata": {},
   "outputs": [
    {
     "name": "stdout",
     "output_type": "stream",
     "text": [
      "False\n"
     ]
    }
   ],
   "source": [
    "print(X < 'ham')"
   ]
  },
  {
   "cell_type": "markdown",
   "metadata": {},
   "source": [
    "## Проверка логического значения: `__bool__` и `__len__`"
   ]
  },
  {
   "cell_type": "markdown",
   "metadata": {},
   "source": [
    "Классы могут определять методы, выражающие логическую природу их экземпляров, - в логическом контексте интерпретатор сначала пытается напрямую получить логическое значение с помощью метода `__bool__` и только потом, если этот метод не реализован, пытается вызвать метод `__len__`, чтобы выяснить истинность объекта, исходя из его длины.\n",
    "\n",
    "Обычно `__bool__` возвращает логическое значение, исходя из значений атрибутов объекта или другой информации:"
   ]
  },
  {
   "cell_type": "code",
   "execution_count": 96,
   "metadata": {},
   "outputs": [
    {
     "name": "stdout",
     "output_type": "stream",
     "text": [
      "yes!\n"
     ]
    }
   ],
   "source": [
    "class Truth:\n",
    "    def __bool__(self):\n",
    "        return True\n",
    "    \n",
    "X = Truth()\n",
    "if X:\n",
    "    print('yes!')"
   ]
  },
  {
   "cell_type": "code",
   "execution_count": 97,
   "metadata": {},
   "outputs": [
    {
     "data": {
      "text/plain": [
       "False"
      ]
     },
     "execution_count": 97,
     "metadata": {},
     "output_type": "execute_result"
    }
   ],
   "source": [
    "class Truth:\n",
    "    def __bool__(self):\n",
    "        return False\n",
    "    \n",
    "X = Truth()\n",
    "bool(X)"
   ]
  },
  {
   "cell_type": "markdown",
   "metadata": {},
   "source": [
    "Если метод отсутствует, интерпретатор пытается определить длину объекта, поскольку непустой объект интерпретируется как истинный:"
   ]
  },
  {
   "cell_type": "code",
   "execution_count": 98,
   "metadata": {},
   "outputs": [
    {
     "name": "stdout",
     "output_type": "stream",
     "text": [
      "no!\n"
     ]
    }
   ],
   "source": [
    "class Truth:\n",
    "    def __len__(self):\n",
    "        return 0\n",
    "    \n",
    "X = Truth()\n",
    "if not X:\n",
    "    print('no!')"
   ]
  },
  {
   "cell_type": "markdown",
   "metadata": {},
   "source": [
    "**Если реализованы оба метода, предпочтение отдается методу `__bool__`**, потому что он является более специализированным"
   ]
  },
  {
   "cell_type": "code",
   "execution_count": 99,
   "metadata": {},
   "outputs": [
    {
     "name": "stdout",
     "output_type": "stream",
     "text": [
      "yes!\n"
     ]
    }
   ],
   "source": [
    "class Truth:\n",
    "    def __bool__(self):\n",
    "        return True\n",
    "    \n",
    "    def __len__(self):\n",
    "        return 0\n",
    "    \n",
    "X = Truth()\n",
    "if X:\n",
    "    print('yes!')"
   ]
  },
  {
   "cell_type": "markdown",
   "metadata": {},
   "source": [
    ">**Если ни один из методов не определен, объект просто считается истинным**"
   ]
  },
  {
   "cell_type": "code",
   "execution_count": 100,
   "metadata": {},
   "outputs": [
    {
     "data": {
      "text/plain": [
       "True"
      ]
     },
     "execution_count": 100,
     "metadata": {},
     "output_type": "execute_result"
    }
   ],
   "source": [
    "class Truth:\n",
    "    pass\n",
    "\n",
    "X = Truth()\n",
    "bool(X)"
   ]
  },
  {
   "cell_type": "markdown",
   "metadata": {},
   "source": [
    "## Уничтожение объектов: `__del__`"
   ]
  },
  {
   "cell_type": "markdown",
   "metadata": {},
   "source": [
    "Конструктор `__init__` вызывается во время создания экземпляра. Противоположный ему **метод `__del__` вызывается автоматически, когда освобождается память, занятая объектом (то есть во время \"сборки мусора\")**."
   ]
  },
  {
   "cell_type": "code",
   "execution_count": 101,
   "metadata": {},
   "outputs": [],
   "source": [
    "class Life:\n",
    "    def __init__(self, name='unknown'):\n",
    "        print('Hello', name)\n",
    "        self.name = name\n",
    "        \n",
    "    def __del__(self):\n",
    "        print('Goodbye', self.name)"
   ]
  },
  {
   "cell_type": "code",
   "execution_count": 102,
   "metadata": {},
   "outputs": [
    {
     "name": "stdout",
     "output_type": "stream",
     "text": [
      "Hello Brian\n"
     ]
    }
   ],
   "source": [
    "brian = Life('Brian')"
   ]
  },
  {
   "cell_type": "code",
   "execution_count": 103,
   "metadata": {},
   "outputs": [
    {
     "name": "stdout",
     "output_type": "stream",
     "text": [
      "Goodbye Brian\n"
     ]
    }
   ],
   "source": [
    "brian = 'loretta'"
   ]
  },
  {
   "cell_type": "markdown",
   "metadata": {},
   "source": [
    "Здесь, когда переменной `brian` присваивается строка, теряется последняя ссылка на экземпляр класса `Life`, что приводит к вызову деструктора.\n",
    "\n",
    "С одной стороны, интерпретатор автоматически освобождает память, занятую экземпляром, поэтому нет нужды выполнять очистку памяти в деструкторах.\n",
    "\n",
    "С другой стороны, не всегда бывает возможным предсказать, когда произойдет уничтожение экземпляра, поэтому часто лучше выполнять завершающие действия в явно вызываемом методе (или в инструкции `try/finally` - в некоторых случаях в системных таблицах могут сохраняться ссылки на ваши объекты, что будет препятствовать вызову деструктора."
   ]
  }
 ],
 "metadata": {
  "kernelspec": {
   "display_name": "Python 3",
   "language": "python",
   "name": "python3"
  },
  "language_info": {
   "codemirror_mode": {
    "name": "ipython",
    "version": 3
   },
   "file_extension": ".py",
   "mimetype": "text/x-python",
   "name": "python",
   "nbconvert_exporter": "python",
   "pygments_lexer": "ipython3",
   "version": "3.6.6"
  }
 },
 "nbformat": 4,
 "nbformat_minor": 2
}
