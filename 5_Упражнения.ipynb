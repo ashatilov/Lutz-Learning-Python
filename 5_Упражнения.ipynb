{
 "cells": [
  {
   "cell_type": "markdown",
   "metadata": {},
   "source": [
    "# Упражнения к пятой части"
   ]
  },
  {
   "cell_type": "markdown",
   "metadata": {},
   "source": [
    "## 1. Основы импортирования"
   ]
  },
  {
   "cell_type": "markdown",
   "metadata": {},
   "source": [
    "Напишите программу, которая подсчитывает количество строк и символов в файле (в духе утилиты `wc` в операционной системы UNIX). В своем текстовом редакторе создайте модуль с именем `mymod.py`, который экспортирует три имени:\n",
    "\n",
    "* Функцию `countLines(name)`, которая читает входной файл и подсчитывает число строк в нем (подсказка: большую часть работы можно выполнить с помощью метода `file.readlines`, а оставшуюся часть – с помощью функции `len`).\n",
    "\n",
    "* Функцию `countChars(name)`, которая читает входной файл и подсчитывает число символов в нем (подсказка: метод `file.read` возвращает единую строку).\n",
    "\n",
    "* Функцию `test(name)`, которая вызывает две предыдущие функции с заданным именем файла. Вообще говоря, имя файла можно жестко определить в  программном коде, принимать ввод от пользователя или принимать имя как параметр командной строки через список `sys.argv` – но пока исходите из предположения, что оно передается как аргумент функции.\n",
    "\n",
    "Все три функции в модуле `mymod` должны принимать имя файла в виде строки. Если размер любой из функций превысит две-три строки, это значит, что вы делаете лишнюю работу, – используйте подсказки, которые я вам дал!\n",
    "\n",
    "Затем проверьте свой модуль в  интерактивной оболочке, используя инструкцию `import` и полные имена экспортируемых функций. Следует ли добавить в переменную PYTHONPATH каталог, где находится ваш файл `mymod.py`?\n",
    "\n",
    "Попробуйте проверить модуль на самом себе: например, `test('mymod.py')`. Обратите внимание, что функция `test` открывает файл дважды, – если вы достаточно честолюбивы, попробуйте оптимизировать программный код, передавая двум функциям счета объект открытого файла (подсказка: метод `file.seek(0)` выполняет переустановку указателя в начало файла)."
   ]
  },
  {
   "cell_type": "markdown",
   "metadata": {},
   "source": [
    "```\n",
    "# file mymod.py\n",
    "\n",
    "def countLines(name):\n",
    "    with open(name) as f:\n",
    "        print(len(f.readlines()))\n",
    "\n",
    "def countChars(name):\n",
    "    with open(name) as f:\n",
    "        print(sum([len(line) for line in f]))\n",
    "\n",
    "def test(name):\n",
    "    countLines(name)\n",
    "    countChars(name)\n",
    "\n",
    "if __name__ == '__main__':\n",
    "    import sys\n",
    "    if len(sys.argv) == 1:\n",
    "        print('Enter filename to test')\n",
    "    else:\n",
    "        test(sys.argv[1])\n",
    "```"
   ]
  },
  {
   "cell_type": "code",
   "execution_count": 1,
   "metadata": {},
   "outputs": [
    {
     "name": "stdout",
     "output_type": "stream",
     "text": [
      "18 ./exercises/5_ex/mymod.py\r\n"
     ]
    }
   ],
   "source": [
    "!wc -l ./exercises/5_ex/mymod.py"
   ]
  },
  {
   "cell_type": "code",
   "execution_count": 2,
   "metadata": {},
   "outputs": [
    {
     "name": "stdout",
     "output_type": "stream",
     "text": [
      "382 ./exercises/5_ex/mymod.py\r\n"
     ]
    }
   ],
   "source": [
    "!wc -m ./exercises/5_ex/mymod.py"
   ]
  },
  {
   "cell_type": "code",
   "execution_count": 3,
   "metadata": {},
   "outputs": [],
   "source": [
    "# настройка пути поиска модулей\n",
    "import sys\n",
    "sys.path.append('./exercises/5_ex/')"
   ]
  },
  {
   "cell_type": "code",
   "execution_count": 4,
   "metadata": {},
   "outputs": [
    {
     "name": "stdout",
     "output_type": "stream",
     "text": [
      "18\n",
      "382\n"
     ]
    }
   ],
   "source": [
    "import mymod\n",
    "\n",
    "mymod.test('./exercises/5_ex/mymod.py')  # jupyter запущен из основного каталога, поэтому путь, учитывая каталоги"
   ]
  },
  {
   "cell_type": "markdown",
   "metadata": {},
   "source": [
    "## 2. `from`/`from *`"
   ]
  },
  {
   "cell_type": "markdown",
   "metadata": {},
   "source": [
    "Проверьте модуль `mymod` из упражнения 1 в интерактивной оболочке, используя для загрузки экспортируемых имен инструкцию `from`  – сначала по имени, а потом с помощью формы `from *`."
   ]
  },
  {
   "cell_type": "code",
   "execution_count": 5,
   "metadata": {},
   "outputs": [],
   "source": [
    "from mymod import countChars\n",
    "from mymod import countLines\n",
    "from mymod import test"
   ]
  },
  {
   "cell_type": "code",
   "execution_count": 6,
   "metadata": {},
   "outputs": [
    {
     "name": "stdout",
     "output_type": "stream",
     "text": [
      "18\n",
      "382\n"
     ]
    }
   ],
   "source": [
    "test('./exercises/5_ex/mymod.py')"
   ]
  },
  {
   "cell_type": "code",
   "execution_count": 7,
   "metadata": {},
   "outputs": [],
   "source": [
    "from mymod import *"
   ]
  },
  {
   "cell_type": "markdown",
   "metadata": {},
   "source": [
    "## 3. `__main__`"
   ]
  },
  {
   "cell_type": "markdown",
   "metadata": {},
   "source": [
    "Добавьте в  модуль `mymod` строку, в которой автоматически производился бы вызов функции `test`, только когда модуль выполняется как самостоятельный сценарий, а не во время импортирования. Добавляемая вами строка, вероятно, должна содержать проверку значения атрибута `__name__` на равенство строке `'__main__'`, как было показано в этой главе.\n",
    "\n",
    "Попробуйте запустить модуль из системной командной строки, затем импортируйте модуль и проверьте работу функций в интерактивном режиме. Будут ли работать функции в обоих режимах?"
   ]
  },
  {
   "cell_type": "code",
   "execution_count": 8,
   "metadata": {},
   "outputs": [
    {
     "name": "stdout",
     "output_type": "stream",
     "text": [
      "18\r\n",
      "382\r\n"
     ]
    }
   ],
   "source": [
    "!cd ./exercises/5_ex/ && python mymod.py mymod.py"
   ]
  },
  {
   "cell_type": "markdown",
   "metadata": {},
   "source": [
    "## 4. Вложенное импортирование"
   ]
  },
  {
   "cell_type": "markdown",
   "metadata": {},
   "source": [
    "Напишите второй модуль `myclient.py`, который импортирует модуль `mymod` и проверяет работу его функций, затем запустите `myclient` из системной командной строки. Будут ли доступны функции из `mymod` на верхнем уровне `myclient`, если импортировать их с помощью инструкции `from`? А если они будут импортированы с помощью инструкции\n",
    "`import`? Попробуйте реализовать оба варианта в `myclient` и проверить в интерактивном режиме, импортируя модуль `myclient` и проверяя содержимое его атрибута `__dict__`."
   ]
  },
  {
   "cell_type": "markdown",
   "metadata": {},
   "source": [
    "c помощью `import` - на верхнем уровне не доступны, доступны через `mymod.test`\n",
    "```\n",
    "# file myclient1.py\n",
    "\n",
    "import mymod\n",
    "\n",
    "mymod.test('myclient.py')\n",
    "```"
   ]
  },
  {
   "cell_type": "code",
   "execution_count": 9,
   "metadata": {},
   "outputs": [
    {
     "name": "stdout",
     "output_type": "stream",
     "text": [
      "3\r\n",
      "41\r\n"
     ]
    }
   ],
   "source": [
    "!cd ./exercises/5_ex/ && python myclient1.py"
   ]
  },
  {
   "cell_type": "markdown",
   "metadata": {},
   "source": [
    "c помощью `from` - на верхнем уровне доступны\n",
    "```\n",
    "# file myclient2.py\n",
    "\n",
    "from mymod import *\n",
    "\n",
    "test('myclient.py')\n",
    "```"
   ]
  },
  {
   "cell_type": "code",
   "execution_count": 10,
   "metadata": {},
   "outputs": [
    {
     "name": "stdout",
     "output_type": "stream",
     "text": [
      "3\r\n",
      "42\r\n"
     ]
    }
   ],
   "source": [
    "!cd ./exercises/5_ex/ && python myclient2.py"
   ]
  },
  {
   "cell_type": "markdown",
   "metadata": {},
   "source": [
    "## 5. Импорт пакетов"
   ]
  },
  {
   "cell_type": "markdown",
   "metadata": {},
   "source": [
    "Импортируйте ваш файл из пакета. Создайте каталог с именем `mypkg`, вложенный в каталог, находящийся в пути поиска модулей. Переместите в него файл `mymod.py`, созданный в упражнении 1 или 3, и попробуйте импортировать его как пакет, инструкцией `import mypkg.mymod`.\n",
    "\n",
    "Вам потребуется добавить файл `__init__.py` в  каталог, куда был помещен ваш модуль. Это упражнение должно работать на всех основных платформах Python (это одна из причин, почему в языке Python в качестве разделителя компонентов пути используется символ «`.`»). Каталог пакета может быть простым подкаталогом в вашем рабочем каталоге – в этом случае он будет обнаружен интерпретатором при поиске в домашнем каталоге и вам не потребуется настраивать путь поиска. Добавьте какой-нибудь программный код в `__init__.py` и посмотрите, будет ли он выполняться при каждой\n",
    "операции импортирования."
   ]
  },
  {
   "cell_type": "code",
   "execution_count": 11,
   "metadata": {},
   "outputs": [
    {
     "name": "stdout",
     "output_type": "stream",
     "text": [
      "mymod_copy imported!\n"
     ]
    }
   ],
   "source": [
    "# путь поиска настроен в начале\n",
    "import mypkg"
   ]
  },
  {
   "cell_type": "code",
   "execution_count": 12,
   "metadata": {},
   "outputs": [],
   "source": [
    "import mypkg"
   ]
  },
  {
   "cell_type": "markdown",
   "metadata": {},
   "source": [
    "## 6. Повторная загрузка"
   ]
  },
  {
   "cell_type": "markdown",
   "metadata": {},
   "source": [
    "Поэкспериментируйте с возможностью повторной загрузки модуля: выполните тесты, которые приводятся в примере `changer.py` в главе 22, многократно изменяя текст сообщения и/или поведение модуля, без остановки интерактивного сеанса работы с интерпретатором Python. В зависимости от операционной системы файл модуля можно было бы редактировать в другом окне или, приостановив интерпретатор, редактировать модуль в том же окне (в UNIX комбинация клавиш `Ctrl-Z` обычно приводит к приостановке текущего процесса, а команда `fg` – возобновляет его работу)."
   ]
  },
  {
   "cell_type": "markdown",
   "metadata": {},
   "source": [
    "## 7. Циклический импорт"
   ]
  },
  {
   "cell_type": "markdown",
   "metadata": {},
   "source": [
    "В  разделе, где описываются проблемы, связанные с  рекурсивным импортом, импортирование модуля `recur1` вызывает появление ошибки. Но если перезапустить интерактивный сеанс работы с  интерпретатором и предварительно импортировать модуль `recur2`, ошибка не возникает – проверьте этот факт сами. Как вы думаете, почему импортирование `recur2` проходит без ошибок, а  импортирование `recur1` с  ошибками?\n",
    "\n",
    "(Подсказка: интерпретатор Python сохраняет новые модули во встроенной таблице (словаре) `sys.modules` перед их запуском, независимо от того, «завершен» модуль или нет.) Теперь попробуйте запустить `recur1` как самостоятельный сценарий: `python recur1.py`. Получите ли вы ту же самую ошибку, которая возникает при импортировании `recur1` в интерактивной оболочке? Почему? (Подсказка: когда модули запускаются как самостоятельные программы, они не импортируются, поэтому здесь возникает тот же эффект, как и  при импортировании `recur2` в  интерактивной оболочке,  – `recur2` является первым импортируемым модулем.) Что произойдет, если запустить `recur2` как самостоятельный сценарий? Почему?"
   ]
  },
  {
   "cell_type": "code",
   "execution_count": 13,
   "metadata": {},
   "outputs": [],
   "source": [
    "sys.path.append('./exercises/5_24')"
   ]
  },
  {
   "cell_type": "code",
   "execution_count": 14,
   "metadata": {},
   "outputs": [],
   "source": [
    "import recur2"
   ]
  },
  {
   "cell_type": "code",
   "execution_count": 15,
   "metadata": {},
   "outputs": [],
   "source": [
    "import recur1"
   ]
  },
  {
   "cell_type": "code",
   "execution_count": 16,
   "metadata": {},
   "outputs": [],
   "source": [
    "!cd ./exercises/5_24 && python recur1.py"
   ]
  },
  {
   "cell_type": "code",
   "execution_count": 17,
   "metadata": {},
   "outputs": [
    {
     "name": "stdout",
     "output_type": "stream",
     "text": [
      "Traceback (most recent call last):\r\n",
      "  File \"recur2.py\", line 2, in <module>\r\n",
      "    from recur1 import X  # OK: “X” уже имеет значение\r\n",
      "  File \"/home/shurik/Desktop/Lutz_Learning_Python/exercises/5_24/recur1.py\", line 3, in <module>\r\n",
      "    import recur2  # Запустить recur2, если он еще не был имп-ан\r\n",
      "  File \"/home/shurik/Desktop/Lutz_Learning_Python/exercises/5_24/recur2.py\", line 3, in <module>\r\n",
      "    from recur1 import Y  # Ошибка: “Y” еще не существует\r\n",
      "ImportError: cannot import name 'Y'\r\n"
     ]
    }
   ],
   "source": [
    "!cd ./exercises/5_24 && python recur2.py"
   ]
  }
 ],
 "metadata": {
  "kernelspec": {
   "display_name": "Python 3",
   "language": "python",
   "name": "python3"
  },
  "language_info": {
   "codemirror_mode": {
    "name": "ipython",
    "version": 3
   },
   "file_extension": ".py",
   "mimetype": "text/x-python",
   "name": "python",
   "nbconvert_exporter": "python",
   "pygments_lexer": "ipython3",
   "version": "3.6.6"
  }
 },
 "nbformat": 4,
 "nbformat_minor": 2
}
