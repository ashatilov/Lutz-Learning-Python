{
 "cells": [
  {
   "cell_type": "markdown",
   "metadata": {},
   "source": [
    "# Глава 28. Подробнее о программировании классов"
   ]
  },
  {
   "cell_type": "markdown",
   "metadata": {},
   "source": [
    "## Инструкция `class`"
   ]
  },
  {
   "cell_type": "markdown",
   "metadata": {},
   "source": [
    "Инструкция `class` не является объявлением, подобно `def` она создает объект и является неявной инструкцией присваивания - когда он выполняется, создается объект класса, ссылка на который сохраняется в имени, использованном в заголовке инструкции.\n",
    "\n",
    "Также `class` является настоящим выполняемым программным кодом - класс не существует, пока поток выполнения не достигнет инструкции `class`, которая определяет его (обычно при импортировании модуля, в котором она находится, но не ранее)."
   ]
  },
  {
   "cell_type": "markdown",
   "metadata": {},
   "source": [
    "### Общая форма"
   ]
  },
  {
   "cell_type": "markdown",
   "metadata": {},
   "source": [
    "```\n",
    "class <name>(superclass,...): # Присваивание имени\n",
    "    data = value              # Совместно исп-ые данные класса\n",
    "    def method(self,...):     # Методы\n",
    "        self.member = value   # Данные экземпляров\n",
    "```"
   ]
  },
  {
   "cell_type": "markdown",
   "metadata": {},
   "source": [
    "### Пример"
   ]
  },
  {
   "cell_type": "markdown",
   "metadata": {},
   "source": [
    "* Подобно функциям, инструкции `class` являются локальными областями видимости, где располагаются имена, созданные вложенными операциями присваивания.\n",
    "\n",
    "\n",
    "* Подобно именам в модуле, имена, созданные внутри инструкции `class`, становятся атрибутами объекта класса.\n",
    "\n",
    "Основное **отличие классов в том, что их пространства имен также составляют основу механизма наследования** - ссылки на атрибуты, отсутствующие в классе или объекте экземпляра, будут получены из других классов."
   ]
  },
  {
   "cell_type": "markdown",
   "metadata": {},
   "source": [
    ">Все инструкции внутри инструкции `class` выполняются, когда выполняется сама инструкция `class` (а не когда позднее класс вызывается для создания экземпляра)"
   ]
  },
  {
   "cell_type": "markdown",
   "metadata": {},
   "source": [
    "Присваивание объекта, не являющегося функцией, создает **атрибуты данных**, совместно используемые всеми экземплярами:"
   ]
  },
  {
   "cell_type": "code",
   "execution_count": 1,
   "metadata": {},
   "outputs": [
    {
     "data": {
      "text/plain": [
       "(42, 42)"
      ]
     },
     "execution_count": 1,
     "metadata": {},
     "output_type": "execute_result"
    }
   ],
   "source": [
    "class SharedData:\n",
    "    spam = 42\n",
    "    \n",
    "x = SharedData()\n",
    "y = SharedData()\n",
    "x.spam, y.spam"
   ]
  },
  {
   "cell_type": "markdown",
   "metadata": {},
   "source": [
    "Мы можем изменять значение атрибута, выполняя присваивание через имя класса, и обращаться к нему через имена экземпляров или класса."
   ]
  },
  {
   "cell_type": "code",
   "execution_count": 2,
   "metadata": {},
   "outputs": [
    {
     "data": {
      "text/plain": [
       "(99, 99, 99)"
      ]
     },
     "execution_count": 2,
     "metadata": {},
     "output_type": "execute_result"
    }
   ],
   "source": [
    "SharedData.spam = 99\n",
    "x.spam, y.spam, SharedData.spam"
   ]
  },
  {
   "cell_type": "markdown",
   "metadata": {},
   "source": [
    "Операция присваивания, применяемая к  атрибуту экземпляра, создает или\n",
    "изменяет имя в экземпляре, а не в классе.\n",
    ">Поиск в дереве наследования производится только при попытке чтения атрибута, но не при присваивании: операция присваивания атрибуту объекта всегда изменяет сам объект, а не что-то другое (При условии, что класс не переопределил операцию присваивания с помощью метода перегрузки оператора `__setattr__`)"
   ]
  },
  {
   "cell_type": "code",
   "execution_count": 3,
   "metadata": {},
   "outputs": [
    {
     "data": {
      "text/plain": [
       "(88, 99, 99)"
      ]
     },
     "execution_count": 3,
     "metadata": {},
     "output_type": "execute_result"
    }
   ],
   "source": [
    "x.spam = 88\n",
    "x.spam, y.spam, SharedData.spam"
   ]
  },
  {
   "cell_type": "markdown",
   "metadata": {},
   "source": [
    "Ниже приводится более понятный пример этого поведения, где одно и то же имя создается в двух местах. Предположим, что мы используем следующий класс:"
   ]
  },
  {
   "cell_type": "code",
   "execution_count": 4,
   "metadata": {},
   "outputs": [],
   "source": [
    "class MixedNames:              # Определение класса\n",
    "    data = 'spam'              # Присваивание атрибуту класса\n",
    "    \n",
    "    def __init__(self, value): # Присваивание имени метода\n",
    "        self.data = value      # Присваивание атрибуту экземпляра\n",
    "        \n",
    "    def display(self):\n",
    "        print(self.data, MixedNames.data) # Атрибут экземпляра, атрибут класса"
   ]
  },
  {
   "cell_type": "code",
   "execution_count": 5,
   "metadata": {},
   "outputs": [
    {
     "name": "stdout",
     "output_type": "stream",
     "text": [
      "1 spam\n",
      "2 spam\n"
     ]
    }
   ],
   "source": [
    "x = MixedNames(1)        # Создаются два объекта экземпляров,\n",
    "y = MixedNames(2)        # каждый из которых имеет свой атрибут data\n",
    "x.display(); y.display() # self.data - это другие атрибуты,\n",
    "                         # а MixedNames.data - тот же самый"
   ]
  },
  {
   "cell_type": "markdown",
   "metadata": {},
   "source": [
    "Суть этого примера состоит в  том, что атрибут `data` находится в  двух разных местах: в объектах экземпляров (создаются присваиванием атрибуту `self.data` в методе `__init__`) и в классе, от которого они наследуют имена (создается присваиванием имени `data` в инструкции `class`).\n",
    "\n",
    "Метод класса `display` выводит обе версии – сначала атрибут экземпляра `self`, а затем атрибут класса.\n",
    "\n",
    ">Атрибуты классов совместно используются всеми экземплярами, а атрибуты экземпляров уникальны для каждого экземпляра – ни данные, ни поведение экземпляра недоступны для совместного использования."
   ]
  },
  {
   "cell_type": "markdown",
   "metadata": {},
   "source": [
    "## Методы"
   ]
  },
  {
   "cell_type": "markdown",
   "metadata": {},
   "source": [
    "Методы – это обычные объекты функций, которые создаются инструкциями `def` в теле инструкции `class`.\n",
    "\n",
    "Методы реализуют поведение, наследуемое объектами экземпляров. С точки зрения программирования методы работают точно так же, как и обычные функции, с одним важным исключением: **в первом аргументе методам всегда передается подразумеваемый объект экземпляра**.\n",
    "\n",
    "Вызов метода экземпляра:\n",
    "```\n",
    "instance.method(args...)\n",
    "```\n",
    "\n",
    "автоматически преобразуется в вызов метода класса:\n",
    "```\n",
    "class.method(instance, args...)\n",
    "```\n",
    "где класс определяется в результате поиска имени метода по дереву наследования."
   ]
  },
  {
   "cell_type": "markdown",
   "metadata": {},
   "source": [
    "Первый аргумент в  методах классов обычно называется **`self`**, в  соответствии с  общепринятыми соглашениями (с технической точки зрения **само имя не играет никакой роли, значение имеет позиция аргумента**).\n",
    "\n",
    "Этот аргумент обеспечивает доступ к экземпляру, то есть к субъекту вызова, – поскольку из классов может создаваться множество объектов экземпляров, этот аргумент необходим для доступа к данным конкретного экземпляра."
   ]
  },
  {
   "cell_type": "markdown",
   "metadata": {},
   "source": [
    "### Пример метода"
   ]
  },
  {
   "cell_type": "code",
   "execution_count": 6,
   "metadata": {},
   "outputs": [],
   "source": [
    "class NextClass:              # Определение класса\n",
    "    def printer(self, text):  # Определение метода\n",
    "        self.message = text   # Изменение экземпляра\n",
    "        print(self.message)   # Обращение к экземпляру"
   ]
  },
  {
   "cell_type": "code",
   "execution_count": 7,
   "metadata": {},
   "outputs": [
    {
     "name": "stdout",
     "output_type": "stream",
     "text": [
      "instance call\n"
     ]
    }
   ],
   "source": [
    "x = NextClass()             # Создать экземпляр\n",
    "x.printer('instance call')  # вызвать его метод"
   ]
  },
  {
   "cell_type": "code",
   "execution_count": 8,
   "metadata": {},
   "outputs": [
    {
     "data": {
      "text/plain": [
       "'instance call'"
      ]
     },
     "execution_count": 8,
     "metadata": {},
     "output_type": "execute_result"
    }
   ],
   "source": [
    "x.message  # экземпляр изменился"
   ]
  },
  {
   "cell_type": "markdown",
   "metadata": {},
   "source": [
    "Когда метод вызывается с использованием квалифицированного имени экземпляра, как в данном случае, то сначала определяется местонахождение метода `printer`, а затем его аргументу `self` автоматически присваивается объект экземпляра (`x`)."
   ]
  },
  {
   "cell_type": "markdown",
   "metadata": {},
   "source": [
    "Методы могут вызываться любым из двух способов – через экземпляр или через сам класс"
   ]
  },
  {
   "cell_type": "code",
   "execution_count": 9,
   "metadata": {},
   "outputs": [
    {
     "name": "stdout",
     "output_type": "stream",
     "text": [
      "class call\n"
     ]
    }
   ],
   "source": [
    "NextClass.printer(x, 'class call')  # прямой вызов метода класса"
   ]
  },
  {
   "cell_type": "code",
   "execution_count": 10,
   "metadata": {},
   "outputs": [
    {
     "data": {
      "text/plain": [
       "'class call'"
      ]
     },
     "execution_count": 10,
     "metadata": {},
     "output_type": "execute_result"
    }
   ],
   "source": [
    "x.message  # экземпляр снова изменился"
   ]
  },
  {
   "cell_type": "markdown",
   "metadata": {},
   "source": [
    "### Вызов конструкторов суперклассов"
   ]
  },
  {
   "cell_type": "markdown",
   "metadata": {},
   "source": [
    "Обычно методы вызываются через экземпляры. Тем не менее вызовы методов через имя класса могут играть особую роль. Одна из таких ролей связана с вызовом конструктора.\n",
    "\n",
    "Метод `__init__` наследуется точно так же, как и  любые другие атрибуты. Это означает, что во время создания экземпляра интерпретатор отыскивает только один метод `__init__`. Если в конструкторе подкласса необходимо гарантировать выполнение действий, предусматриваемых конструктором суперкласса, необходимо явно вызвать метод `__init__` через имя класса:\n",
    "```\n",
    "class Super:\n",
    "    def __init__(self, x):\n",
    "        ...программный код по умолчанию...\n",
    "    \n",
    "class Sub(Super):\n",
    "    def __init__(self, x, y):\n",
    "        Super.__init__(self, x)  # Вызов __init__ суперкласса\n",
    "        ...адаптированный код... # Выполнить доп. действия\n",
    "\n",
    "I = Sub(1, 2)\n",
    "```"
   ]
  },
  {
   "cell_type": "markdown",
   "metadata": {},
   "source": [
    "Вызывать конструктор суперкласса таким способом следует, только если это действительно необходимо, – без этого вызова подкласс полностью переопределяет данный метод.\n",
    "\n",
    ">Внутри одного и того же класса можно определить несколько методов с именем `__init__`, но **использоваться будет только последнее определение**."
   ]
  },
  {
   "cell_type": "markdown",
   "metadata": {},
   "source": [
    "### Другие возможности методов"
   ]
  },
  {
   "cell_type": "markdown",
   "metadata": {},
   "source": [
    "Такой способ вызова методов через имя класса представляет собой основу для расширения (без полной замены) поведения унаследованных методов. \n",
    "\n",
    "Существуют также **статические методы**, которые не предполагают наличие объекта экземпляра в  первом аргументе. Такие методы могут действовать как обычные функции, имена которых являются локальными по отношению к классам, где они были определены, и использоваться для манипулирования данными класса.\n",
    "\n",
    "Родственные им **методы класса** принимают в первом аргументе сам класс, а не экземпляр, и могут использоваться для манипулирования данными, принадлежащими конкретному классу. Однако это дополнительное расширение не является обязательным – обычно нам всегда бывает необходимо передавать экземпляр методам, вызываемым либо через сам экземпляр, либо через имя класса."
   ]
  },
  {
   "cell_type": "markdown",
   "metadata": {},
   "source": [
    "## Наследование"
   ]
  },
  {
   "cell_type": "markdown",
   "metadata": {},
   "source": [
    "В языке Python наследование вступает в игру после того, как объект будет квалифицирован, и его действие заключается в операции поиска в дереве определений атрибутов (в одном или более пространствах имен). \n",
    "\n",
    "Каждый раз, когда используется выражение вида `object.attr` (где `object`  – это объект экземпляра или класса), интерпретатор приступает к  поиску первого вхождения атрибута `attr` в дереве пространств имен снизу вверх, начиная с объекта `object`. Сюда относятся и  ссылки на атрибуты аргумента `self` внутри методов."
   ]
  },
  {
   "cell_type": "markdown",
   "metadata": {},
   "source": [
    "### Создание дерева атрибутов"
   ]
  },
  {
   "cell_type": "markdown",
   "metadata": {},
   "source": [
    "* Атрибуты экземпляров создаются посредством присваивания атрибутам аргумента `self` в методах.\n",
    "\n",
    "\n",
    "* Атрибуты классов создаются инструкциями (присваивания), расположенными внутри инструкции `class`.\n",
    "\n",
    "\n",
    "* Ссылки на суперклассы создаются путем перечисления классов в круглых скобках в заголовке инструкции `class`."
   ]
  },
  {
   "cell_type": "markdown",
   "metadata": {},
   "source": [
    "<img src='./images/6_28.png'>"
   ]
  },
  {
   "cell_type": "markdown",
   "metadata": {},
   "source": [
    "### Специализация унаследованных методов"
   ]
  },
  {
   "cell_type": "markdown",
   "metadata": {},
   "source": [
    "Только что описанная модель поиска в дереве наследования представляет собой прекрасный способ специализации программ. Поскольку механизм наследования сначала пытается отыскать имена в подклассах и только потом в их суперклассах, подклассы могут изменять поведение по умолчанию, предусматриваемое атрибутами их суперклассов.\n",
    "\n",
    "Например, подклассы могут полностью **замещать** унаследованные атрибуты, **предоставлять атрибуты**, которые ожидается отыскать в суперклассах, и **расширять** методы суперкласса за счет их вызова из методов подкласса. Мы уже видели прием с замещением в действии.\n",
    "\n",
    "Ниже приводится пример, демонстрирующий, как выполняется *расширение*:"
   ]
  },
  {
   "cell_type": "code",
   "execution_count": 11,
   "metadata": {},
   "outputs": [],
   "source": [
    "class Super:\n",
    "    def method(self):\n",
    "        print('in Super.method')\n",
    "        \n",
    "class Sub(Super):\n",
    "    def method(self):                # Переопределить метод\n",
    "        print('starting Sub.method') # Дополнительное действие\n",
    "        Super.method(self)           # Выполнить действие по умолчанию\n",
    "        print('ending Sub.method')"
   ]
  },
  {
   "cell_type": "markdown",
   "metadata": {},
   "source": [
    "Главное здесь – это прямые вызовы методов суперкласса. Класс `Sub` замещает метод `method` класса `Super` своей собственной, специализированной версией. Но внутри замещающего метода в классе `Sub` производится вызов версии, экспортируемой классом `Super`, чтобы выполнить действия по умолчанию. Другими словами, метод `Sub.method` не замещает полностью метод `Super.method`, а просто расширяет его:"
   ]
  },
  {
   "cell_type": "code",
   "execution_count": 12,
   "metadata": {},
   "outputs": [
    {
     "name": "stdout",
     "output_type": "stream",
     "text": [
      "in Super.method\n"
     ]
    }
   ],
   "source": [
    "x = Super()  # Создать экземпляр класса Super\n",
    "x.method()   # Вызвать Super.method"
   ]
  },
  {
   "cell_type": "code",
   "execution_count": 13,
   "metadata": {},
   "outputs": [
    {
     "name": "stdout",
     "output_type": "stream",
     "text": [
      "starting Sub.method\n",
      "in Super.method\n",
      "ending Sub.method\n"
     ]
    }
   ],
   "source": [
    "x = Sub()  # Создать экземпляр класса Sub\n",
    "x.method() # Вызвать Sub.method, который вызовет Super.method"
   ]
  },
  {
   "cell_type": "markdown",
   "metadata": {},
   "source": [
    "### Приемы организации взаимодействия классов"
   ]
  },
  {
   "cell_type": "markdown",
   "metadata": {},
   "source": [
    "Различные приемы использования классов:\n",
    "\n",
    "* **`Super`** определяет метод `method` и метод `delegate`, который предполагает наличие метода `action` в подклассе\n",
    "\n",
    "\n",
    "* **`Interior`** не предоставляет никаких новых имен, поэтому он получает все, что определено в классе `Super`\n",
    "\n",
    "\n",
    "* **`Replacer`** переопределяет метод `method` класса `Super` своей собственной версией\n",
    "\n",
    "\n",
    "* **`Extender`** адаптирует метод `method` класса `Super`, переопределяя и вызывая его, чтобы выполнить действия, предусмотренные по умолчанию.\n",
    "\n",
    "\n",
    "* **`Provider`** реализует метод `action`, который ожидается методом `delegate` класса `Super`."
   ]
  },
  {
   "cell_type": "code",
   "execution_count": 14,
   "metadata": {},
   "outputs": [
    {
     "name": "stdout",
     "output_type": "stream",
     "text": [
      "\n",
      "Inheritor...\n",
      "in Super.method\n",
      "\n",
      "Replacer...\n",
      "in Replacer.method\n",
      "\n",
      "Extender...\n",
      "starting Extender.method\n",
      "in Super.method\n",
      "ending Extender.method\n",
      "\n",
      "Provider...\n",
      "in Provider.action\n"
     ]
    }
   ],
   "source": [
    "class Super:\n",
    "    def method(self):\n",
    "        print('in Super.method')  # Поведение по умолчанию\n",
    "    def delegate(self):\n",
    "        self.action()             # Ожидаемый метод\n",
    "\n",
    "class Inheritor(Super):           # Наследует методы, как они есть\n",
    "    pass\n",
    "\n",
    "class Replacer(Super):            # Полностью замещает method\n",
    "    def method(self):\n",
    "        print('in Replacer.method')\n",
    "\n",
    "class Extender(Super):            # Расширяет поведение метода method\n",
    "    def method(self):\n",
    "        print('starting Extender.method')\n",
    "        Super.method(self)\n",
    "        print('ending Extender.method')\n",
    "\n",
    "class Provider(Super):            # Определяет необходимый метод\n",
    "    def action(self):\n",
    "        print('in Provider.action')\n",
    "\n",
    "for klass in (Inheritor, Replacer, Extender):\n",
    "    print('\\n' + klass.__name__ + '...')\n",
    "    klass().method()\n",
    "    \n",
    "print('\\nProvider...')\n",
    "x = Provider()\n",
    "x.delegate()"
   ]
  },
  {
   "cell_type": "markdown",
   "metadata": {},
   "source": [
    "### Абстрактные суперклассы"
   ]
  },
  {
   "cell_type": "markdown",
   "metadata": {},
   "source": [
    "В предыдущем примере когда через экземпляр `Provider` вызывается метод `delegate`, инициируются **две независимые процедуры поиска**:\n",
    "\n",
    "1. При вызове `x.delegate` интерпретатор отыскивает метод `delegate` в классе `Super`, начиная поиск от экземпляра `Provider` и двигаясь вверх по дереву наследования. Экземпляр `x` передается методу в виде аргумента `self`, как обычно.\n",
    "\n",
    "2. Внутри метода `Super.delegate` выражение `self.action` приводит к запуску нового, независимого поиска в дереве наследования, начиная от экземпляра `self` и дальше вверх по дереву. Поскольку аргумент `self` ссылается на экземпляр класса `Provider`, метод `action` будет найден в подклассе `Provider`.\n",
    "\n",
    "Такие суперклассы (в терминах метода `delegate`), как в этом примере, иногда называют\n",
    ">**абстрактными суперклассами** - классы, которые предполагают, что часть их функциональности будет реализована их подклассами\n",
    "\n",
    "Если ожидаемый метод не определен в подклассе, интерпретатор возбудит исключение. Разработчики классов иногда делают такие требования к подклассам более очевидными с помощью инструкций `assert` или возбуждая встроенное исключение `NotImplementedError` с помощью инструкции `raise`:"
   ]
  },
  {
   "cell_type": "code",
   "execution_count": 15,
   "metadata": {},
   "outputs": [
    {
     "ename": "AssertionError",
     "evalue": "action must be defined!",
     "output_type": "error",
     "traceback": [
      "\u001b[0;31m---------------------------------------------------------------------------\u001b[0m",
      "\u001b[0;31mAssertionError\u001b[0m                            Traceback (most recent call last)",
      "\u001b[0;32m<ipython-input-15-a44809ebc436>\u001b[0m in \u001b[0;36m<module>\u001b[0;34m()\u001b[0m\n\u001b[1;32m      7\u001b[0m \u001b[0;34m\u001b[0m\u001b[0m\n\u001b[1;32m      8\u001b[0m \u001b[0mx\u001b[0m \u001b[0;34m=\u001b[0m \u001b[0mSuper\u001b[0m\u001b[0;34m(\u001b[0m\u001b[0;34m)\u001b[0m\u001b[0;34m\u001b[0m\u001b[0m\n\u001b[0;32m----> 9\u001b[0;31m \u001b[0mx\u001b[0m\u001b[0;34m.\u001b[0m\u001b[0mdelegate\u001b[0m\u001b[0;34m(\u001b[0m\u001b[0;34m)\u001b[0m\u001b[0;34m\u001b[0m\u001b[0m\n\u001b[0m",
      "\u001b[0;32m<ipython-input-15-a44809ebc436>\u001b[0m in \u001b[0;36mdelegate\u001b[0;34m(self)\u001b[0m\n\u001b[1;32m      1\u001b[0m \u001b[0;32mclass\u001b[0m \u001b[0mSuper\u001b[0m\u001b[0;34m:\u001b[0m\u001b[0;34m\u001b[0m\u001b[0m\n\u001b[1;32m      2\u001b[0m     \u001b[0;32mdef\u001b[0m \u001b[0mdelegate\u001b[0m\u001b[0;34m(\u001b[0m\u001b[0mself\u001b[0m\u001b[0;34m)\u001b[0m\u001b[0;34m:\u001b[0m\u001b[0;34m\u001b[0m\u001b[0m\n\u001b[0;32m----> 3\u001b[0;31m         \u001b[0mself\u001b[0m\u001b[0;34m.\u001b[0m\u001b[0maction\u001b[0m\u001b[0;34m(\u001b[0m\u001b[0;34m)\u001b[0m\u001b[0;34m\u001b[0m\u001b[0m\n\u001b[0m\u001b[1;32m      4\u001b[0m     \u001b[0;32mdef\u001b[0m \u001b[0maction\u001b[0m\u001b[0;34m(\u001b[0m\u001b[0mself\u001b[0m\u001b[0;34m)\u001b[0m\u001b[0;34m:\u001b[0m\u001b[0;34m\u001b[0m\u001b[0m\n\u001b[1;32m      5\u001b[0m         \u001b[0;31m# При вызове этой версии\u001b[0m\u001b[0;34m\u001b[0m\u001b[0;34m\u001b[0m\u001b[0m\n",
      "\u001b[0;32m<ipython-input-15-a44809ebc436>\u001b[0m in \u001b[0;36maction\u001b[0;34m(self)\u001b[0m\n\u001b[1;32m      4\u001b[0m     \u001b[0;32mdef\u001b[0m \u001b[0maction\u001b[0m\u001b[0;34m(\u001b[0m\u001b[0mself\u001b[0m\u001b[0;34m)\u001b[0m\u001b[0;34m:\u001b[0m\u001b[0;34m\u001b[0m\u001b[0m\n\u001b[1;32m      5\u001b[0m         \u001b[0;31m# При вызове этой версии\u001b[0m\u001b[0;34m\u001b[0m\u001b[0;34m\u001b[0m\u001b[0m\n\u001b[0;32m----> 6\u001b[0;31m         \u001b[0;32massert\u001b[0m \u001b[0;32mFalse\u001b[0m\u001b[0;34m,\u001b[0m \u001b[0;34m'action must be defined!'\u001b[0m\u001b[0;34m\u001b[0m\u001b[0m\n\u001b[0m\u001b[1;32m      7\u001b[0m \u001b[0;34m\u001b[0m\u001b[0m\n\u001b[1;32m      8\u001b[0m \u001b[0mx\u001b[0m \u001b[0;34m=\u001b[0m \u001b[0mSuper\u001b[0m\u001b[0;34m(\u001b[0m\u001b[0;34m)\u001b[0m\u001b[0;34m\u001b[0m\u001b[0m\n",
      "\u001b[0;31mAssertionError\u001b[0m: action must be defined!"
     ]
    }
   ],
   "source": [
    "class Super:\n",
    "    def delegate(self):\n",
    "        self.action()\n",
    "    def action(self):\n",
    "        # При вызове этой версии\n",
    "        assert False, 'action must be defined!'  \n",
    "        \n",
    "x = Super()\n",
    "x.delegate()"
   ]
  },
  {
   "cell_type": "code",
   "execution_count": 16,
   "metadata": {},
   "outputs": [
    {
     "ename": "NotImplementedError",
     "evalue": "action must be defined!",
     "output_type": "error",
     "traceback": [
      "\u001b[0;31m---------------------------------------------------------------------------\u001b[0m",
      "\u001b[0;31mNotImplementedError\u001b[0m                       Traceback (most recent call last)",
      "\u001b[0;32m<ipython-input-16-ff856cf76f6a>\u001b[0m in \u001b[0;36m<module>\u001b[0;34m()\u001b[0m\n\u001b[1;32m      7\u001b[0m \u001b[0;34m\u001b[0m\u001b[0m\n\u001b[1;32m      8\u001b[0m \u001b[0mx\u001b[0m \u001b[0;34m=\u001b[0m \u001b[0mSuper\u001b[0m\u001b[0;34m(\u001b[0m\u001b[0;34m)\u001b[0m\u001b[0;34m\u001b[0m\u001b[0m\n\u001b[0;32m----> 9\u001b[0;31m \u001b[0mx\u001b[0m\u001b[0;34m.\u001b[0m\u001b[0mdelegate\u001b[0m\u001b[0;34m(\u001b[0m\u001b[0;34m)\u001b[0m\u001b[0;34m\u001b[0m\u001b[0m\n\u001b[0m",
      "\u001b[0;32m<ipython-input-16-ff856cf76f6a>\u001b[0m in \u001b[0;36mdelegate\u001b[0;34m(self)\u001b[0m\n\u001b[1;32m      1\u001b[0m \u001b[0;32mclass\u001b[0m \u001b[0mSuper\u001b[0m\u001b[0;34m:\u001b[0m\u001b[0;34m\u001b[0m\u001b[0m\n\u001b[1;32m      2\u001b[0m     \u001b[0;32mdef\u001b[0m \u001b[0mdelegate\u001b[0m\u001b[0;34m(\u001b[0m\u001b[0mself\u001b[0m\u001b[0;34m)\u001b[0m\u001b[0;34m:\u001b[0m\u001b[0;34m\u001b[0m\u001b[0m\n\u001b[0;32m----> 3\u001b[0;31m         \u001b[0mself\u001b[0m\u001b[0;34m.\u001b[0m\u001b[0maction\u001b[0m\u001b[0;34m(\u001b[0m\u001b[0;34m)\u001b[0m\u001b[0;34m\u001b[0m\u001b[0m\n\u001b[0m\u001b[1;32m      4\u001b[0m     \u001b[0;32mdef\u001b[0m \u001b[0maction\u001b[0m\u001b[0;34m(\u001b[0m\u001b[0mself\u001b[0m\u001b[0;34m)\u001b[0m\u001b[0;34m:\u001b[0m\u001b[0;34m\u001b[0m\u001b[0m\n\u001b[1;32m      5\u001b[0m         \u001b[0;31m# возбуждение исключения напрямую\u001b[0m\u001b[0;34m\u001b[0m\u001b[0;34m\u001b[0m\u001b[0m\n",
      "\u001b[0;32m<ipython-input-16-ff856cf76f6a>\u001b[0m in \u001b[0;36maction\u001b[0;34m(self)\u001b[0m\n\u001b[1;32m      4\u001b[0m     \u001b[0;32mdef\u001b[0m \u001b[0maction\u001b[0m\u001b[0;34m(\u001b[0m\u001b[0mself\u001b[0m\u001b[0;34m)\u001b[0m\u001b[0;34m:\u001b[0m\u001b[0;34m\u001b[0m\u001b[0m\n\u001b[1;32m      5\u001b[0m         \u001b[0;31m# возбуждение исключения напрямую\u001b[0m\u001b[0;34m\u001b[0m\u001b[0;34m\u001b[0m\u001b[0m\n\u001b[0;32m----> 6\u001b[0;31m         \u001b[0;32mraise\u001b[0m \u001b[0mNotImplementedError\u001b[0m\u001b[0;34m(\u001b[0m\u001b[0;34m'action must be defined!'\u001b[0m\u001b[0;34m)\u001b[0m\u001b[0;34m\u001b[0m\u001b[0m\n\u001b[0m\u001b[1;32m      7\u001b[0m \u001b[0;34m\u001b[0m\u001b[0m\n\u001b[1;32m      8\u001b[0m \u001b[0mx\u001b[0m \u001b[0;34m=\u001b[0m \u001b[0mSuper\u001b[0m\u001b[0;34m(\u001b[0m\u001b[0;34m)\u001b[0m\u001b[0;34m\u001b[0m\u001b[0m\n",
      "\u001b[0;31mNotImplementedError\u001b[0m: action must be defined!"
     ]
    }
   ],
   "source": [
    "class Super:\n",
    "    def delegate(self):\n",
    "        self.action()\n",
    "    def action(self):\n",
    "        # возбуждение исключения напрямую\n",
    "        raise NotImplementedError('action must be defined!')  \n",
    "        \n",
    "x = Super()\n",
    "x.delegate()"
   ]
  },
  {
   "cell_type": "markdown",
   "metadata": {},
   "source": [
    "### Абстрактные суперклассы в Python 2.6 и 3.0"
   ]
  },
  {
   "cell_type": "markdown",
   "metadata": {},
   "source": [
    "В версиях Python  2.6 и  3.0 **абстрактные суперклассы (они же «абстрактные базовые классы»)**, представленные в  предыдущем разделе, которые требуют, чтобы подклассы переопределяли некоторые методы, могут быть реализованы с применением специальной синтаксической конструкции определения класса.\n",
    "\n",
    "В Python 3.0 для этих целей **используется именованный аргумент в заголовке инструкции `class` и специальный декоратор `@abstract` методов**:\n",
    "```\n",
    "from abc import ABCMeta, abstractmethod\n",
    "\n",
    "class Super(metaclass=ABCMeta):\n",
    "    @abstractmethod\n",
    "    def method(self, ...):\n",
    "        pass\n",
    "```\n",
    "Реализованный таким способом класс с  абстрактным методом не может использоваться для создания экземпляров (то есть нам не удастся создать экземпляр вызовом этого класса), если все абстрактные методы не будут реализованы в  подклассах.\n",
    "\n",
    "Хотя при такой реализации объем программного кода увеличивается, тем не менее она имеет свои преимущества – ошибки из-за отсутствующих методов будут появляться при попытке создать экземпляр класса, а не позднее, при попытке вызвать отсутствующий метод.\n",
    "\n",
    "Данная возможность может использоваться для построения ожидаемого интерфейса, полнота реализации которого будет автоматически проверяться в клиентских классах.\n",
    "\n",
    "Ниже пример:"
   ]
  },
  {
   "cell_type": "code",
   "execution_count": 17,
   "metadata": {},
   "outputs": [],
   "source": [
    "from abc import ABCMeta, abstractmethod\n",
    "\n",
    "class Super(metaclass=ABCMeta):\n",
    "    def delegate(self):\n",
    "        self.action()\n",
    "    \n",
    "    @abstractmethod\n",
    "    def action(self):\n",
    "        pass"
   ]
  },
  {
   "cell_type": "code",
   "execution_count": 18,
   "metadata": {},
   "outputs": [
    {
     "ename": "TypeError",
     "evalue": "Can't instantiate abstract class Super with abstract methods action",
     "output_type": "error",
     "traceback": [
      "\u001b[0;31m---------------------------------------------------------------------------\u001b[0m",
      "\u001b[0;31mTypeError\u001b[0m                                 Traceback (most recent call last)",
      "\u001b[0;32m<ipython-input-18-58b82235a5b1>\u001b[0m in \u001b[0;36m<module>\u001b[0;34m()\u001b[0m\n\u001b[0;32m----> 1\u001b[0;31m \u001b[0mx\u001b[0m \u001b[0;34m=\u001b[0m \u001b[0mSuper\u001b[0m\u001b[0;34m(\u001b[0m\u001b[0;34m)\u001b[0m\u001b[0;34m\u001b[0m\u001b[0m\n\u001b[0m",
      "\u001b[0;31mTypeError\u001b[0m: Can't instantiate abstract class Super with abstract methods action"
     ]
    }
   ],
   "source": [
    "x = Super()"
   ]
  },
  {
   "cell_type": "code",
   "execution_count": 19,
   "metadata": {},
   "outputs": [
    {
     "ename": "TypeError",
     "evalue": "Can't instantiate abstract class Sub with abstract methods action",
     "output_type": "error",
     "traceback": [
      "\u001b[0;31m---------------------------------------------------------------------------\u001b[0m",
      "\u001b[0;31mTypeError\u001b[0m                                 Traceback (most recent call last)",
      "\u001b[0;32m<ipython-input-19-4353d237f557>\u001b[0m in \u001b[0;36m<module>\u001b[0;34m()\u001b[0m\n\u001b[1;32m      1\u001b[0m \u001b[0;32mclass\u001b[0m \u001b[0mSub\u001b[0m\u001b[0;34m(\u001b[0m\u001b[0mSuper\u001b[0m\u001b[0;34m)\u001b[0m\u001b[0;34m:\u001b[0m \u001b[0;32mpass\u001b[0m\u001b[0;34m\u001b[0m\u001b[0m\n\u001b[1;32m      2\u001b[0m \u001b[0;34m\u001b[0m\u001b[0m\n\u001b[0;32m----> 3\u001b[0;31m \u001b[0mx\u001b[0m \u001b[0;34m=\u001b[0m \u001b[0mSub\u001b[0m\u001b[0;34m(\u001b[0m\u001b[0;34m)\u001b[0m\u001b[0;34m\u001b[0m\u001b[0m\n\u001b[0m",
      "\u001b[0;31mTypeError\u001b[0m: Can't instantiate abstract class Sub with abstract methods action"
     ]
    }
   ],
   "source": [
    "class Sub(Super): pass\n",
    "\n",
    "x = Sub()"
   ]
  },
  {
   "cell_type": "code",
   "execution_count": 20,
   "metadata": {},
   "outputs": [
    {
     "name": "stdout",
     "output_type": "stream",
     "text": [
      "spam\n"
     ]
    }
   ],
   "source": [
    "class Sub(Super):\n",
    "    def action(self):\n",
    "        print('spam')\n",
    "        \n",
    "x = Sub()\n",
    "x.delegate()"
   ]
  },
  {
   "cell_type": "markdown",
   "metadata": {},
   "source": [
    "## Пространства имен: окончание истории"
   ]
  },
  {
   "cell_type": "markdown",
   "metadata": {},
   "source": [
    "Квалифицированные и неквалифицированные имена интерпретируются по-разному, и некоторые области видимости служат для инициализации пространств имен объектов:\n",
    "\n",
    "* Неквалифицированные имена (например, `X`) располагаются в областях видимости.\n",
    "\n",
    "\n",
    "* Квалифицированные имена атрибутов (например, `object.X`) принадлежат пространствам имен объектов.\n",
    "\n",
    "\n",
    "* Некоторые области видимости инициализируют пространства имен объектов (в модулях и классах)"
   ]
  },
  {
   "cell_type": "markdown",
   "metadata": {},
   "source": [
    "### Простые имена: глобальные, пока не выполняется присваивание"
   ]
  },
  {
   "cell_type": "markdown",
   "metadata": {},
   "source": [
    "Поиск неквалифицированных простых имен выполняется в соответствии с правилом лексической видимости **LEGB**\n",
    "\n",
    "* **Присваивание (`X = value`)** Операция присваивания делает имена локальными: создает или изменяет имя `X` в текущей локальной области видимости, если имя не объявлено глобальным.\n",
    "\n",
    "\n",
    "* **Ссылка (`X`)** пытается отыскать имя `X` в текущей локальной области видимости, затем в области видимости каждой из вмещающих функций, затем в текущей глобальной области видимости и, наконец, во встроенной области видимости."
   ]
  },
  {
   "cell_type": "markdown",
   "metadata": {},
   "source": [
    "### Имена атрибутов: пространства имен объектов"
   ]
  },
  {
   "cell_type": "markdown",
   "metadata": {},
   "source": [
    "Квалифицированные имена атрибутов ссылаются на атрибуты конкретных объектов и к ним применяются правила, предназначенные для модулей и классов. Для объектов классов и экземпляров эти правила дополняются включением процедуры поиска в дереве наследования:\n",
    "\n",
    "* **Присваивание (`object.X = value`)** создает или изменяет атрибут `X` в пространстве имен объекта `object`, и ничего больше. Восхождение по дереву наследования происходит только при попытке получить ссылку на атрибут, но не при выполнении операции присваивания.\n",
    "\n",
    "\n",
    "* **Ссылка (`object.X`)** для объектов, созданных на основе классов, поиск атрибута `X` производится сначала в объекте `object`, затем во всех классах, расположенных выше в дереве наследования. В случае объектов, которые создаются не из классов, таких как модули, атрибут `X` извлекается непосредственно из объекта `object`."
   ]
  },
  {
   "cell_type": "markdown",
   "metadata": {},
   "source": [
    "### «Дзен» пространств имен в Python: классификация имен происходит при присваивании"
   ]
  },
  {
   "cell_type": "markdown",
   "metadata": {},
   "source": [
    "Из-за различий в процедурах поиска простых и составных имен и нескольких уровней поиска в  обеих процедурах иногда бывает трудно сказать, где будет найдено имя.\n",
    "\n",
    "В  языке Python **место, где выполняется присваивание**, имеет крайне важное значение – оно **полностью определяет область видимости или\n",
    "объект, где будет размещаться имя**."
   ]
  },
  {
   "cell_type": "code",
   "execution_count": 21,
   "metadata": {},
   "outputs": [],
   "source": [
    "# manynames.py\n",
    "X = 11 # Глобальное (в модуле) имя/атрибут (X, или manynames.X)\n",
    "\n",
    "def f():\n",
    "    print(X) # Обращение к глобальному имени X (11)\n",
    "    \n",
    "def g():\n",
    "    X = 22 # Локальная (в ф-ии) переменная (X, скрывает имя X в модуле)\n",
    "    print(X)\n",
    "\n",
    "class C:\n",
    "    X = 33           # Атрибут класса (C.X)\n",
    "    def m(self):\n",
    "        X = 44       # Локальная переменная в методе (X)\n",
    "        self.X = 55  # Атрибут экземпляра (instance.X)"
   ]
  },
  {
   "cell_type": "code",
   "execution_count": 22,
   "metadata": {},
   "outputs": [
    {
     "name": "stdout",
     "output_type": "stream",
     "text": [
      "11\n"
     ]
    }
   ],
   "source": [
    "print(X) # 11: модуль (за пределами файла manynames.X)"
   ]
  },
  {
   "cell_type": "code",
   "execution_count": 23,
   "metadata": {},
   "outputs": [
    {
     "name": "stdout",
     "output_type": "stream",
     "text": [
      "11\n"
     ]
    }
   ],
   "source": [
    "f() # 11: глобальная"
   ]
  },
  {
   "cell_type": "code",
   "execution_count": 24,
   "metadata": {},
   "outputs": [
    {
     "name": "stdout",
     "output_type": "stream",
     "text": [
      "22\n"
     ]
    }
   ],
   "source": [
    "g() # 22: локальная"
   ]
  },
  {
   "cell_type": "code",
   "execution_count": 25,
   "metadata": {},
   "outputs": [
    {
     "name": "stdout",
     "output_type": "stream",
     "text": [
      "11\n"
     ]
    }
   ],
   "source": [
    "print(X) # 11: переменная модуля не изменилась"
   ]
  },
  {
   "cell_type": "code",
   "execution_count": 26,
   "metadata": {},
   "outputs": [
    {
     "name": "stdout",
     "output_type": "stream",
     "text": [
      "33\n"
     ]
    }
   ],
   "source": [
    "obj = C()    # Создать экземпляр\n",
    "print(obj.X) # 33: переменная класса, унаследованная экземпляром"
   ]
  },
  {
   "cell_type": "code",
   "execution_count": 27,
   "metadata": {},
   "outputs": [
    {
     "name": "stdout",
     "output_type": "stream",
     "text": [
      "55\n"
     ]
    }
   ],
   "source": [
    "obj.m()       # Присоединить атрибут X к экземпляру\n",
    "print(obj.X)  # 55: экземпляр"
   ]
  },
  {
   "cell_type": "code",
   "execution_count": 28,
   "metadata": {},
   "outputs": [
    {
     "name": "stdout",
     "output_type": "stream",
     "text": [
      "33\n"
     ]
    }
   ],
   "source": [
    "print(C.X)    # 33: класс (она же obj.X, если в экземпляре нет X)"
   ]
  },
  {
   "cell_type": "code",
   "execution_count": 29,
   "metadata": {},
   "outputs": [
    {
     "ename": "AttributeError",
     "evalue": "'function' object has no attribute 'X'",
     "output_type": "error",
     "traceback": [
      "\u001b[0;31m---------------------------------------------------------------------------\u001b[0m",
      "\u001b[0;31mAttributeError\u001b[0m                            Traceback (most recent call last)",
      "\u001b[0;32m<ipython-input-29-380a816d606e>\u001b[0m in \u001b[0;36m<module>\u001b[0;34m()\u001b[0m\n\u001b[0;32m----> 1\u001b[0;31m \u001b[0mprint\u001b[0m\u001b[0;34m(\u001b[0m\u001b[0mC\u001b[0m\u001b[0;34m.\u001b[0m\u001b[0mm\u001b[0m\u001b[0;34m.\u001b[0m\u001b[0mX\u001b[0m\u001b[0;34m)\u001b[0m  \u001b[0;31m# ОШИБКА: видима только в методе\u001b[0m\u001b[0;34m\u001b[0m\u001b[0m\n\u001b[0m",
      "\u001b[0;31mAttributeError\u001b[0m: 'function' object has no attribute 'X'"
     ]
    }
   ],
   "source": [
    "print(C.m.X)  # ОШИБКА: видима только в методе"
   ]
  },
  {
   "cell_type": "code",
   "execution_count": 30,
   "metadata": {},
   "outputs": [
    {
     "ename": "AttributeError",
     "evalue": "'function' object has no attribute 'X'",
     "output_type": "error",
     "traceback": [
      "\u001b[0;31m---------------------------------------------------------------------------\u001b[0m",
      "\u001b[0;31mAttributeError\u001b[0m                            Traceback (most recent call last)",
      "\u001b[0;32m<ipython-input-30-117f14bf963b>\u001b[0m in \u001b[0;36m<module>\u001b[0;34m()\u001b[0m\n\u001b[0;32m----> 1\u001b[0;31m \u001b[0mprint\u001b[0m\u001b[0;34m(\u001b[0m\u001b[0mg\u001b[0m\u001b[0;34m.\u001b[0m\u001b[0mX\u001b[0m\u001b[0;34m)\u001b[0m    \u001b[0;31m# ОШИБКА: видима только в функции\u001b[0m\u001b[0;34m\u001b[0m\u001b[0m\n\u001b[0m",
      "\u001b[0;31mAttributeError\u001b[0m: 'function' object has no attribute 'X'"
     ]
    }
   ],
   "source": [
    "print(g.X)    # ОШИБКА: видима только в функции"
   ]
  },
  {
   "cell_type": "code",
   "execution_count": 31,
   "metadata": {},
   "outputs": [
    {
     "data": {
      "text/plain": [
       "99"
      ]
     },
     "execution_count": 31,
     "metadata": {},
     "output_type": "execute_result"
    }
   ],
   "source": [
    "class C:\n",
    "    X = 33           # Атрибут класса (C.X)\n",
    "    def m(self):\n",
    "        X = 44       # Локальная переменная в методе (X)\n",
    "        self.X = 55  # Атрибут экземпляра (instance.X)\n",
    "    m.X = 99         # Атрибут функции, будет виден через вызов C.m.X\n",
    "    \n",
    "C.m.X"
   ]
  },
  {
   "cell_type": "markdown",
   "metadata": {},
   "source": [
    "### Словари пространств имен"
   ]
  },
  {
   "cell_type": "markdown",
   "metadata": {},
   "source": [
    "**Пространства имен модулей, объектов классов и экземпляров** фактически **реализованы как словари** и доступны в виде встроенного **атрибута `__dict__`**"
   ]
  },
  {
   "cell_type": "markdown",
   "metadata": {},
   "source": [
    "Чтобы понять внутреннее устройство атрибутов, давайте с  помощью интерактивной оболочки проследим, как растут словари пространств имен, когда в игру вступают классы"
   ]
  },
  {
   "cell_type": "code",
   "execution_count": 32,
   "metadata": {},
   "outputs": [],
   "source": [
    "class Super:\n",
    "    def hello(self):\n",
    "        self.data1 = 'spam'\n",
    "\n",
    "class Sub(Super):\n",
    "    def hola(self):\n",
    "        self.data2 = 'eggs'"
   ]
  },
  {
   "cell_type": "markdown",
   "metadata": {},
   "source": [
    "Когда мы создаем экземпляр подкласса, он начинает свое существование с пустым словарем пространства имен, но имеет ссылку на класс, стоящий выше в дереве наследования. Фактически дерево наследования доступно в виде специальных атрибутов, которые вы можете проверить.\n",
    "\n",
    "**Экземпляры обладают атрибутом `__class__`**, который ссылается на класс, а  **классы имеют атрибут `__bases__`**, который является кортежем, содержащим ссылки на суперклассы выше в  дереве наследования"
   ]
  },
  {
   "cell_type": "code",
   "execution_count": 33,
   "metadata": {},
   "outputs": [
    {
     "data": {
      "text/plain": [
       "{}"
      ]
     },
     "execution_count": 33,
     "metadata": {},
     "output_type": "execute_result"
    }
   ],
   "source": [
    "X = Sub()\n",
    "X.__dict__  # Словарь пространства имен экземпляра"
   ]
  },
  {
   "cell_type": "code",
   "execution_count": 34,
   "metadata": {},
   "outputs": [
    {
     "data": {
      "text/plain": [
       "__main__.Sub"
      ]
     },
     "execution_count": 34,
     "metadata": {},
     "output_type": "execute_result"
    }
   ],
   "source": [
    "X.__class__  # Класс экземпляра"
   ]
  },
  {
   "cell_type": "code",
   "execution_count": 35,
   "metadata": {},
   "outputs": [
    {
     "data": {
      "text/plain": [
       "(__main__.Super,)"
      ]
     },
     "execution_count": 35,
     "metadata": {},
     "output_type": "execute_result"
    }
   ],
   "source": [
    "Sub.__bases__  # Суперклассы данного класса"
   ]
  },
  {
   "cell_type": "code",
   "execution_count": 36,
   "metadata": {},
   "outputs": [
    {
     "data": {
      "text/plain": [
       "(object,)"
      ]
     },
     "execution_count": 36,
     "metadata": {},
     "output_type": "execute_result"
    }
   ],
   "source": [
    "Super.__bases__"
   ]
  },
  {
   "cell_type": "markdown",
   "metadata": {},
   "source": [
    "Так как в  классах выполняется присваивание атрибутам аргумента `self`, тем самым они заполняют объекты экземпляров, то есть атрибуты включаются в словари пространств имен экземпляров, а  не классов. В  пространство имен объекта экземпляра записываются данные, которые могут отличаться для разных экземпляров, и  аргумент `self` является точкой входа в  это пространство имен:"
   ]
  },
  {
   "cell_type": "code",
   "execution_count": 37,
   "metadata": {},
   "outputs": [
    {
     "data": {
      "text/plain": [
       "{'data1': 'spam'}"
      ]
     },
     "execution_count": 37,
     "metadata": {},
     "output_type": "execute_result"
    }
   ],
   "source": [
    "Y = Sub()\n",
    "X.hello()\n",
    "X.__dict__"
   ]
  },
  {
   "cell_type": "code",
   "execution_count": 38,
   "metadata": {},
   "outputs": [
    {
     "data": {
      "text/plain": [
       "{'data1': 'spam', 'data2': 'eggs'}"
      ]
     },
     "execution_count": 38,
     "metadata": {},
     "output_type": "execute_result"
    }
   ],
   "source": [
    "X.hola()\n",
    "X.__dict__"
   ]
  },
  {
   "cell_type": "code",
   "execution_count": 39,
   "metadata": {},
   "outputs": [
    {
     "data": {
      "text/plain": [
       "dict_keys(['__module__', 'hola', '__doc__'])"
      ]
     },
     "execution_count": 39,
     "metadata": {},
     "output_type": "execute_result"
    }
   ],
   "source": [
    "Sub.__dict__.keys()"
   ]
  },
  {
   "cell_type": "code",
   "execution_count": 40,
   "metadata": {},
   "outputs": [
    {
     "data": {
      "text/plain": [
       "dict_keys(['__module__', 'hello', '__dict__', '__weakref__', '__doc__'])"
      ]
     },
     "execution_count": 40,
     "metadata": {},
     "output_type": "execute_result"
    }
   ],
   "source": [
    "Super.__dict__.keys()"
   ]
  },
  {
   "cell_type": "code",
   "execution_count": 41,
   "metadata": {},
   "outputs": [
    {
     "data": {
      "text/plain": [
       "{}"
      ]
     },
     "execution_count": 41,
     "metadata": {},
     "output_type": "execute_result"
    }
   ],
   "source": [
    "Y.__dict__"
   ]
  },
  {
   "cell_type": "markdown",
   "metadata": {},
   "source": [
    "Второй экземпляр `Y` по-прежнему имеет пустой словарь пространства имен, несмотря на то, что словарь экземпляра `X` заполнялся инструкциями присваивания в методах - у каждого экземпляра имеется свой, независимый словарь, который изначально пуст."
   ]
  },
  {
   "cell_type": "markdown",
   "metadata": {},
   "source": [
    "Так как атрибуты фактически являются ключами словаря, существует **два\n",
    "способа получать и  изменять их значения  – по квалифицированным именам\n",
    "или индексированием по ключу** Однако эквивалентность доступа по ключу применяется только к атрибутам, фактически присоединенным к  экземпляру:"
   ]
  },
  {
   "cell_type": "code",
   "execution_count": 42,
   "metadata": {},
   "outputs": [
    {
     "data": {
      "text/plain": [
       "('spam', 'spam')"
      ]
     },
     "execution_count": 42,
     "metadata": {},
     "output_type": "execute_result"
    }
   ],
   "source": [
    "X.data1, X.__dict__['data1']"
   ]
  },
  {
   "cell_type": "code",
   "execution_count": 43,
   "metadata": {},
   "outputs": [
    {
     "data": {
      "text/plain": [
       "{'data1': 'spam', 'data2': 'eggs', 'data3': 'toast'}"
      ]
     },
     "execution_count": 43,
     "metadata": {},
     "output_type": "execute_result"
    }
   ],
   "source": [
    "X.data3 = 'toast'\n",
    "X.__dict__"
   ]
  },
  {
   "cell_type": "code",
   "execution_count": 44,
   "metadata": {},
   "outputs": [
    {
     "data": {
      "text/plain": [
       "'ham'"
      ]
     },
     "execution_count": 44,
     "metadata": {},
     "output_type": "execute_result"
    }
   ],
   "source": [
    "X.__dict__['data3'] = 'ham'\n",
    "X.data3"
   ]
  },
  {
   "cell_type": "markdown",
   "metadata": {},
   "source": [
    "Унаследованный атрибут `X.hello` недоступен через доступ по ключу:"
   ]
  },
  {
   "cell_type": "code",
   "execution_count": 45,
   "metadata": {},
   "outputs": [
    {
     "ename": "KeyError",
     "evalue": "'hello'",
     "output_type": "error",
     "traceback": [
      "\u001b[0;31m---------------------------------------------------------------------------\u001b[0m",
      "\u001b[0;31mKeyError\u001b[0m                                  Traceback (most recent call last)",
      "\u001b[0;32m<ipython-input-45-d36677c6c679>\u001b[0m in \u001b[0;36m<module>\u001b[0;34m()\u001b[0m\n\u001b[0;32m----> 1\u001b[0;31m \u001b[0mX\u001b[0m\u001b[0;34m.\u001b[0m\u001b[0m__dict__\u001b[0m\u001b[0;34m[\u001b[0m\u001b[0;34m'hello'\u001b[0m\u001b[0;34m]\u001b[0m\u001b[0;34m\u001b[0m\u001b[0m\n\u001b[0m",
      "\u001b[0;31mKeyError\u001b[0m: 'hello'"
     ]
    }
   ],
   "source": [
    "X.__dict__['hello']"
   ]
  },
  {
   "cell_type": "code",
   "execution_count": 46,
   "metadata": {},
   "outputs": [
    {
     "data": {
      "text/plain": [
       "<bound method Super.hello of <__main__.Sub object at 0x7ff24c3917b8>>"
      ]
     },
     "execution_count": 46,
     "metadata": {},
     "output_type": "execute_result"
    }
   ],
   "source": [
    "X.hello"
   ]
  },
  {
   "cell_type": "markdown",
   "metadata": {},
   "source": [
    "**Функция `dir`** применяется к объектам, имеющим атрибуты, она сортирует свой список и включает в него некоторые системные атрибуты, а также автоматически собирает унаследованные атрибуты и добавляет в перечень имена, унаследованные от класса `object`, который является суперклассом для всех классов."
   ]
  },
  {
   "cell_type": "code",
   "execution_count": 47,
   "metadata": {},
   "outputs": [
    {
     "data": {
      "text/plain": [
       "{'data1': 'spam', 'data2': 'eggs', 'data3': 'ham'}"
      ]
     },
     "execution_count": 47,
     "metadata": {},
     "output_type": "execute_result"
    }
   ],
   "source": [
    "X.__dict__"
   ]
  },
  {
   "cell_type": "code",
   "execution_count": 48,
   "metadata": {},
   "outputs": [
    {
     "data": {
      "text/plain": [
       "['__class__',\n",
       " '__delattr__',\n",
       " '__dict__',\n",
       " '__dir__',\n",
       " '__doc__',\n",
       " '__eq__',\n",
       " '__format__',\n",
       " '__ge__',\n",
       " '__getattribute__',\n",
       " '__gt__',\n",
       " '__hash__',\n",
       " '__init__',\n",
       " '__init_subclass__',\n",
       " '__le__',\n",
       " '__lt__',\n",
       " '__module__',\n",
       " '__ne__',\n",
       " '__new__',\n",
       " '__reduce__',\n",
       " '__reduce_ex__',\n",
       " '__repr__',\n",
       " '__setattr__',\n",
       " '__sizeof__',\n",
       " '__str__',\n",
       " '__subclasshook__',\n",
       " '__weakref__',\n",
       " 'data1',\n",
       " 'data2',\n",
       " 'data3',\n",
       " 'hello',\n",
       " 'hola']"
      ]
     },
     "execution_count": 48,
     "metadata": {},
     "output_type": "execute_result"
    }
   ],
   "source": [
    "dir(X)"
   ]
  },
  {
   "cell_type": "markdown",
   "metadata": {},
   "source": [
    "### Ссылки на пространства имен"
   ]
  },
  {
   "cell_type": "markdown",
   "metadata": {},
   "source": [
    "Специальные **атрибуты экземпляра и класса `__class__` и `__bases__` позволяют осматривать иерархии наследования** в вашем программном коде. Например, их можно использовать для отображения дерева классов:"
   ]
  },
  {
   "cell_type": "code",
   "execution_count": 49,
   "metadata": {},
   "outputs": [
    {
     "name": "stdout",
     "output_type": "stream",
     "text": [
      "Tree of <__main__.selftest.<locals>.B object at 0x7ff24c338f28>\n",
      "...B\n",
      "......A\n",
      ".........object\n",
      "Tree of <__main__.selftest.<locals>.F object at 0x7ff24c338f28>\n",
      "...F\n",
      "......D\n",
      ".........B\n",
      "............A\n",
      "...............object\n",
      ".........C\n",
      "............A\n",
      "...............object\n",
      "......E\n",
      ".........object\n"
     ]
    }
   ],
   "source": [
    "# classtree.py\n",
    "\"\"\"\n",
    "Выполняет обход дерева наследования снизу вверх, используя ссылки на пространства\n",
    "имен, и отображает суперклассы с отступами\n",
    "\"\"\"\n",
    "def classtree(cls, indent):\n",
    "    print('.' * indent + cls.__name__) # Вывести имя класса\n",
    "    for supercls in cls.__bases__:  # Рекурсивный обход всех суперклассов\n",
    "        # Каждый суперкласс может быть посещен более одного раза\n",
    "        classtree(supercls, indent+3) \n",
    "\n",
    "def instancetree(inst):\n",
    "    print('Tree of', inst)  # Показать экземпляр\n",
    "    classtree(inst.__class__, 3) # Взойти к его классу\n",
    "\n",
    "def selftest():\n",
    "    class A: pass\n",
    "    class B(A): pass\n",
    "    class C(A): pass\n",
    "    class D(B,C): pass\n",
    "    class E: pass\n",
    "    class F(D,E): pass\n",
    "    instancetree(B())\n",
    "    instancetree(F())\n",
    "\n",
    "if __name__ == '__main__': selftest()"
   ]
  },
  {
   "cell_type": "markdown",
   "metadata": {},
   "source": [
    "Функция `classtree` в этом сценарии является рекурсивной – она выводит имя класса, используя атрибут `__name__`, и затем начинает подъем к суперклассам, вызывая саму себя. Это позволяет функции выполнять обход деревьев классов произвольной формы – в процессе рекурсии выполняется подъем по дереву и  заканчивается по достижении корневых суперклассов, у  которых атрибут `__bases__` пуст."
   ]
  },
  {
   "cell_type": "code",
   "execution_count": 50,
   "metadata": {},
   "outputs": [
    {
     "data": {
      "text/plain": [
       "()"
      ]
     },
     "execution_count": 50,
     "metadata": {},
     "output_type": "execute_result"
    }
   ],
   "source": [
    "object.__bases__"
   ]
  },
  {
   "cell_type": "markdown",
   "metadata": {},
   "source": [
    "## Еще раз о строках документирования"
   ]
  },
  {
   "cell_type": "markdown",
   "metadata": {},
   "source": [
    "Пример модуля в  предыдущем разделе содержит строку документирования, описывающую этот модуль, но точно так же они могут использоваться для описания компонентов классов. Строки документирования, которые мы подробно рассматривали в главе 15, – это литералы строк, которые присутствуют на верхнем уровне различных структур и автоматически сохраняются интерпретатором в  атрибутах `__doc__` соответствующих им объектов.\n",
    "\n",
    "Строки документирования могут присутствовать в  модулях, в  инструкциях `def`, а  также в определениях классов и методов.\n",
    "\n",
    "Основное преимущество строк документирования состоит в том, что их содержимое доступно во время выполнения. То есть, если текст был оформлен в виде строки документирования, можно будет обратиться к атрибуту `__doc__` объекта, чтобы получить его описание"
   ]
  },
  {
   "cell_type": "code",
   "execution_count": 51,
   "metadata": {},
   "outputs": [],
   "source": [
    "import sys\n",
    "sys.path.append('./exercises/6_28/')\n",
    "import classtree"
   ]
  },
  {
   "cell_type": "code",
   "execution_count": 52,
   "metadata": {},
   "outputs": [
    {
     "data": {
      "text/plain": [
       "'\\nВыполняет обход дерева наследования снизу вверх, используя ссылки на пространства\\nимен, и отображает суперклассы с отступами\\n'"
      ]
     },
     "execution_count": 52,
     "metadata": {},
     "output_type": "execute_result"
    }
   ],
   "source": [
    "classtree.__doc__"
   ]
  },
  {
   "cell_type": "markdown",
   "metadata": {},
   "source": [
    "## Классы и модули"
   ]
  },
  {
   "cell_type": "markdown",
   "metadata": {},
   "source": [
    "Так как классы и модули представляют собой пространства имен, различия между ними бывает трудно заметить сразу.\n",
    "\n",
    "В двух словах:\n",
    "\n",
    "* Модули\n",
    "    * Это пакеты данных и исполняемого кода.\n",
    "    \n",
    "    * Создаются как файлы с программным кодом на языке Python или как расширения на языке C.\n",
    "    \n",
    "    * Задействуются операцией импортирования.\n",
    "    \n",
    "    \n",
    "* Классы\n",
    "    * Реализуют новые объекты.\n",
    "    \n",
    "    * Создаются с помощью инструкции `class`\n",
    "    \n",
    "    * Задействуются операцией вызова.\n",
    "    \n",
    "    * Всегда располагаются внутри модуля.\n",
    "    \n",
    "Кроме того, классы поддерживают дополнительные возможности, недоступные в модулях, такие как перегрузка операторов, создание множества экземпляров и наследование."
   ]
  }
 ],
 "metadata": {
  "kernelspec": {
   "display_name": "Python 3",
   "language": "python",
   "name": "python3"
  },
  "language_info": {
   "codemirror_mode": {
    "name": "ipython",
    "version": 3
   },
   "file_extension": ".py",
   "mimetype": "text/x-python",
   "name": "python",
   "nbconvert_exporter": "python",
   "pygments_lexer": "ipython3",
   "version": "3.6.6"
  }
 },
 "nbformat": 4,
 "nbformat_minor": 2
}
