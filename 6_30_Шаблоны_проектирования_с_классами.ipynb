{
 "cells": [
  {
   "cell_type": "markdown",
   "metadata": {},
   "source": [
    "# Глава 30. Шаблоны проектирования с классами"
   ]
  },
  {
   "cell_type": "markdown",
   "metadata": {},
   "source": [
    "## Python и ООП"
   ]
  },
  {
   "cell_type": "markdown",
   "metadata": {},
   "source": [
    "Реализацию ООП в языке Python можно свести к трем следующим идеям:\n",
    "\n",
    "* **Наследование** основано на механизме поиска атрибутов в языке Python (в выражении `X.name`)\n",
    "\n",
    "\n",
    "* **Полиморфизм** Назначение метода `method` в выражении `X.method` зависит от типа (класса) `X`. Разрешение имен атрибутов производится на  этапе выполнения, объекты, реализующие одинаковые интерфейсы, являются взаимозаменяемыми - клиентам не требуется знать тип объекта, реализующего вызываемый метод.\n",
    "\n",
    "\n",
    "* **Инкапсуляция** Методы и операторы реализуют поведение; сокрытие данных - это соглашение по умолчанию. Инкапсуляция - упаковывание, сокрытие подробностей реализации за интерфейсами объекта, она позволяет изменять реализацию интерфейсов объекта, не оказывая влияния на пользователей этого объекта."
   ]
  },
  {
   "cell_type": "markdown",
   "metadata": {},
   "source": [
    "### Перегрузка посредством сигнатур вызова (точнее, ее невозможность)"
   ]
  },
  {
   "cell_type": "markdown",
   "metadata": {},
   "source": [
    "В некоторых ООЯ под полиморфизмом также понимается возможность перегрузки функций, основанной на сигнатурах типов их аргументов. Но так как в языке Python отсутствуют объявления типов, эта концепция в действительности здесь неприменима - **полиморфизм в языке Python основан на интерфейсах объектов, а не на типах**."
   ]
  },
  {
   "cell_type": "markdown",
   "metadata": {},
   "source": [
    "Следует писать такой код, который опирается на интерфейс объекта, а не на конкретный тип данных:\n",
    "\n",
    "```\n",
    "class C:\n",
    "    def meth(self, x):\n",
    "        x.operation()  # предпол-ся, что x работает правильно\n",
    "```"
   ]
  },
  {
   "cell_type": "markdown",
   "metadata": {},
   "source": [
    "## ООП и наследование: взаимосвязи типа «является»"
   ]
  },
  {
   "cell_type": "markdown",
   "metadata": {},
   "source": [
    "С точки зрения проектировщика, наследование - это способ указать принадлежность к некоторому набору: класс определяет набор свойств, которые могут быть унаследованы и адаптированы более специализированными наборами (то есть подклассами)."
   ]
  },
  {
   "cell_type": "markdown",
   "metadata": {},
   "source": [
    "Пример с пиццерией. Коллектив работников можно определить четырьмя классами.\n",
    "\n",
    "Самый общий класс, `Employee`, реализует поведение, общее для всех работников, такое как повышение заработной платы (`giveRaise`) и вывод на экран (`__repr__`).\n",
    "\n",
    "Существует две категории служащих и, соответственно, два подкласса, наследующих класс `Employee`: `Chef` (повар) и `Server` (официант). Оба подкласса переопределяют унаследованный метод `work`, чтобы обеспечить вывод более специализированных сообщений.\n",
    "\n",
    "Наконец, робот по приготовлению пиццы моделируется еще более специализированным классом `PizzaRobot`, наследующий класс `Chef`.\n",
    "\n",
    "В терминах ООП мы называем такие взаимоотношения **\"является\"**: робот является поваром, а повар является служащим."
   ]
  },
  {
   "cell_type": "code",
   "execution_count": 1,
   "metadata": {},
   "outputs": [
    {
     "name": "stdout",
     "output_type": "stream",
     "text": [
      "<Employee: name=bob, salary=50000>\n",
      "bob makes pizza\n",
      "<Employee: name=bob, salary=60000.0>\n",
      "\n",
      "Employee does stuff\n",
      "Chef makes food\n",
      "Server interfaces with customer\n",
      "PizzaRobot makes pizza\n"
     ]
    }
   ],
   "source": [
    "# epmloyees.py\n",
    "\n",
    "class Employee:\n",
    "    def __init__(self, name, salary=0):\n",
    "        self.name = name\n",
    "        self.salary = salary\n",
    "        \n",
    "    def giveRaise(self, percent):\n",
    "        self.salary = self.salary + (self.salary * percent)\n",
    "        \n",
    "    def work(self):\n",
    "        print(self.name, 'does stuff')\n",
    "        \n",
    "    def __repr__(self):\n",
    "        return '<Employee: name=%s, salary=%s>' % (self.name, self.salary)\n",
    "\n",
    "    \n",
    "class Chef(Employee):\n",
    "    def __init__(self, name):\n",
    "        Employee.__init__(self, name, 50000)\n",
    "        \n",
    "    def work(self):\n",
    "        print(self.name, 'makes food')\n",
    "\n",
    "        \n",
    "class Server(Employee):\n",
    "    def __init__(self, name):\n",
    "        Employee.__init__(self, name, 40000)\n",
    "\n",
    "    def work(self):\n",
    "        print(self.name, 'interfaces with customer')\n",
    "\n",
    "        \n",
    "class PizzaRobot(Chef):\n",
    "    def __init__(self, name):\n",
    "        Chef.__init__(self, name)\n",
    "\n",
    "    def work(self):\n",
    "        print(self.name, 'makes pizza')\n",
    "\n",
    "        \n",
    "if __name__ == '__main__':\n",
    "    bob = PizzaRobot('bob') # Создать робота с именем bob\n",
    "    print(bob)              # Вызвать унаследованный метод __repr__\n",
    "    bob.work()              # Выполнить действие, зависящее от типа\n",
    "    bob.giveRaise(0.20)     # Увеличить роботу зарплату на 20%\n",
    "    print(bob); print()\n",
    "\n",
    "    for klass in Employee, Chef, Server, PizzaRobot:\n",
    "        obj = klass(klass.__name__)\n",
    "        obj.work()"
   ]
  },
  {
   "cell_type": "markdown",
   "metadata": {},
   "source": [
    "## ООП и композиция: взаимосвязи типа «имеет»"
   ]
  },
  {
   "cell_type": "markdown",
   "metadata": {},
   "source": [
    "С точки зрения программиста, композиция - это прием встравивания других объектов в объект-контейнер и использование их для реализации методов контейнера.\n",
    "\n",
    "Для проектировщика композиция - это один из способов представить взаимоотношения в прикладной области. Но вместо того, чтобы определять принадлежность к множеству, при композиционном подходе все части объединяются в единое целое.\n",
    "\n",
    "Кроме того, **композиция отражает взаимоотношения между частями, которые обычно называются отношениями типа \"имеет\"**. Иногда композиция называется **агрегированием**."
   ]
  },
  {
   "cell_type": "markdown",
   "metadata": {},
   "source": [
    "В примере выше, объединим коллектив работников в коллектив пиццерии и позволим им приступить к работе. Пиццерия - составной объект: в нем имеется печь и работники, такие как официанты и повара. Когда приходит клиент и делает заказ, все компоненты пиццерии начинают действовать."
   ]
  },
  {
   "cell_type": "code",
   "execution_count": 2,
   "metadata": {},
   "outputs": [
    {
     "name": "stdout",
     "output_type": "stream",
     "text": [
      "Homer orders from <Employee: name=Pat, salary=40000>\n",
      "Bob makes pizza\n",
      "oven bakes\n",
      "Homer pays for item to <Employee: name=Pat, salary=40000>\n",
      "...\n",
      "Shaggy orders from <Employee: name=Pat, salary=40000>\n",
      "Bob makes pizza\n",
      "oven bakes\n",
      "Shaggy pays for item to <Employee: name=Pat, salary=40000>\n"
     ]
    }
   ],
   "source": [
    "# pizzashop.py\n",
    "\n",
    "# from employees import PizzaRobot, Server\n",
    "\n",
    "class Customer:\n",
    "    def __init__(self, name):\n",
    "        self.name = name\n",
    "\n",
    "    def order(self, server):\n",
    "        print(self.name, 'orders from', server)\n",
    "\n",
    "    def pay(self, server):\n",
    "        print(self.name, 'pays for item to', server)\n",
    "\n",
    "        \n",
    "class Oven:\n",
    "    def bake(self):\n",
    "        print('oven bakes')\n",
    "\n",
    "        \n",
    "class PizzaShop:\n",
    "    def __init__(self):\n",
    "        self.server = Server('Pat')    # Встроить другие объекты\n",
    "        self.chef = PizzaRobot('Bob')  # Робот по имени Bob\n",
    "        self.oven = Oven()\n",
    "\n",
    "    def order(self, name):\n",
    "        customer = Customer(name)   # Активизировать другие объекты\n",
    "        customer.order(self.server) # Клиент делает заказ официанту\n",
    "        self.chef.work()\n",
    "        self.oven.bake()\n",
    "        customer.pay(self.server)\n",
    "\n",
    "        \n",
    "if __name__ == '__main__':\n",
    "    scene = PizzaShop()             # Создать составной объект\n",
    "    scene.order('Homer')            # Имитировать заказ клиента Homer\n",
    "    print('...')\n",
    "    scene.order('Shaggy')           # Имитировать заказ клиента Shaggy"
   ]
  },
  {
   "cell_type": "markdown",
   "metadata": {},
   "source": [
    "Класс `PizzaShop` – это **контейнер и контроллер** – это конструктор, который создает и встраивает экземпляры классов работников, написанные нами в предыдущем разделе, а  также экземпляры класса `Oven`, который определен здесь."
   ]
  },
  {
   "cell_type": "markdown",
   "metadata": {},
   "source": [
    "### Еще раз об обработке потоков"
   ]
  },
  {
   "cell_type": "markdown",
   "metadata": {},
   "source": [
    "Рассмотрим более реалистичный пример использования приема композиции"
   ]
  },
  {
   "cell_type": "code",
   "execution_count": 3,
   "metadata": {},
   "outputs": [],
   "source": [
    "def processor(reader, converter, writer):\n",
    "    while True:\n",
    "        data = reader.read()\n",
    "        if not data: break\n",
    "        data = converter(data)\n",
    "        writer.write(data)"
   ]
  },
  {
   "cell_type": "markdown",
   "metadata": {},
   "source": [
    "Однако вместо простой функции мы могли бы реализовать обработку в  виде\n",
    "класса, который использует прием композиции, чтобы обеспечить поддержку\n",
    "наследования и более удобную конструкцию программного кода."
   ]
  },
  {
   "cell_type": "code",
   "execution_count": 4,
   "metadata": {},
   "outputs": [],
   "source": [
    "class Processor:\n",
    "    def __init__(self, reader, writer):\n",
    "        self.reader = reader\n",
    "        self.writer = writer\n",
    "        \n",
    "    def process(self):\n",
    "        while True:\n",
    "            data = self.reader.readline()\n",
    "            if not data: break\n",
    "            data = self.converter(data)\n",
    "            self.writer.write(data)\n",
    "            \n",
    "    def converter(self, data):\n",
    "        assert False, 'converter must be defined' # Или возбудить исключение"
   ]
  },
  {
   "cell_type": "markdown",
   "metadata": {},
   "source": [
    "Этот класс определяет метод `converter`, который, как ожидается будет перепопределен в подклассах. Это пример использования абстрактных суперклассов. При таком подходе объекты чтения (`reader`) и записи (`writer`) встраиваются в экземпляр класса (*композиция*), а логика преобразования поставляется в виде подкласса (*наследование*), а не в виде отдельной функции.\n",
    "\n",
    "Ниже пример `converter`"
   ]
  },
  {
   "cell_type": "code",
   "execution_count": 5,
   "metadata": {},
   "outputs": [],
   "source": [
    "class Uppercase(Processor):\n",
    "    def converter(self, data):\n",
    "        return data.upper()"
   ]
  },
  {
   "cell_type": "code",
   "execution_count": 6,
   "metadata": {},
   "outputs": [
    {
     "name": "stdout",
     "output_type": "stream",
     "text": [
      "X = 1\n",
      "Y = [1, 2]\n"
     ]
    }
   ],
   "source": [
    "import sys\n",
    "\n",
    "obj = Uppercase(open('./exercises/6_30/small.py'), sys.stdout)\n",
    "obj.process()"
   ]
  },
  {
   "cell_type": "markdown",
   "metadata": {},
   "source": [
    "Здесь класс `Uppercase` наследует логику цикла обработки потока данных (и все остальное, что может присутствовать в суперклассах). В нем необходимо определить лишь то, что будет уникальным для него, - логику преобразования данных.\n",
    "\n",
    "Ниже пример, где вывод осуществляется через класс, который обертывает выводимый текст в теги HTML"
   ]
  },
  {
   "cell_type": "code",
   "execution_count": 7,
   "metadata": {},
   "outputs": [
    {
     "name": "stdout",
     "output_type": "stream",
     "text": [
      "<PRE>X = 1</PRE>\n",
      "<PRE>Y = [1, 2]</PRE>\n"
     ]
    }
   ],
   "source": [
    "class HTMLize:\n",
    "    def write(self, line):\n",
    "        print('<PRE>%s</PRE>' % line.rstrip())\n",
    "        \n",
    "Uppercase(open('./exercises/6_30/small.py'), HTMLize()).process()"
   ]
  },
  {
   "cell_type": "markdown",
   "metadata": {},
   "source": [
    "Если проследить порядок выполнения этого примера, можно заметить, что\n",
    "было получено два варианта преобразований – приведение символов к верхнему регистру (наследованием) и преобразование в формат HTML (композицией), хотя основная логика обработки в оригинальном суперклассе `Processor` ничего не знает ни об одном из них.\n",
    "\n",
    "Программному коду, выполняющему обработку, нужны только метод `write` – в классах, выполняющих запись, и метод `convert`. Его совершенно не интересует, что делают эти методы. Такой полиморфизм и инкапсуляция логики составляют основу такой мощи классов."
   ]
  },
  {
   "cell_type": "markdown",
   "metadata": {},
   "source": [
    "## ООП и делегирование: объекты-обертки"
   ]
  },
  {
   "cell_type": "markdown",
   "metadata": {},
   "source": [
    "Под термином **делегирование** обычно подразумевается наличие объекта-контроллера, куда встраиваются другие объекты, получающие запросы на выполнение операций.\n",
    "\n",
    "В Python делегирование часто реализуется с помощью метода `__getattr__`, потому что он перехватывает попытки доступа к несуществующим атрибутам.\n",
    "\n",
    "**Класс-обертка (прокси-класс)** может использовать метод `__getattr__` для перенаправления обращений к обернутому объекту. Класс-обертка повторяет интерфейс обернутого объекта и может добавлять дополнительные операции."
   ]
  },
  {
   "cell_type": "code",
   "execution_count": 8,
   "metadata": {},
   "outputs": [],
   "source": [
    "# trace.py\n",
    "\n",
    "class wrapper:\n",
    "    def __init__(self, obj):\n",
    "        self.wrapped = obj        # Сохранить объект\n",
    "\n",
    "    def __getattr__(self, attrname):\n",
    "        print('Trace:', attrname)    # Отметить факт извлечения\n",
    "        return getattr(self.wrapped, attrname) # Делегировать извлечение"
   ]
  },
  {
   "cell_type": "markdown",
   "metadata": {},
   "source": [
    "Метод `__getattr__` получает имя атрибута в виде строки. В этом примере для извлечения из обернутого объекта атрибута, имя которого представлено в виде строки, используется встроенная функция `getattr` –\n",
    "вызов `getattr(X, N)` аналогичен выражению `X.N` за исключением того, что `N` – это выражение, которое во время выполнения представлено строкой, а не именем переменной. Фактически вызов `getattr(X, N)` по его действию можно сравнить с выражением `X.__dict__[N]`, только в первом случае дополнительно выполняется поиск в дереве наследования, как в выражении `X.N`, а во втором – нет."
   ]
  },
  {
   "cell_type": "code",
   "execution_count": 9,
   "metadata": {},
   "outputs": [
    {
     "name": "stdout",
     "output_type": "stream",
     "text": [
      "Trace: append\n"
     ]
    }
   ],
   "source": [
    "x = wrapper([1, 2, 3])  # обернуть список\n",
    "x.append(4)             # делегировать операцию методу списка"
   ]
  },
  {
   "cell_type": "code",
   "execution_count": 10,
   "metadata": {},
   "outputs": [
    {
     "data": {
      "text/plain": [
       "[1, 2, 3, 4]"
      ]
     },
     "execution_count": 10,
     "metadata": {},
     "output_type": "execute_result"
    }
   ],
   "source": [
    "x.wrapped  # вывести обернутый объект"
   ]
  },
  {
   "cell_type": "code",
   "execution_count": 11,
   "metadata": {},
   "outputs": [
    {
     "name": "stdout",
     "output_type": "stream",
     "text": [
      "Trace: keys\n"
     ]
    },
    {
     "data": {
      "text/plain": [
       "dict_keys(['a', 'b'])"
      ]
     },
     "execution_count": 11,
     "metadata": {},
     "output_type": "execute_result"
    }
   ],
   "source": [
    "x = wrapper({'a': 1, 'b': 2})  # обернуть словарь\n",
    "x.keys()                       # делегировать операцию методу словаря"
   ]
  },
  {
   "cell_type": "markdown",
   "metadata": {},
   "source": [
    ">В результате интерфейс обернутого объекта расширяется за счет методов класса-обертки"
   ]
  },
  {
   "cell_type": "markdown",
   "metadata": {},
   "source": [
    "## Псевдочастные атрибуты класса"
   ]
  },
  {
   "cell_type": "markdown",
   "metadata": {},
   "source": [
    "Python поддерживает такое понятие, как **\"искажение\" (mangling) имен (то есть расширение** с целью придать им черты локальных имен для класса. Искаженные имена иногда ошибочно называют \"частными атрибутами\", но в действительности это всего лишь способ **ограничить** доступ к именам в классе - искажение имени не предотвращает доступ из программного кода, находящегося за пределами класса.\n",
    "\n",
    "Эта особенность в основном предназначена, чтобы избежать конфликтов имен в экземплярах, а не для ограничения доступа к именам.\n",
    "\n",
    "Фактически псевдочастные имена не всегда используются даже тогда, когда\n",
    "их следовало бы использовать. Гораздо чаще программисты дают внутренним\n",
    "атрибутам имена, начинающиеся с  одного символа подчеркивания (например, `_X`), – согласно неофициальным соглашениям, атрибуты с такими именами не должны изменяться за пределами класса (для самого интерпретатора такие имена не имеют специального значения)."
   ]
  },
  {
   "cell_type": "markdown",
   "metadata": {},
   "source": [
    "### Об искажении имен в общих чертах"
   ]
  },
  {
   "cell_type": "markdown",
   "metadata": {},
   "source": [
    ">Имена внутри конструкции `class`, которые начинаются с двух символов подчеркивания, но не заканчиваются двумя символами подчеркивания, автоматически расширяются за счет включения имени вмещающего класса.\n",
    "\n",
    ">Например, такое имя, как `__X`, в классе с именем `Spam` автоматически изменится на `_Spam__X`\n",
    "\n",
    "Искажение имен происходит только внутри инструкций `class` и только для имен, которые начинаются двумя символами подчеркивания. Поскольку экземпляр может получать атрибуты более чем из одного класса, такое искажение позволяет избежать конфликтов."
   ]
  },
  {
   "cell_type": "markdown",
   "metadata": {},
   "source": [
    "### Для чего нужны псевдочастные атрибуты?"
   ]
  },
  {
   "cell_type": "markdown",
   "metadata": {},
   "source": [
    "Задача, которую призваны решить псевдочастные атрибуты, состоит в  том,\n",
    "чтобы обеспечить способ сохранности атрибутов экземпляра. В языке Python все атрибуты экземпляра принадлежат единственному объекту экземпляра.\n",
    "\n",
    "Всякий раз, когда в пределах метода класса выполняется присваивание атрибуту аргумента `self` (например, `self.attr = value`), создается или изменяется атрибут экземпляра (поиск в  дереве наследования выполняется только при попытке получить ссылку, а  не присвоить значение). Это верно, даже когда несколько классов в  иерархии выполняют присваивание одному и тому же атрибуту, поэтому конфликты имен вполне возможны."
   ]
  },
  {
   "cell_type": "markdown",
   "metadata": {},
   "source": [
    "Предположим, что, когда программист писал класс, он предполагал, что экземпляры этого класса будут владеть атрибутом `X`. В методах класса\n",
    "выполняется присваивание этому атрибуту и  позднее извлекается его значение:\n",
    "```\n",
    "class C1:\n",
    "    def meth1(self): self.X = 88 # Предпол-ся, что X - это мой атрибут\n",
    "    def meth2(self): print(self.X)\n",
    "```\n",
    "Далее предположим, что другой программист, работающий отдельно, исходил\n",
    "из того же предположения, когда писал свой класс:\n",
    "```\n",
    "class C2:\n",
    "    def metha(self): self.X = 99 # И мой тоже\n",
    "    def methb(self): print(self.X)\n",
    "```\n",
    "Каждый класс по отдельности работает нормально. Проблема возникает, когда оба класса оказываются в одном дереве наследования:\n",
    "```\n",
    "class C3(C1, C2): ...\n",
    "I = C3() # У меня только один атрибут X!\n",
    "```\n",
    "Теперь значение, которое получит каждый класс из выражения `self.X`, будет зависеть от того, кто из них последним присвоил значение."
   ]
  },
  {
   "cell_type": "markdown",
   "metadata": {},
   "source": [
    "Чтобы гарантировать принадлежность атрибута тому классу, который его использует, достаточно в начале имени атрибута поставить два символа подчеркивания везде, где оно используется классом"
   ]
  },
  {
   "cell_type": "code",
   "execution_count": 13,
   "metadata": {},
   "outputs": [],
   "source": [
    "# private.py\n",
    "class C1:\n",
    "    def meth1(self): self.__X = 88    # Теперь X - мой атрибут\n",
    "    def meth2(self): print(self.__X)  # Превратится в _C1__X\n",
    "\n",
    "class C2:\n",
    "    def metha(self): self.__X = 99    # И мой тоже\n",
    "    def methb(self): print(self.__X)  # Превратится в _C2__X\n",
    "\n",
    "class C3(C1, C2):\n",
    "    pass\n",
    "\n",
    "I = C3() # В I два имени X"
   ]
  },
  {
   "cell_type": "code",
   "execution_count": 14,
   "metadata": {},
   "outputs": [
    {
     "name": "stdout",
     "output_type": "stream",
     "text": [
      "{'_C1__X': 88, '_C2__X': 99}\n"
     ]
    }
   ],
   "source": [
    "I.meth1(); I.metha()\n",
    "print(I.__dict__)"
   ]
  },
  {
   "cell_type": "code",
   "execution_count": 15,
   "metadata": {},
   "outputs": [
    {
     "name": "stdout",
     "output_type": "stream",
     "text": [
      "88\n",
      "99\n"
     ]
    }
   ],
   "source": [
    "I.meth2(); I.methb()"
   ]
  },
  {
   "cell_type": "markdown",
   "metadata": {},
   "source": [
    "Этот прием помогает избежать конфликтов имен в экземплярах, но заметьте, что он не обеспечивает настоящего сокрытия данных. Если вы знаете имя вмещающего класса, вы сможете обратиться к их атрибутам из любой точки программы, где имеется ссылка на экземпляр, используя для этого расширенное имя (например, `I._C1__X = 77`). С другой стороны, эта особенность делает **менее вероятными случайные конфликты с существующими именами в классе**."
   ]
  },
  {
   "cell_type": "markdown",
   "metadata": {},
   "source": [
    "```\n",
    "class Super:\n",
    "    def method(self): ...   # Фактический прикладной метод\n",
    "\n",
    "class Tool:\n",
    "    def __method(self): ... # Получит имя _Tool__method\n",
    "    def other(self):\n",
    "        self.__method()     # Используется внутренний метод\n",
    "\n",
    "class Sub1(Tool, Super): ...\n",
    "    def actions(self):\n",
    "        self.method()       # Вызовет метод Super.method\n",
    "\n",
    "class Sub2(Tool):\n",
    "    def __init__(self):\n",
    "        self.method = 99    # Не уничтожит метод Tool.__method\n",
    "```"
   ]
  },
  {
   "cell_type": "markdown",
   "metadata": {},
   "source": [
    "## Методы – это объекты: связанные и несвязанные методы"
   ]
  },
  {
   "cell_type": "markdown",
   "metadata": {},
   "source": [
    "**Методы** - это разновидность объектов, напоминающая функции, - они могут присваиваться переменным, передаваться функциям, сохраняться в структурах данных и т.д.\n",
    "\n",
    "Фактически, существует 2 разновидности методов:\n",
    "\n",
    "* **Несвязанные методы класса: без аргумента `self`**. Попытка обращения к функциональному атрибуту класса через имя класса возвращает объект несвязанного метода. Чтобы вызвать этот метод, необходимо явно передать ему объект экземпляра в виде первого аргумента. В Python 3 несвязанные методы напоминают простые функции и могут вызываться через имя класса.\n",
    "\n",
    "\n",
    "* **Связанные методы экземпляра: пара `self` + функция**. Попытка обращения к функциональному атрибуту класса через имя экземпляра возвращает объект связанного метода. Интерпретатор автоматически упаковывает экземпляр с функцией в объект связанного метода, поэтому вам не требуется передавать экземпляр в вызов такого метода.\n",
    "\n",
    "Обе разновидности методов - это полноценные объекты."
   ]
  },
  {
   "cell_type": "markdown",
   "metadata": {},
   "source": [
    "Объекты связанных методов обычно взаимозаменяемы с объектами простых функций и создание их особенно полезно в случае интерфейсов, изначально ориентированных на использование функций.\n",
    "\n",
    "Предположим, что имется следующее определение класса:"
   ]
  },
  {
   "cell_type": "code",
   "execution_count": 16,
   "metadata": {},
   "outputs": [],
   "source": [
    "class Spam:\n",
    "    def doit(self, message):\n",
    "        print(message)"
   ]
  },
  {
   "cell_type": "markdown",
   "metadata": {},
   "source": [
    "В обычной ситуации мы создаем экземпляр и сразу же вызываем его метод для вывода содержимого аргумента:"
   ]
  },
  {
   "cell_type": "code",
   "execution_count": 17,
   "metadata": {},
   "outputs": [
    {
     "name": "stdout",
     "output_type": "stream",
     "text": [
      "hello world\n"
     ]
    }
   ],
   "source": [
    "object1 = Spam()\n",
    "object1.doit('hello world')"
   ]
  },
  {
   "cell_type": "markdown",
   "metadata": {},
   "source": [
    "Однако в действительности попутно создается объект **связанного метода** - как раз перед круглыми скобками в вызове метода. Т.е. можно получить связанный метод и без его вызова. Квалифицированное имя `object.name` - это выражение, которое возвращает объект. Можно присвоить этот связанный метод другому имени и затем использовать это имя для вызова, как простую функцию:"
   ]
  },
  {
   "cell_type": "code",
   "execution_count": 18,
   "metadata": {},
   "outputs": [
    {
     "name": "stdout",
     "output_type": "stream",
     "text": [
      "hello world\n"
     ]
    }
   ],
   "source": [
    "object1 = Spam()\n",
    "x = object1.doit  # Объект связанного метода: экземпляр + функция\n",
    "x('hello world')  # то же, что и object1.doit('hello world')"
   ]
  },
  {
   "cell_type": "code",
   "execution_count": 19,
   "metadata": {},
   "outputs": [
    {
     "data": {
      "text/plain": [
       "method"
      ]
     },
     "execution_count": 19,
     "metadata": {},
     "output_type": "execute_result"
    }
   ],
   "source": [
    "type(x)  # это связанный метод"
   ]
  },
  {
   "cell_type": "markdown",
   "metadata": {},
   "source": [
    "С другой стороны, если для получения метода `doit` использовать имя класса, мы получим объект **несвязанного метода**, который просто ссылается на объект функции. Чтобы вызвать метод этого типа, необходимо явно передавать экземпляр класса в первом аргументе:"
   ]
  },
  {
   "cell_type": "code",
   "execution_count": 20,
   "metadata": {},
   "outputs": [
    {
     "name": "stdout",
     "output_type": "stream",
     "text": [
      "howdy\n"
     ]
    }
   ],
   "source": [
    "object1 = Spam()\n",
    "t = Spam.doit        # Объект несвязанного метода\n",
    "t(object1, 'howdy')  # Передать экземпляр"
   ]
  },
  {
   "cell_type": "code",
   "execution_count": 21,
   "metadata": {},
   "outputs": [
    {
     "data": {
      "text/plain": [
       "function"
      ]
     },
     "execution_count": 21,
     "metadata": {},
     "output_type": "execute_result"
    }
   ],
   "source": [
    "type(t)  # в Python 3 это просто функция"
   ]
  },
  {
   "cell_type": "markdown",
   "metadata": {},
   "source": [
    "Те же правила действуют внутри методов класса, когда используются атрибуты аргумента `self`, которые ссылаются на функции в классе. Выражение `self.method` возвращает объект связанного метода, потому что `self` - это объект экземпляра:"
   ]
  },
  {
   "cell_type": "code",
   "execution_count": 22,
   "metadata": {},
   "outputs": [
    {
     "name": "stdout",
     "output_type": "stream",
     "text": [
      "42\n"
     ]
    }
   ],
   "source": [
    "class Eggs:\n",
    "    def m1(self, n):\n",
    "        print(n)\n",
    "    def m2(self):\n",
    "        x = self.m1  # еще один объект связанного метода\n",
    "        x(42)\n",
    "        \n",
    "Eggs().m2()"
   ]
  },
  {
   "cell_type": "markdown",
   "metadata": {},
   "source": [
    "### В Python 3.0 несвязанные методы являются функциями"
   ]
  },
  {
   "cell_type": "markdown",
   "metadata": {},
   "source": [
    "В Python 3.0 было **ликвидировано понятие несвязанных методов**. Методы, которые в этом разделе описываются как несвязанные методы, в версии 3.0 **обрабатываются как обычные функции**. В большинстве ситуаций это никак не влияет на программный код – в любом случае при вызове метода относительно экземпляра в первом аргументе ему будет передан сам экземпляр.\n",
    "\n",
    "В версии 3.0 метод может вызываться без передачи ему ссылки на\n",
    "экземпляр при условии, что сам метод не ожидает ее получить и вызывается исключительно через обращение к  имени класса. То есть в \n",
    "Python 3.0 ссылка на экземпляр передается методу, только когда он вызывается относительно экземпляра. При вызове метода через имя класса передавать ему экземпляр требуется, только если он ожидает получить его"
   ]
  },
  {
   "cell_type": "code",
   "execution_count": 23,
   "metadata": {},
   "outputs": [],
   "source": [
    "class Selfless:\n",
    "    def __init__(self, data):\n",
    "        self.data = data\n",
    "        \n",
    "    def selfless(arg1, arg2):  # простая функция в 3.0\n",
    "        return arg1 + arg2\n",
    "    \n",
    "    def normal(self, arg1, arg2):  # ожидает получить экз. при вызове\n",
    "        return self.data + arg1 + arg2"
   ]
  },
  {
   "cell_type": "code",
   "execution_count": 24,
   "metadata": {},
   "outputs": [
    {
     "data": {
      "text/plain": [
       "9"
      ]
     },
     "execution_count": 24,
     "metadata": {},
     "output_type": "execute_result"
    }
   ],
   "source": [
    "X = Selfless(2)\n",
    "X.normal(3, 4)   # экземпляр передается автоматически"
   ]
  },
  {
   "cell_type": "code",
   "execution_count": 25,
   "metadata": {},
   "outputs": [
    {
     "data": {
      "text/plain": [
       "9"
      ]
     },
     "execution_count": 25,
     "metadata": {},
     "output_type": "execute_result"
    }
   ],
   "source": [
    "Selfless.normal(X, 3, 4)  # экземпляр передается вручную"
   ]
  },
  {
   "cell_type": "code",
   "execution_count": 26,
   "metadata": {},
   "outputs": [
    {
     "data": {
      "text/plain": [
       "7"
      ]
     },
     "execution_count": 26,
     "metadata": {},
     "output_type": "execute_result"
    }
   ],
   "source": [
    "Selfless.selfless(3, 4)  # вызов без экземпляра (метод его и не ждет)"
   ]
  },
  {
   "cell_type": "code",
   "execution_count": 27,
   "metadata": {},
   "outputs": [
    {
     "ename": "TypeError",
     "evalue": "selfless() takes 2 positional arguments but 3 were given",
     "output_type": "error",
     "traceback": [
      "\u001b[0;31m---------------------------------------------------------------------------\u001b[0m",
      "\u001b[0;31mTypeError\u001b[0m                                 Traceback (most recent call last)",
      "\u001b[0;32m<ipython-input-27-afea0bc7bf58>\u001b[0m in \u001b[0;36m<module>\u001b[0;34m()\u001b[0m\n\u001b[1;32m      1\u001b[0m \u001b[0;31m# ошибка - вызов относительно экземпляра\u001b[0m\u001b[0;34m\u001b[0m\u001b[0;34m\u001b[0m\u001b[0m\n\u001b[1;32m      2\u001b[0m \u001b[0;31m# (экземпляр передается автоматически как аргумент)\u001b[0m\u001b[0;34m\u001b[0m\u001b[0;34m\u001b[0m\u001b[0m\n\u001b[0;32m----> 3\u001b[0;31m \u001b[0mX\u001b[0m\u001b[0;34m.\u001b[0m\u001b[0mselfless\u001b[0m\u001b[0;34m(\u001b[0m\u001b[0;36m3\u001b[0m\u001b[0;34m,\u001b[0m \u001b[0;36m4\u001b[0m\u001b[0;34m)\u001b[0m\u001b[0;34m\u001b[0m\u001b[0m\n\u001b[0m",
      "\u001b[0;31mTypeError\u001b[0m: selfless() takes 2 positional arguments but 3 were given"
     ]
    }
   ],
   "source": [
    "# ошибка - вызов относительно экземпляра\n",
    "# (экземпляр передается автоматически как аргумент)\n",
    "X.selfless(3, 4)"
   ]
  },
  {
   "cell_type": "code",
   "execution_count": 28,
   "metadata": {},
   "outputs": [
    {
     "ename": "TypeError",
     "evalue": "normal() missing 1 required positional argument: 'arg2'",
     "output_type": "error",
     "traceback": [
      "\u001b[0;31m---------------------------------------------------------------------------\u001b[0m",
      "\u001b[0;31mTypeError\u001b[0m                                 Traceback (most recent call last)",
      "\u001b[0;32m<ipython-input-28-5a5344257838>\u001b[0m in \u001b[0;36m<module>\u001b[0;34m()\u001b[0m\n\u001b[0;32m----> 1\u001b[0;31m \u001b[0mSelfless\u001b[0m\u001b[0;34m.\u001b[0m\u001b[0mnormal\u001b[0m\u001b[0;34m(\u001b[0m\u001b[0;36m3\u001b[0m\u001b[0;34m,\u001b[0m \u001b[0;36m4\u001b[0m\u001b[0;34m)\u001b[0m  \u001b[0;31m# ошибка - не получает ожидаемый экземпляр\u001b[0m\u001b[0;34m\u001b[0m\u001b[0m\n\u001b[0m",
      "\u001b[0;31mTypeError\u001b[0m: normal() missing 1 required positional argument: 'arg2'"
     ]
    }
   ],
   "source": [
    "Selfless.normal(3, 4)  # ошибка - не получает ожидаемый экземпляр"
   ]
  },
  {
   "cell_type": "markdown",
   "metadata": {},
   "source": [
    "### Связанные методы и другие вызываемые объекты"
   ]
  },
  {
   "cell_type": "markdown",
   "metadata": {},
   "source": [
    "Связанные методы могут интерпретироваться как обычные вызываемые объекты, то есть как обычные функции, - они могут произвольно передаваться между компонентами программы.\n",
    "\n",
    "Ниже пример сохранения четырех объектов связанных методов в списке и вызов их как обычных функций:"
   ]
  },
  {
   "cell_type": "code",
   "execution_count": 29,
   "metadata": {},
   "outputs": [],
   "source": [
    "class Number:\n",
    "    def __init__(self, base):\n",
    "        self.base = base\n",
    "        \n",
    "    def double(self):\n",
    "        return self.base * 2\n",
    "    \n",
    "    def triple(self):\n",
    "        return self.base * 3"
   ]
  },
  {
   "cell_type": "code",
   "execution_count": 30,
   "metadata": {},
   "outputs": [
    {
     "data": {
      "text/plain": [
       "4"
      ]
     },
     "execution_count": 30,
     "metadata": {},
     "output_type": "execute_result"
    }
   ],
   "source": [
    "x = Number(2)  # Объекты экземпляров класса\n",
    "y = Number(3)  # Атрибуты + методы\n",
    "z = Number(4)\n",
    "x.double()     # Обычный непосредственный вызов"
   ]
  },
  {
   "cell_type": "code",
   "execution_count": 31,
   "metadata": {},
   "outputs": [
    {
     "name": "stdout",
     "output_type": "stream",
     "text": [
      "4\n",
      "6\n",
      "9\n",
      "8\n"
     ]
    }
   ],
   "source": [
    "# Список связанных методов, вызовы откладываются\n",
    "acts = [x.double, y.double, y.triple, z.double]\n",
    "\n",
    "for act in acts:\n",
    "    print(act())    # Вызов как функции"
   ]
  },
  {
   "cell_type": "markdown",
   "metadata": {},
   "source": [
    "Как и простые функции, объекты связанных методов обладают информацией,\n",
    "позволяющей провести интроспекцию, включая атрибуты, обеспечивающие\n",
    "доступ к объекту экземпляра и к методу. Вызов связанного метода просто задействует эту пару:"
   ]
  },
  {
   "cell_type": "code",
   "execution_count": 32,
   "metadata": {},
   "outputs": [
    {
     "data": {
      "text/plain": [
       "(<__main__.Number at 0x7f892c46f4e0>, <function __main__.Number.double(self)>)"
      ]
     },
     "execution_count": 32,
     "metadata": {},
     "output_type": "execute_result"
    }
   ],
   "source": [
    "bound = x.double\n",
    "bound.__self__, bound.__func__"
   ]
  },
  {
   "cell_type": "code",
   "execution_count": 33,
   "metadata": {},
   "outputs": [
    {
     "data": {
      "text/plain": [
       "2"
      ]
     },
     "execution_count": 33,
     "metadata": {},
     "output_type": "execute_result"
    }
   ],
   "source": [
    "bound.__self__.base"
   ]
  },
  {
   "cell_type": "code",
   "execution_count": 34,
   "metadata": {},
   "outputs": [
    {
     "data": {
      "text/plain": [
       "4"
      ]
     },
     "execution_count": 34,
     "metadata": {},
     "output_type": "execute_result"
    }
   ],
   "source": [
    "bound()"
   ]
  },
  {
   "cell_type": "markdown",
   "metadata": {},
   "source": [
    "Простые функции, определенные с  помощью инструкции `def` или `lambda`, экземпляры, наследующие метод `__call__`, и связанные методы экземпляров могут обрабатываться и вызываться одинаковыми способами:"
   ]
  },
  {
   "cell_type": "code",
   "execution_count": 35,
   "metadata": {},
   "outputs": [],
   "source": [
    "def square(arg):\n",
    "    return arg ** 2  # простые функции\n",
    "\n",
    "class Sum:\n",
    "    def __init__(self, val):  # вызываемые экземпляры\n",
    "        self.val = val\n",
    "    \n",
    "    def __call__(self, arg):\n",
    "        return self.val + arg\n",
    "    \n",
    "class Product:\n",
    "    def __init__(self, val):   # связанные методы\n",
    "        self.val = val\n",
    "        \n",
    "    def method(self, arg):\n",
    "        return self.val * arg"
   ]
  },
  {
   "cell_type": "code",
   "execution_count": 36,
   "metadata": {},
   "outputs": [
    {
     "name": "stdout",
     "output_type": "stream",
     "text": [
      "25\n",
      "7\n",
      "15\n"
     ]
    }
   ],
   "source": [
    "sobject = Sum(2)\n",
    "pobject = Product(3)\n",
    "\n",
    "actions = [square, sobject, pobject.method]  # ф-ия, экземпляр, метод\n",
    "\n",
    "for act in actions:   # все 3 вызываются одинаково\n",
    "    print(act(5))     # вызов любого вызываемого с 1 аргументом"
   ]
  },
  {
   "cell_type": "code",
   "execution_count": 37,
   "metadata": {},
   "outputs": [
    {
     "data": {
      "text/plain": [
       "15"
      ]
     },
     "execution_count": 37,
     "metadata": {},
     "output_type": "execute_result"
    }
   ],
   "source": [
    "actions[-1](5)  # индексы, так же генераторы, отображения и пр."
   ]
  },
  {
   "cell_type": "markdown",
   "metadata": {},
   "source": [
    "Технически классы также принадлежат к категории вызываемых объектов, но обычно они вызываются для создания экземпляров, а не для выполнения какой-либо фактической работы, как показано ниже:"
   ]
  },
  {
   "cell_type": "code",
   "execution_count": 38,
   "metadata": {},
   "outputs": [],
   "source": [
    "class Negate:\n",
    "    def __init__(self, val):\n",
    "        self.val = -val\n",
    "        \n",
    "    def __repr__(self):\n",
    "        return str(self.val)"
   ]
  },
  {
   "cell_type": "code",
   "execution_count": 39,
   "metadata": {},
   "outputs": [
    {
     "name": "stdout",
     "output_type": "stream",
     "text": [
      "25\n",
      "7\n",
      "15\n",
      "-5\n"
     ]
    }
   ],
   "source": [
    "# вызвать класс тоже\n",
    "actions = [square, sobject, pobject.method, Negate]\n",
    "\n",
    "for act in actions:\n",
    "    print(act(5))"
   ]
  },
  {
   "cell_type": "code",
   "execution_count": 40,
   "metadata": {},
   "outputs": [
    {
     "name": "stdout",
     "output_type": "stream",
     "text": [
      "25 => <function square at 0x7f892c4debf8>\n",
      "7 => <__main__.Sum object at 0x7f892c47b048>\n",
      "15 => <bound method Product.method of <__main__.Product object at 0x7f892c4e0c50>>\n",
      "-5 => <class '__main__.Negate'>\n"
     ]
    }
   ],
   "source": [
    "table = {act(5): act for act in actions}\n",
    "\n",
    "for k, v in table.items():\n",
    "    print(f'{k} => {v}')"
   ]
  },
  {
   "cell_type": "markdown",
   "metadata": {},
   "source": [
    "## Множественное наследование: примесные классы"
   ]
  },
  {
   "cell_type": "markdown",
   "metadata": {},
   "source": [
    "**Множественное наследование** - класс и его экземпляры наследуют имена из всех перечисленных суперклассов.\n",
    "\n",
    "Поиск атрибутов производится по уровням дерева наследования - слева направо и снизу вверх.\n",
    "\n",
    "Самый распространенный случай, когда используется множественное наследование - это смешивание методов общего назначения из нескольких суперклассов. Обычно такие суперклассы называются **примесными** - они предоставляют методы, которые добавляются в прикладные классы наследованием."
   ]
  },
  {
   "cell_type": "markdown",
   "metadata": {},
   "source": [
    "### Создание примесных классов, реализующих вывод"
   ]
  },
  {
   "cell_type": "markdown",
   "metadata": {},
   "source": [
    "Определив методы вывода в суперклассе один раз, мы сможем повторно использовать его везде, где потребуется задейстовать форматированный вывод, пример класс `AttrDisplay` в главе 27."
   ]
  },
  {
   "cell_type": "markdown",
   "metadata": {},
   "source": [
    "#### Получение списка атрибутов экземпляра с помощью `__dict__`"
   ]
  },
  {
   "cell_type": "markdown",
   "metadata": {},
   "source": [
    "Пример примесного класса `ListInstance`, реализующего метод `__str__`"
   ]
  },
  {
   "cell_type": "code",
   "execution_count": 41,
   "metadata": {},
   "outputs": [],
   "source": [
    "# Файл lister.py\n",
    "class ListInstance:\n",
    "    \"\"\"\n",
    "    Примесный класс, реализующий получение форматированной строки при вызове\n",
    "    функций print() и str() с экземпляром в виде аргумента, через наследование\n",
    "    метода __str__, реализованного здесь; отображает только атрибуты\n",
    "    экземпляра; self – экземпляр самого нижнего класса в дереве наследования;\n",
    "    во избежание конфликтов с именами атрибутов клиентских классов использует\n",
    "    имена вида __X\n",
    "    \"\"\"\n",
    "    def __str__(self):\n",
    "        return '<Instance of %s, address %s:\\n%s>' % (\n",
    "            self.__class__.__name__,  # Имя клиентского класса\n",
    "            id(self),                 # Адрес экземпляра\n",
    "            self.__attrnames())       # Список пар name=value\n",
    "\n",
    "    def __attrnames(self):\n",
    "        result = ''\n",
    "        for attr in sorted(self.__dict__):  # Словарь атрибутов\n",
    "            result += '\\tname %s=%s\\n' % (attr, self.__dict__ [attr])\n",
    "        return result"
   ]
  },
  {
   "cell_type": "code",
   "execution_count": 42,
   "metadata": {},
   "outputs": [
    {
     "name": "stdout",
     "output_type": "stream",
     "text": [
      "<Instance of Spam, address 140227131096704:\n",
      "\tname data1=food\n",
      ">\n"
     ]
    }
   ],
   "source": [
    "class Spam(ListInstance):  # наследует метод __str__\n",
    "    def __init__(self):\n",
    "        self.data1 = 'food'\n",
    "        \n",
    "x = Spam()\n",
    "print(x)"
   ]
  },
  {
   "cell_type": "code",
   "execution_count": 43,
   "metadata": {},
   "outputs": [
    {
     "data": {
      "text/plain": [
       "<__main__.Spam at 0x7f892c563e80>"
      ]
     },
     "execution_count": 43,
     "metadata": {},
     "output_type": "execute_result"
    }
   ],
   "source": [
    "x  # по умолчанию используется __repr__"
   ]
  },
  {
   "cell_type": "markdown",
   "metadata": {},
   "source": [
    "Класс `ListInstance` пригодится в любых классах, даже в имеющих один и более суперклассов."
   ]
  },
  {
   "cell_type": "code",
   "execution_count": 44,
   "metadata": {},
   "outputs": [
    {
     "name": "stdout",
     "output_type": "stream",
     "text": [
      "<Instance of Sub, address 140227130145032:\n",
      "\tname data1=spam\n",
      "\tname data2=eggs\n",
      "\tname data3=42\n",
      ">\n"
     ]
    }
   ],
   "source": [
    "# Файл testmixin.py\n",
    "# from lister import *  # Импортировать инструментальные классы\n",
    "class Super:\n",
    "    def __init__(self):          # Метод __init__ суперкласса\n",
    "        self.data1 = 'spam'      # Создать атрибуты экземпляра\n",
    "    def ham(self):\n",
    "        pass\n",
    "\n",
    "class Sub(Super, ListInstance):  # Подмешать методы ham и __str__\n",
    "    def __init__(self):          # Инструм-ые классы имеют доступ к self\n",
    "        Super.__init__(self)\n",
    "        self.data2 = 'eggs'      # Добавить атрибуты экземпляра\n",
    "        self.data3 = 42\n",
    "    def spam(self):              # Определить еще один метод\n",
    "        pass\n",
    "\n",
    "\n",
    "if __name__ == '__main__':\n",
    "    X = Sub()\n",
    "    print(X)                     # Вызовет подмешанный метод __str__"
   ]
  },
  {
   "cell_type": "markdown",
   "metadata": {},
   "source": [
    "### Получение списка атрибутов экземпляра с помощью функции `dir`"
   ]
  },
  {
   "cell_type": "markdown",
   "metadata": {},
   "source": [
    "В настоящий момент `ListInstance` отображает только атрибуты экземпляра (т.е. имена, присоединенные к самому объекту экземпляра).\n",
    "\n",
    "Но несложно сделать так, чтобы отражались и имена, унаследованные от его классов - нужно вместо сканирования `__dict__` использовать встроенную функцию `dir`, которая возвращает список всех унаследованных атрибутов."
   ]
  },
  {
   "cell_type": "code",
   "execution_count": 45,
   "metadata": {},
   "outputs": [],
   "source": [
    "# Файл lister.py, продолжение\n",
    "class ListInherited:\n",
    "    \"\"\"\n",
    "    Использует функцию dir() для получения списка атрибутов самого экземпляра\n",
    "    и атрибутов, унаследованных экземпляром от его классов; в Python 3.0\n",
    "    выводится больше имен атрибутов, чем в 2.6, потому что классы нового стиля\n",
    "    в конечном итоге наследуют суперкласс object; метод getattr() позволяет\n",
    "    получить значения унаследованных атрибутов, отсутствующих в self.__dict__;\n",
    "    реализует метод __str__, а не __repr__, потому что в противном случае\n",
    "    данная реализация может попасть в бесконечный цикл при выводе связанных\n",
    "    методов!\n",
    "    \"\"\"\n",
    "    def __str__(self):\n",
    "        return '<Instance of %s, address %s:\\n%s>' % (\n",
    "            self.__class__.__name__,  # Имя класса экземпляра\n",
    "            id(self),                 # Адрес экземпляра\n",
    "            self.__attrnames())       # Список пар name=value\n",
    "            \n",
    "    def __attrnames(self):\n",
    "        result = ''\n",
    "        for attr in dir(self):   # Передать экземпляр функции dir()\n",
    "            if attr[:2] == '__' and attr[-2:] == '__': # Пропустить\n",
    "                result += '\\tname %s=<>\\n' % attr      # внутренние имена\n",
    "            else:\n",
    "                result += '\\tname %s=%s\\n' % (attr, getattr(self, attr))\n",
    "        return result"
   ]
  },
  {
   "cell_type": "markdown",
   "metadata": {},
   "source": [
    "Здесь также используется встроенная функция `getattr` для извлечения значений атрибутов по именам в виде строк. Функция `getattr` поддерживает поиск имен в дереве наследования (некоторые имена, доступные экземпляру, не принадлежат самому экземпляру)."
   ]
  },
  {
   "cell_type": "code",
   "execution_count": 46,
   "metadata": {},
   "outputs": [
    {
     "name": "stdout",
     "output_type": "stream",
     "text": [
      "<Instance of Sub, address 140227130145984:\n",
      "\tname _ListInherited__attrnames=<bound method ListInherited.__attrnames of <__main__.Sub object at 0x7f892c47bcc0>>\n",
      "\tname __class__=<>\n",
      "\tname __delattr__=<>\n",
      "\tname __dict__=<>\n",
      "\tname __dir__=<>\n",
      "\tname __doc__=<>\n",
      "\tname __eq__=<>\n",
      "\tname __format__=<>\n",
      "\tname __ge__=<>\n",
      "\tname __getattribute__=<>\n",
      "\tname __gt__=<>\n",
      "\tname __hash__=<>\n",
      "\tname __init__=<>\n",
      "\tname __init_subclass__=<>\n",
      "\tname __le__=<>\n",
      "\tname __lt__=<>\n",
      "\tname __module__=<>\n",
      "\tname __ne__=<>\n",
      "\tname __new__=<>\n",
      "\tname __reduce__=<>\n",
      "\tname __reduce_ex__=<>\n",
      "\tname __repr__=<>\n",
      "\tname __setattr__=<>\n",
      "\tname __sizeof__=<>\n",
      "\tname __str__=<>\n",
      "\tname __subclasshook__=<>\n",
      "\tname __weakref__=<>\n",
      "\tname data1=spam\n",
      "\tname data2=eggs\n",
      "\tname data3=42\n",
      "\tname ham=<bound method Super.ham of <__main__.Sub object at 0x7f892c47bcc0>>\n",
      "\tname spam=<bound method Sub.spam of <__main__.Sub object at 0x7f892c47bcc0>>\n",
      ">\n"
     ]
    }
   ],
   "source": [
    "# Файл testmixin.py\n",
    "# from lister import *  # Импортировать инструментальные классы\n",
    "class Super:\n",
    "    def __init__(self):          # Метод __init__ суперкласса\n",
    "        self.data1 = 'spam'      # Создать атрибуты экземпляра\n",
    "    def ham(self):\n",
    "        pass\n",
    "\n",
    "class Sub(Super, ListInherited):  # Подмешать методы ham и __str__\n",
    "    def __init__(self):          # Инструм-ые классы имеют доступ к self\n",
    "        Super.__init__(self)\n",
    "        self.data2 = 'eggs'      # Добавить атрибуты экземпляра\n",
    "        self.data3 = 42\n",
    "    def spam(self):              # Определить еще один метод\n",
    "        pass\n",
    "\n",
    "\n",
    "if __name__ == '__main__':\n",
    "    X = Sub()\n",
    "    print(X)                     # Вызовет подмешанный метод __str__"
   ]
  },
  {
   "cell_type": "markdown",
   "metadata": {},
   "source": [
    ">Следует также заметить, что теперь, когда мы предусматриваем вывод унаследованных методов, мы должны поместить реализацию перегрузки вывода в метод `__str__`, а не в `__repr__`. В методе `__repr__` эта реализация будет попадать в бесконечный цикл – при попытке отобразить значение метода вызывается метод `__repr__` класса, которому принадлежит отображаемый метод, чтобы вывести информацию о классе. То есть, если метод `__repr__` класса `ListInherited` попытается отобразить метод, тогда при выводе информации о классе, которому принадлежит отображаемый метод, снова будет вызван метод `__repr__` класса `ListInherited`. Эту проблему сложно заметить, но она существует! Измените имя метода `__str__` на `__repr__`, чтобы убедиться в этом. Если вам необходимо\n",
    "использовать метод `__repr__` в  подобной ситуации, вы можете избежать зацикливания, сравнивая тип атрибута со значением `types.MethodType` из стандартной библиотеки с помощью функции `isinstance` и пропуская элементы, для которых функция вернет значение `True`."
   ]
  },
  {
   "cell_type": "markdown",
   "metadata": {},
   "source": [
    "### Получение списка атрибутов с привязкой к объектам в дереве классов"
   ]
  },
  {
   "cell_type": "markdown",
   "metadata": {},
   "source": [
    "В данный момент класс `ListInherited` ничего не сообщает о том, из каких классов были унаследованы те или иные имена. Следующий примесный класс выводит схему всего дерева классов, попутно отображая атрибуты, присоединенные к каждому объекту. Это достигается за счет обхода дерева наследования, от атрибута `__class__` экземпляра к его классу и затем рекурсивно от атрибута `__bases__` класса ко всем суперклассам, сканируя словари `__dict__` в процессе обхода."
   ]
  },
  {
   "cell_type": "code",
   "execution_count": 47,
   "metadata": {},
   "outputs": [],
   "source": [
    "# Файл lister.py, продолжение\n",
    "class ListTree:\n",
    "    \"\"\"\n",
    "    Примесный класс, в котором метод __str__ просматривает все дерево классов\n",
    "    и составляет список атрибутов всех объектов, находящихся в дереве выше\n",
    "    self; вызывается функциями print(), str() и возвращает сконструированную\n",
    "    строку со списком; во избежание конфликтов с именами атрибутов клиентских\n",
    "    классов использует имена вида __X; для рекурсивного обхода суперклассов\n",
    "    использует выражение-генератор; чтобы сделать подстановку значений более\n",
    "    очевидной, использует метод str.format()\n",
    "    \"\"\"\n",
    "    def __str__(self):\n",
    "        self.__visited = {}\n",
    "        return '<Instance of {0}, address {1}:\\n{2}{3}>'.format(\n",
    "            self.__class__.__name__,\n",
    "            id(self),\n",
    "            self.__attrnames(self, 0),\n",
    "            self.__listclass(self.__class__, 4))\n",
    "    \n",
    "    def __listclass(self, aClass, indent):\n",
    "        dots = '.' * indent\n",
    "        if aClass in self.__visited:\n",
    "            return '\\n{0}<Class {1}:, address {2}: (see above)>\\n'.format(\n",
    "                            dots,\n",
    "                            aClass.__name__,\n",
    "                            id(aClass))\n",
    "        else:\n",
    "            self.__visited[aClass] = True\n",
    "            genabove = (self.__listclass(c, indent+4)\n",
    "                                for c in aClass.__bases__)\n",
    "            return '\\n{0}<Class {1}, address {2}:\\n{3}{4}{5}>\\n'.format(\n",
    "                                dots,\n",
    "                                aClass.__name__,\n",
    "                                id(aClass),\n",
    "                                self.__attrnames(aClass, indent),\n",
    "                                ''.join(genabove),\n",
    "                                dots)\n",
    "    \n",
    "    def __attrnames(self, obj, indent):\n",
    "        spaces = ' ' * (indent + 4)\n",
    "        result = ''\n",
    "        for attr in sorted(obj.__dict__):\n",
    "            if attr.startswith('__') and attr.endswith('__'):\n",
    "                result += spaces + '{0}=<>\\n'.format(attr)\n",
    "            else:\n",
    "                result += spaces + '{0}={1}\\n'.format(attr, getattr(obj,\n",
    "                                                        attr))\n",
    "        return result"
   ]
  },
  {
   "cell_type": "code",
   "execution_count": 48,
   "metadata": {},
   "outputs": [
    {
     "name": "stdout",
     "output_type": "stream",
     "text": [
      "<Instance of Sub, address 140227130556600:\n",
      "    _ListTree__visited={}\n",
      "    data1=spam\n",
      "    data2=eggs\n",
      "    data3=42\n",
      "\n",
      "....<Class Sub, address 93948491872536:\n",
      "        __doc__=<>\n",
      "        __init__=<>\n",
      "        __module__=<>\n",
      "        spam=<function Sub.spam at 0x7f892c47f950>\n",
      "\n",
      "........<Class Super, address 93948491873480:\n",
      "            __dict__=<>\n",
      "            __doc__=<>\n",
      "            __init__=<>\n",
      "            __module__=<>\n",
      "            __weakref__=<>\n",
      "            ham=<function Super.ham at 0x7f892c47f840>\n",
      "\n",
      "............<Class object, address 93948455948448:\n",
      "                __class__=<>\n",
      "                __delattr__=<>\n",
      "                __dir__=<>\n",
      "                __doc__=<>\n",
      "                __eq__=<>\n",
      "                __format__=<>\n",
      "                __ge__=<>\n",
      "                __getattribute__=<>\n",
      "                __gt__=<>\n",
      "                __hash__=<>\n",
      "                __init__=<>\n",
      "                __init_subclass__=<>\n",
      "                __le__=<>\n",
      "                __lt__=<>\n",
      "                __ne__=<>\n",
      "                __new__=<>\n",
      "                __reduce__=<>\n",
      "                __reduce_ex__=<>\n",
      "                __repr__=<>\n",
      "                __setattr__=<>\n",
      "                __sizeof__=<>\n",
      "                __str__=<>\n",
      "                __subclasshook__=<>\n",
      "............>\n",
      "........>\n",
      "\n",
      "........<Class ListTree, address 93948491828968:\n",
      "            _ListTree__attrnames=<function ListTree.__attrnames at 0x7f892c47f598>\n",
      "            _ListTree__listclass=<function ListTree.__listclass at 0x7f892c47f6a8>\n",
      "            __dict__=<>\n",
      "            __doc__=<>\n",
      "            __module__=<>\n",
      "            __str__=<>\n",
      "            __weakref__=<>\n",
      "\n",
      "............<Class object:, address 93948455948448: (see above)>\n",
      "........>\n",
      "....>\n",
      ">\n"
     ]
    }
   ],
   "source": [
    "# Файл testmixin.py\n",
    "# from lister import *  # Импортировать инструментальные классы\n",
    "class Super:\n",
    "    def __init__(self):          # Метод __init__ суперкласса\n",
    "        self.data1 = 'spam'      # Создать атрибуты экземпляра\n",
    "    def ham(self):\n",
    "        pass\n",
    "\n",
    "class Sub(Super, ListTree):  # Подмешать методы ham и __str__\n",
    "    def __init__(self):          # Инструм-ые классы имеют доступ к self\n",
    "        Super.__init__(self)\n",
    "        self.data2 = 'eggs'      # Добавить атрибуты экземпляра\n",
    "        self.data3 = 42\n",
    "    def spam(self):              # Определить еще один метод\n",
    "        pass\n",
    "\n",
    "\n",
    "if __name__ == '__main__':\n",
    "    X = Sub()\n",
    "    print(X)                     # Вызовет подмешанный метод __str__"
   ]
  },
  {
   "cell_type": "markdown",
   "metadata": {},
   "source": [
    "**Поддержка слотов**: поскольку классы `ListInstance` и `ListTree`,\n",
    "представленные здесь, выполняют сканирование словарей экземпляров, они не поддерживают атрибуты, хранящиеся в **слотах** – новой и  относительно редко используемой особенности, с  которой мы встретимся в  следующей главе, где мы увидим, как атрибуты экземпляров объявляются в  атрибуте `__slots__` класса)."
   ]
  },
  {
   "cell_type": "markdown",
   "metadata": {},
   "source": [
    "## Классы – это объекты: универсальные фабрики объектов"
   ]
  },
  {
   "cell_type": "markdown",
   "metadata": {},
   "source": [
    "Иногда бывает необходимо, чтобы объекты создавались в ответ на сложившиеся условия, которые невозможно предсказать на этапе разработки программы.\n",
    "\n",
    "**Фабричный шаблон проектирования** позволяет реализовать такой подход.\n",
    "Можно передавать классы функциям, которые создают объекты произвольных типов, – в  кругах, связанных с  ООП, такие функции иногда называют фабриками. Синтаксическая конструкция, с  которой мы познакомились в  главе  18, может вызывать любые классы с любым числом аргументов конструкторов за один присест, генерируя экземпляр любого типа:"
   ]
  },
  {
   "cell_type": "code",
   "execution_count": 49,
   "metadata": {},
   "outputs": [
    {
     "data": {
      "text/plain": [
       "{'name': 'Guido', 'job': 'guru'}"
      ]
     },
     "execution_count": 49,
     "metadata": {},
     "output_type": "execute_result"
    }
   ],
   "source": [
    "def factory(aClass, *args, **kwargs):  # Кортеж с переменным числом аргументов\n",
    "    return aClass(*args, **kwargs)     # Вызов aClass\n",
    "\n",
    "\n",
    "class Spam:\n",
    "    def doit(self, message):\n",
    "        print(message)\n",
    "\n",
    "        \n",
    "class Person:\n",
    "    def __init__(self, name, job):\n",
    "        self.name = name\n",
    "        self.job = job\n",
    "        \n",
    "\n",
    "object1 = factory(Spam)  # Создать объект Spam\n",
    "object2 = factory(Person, 'Guido', 'guru') # Создать объект Person\n",
    "\n",
    "object2.__dict__"
   ]
  },
  {
   "cell_type": "markdown",
   "metadata": {},
   "source": [
    "В этом фрагменте определена **функция-генератор объектов с  именем `factory`**. Она ожидает получить объект класса (любого) вместе с одним или более аргументами конструктора класса. Функция использует специальный синтаксис вызова с переменным числом аргументов, чтобы создать и вернуть экземпляр."
   ]
  },
  {
   "cell_type": "markdown",
   "metadata": {},
   "source": [
    "### Зачем нужны фабрики?"
   ]
  },
  {
   "cell_type": "markdown",
   "metadata": {},
   "source": [
    "Фабрика могла бы помочь изолировать программный код от динамически настраиваемой конструкции объекта."
   ]
  }
 ],
 "metadata": {
  "kernelspec": {
   "display_name": "Python 3",
   "language": "python",
   "name": "python3"
  },
  "language_info": {
   "codemirror_mode": {
    "name": "ipython",
    "version": 3
   },
   "file_extension": ".py",
   "mimetype": "text/x-python",
   "name": "python",
   "nbconvert_exporter": "python",
   "pygments_lexer": "ipython3",
   "version": "3.6.6"
  }
 },
 "nbformat": 4,
 "nbformat_minor": 2
}
